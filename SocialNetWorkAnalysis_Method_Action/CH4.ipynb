{
 "metadata": {
  "name": "",
  "signature": "sha256:e5cefb9073d46a788eb049874a78964e7731f546f8f808295f90cbbf8a90548b"
 },
 "nbformat": 3,
 "nbformat_minor": 0,
 "worksheets": [
  {
   "cells": [
    {
     "cell_type": "heading",
     "level": 1,
     "metadata": {},
     "source": [
      "\u7ec4\u5143\uff08Component\uff09"
     ]
    },
    {
     "cell_type": "raw",
     "metadata": {},
     "source": [
      "\u5b50\u56fe(subgraph):\u7531\u4e00\u4e2a\u7f51\u7edc\u7684\u90e8\u5206\u8282\u70b9\u53ca\u8fd9\u4e9b\u8282\u70b9\u4e4b\u95f4\u7684\u8fde\u63a5\u6784\u6210\u3002\n",
      "    \u4efb\u610f\u4e00\u7ec4\u8282\u70b9\u90fd\u53ef\u4ee5\u6784\u6210\u5b50\u56fe\u3002\n",
      "\u7ec4\u5143(Component):\u7531\u7f51\u7edc\u4e2d\u76f8\u4e92\u5206\u9694\u7684\u90e8\u5206\u6784\u6210\u3002"
     ]
    },
    {
     "cell_type": "code",
     "collapsed": false,
     "input": [
      "import networkx as nx\n",
      "e = nx.read_pajek('data/egypt_retweets.net')\n",
      "g = nx.connected_component_subgraphs(e)"
     ],
     "language": "python",
     "metadata": {},
     "outputs": [],
     "prompt_number": 25
    },
    {
     "cell_type": "code",
     "collapsed": false,
     "input": [
      "\n",
      "import matplotlib.pyplot as plot\n",
      "x =[len(c) for c in graphs if len(c)>10]\n",
      "print x\n",
      "plot.hist(x)\n",
      "plot.show()"
     ],
     "language": "python",
     "metadata": {},
     "outputs": [
      {
       "output_type": "stream",
       "stream": "stdout",
       "text": [
        "[17762, 64, 16, 13, 11, 11, 14, 16]\n"
       ]
      }
     ],
     "prompt_number": 24
    },
    {
     "cell_type": "heading",
     "level": 1,
     "metadata": {},
     "source": [
      "\u81ea\u6211\u4e2d\u5fc3\u7f51\uff08Ego Network\uff09"
     ]
    },
    {
     "cell_type": "raw",
     "metadata": {},
     "source": [
      "\u805a\u7c7b\u7cfb\u6570(clustering coefficient)\uff1a\n",
      "    \u96c6\u805a\u7cfb\u6570\u662f\u56fe\u4e2d\u7684\u70b9\u503e\u5411\u4e8e\u96c6\u805a\u5728\u4e00\u8d77\u7684\u7a0b\u5ea6\u7684\u4e00\u79cd\u5ea6\u91cf\n",
      "\n",
      "    \u6d4b\u91cf\u4e86\u4f60\u670b\u53cb\u4e4b\u95f4\u5f7c\u6b64\u4e5f\u662f\u670b\u53cb\u7684\u6bd4\u4f8b,\u5373\u4eba\u4eec\u4e4b\u95f4\u7684\u76f8\u4e92\u4fe1\u4efb\u7a0b\u5ea6\u3002\n",
      "\u5728\u6574\u4e2a\u7f51\u7edc\u4e2d\uff0c\u5bf9\u4e8e\u4e00\u4e2a\u5bc6\u5ea6\u5dee\u5f02\u5f88\u5927\u4e14\u6709\u591a\u4e2a\u6838\u5fc3\u7684\u5927\u578b\u7f51\u7edc,\u5e73\u5747\u805a\u7c7b\u7cfb\u6570\u5f88\u96be\u89e3\u8bfb\u3002\n",
      "\n",
      "\u5728\u81ea\u6211\u4e2d\u5fc3\u7f51\u4e2d\uff0c\n",
      "    \u8f83\u9ad8\u7684\u805a\u7c7b\u7cfb\u6570\uff1a\u7a20\u5bc6\uff0c\u4e14\u5f88\u591a\u76f8\u4e92\u4fe1\u4efb\u7684\u8282\u70b9\n",
      "    \u8f83\u4f4e\u7684\u805a\u7c7b\u7cfb\u6570\uff1a\u7531\u4e00\u4e2a\u5355\u4e00\u5411\u5916\u201c\u5e7f\u64ad\u201d\u7684\u6838\u5fc3\u8282\u70b9\u548c\u4f17\u591a\u201c\u542c\u4f17\u201d\u6784\u6210\u7684\u661f\u578b\u7f51\u7edc\u3002"
     ]
    },
    {
     "cell_type": "code",
     "collapsed": false,
     "input": [
      "import networkx as nx\n",
      "e = nx.read_pajek('data/egypt_retweets.net')\n",
      "#\u9488\u5bf9\u57c3\u53ca\u9769\u547d\u7684\u63a8\u7279\u8f6c\u53d1\u7f51\u7edc\u4e2d\u6700\u5927\u7684\u7ec4\u5143\u8fdb\u884c\u5206\u6790\n",
      "cc = max(nx.connected_component_subgraphs(e), key=len)"
     ],
     "language": "python",
     "metadata": {},
     "outputs": [],
     "prompt_number": 38
    },
    {
     "cell_type": "code",
     "collapsed": false,
     "input": [
      "#\u5c06\u81ea\u6211\u4e2d\u5fc3\u7f51\u4ece\u4e00\u4e2a\u591a\u56fe\u8f6c\u5316\u4e3a\u4e00\u4e2a\u7b80\u5355\u7684\u56fe\n",
      "justinbieber = nx.Graph(nx.ego_graph(cc,\"justinbieber\",radius=1))\n",
      "#\u4ec5\u4ec5\u670922\u4e2a\u4eba\u8f6c\u53d1\u4e86\u4ed6\u5173\u4e8e\u57c3\u53ca\u9769\u547d\u7684\u4fe1\u606f\n",
      "print len(justinbieber) \n",
      "'''\u805a\u7c7b\u7cfb\u65700.0\u8868\u660e\u4ed6\u4e00\u4f4d\u7eaf\u7cb9\u7684\u201c\u5e7f\u64ad\u8005\u201d\uff0c\u5e76\u672a\u88ab\u5d4c\u5165\u4ed6\u7684\u7c89\u4e1d\u7684\u4fe1\u4efb\u7f51\u7edc\u4e2d,\n",
      "    \u6216\u8005\u81f3\u5c11\u4e0d\u5728\u4e00\u4e2a\u5173\u5fc3\u4e16\u754c\u653f\u6cbb\u7684\u4fe1\u4efb\u7f51\u7edc\u4e2d\n",
      "'''\n",
      "print nx.average_clustering(justinbieber)"
     ],
     "language": "python",
     "metadata": {},
     "outputs": [
      {
       "output_type": "stream",
       "stream": "stdout",
       "text": [
        "14\n",
        "0.0\n"
       ]
      }
     ],
     "prompt_number": 41
    },
    {
     "cell_type": "code",
     "collapsed": false,
     "input": [
      "Ghonim = nx.Graph(nx.ego_graph(g,\"Ghonim\",radius=1))\n",
      "#730\u4eba\u8f6c\u53d1\u4e86\u4ed6\u5173\u4e8e\u57c3\u53ca\u9769\u547d\u7684\u4fe1\u606f\uff08\u62e5\u6709\u5de8\u5927\u7684\u8f6c\u53d1\u7f51\u7edc\uff09\n",
      "print len(Ghonim)\n",
      "'''\u4ed6\u7684\u81ea\u6211\u4e2d\u5fc3\u7f51\u662f\u4e00\u4e2a\u4eba\u4eec\u4ece\u4ed6\u8fd9\u91cc\u4ee5\u53ca\u5176\u4ed6\u4eba\u90a3\u91cc\u8f6c\u53d1\u6d88\u606f\u7684\u4fe1\u4efb\u7f51\u7edc\u3002\n",
      "    \u9769\u547d\u7684\u6d88\u606f\u53ef\u4ee5\u5f88\u5bb9\u6613\u6269\u6563\u548c\u6301\u7eed\n",
      "'''\n",
      "print nx.average_clustering(Ghonim)"
     ],
     "language": "python",
     "metadata": {},
     "outputs": [
      {
       "output_type": "stream",
       "stream": "stdout",
       "text": [
        "730\n",
        "0.226135184898"
       ]
      },
      {
       "output_type": "stream",
       "stream": "stdout",
       "text": [
        "\n"
       ]
      }
     ],
     "prompt_number": 42
    },
    {
     "cell_type": "heading",
     "level": 1,
     "metadata": {},
     "source": [
      "\u4e09\u5143\u7ec4\u548c\u6050\u6016\u5206\u5b50"
     ]
    },
    {
     "cell_type": "code",
     "collapsed": false,
     "input": [
      "import sys\n",
      "import os\n",
      "\n",
      "import csv ## we'll use the built-in CSV library\n",
      "import networkx as net\n",
      "import multimode as mm\n",
      "import triadic\n",
      "\n",
      "# open the file\n",
      "in_file=csv.reader(open('data/9_11_edgelist.txt','rb'))\n",
      "\n",
      "g=net.Graph()\n",
      "for line in in_file:\n",
      "    g.add_edge(line[0],line[1],weight=line[2],conf=line[3])\n",
      "#first, let's make sure that all nodes in the graph have the 'flight' attribute\n",
      "for n in g.nodes(): g.node[n]['flight']='None'\n",
      "attrb=csv.reader(open('data/9_11_attrib.txt','rb'))\n",
      "for line in attrb:\n",
      "    g.node[line[0]]['flight']=line[1]\n",
      "# Connected_component_subgraphs() returns a list of components, sorted largest to smallest\n",
      "components=net.connected_component_subgraphs(g)\n",
      "# pick the first and largest component\n",
      "cc = max(nx.connected_component_subgraphs(e), key=len)\n",
      "# type-string tells the function what attribute to differentiate on\n",
      "mm.plot_multimode(cc,type_string='flight')\n",
      "# run triadic analysis\n",
      "census, node_census = triadic.triadic_census(cc2)"
     ],
     "language": "python",
     "metadata": {},
     "outputs": []
    },
    {
     "cell_type": "heading",
     "level": 1,
     "metadata": {},
     "source": [
      "\u6d3e\u7cfb"
     ]
    },
    {
     "cell_type": "code",
     "collapsed": false,
     "input": [
      "#\u9ad8\u52a0\u7d22\u5730\u533a\u7684\u7ecf\u6d4e\u8054\u76df\u4e0e\u8054\u5408\u884c\u52a8\n",
      "'''\n",
      "\u4e24\u79cd\u4e0d\u540c\u7684\u529b\u91cf\uff1a\u4ee5\u897f\u65b9\u56fd\u5bb6\u4e3a\u4e2d\u5fc3\u7684\u4e00\u65b9\u548c\u4ee5\u4fc4\u7f57\u65af\u4e3a\u4e2d\u5fc3\u7684\u4e00\u65b9\u3002\n",
      "\u963f\u8d5b\u62dc\u7586Azerbaijan\u548c\u4e9a\u7f8e\u5c3c\u4e9aArmenia\uff1a\u5730\u65b9\u4e0e\u533a\u57df\u4e0d\u5b58\u5728\u7ecf\u6d4e\u8054\u7cfb\uff0c\u800c\u4f5c\u4e3a\u5730\u7406\u4e0a\u6700\u8fd1\u90bb\u5c45\u3002\n",
      "    \u5f80\u5f80\u5c06\u5f7c\u6b64\u770b\u4f5c\u654c\u4eba\u5e76\u6309\u6b64\u9009\u62e9\u4e0e\u4e0d\u540c\u7684\u8d85\u7ea7\u5927\u56fd\u5efa\u7acb\u5173\u7cfb\u3002\n",
      "\u4f0a\u6717(Iran)\u548c\u571f\u8033\u5176(Turkey)\u626e\u6f14\u7740\u201c\u6363\u4e71\u5206\u5b50\u201d\u7684\u89d2\u8272\uff08\u4e00\u4e2a\u4e0e\u4f0a\u6717\u6709\u8f83\u591a\u7ecf\u6d4e\u8054\u7cfb\u7684\u56fd\u5bb6\u4e0d\u4f1a\u548c\u7f8e\u56fd\u6709\u8054\u7cfb\uff09\n",
      "'''\n",
      "import networkx as nx\n",
      "import matplotlib.pyplot as plot\n",
      "eco = nx.read_pajek(\"data/economic.net\")\n",
      "nx.draw(eco,with_labels =True,node_size = 40,font_size=30,font_color='red')\n",
      "plot.show()"
     ],
     "language": "python",
     "metadata": {},
     "outputs": [],
     "prompt_number": 47
    },
    {
     "cell_type": "code",
     "collapsed": false,
     "input": [],
     "language": "python",
     "metadata": {},
     "outputs": [],
     "prompt_number": 47
    },
    {
     "cell_type": "code",
     "collapsed": false,
     "input": [
      "def trim_edges(g,weight=1):\n",
      "    g2 = nx.Graph()\n",
      "    for (f,to,edata) in g.edges(data=True):\n",
      "        if edata['weight'] > weight:\n",
      "            g2.add_edge(f,to,edata)\n",
      "    return g2\n",
      "    "
     ],
     "language": "python",
     "metadata": {},
     "outputs": [],
     "prompt_number": 48
    },
    {
     "cell_type": "code",
     "collapsed": false,
     "input": [
      "e2 = trim_edges(eco,weight=0.5)\n",
      "cliques = list(nx.find_cliques(e2))\n",
      "print cliques"
     ],
     "language": "python",
     "metadata": {},
     "outputs": [
      {
       "output_type": "stream",
       "stream": "stdout",
       "text": [
        "[[u'EU', u'Turkey', u'Russia'], [u'EU', u'Turkey', u'USA'], [u'EU', u'Azerbajan'], [u'EU', u'Georgia'], [u'EU', u'Kazakhstan', u'Russia'], [u'EU', u'Kazakhstan', u'USA'], [u'EU', u'Armenia'], [u'South Osetia', u'Russia'], [u'Nagorni Karabakh', u'Armenia'], [u'Chechnya', u'Russia'], [u'Abkhazia', u'Russia']]\n"
       ]
      }
     ],
     "prompt_number": 49
    },
    {
     "cell_type": "raw",
     "metadata": {},
     "source": [
      "[\n",
      "[u'EU', u'Turkey', u'Russia'],[u'EU', u'Turkey', u'USA'],\n",
      "\u4ee3\u8868\u4e24\u4e2a\u8d85\u7ea7\u5927\u56fd\u548c\u5bf9\u4e8e\u571f\u8033\u5176\u662f\u5426\u5e94\u8be5\u6210\u4e3a\u6b27\u76df\u6210\u5458\u7684\u8fa9\u8bba\u7684\u53cc\u65b9\n",
      "\n",
      "[u'EU', u'Azerbajan'], [u'EU', u'Georgia'], \n",
      "\u5728\u9ad8\u52a0\u7d22\u5730\u533a\u4e0e\u897f\u65b9\u7ed3\u76df\u7684\u56fd\u5bb6\u3002\n",
      "\u963f\u585e\u62dc\u7586\u662f\u4e3b\u8981\u7684\u77f3\u6cb9\u751f\u4ea7\u56fd\uff0c\u5e76\u4e14\u4e00\u4e2a\u82f1\u56fd\u77f3\u6cb9\u516c\u53f8\u6240\u62e5\u6709\u7684\u77f3\u6cb9\u7ba1\u9053\u7a7f\u8fc7\u963f\u585e\u62dc\u7586\u4ece\u683c\u9c81\u5c3c\u4e9a\u5230\u8fbe\u9ed1\u6d77\u3002\n",
      "\n",
      "[u'EU', u'Kazakhstan', u'Russia'], \n",
      "[u'EU', u'Kazakhstan', u'USA'], \n",
      "\u54c8\u8428\u514b\u65af\u5766\u662f\u4e00\u4e2a\u4e3b\u8981\u7684\u5929\u7136\u6c14\u751f\u4ea7\u56fd,\u5176\u5929\u7136\u6c14\u4e3b\u8981\u901a\u8fc7\u4fc4\u7f57\u65af\u62e5\u6709\u7684\u77f3\u6cb9\u7ba1\u9053\u548c\u6db2\u6001\u5929\u7136\u6c14\u8bbe\u65bd\u5356\u7ed9\u6b27\u76df\u548c\u7f8e\u56fd\u3002\n",
      "\n",
      "[u'EU', u'Armenia'], \n",
      "\n",
      "[u'South Osetia', u'Russia'], [u'Nagorni Karabakh', u'Armenia'], [u'Chechnya', u'Russia'], [u'Abkhazia', u'Russia']\n",
      "\u6700\u8fd1\u6240\u6709\u7684\u51b2\u7a81\u8d77\u6e90\u4e8e\u5f53\u5730\u7684\u5c0f\u7684\u5171\u548c\u653f\u4f53\uff08\u81ea\u613f\u7684\u6216\u8005\u88ab\u8feb\u7684\uff09\u4ece\u62e5\u62a4\u897f\u65b9\u8f6c\u800c\u62e5\u62a4\u4fc4\u7f57\u65af\n",
      "]\n",
      "\n",
      "\u4f46\u662f\uff01\u6d3e\u7cfb\u4e4b\u95f4\u5927\u591a\u662f\u91cd\u53e0\u7684\uff0c\u5e76\u4e14\u4e00\u4e2a\u5355\u4e00\u7684\u4e8b\u4ef6\u6216\u73b0\u8c61\u53ef\u80fd\u5bfc\u81f4\u591a\u4e2a\u6d3e\u7cfb\u3002\n",
      "\u5176\u4ed6\u7684\u7b97\u6cd5n-clans\u3001k_plexes\u7b49\u53ef\u5e2e\u52a9\u89e3\u51b3\u8fd9\u4e9b\u95ee\u9898\u3002"
     ]
    },
    {
     "cell_type": "heading",
     "level": 1,
     "metadata": {},
     "source": [
      "\u5c42\u6b21\u805a\u7c7b"
     ]
    },
    {
     "cell_type": "code",
     "collapsed": false,
     "input": [
      "from collections import defaultdict\n",
      "import networkx as nx\n",
      "import numpy\n",
      "from scipy.cluster import hierarchy\n",
      "from scipy.spatial import distance\n",
      "import matplotlib.pyplot as plt\n",
      "\n",
      "\n",
      "def create_hc(G, t=1.0):\n",
      "    labels=G.nodes()    \n",
      "    path_length=nx.all_pairs_shortest_path_length(G)\n",
      "    distances=numpy.zeros((len(G),len(G))) \n",
      "    i=0   \n",
      "    for u,p in path_length.items():\n",
      "        j=0\n",
      "        for v,d in p.items():\n",
      "            distances[i][j]=d\n",
      "            distances[j][i]=d\n",
      "            if i==j: distances[i][j]=0\n",
      "            j+=1\n",
      "        i+=1\n",
      "    \n",
      "    # Create hierarchical cluster\n",
      "    Y=distance.squareform(distances)\n",
      "    Z=hierarchy.complete(Y)  # Creates HC using farthest point linkage\n",
      "    # This partition selection is arbitrary, for illustrive purposes\n",
      "    membership=list(hierarchy.fcluster(Z,t=t))\n",
      "    # Create collection of lists for blockmodel\n",
      "    partition=defaultdict(list)\n",
      "    for n,p in zip(list(range(len(G))),membership):\n",
      "        partition[p].append(labels[n])\n",
      "    return list(partition.values())\n",
      "\n",
      "\n",
      "print create_hc(eco)\n"
     ],
     "language": "python",
     "metadata": {},
     "outputs": [
      {
       "output_type": "stream",
       "stream": "stdout",
       "text": [
        "[[u'Armenia', u'Nagorni Karabakh'], [u'Georgia', u'USA', u'Azerbajan', u'EU', u'Kazakhstan'], [u'Turkey', u'South Osetia', u'Chechnya', u'Russia', u'Abkhazia']]\n"
       ]
      }
     ],
     "prompt_number": 65
    },
    {
     "cell_type": "raw",
     "metadata": {},
     "source": [
      "[\n",
      "[u'Chechnya', u'USA', u'Azerbajan', u'Abkhazia', u'Russia'], \n",
      "\n",
      "[u'Turkey', u'Georgia', u'Armenia', u'EU', u'Kazakhstan'], \n",
      "\n",
      "[u'Turkmenistan'], [u'Iran'], [u'South Osetia'], [u'Nagorni Karabakh']\n",
      "]"
     ]
    },
    {
     "cell_type": "heading",
     "level": 1,
     "metadata": {},
     "source": [
      "\u5757\u6a21\u578b"
     ]
    },
    {
     "cell_type": "code",
     "collapsed": false,
     "input": [
      "import networkx as nx\n",
      "import matplotlib.pyplot as plot\n",
      "cluster = create_hc(eco)\n",
      "M = nx.blockmodel(eco,cluster)\n",
      "nx.draw(M)\n",
      "plot.show()"
     ],
     "language": "python",
     "metadata": {},
     "outputs": [],
     "prompt_number": 52
    },
    {
     "cell_type": "code",
     "collapsed": false,
     "input": [],
     "language": "python",
     "metadata": {},
     "outputs": []
    },
    {
     "cell_type": "code",
     "collapsed": false,
     "input": [
      "\n",
      "def hiclus_blockmodel(G):\n",
      "    # Extract largest connected component into graph H\n",
      "    #H=nx.connected_component_subgraphs(G)[0]\n",
      "    H=max(nx.connected_component_subgraphs(G), key=len)\n",
      "    # Create parititions with hierarchical clustering\n",
      "    partitions=create_hc(H)\n",
      "    # Build blockmodel graph\n",
      "    BM=nx.blockmodel(H,partitions)\n",
      "\n",
      "    # Draw original graph\n",
      "    pos=nx.spring_layout(H,iterations=100)\n",
      "    fig=plt.figure(1,figsize=(6,10))\n",
      "    ax=fig.add_subplot(211)\n",
      "    nx.draw(H,pos,with_labels=False,node_size=10)\n",
      "    plt.xlim(0,1)\n",
      "    plt.ylim(0,1)\n",
      "\n",
      "    # Draw block model with weighted edges and nodes sized by number of internal nodes\n",
      "    node_size=[BM.node[x]['nnodes']*10 for x in BM.nodes()]\n",
      "    edge_width=[(2*d['weight']) for (u,v,d) in BM.edges(data=True)]\n",
      "    # Set positions to mean of positions of internal nodes from original graph\n",
      "    posBM={}\n",
      "    for n in BM:\n",
      "        xy=numpy.array([pos[u] for u in BM.node[n]['graph']])\n",
      "        posBM[n]=xy.mean(axis=0)\n",
      "    ax=fig.add_subplot(212)\n",
      "    nx.draw(BM,posBM,node_size=node_size,width=edge_width,with_labels=False)\n",
      "    plt.xlim(0,1)\n",
      "    plt.ylim(0,1)\n",
      "    plt.axis('off')\n",
      "    plt.show()\n",
      "e2 = trim_edges(eco,weight=0)\n",
      "hiclus_blockmodel(e2)"
     ],
     "language": "python",
     "metadata": {},
     "outputs": [],
     "prompt_number": 75
    },
    {
     "cell_type": "code",
     "collapsed": false,
     "input": [],
     "language": "python",
     "metadata": {},
     "outputs": [],
     "prompt_number": 73
    },
    {
     "cell_type": "code",
     "collapsed": false,
     "input": [],
     "language": "python",
     "metadata": {},
     "outputs": []
    }
   ],
   "metadata": {}
  }
 ]
}