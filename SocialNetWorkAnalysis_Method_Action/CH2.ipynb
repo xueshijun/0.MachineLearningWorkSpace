{
 "metadata": {
  "name": "",
  "signature": "sha256:b471be1a495686e7e129a72222ad3ee4f12534c741852ba8b2bf63630c438f72"
 },
 "nbformat": 3,
 "nbformat_minor": 0,
 "worksheets": [
  {
   "cells": [
    {
     "cell_type": "markdown",
     "metadata": {},
     "source": [
      "\u90bb\u63a5\u77e9\u9635"
     ]
    },
    {
     "cell_type": "raw",
     "metadata": {},
     "source": [
      "import networkx as nx\n",
      "import numpy as np\n",
      "\n",
      "G = nx.Graph()\n",
      "Matrix = np.array(\n",
      "\t[\n",
      "\t\t[......]\n",
      "\t]\n",
      ")\n",
      "for i in range(len(Matrix)):\n",
      "\tfor j in range(len(Matrix)):\n",
      "\t\tG.add_edge(i, j)\n"
     ]
    },
    {
     "cell_type": "markdown",
     "metadata": {},
     "source": [
      "\u8fb9\u5217\u8868\u4e0e\u90bb\u63a5\u5217\u8868"
     ]
    },
    {
     "cell_type": "raw",
     "metadata": {},
     "source": [
      "import networkx as net\n",
      "import matplotlib.pyplot as plot\n",
      "o=net.Graph()\n",
      "edges=({'A','B',2},{'A','D',5},{'C','D',2})\n",
      "o.add_edge('Conrad','Mary') \n",
      "net.draw(o)\n",
      "plot.show()"
     ]
    },
    {
     "cell_type": "raw",
     "metadata": {},
     "source": [
      "\n",
      "edges=({'A','B',2},{'A','D',5},{'C','D',2})\n",
      "edges={'A':{'B':2,'D':5},'C':{'D':2}}\n"
     ]
    },
    {
     "cell_type": "markdown",
     "metadata": {},
     "source": [
      "\u521b\u5efa\u4e00\u4e2a\u670910\u4e2a\u8282\u70b9\u548c18\u6761\u8fb9\u7684\u7b80\u5355\u56fe"
     ]
    },
    {
     "cell_type": "code",
     "collapsed": false,
     "input": [
      "import networkx.generators.small\n",
      "g = networkx.generators.small.krackhardt_kite_graph()\n",
      "g.number_of_edges()"
     ],
     "language": "python",
     "metadata": {},
     "outputs": [
      {
       "metadata": {},
       "output_type": "pyout",
       "prompt_number": 31,
       "text": [
        "18"
       ]
      }
     ],
     "prompt_number": 31
    },
    {
     "cell_type": "code",
     "collapsed": false,
     "input": [
      "g.number_of_nodes()"
     ],
     "language": "python",
     "metadata": {},
     "outputs": [
      {
       "metadata": {},
       "output_type": "pyout",
       "prompt_number": 32,
       "text": [
        "10"
       ]
      }
     ],
     "prompt_number": 32
    },
    {
     "cell_type": "code",
     "collapsed": false,
     "input": [
      "g.adjacency_list()"
     ],
     "language": "python",
     "metadata": {},
     "outputs": [
      {
       "metadata": {},
       "output_type": "pyout",
       "prompt_number": 33,
       "text": [
        "[[1, 2, 3, 5],\n",
        " [0, 3, 4, 6],\n",
        " [0, 3, 5],\n",
        " [0, 1, 2, 4, 5, 6],\n",
        " [1, 3, 6],\n",
        " [0, 2, 3, 6, 7],\n",
        " [1, 3, 4, 5, 7],\n",
        " [8, 5, 6],\n",
        " [9, 7],\n",
        " [8]]"
       ]
      }
     ],
     "prompt_number": 33
    },
    {
     "cell_type": "code",
     "collapsed": false,
     "input": [
      "g.edges()"
     ],
     "language": "python",
     "metadata": {},
     "outputs": [
      {
       "metadata": {},
       "output_type": "pyout",
       "prompt_number": 34,
       "text": [
        "[(0, 1),\n",
        " (0, 2),\n",
        " (0, 3),\n",
        " (0, 5),\n",
        " (1, 3),\n",
        " (1, 4),\n",
        " (1, 6),\n",
        " (2, 3),\n",
        " (2, 5),\n",
        " (3, 4),\n",
        " (3, 5),\n",
        " (3, 6),\n",
        " (4, 6),\n",
        " (5, 6),\n",
        " (5, 7),\n",
        " (6, 7),\n",
        " (7, 8),\n",
        " (8, 9)]"
       ]
      }
     ],
     "prompt_number": 34
    },
    {
     "cell_type": "code",
     "collapsed": false,
     "input": [
      "# python\u5b57\u5178\u5f62\u5f0f\u8868\u793a\u7684\u90bb\u63a5\u8868\n",
      "dict((x,g.neighbors(x)) for x in g.nodes())"
     ],
     "language": "python",
     "metadata": {},
     "outputs": [
      {
       "metadata": {},
       "output_type": "pyout",
       "prompt_number": 35,
       "text": [
        "{0: [1, 2, 3, 5],\n",
        " 1: [0, 3, 4, 6],\n",
        " 2: [0, 3, 5],\n",
        " 3: [0, 1, 2, 4, 5, 6],\n",
        " 4: [1, 3, 6],\n",
        " 5: [0, 2, 3, 6, 7],\n",
        " 6: [1, 3, 4, 5, 7],\n",
        " 7: [8, 5, 6],\n",
        " 8: [9, 7],\n",
        " 9: [8]}"
       ]
      }
     ],
     "prompt_number": 35
    },
    {
     "cell_type": "heading",
     "level": 1,
     "metadata": {},
     "source": [
      "\u6df1\u5ea6\u4f18\u5148"
     ]
    },
    {
     "cell_type": "code",
     "collapsed": false,
     "input": [
      "from networkx.algorithms import traversal\n",
      "edges = traversal.dfs_edges(g)\n",
      "list(edges)"
     ],
     "language": "python",
     "metadata": {},
     "outputs": [
      {
       "metadata": {},
       "output_type": "pyout",
       "prompt_number": 36,
       "text": [
        "[(0, 1), (1, 3), (3, 2), (2, 5), (5, 6), (6, 4), (6, 7), (7, 8), (8, 9)]"
       ]
      }
     ],
     "prompt_number": 36
    },
    {
     "cell_type": "code",
     "collapsed": false,
     "input": [
      "traversal.dfs_successors(g)"
     ],
     "language": "python",
     "metadata": {},
     "outputs": [
      {
       "metadata": {},
       "output_type": "pyout",
       "prompt_number": 45,
       "text": [
        "{0: [1], 1: [3], 2: [5], 3: [2], 5: [6], 6: [4, 7], 7: [8], 8: [9]}"
       ]
      }
     ],
     "prompt_number": 45
    },
    {
     "cell_type": "code",
     "collapsed": false,
     "input": [
      "tree = traversal.dfs_tree(g,0)#Specify starting node for depth-first search.\n",
      "tree.successors(0)"
     ],
     "language": "python",
     "metadata": {},
     "outputs": [
      {
       "metadata": {},
       "output_type": "pyout",
       "prompt_number": 46,
       "text": [
        "[1]"
       ]
      }
     ],
     "prompt_number": 46
    },
    {
     "cell_type": "code",
     "collapsed": false,
     "input": [
      "tree.succ"
     ],
     "language": "python",
     "metadata": {},
     "outputs": [
      {
       "metadata": {},
       "output_type": "pyout",
       "prompt_number": 44,
       "text": [
        "{0: {1: {}},\n",
        " 1: {3: {}},\n",
        " 2: {5: {}},\n",
        " 3: {2: {}},\n",
        " 4: {},\n",
        " 5: {6: {}},\n",
        " 6: {4: {}, 7: {}},\n",
        " 7: {8: {}},\n",
        " 8: {9: {}},\n",
        " 9: {}}"
       ]
      }
     ],
     "prompt_number": 44
    },
    {
     "cell_type": "heading",
     "level": 1,
     "metadata": {},
     "source": [
      "\u5e7f\u5ea6\u4f18\u5148"
     ]
    },
    {
     "cell_type": "code",
     "collapsed": false,
     "input": [
      "from networkx.algorithms import traversal\n",
      "edges = traversal.bfs_edges(g,0)#Specify starting node for depth-first search.\n",
      "list(edges)"
     ],
     "language": "python",
     "metadata": {},
     "outputs": [
      {
       "metadata": {},
       "output_type": "pyout",
       "prompt_number": 51,
       "text": [
        "[(0, 1), (0, 2), (0, 3), (0, 5), (1, 4), (1, 6), (5, 7), (7, 8), (8, 9)]"
       ]
      }
     ],
     "prompt_number": 51
    },
    {
     "cell_type": "code",
     "collapsed": false,
     "input": [
      "tree = traversal.bfs_tree(g,0)#Specify starting node for depth-first search.\n",
      "tree.successors(0)"
     ],
     "language": "python",
     "metadata": {},
     "outputs": [
      {
       "metadata": {},
       "output_type": "pyout",
       "prompt_number": 52,
       "text": [
        "[1, 2, 3, 5]"
       ]
      }
     ],
     "prompt_number": 52
    },
    {
     "cell_type": "heading",
     "level": 1,
     "metadata": {},
     "source": [
      "\u8def\u5f84\u4e0e\u6f2b\u6b65"
     ]
    },
    {
     "cell_type": "raw",
     "metadata": {},
     "source": [
      "\u6f2b\u6b65\u662f\u8fde\u63a5\u8282\u70b9\u4e0e\u8fb9\u7684\u4e00\u79cd\u5e8f\u5217\u3002\n",
      "    \u5982\u679c\u8d77\u59cb\u8282\u70b9\u4e0e\u7ec8\u6b62\u8282\u70b9\u4e0d\u540c\uff0c\u6f2b\u6b65\u662f\u5f00\u653e\u7684\uff1b\n",
      "    \u5982\u679c\u8d77\u59cb\u8282\u70b9\u4e0e\u7ec8\u6b62\u8282\u70b9\u76f8\u540c\uff0c\u6f2b\u6b65\u662f\u5c01\u95ed\u7684\uff1b\n",
      "\u8def\u5f84\uff1a\u6307\u4e00\u6b21\u5f00\u653e\u7684\u3001\u7b80\u5355\u7684\u6f2b\u6b65\u3002\u8def\u5f84\u957f\u5ea6\u53ef\u4ee5\u4e3a0\uff0c\u5faa\u73af\u957f\u5ea6\u4e0d\u4e3a0\u3002"
     ]
    },
    {
     "cell_type": "markdown",
     "metadata": {},
     "source": [
      "\u8def\u5f84"
     ]
    },
    {
     "cell_type": "code",
     "collapsed": false,
     "input": [
      "#\n",
      "from networkx import algorithms\n",
      "algorithms.shortest_path(g,0,5)"
     ],
     "language": "python",
     "metadata": {},
     "outputs": [
      {
       "metadata": {},
       "output_type": "pyout",
       "prompt_number": 53,
       "text": [
        "[0, 5]"
       ]
      }
     ],
     "prompt_number": 53
    },
    {
     "cell_type": "code",
     "collapsed": false,
     "input": [
      "algorithms.shortest_path(g,0,7)"
     ],
     "language": "python",
     "metadata": {},
     "outputs": [
      {
       "metadata": {},
       "output_type": "pyout",
       "prompt_number": 54,
       "text": [
        "[0, 5, 7]"
       ]
      }
     ],
     "prompt_number": 54
    },
    {
     "cell_type": "code",
     "collapsed": false,
     "input": [
      "algorithms.average_shortest_path_length(g)"
     ],
     "language": "python",
     "metadata": {},
     "outputs": [
      {
       "metadata": {},
       "output_type": "pyout",
       "prompt_number": 55,
       "text": [
        "1.9777777777777779"
       ]
      }
     ],
     "prompt_number": 55
    },
    {
     "cell_type": "code",
     "collapsed": false,
     "input": [
      "algorithms.all_pairs_shortest_path(g,5)#\u6307\u5b9a\u51fa\u53d1\u8282\u70b9\u7684\u6240\u6709\u6700\u77ed\u8def\u5f84"
     ],
     "language": "python",
     "metadata": {},
     "outputs": [
      {
       "metadata": {},
       "output_type": "pyout",
       "prompt_number": 56,
       "text": [
        "{0: {0: [0],\n",
        "  1: [0, 1],\n",
        "  2: [0, 2],\n",
        "  3: [0, 3],\n",
        "  4: [0, 1, 4],\n",
        "  5: [0, 5],\n",
        "  6: [0, 1, 6],\n",
        "  7: [0, 5, 7],\n",
        "  8: [0, 5, 7, 8],\n",
        "  9: [0, 5, 7, 8, 9]},\n",
        " 1: {0: [1, 0],\n",
        "  1: [1],\n",
        "  2: [1, 0, 2],\n",
        "  3: [1, 3],\n",
        "  4: [1, 4],\n",
        "  5: [1, 0, 5],\n",
        "  6: [1, 6],\n",
        "  7: [1, 6, 7],\n",
        "  8: [1, 6, 7, 8],\n",
        "  9: [1, 6, 7, 8, 9]},\n",
        " 2: {0: [2, 0],\n",
        "  1: [2, 0, 1],\n",
        "  2: [2],\n",
        "  3: [2, 3],\n",
        "  4: [2, 3, 4],\n",
        "  5: [2, 5],\n",
        "  6: [2, 3, 6],\n",
        "  7: [2, 5, 7],\n",
        "  8: [2, 5, 7, 8],\n",
        "  9: [2, 5, 7, 8, 9]},\n",
        " 3: {0: [3, 0],\n",
        "  1: [3, 1],\n",
        "  2: [3, 2],\n",
        "  3: [3],\n",
        "  4: [3, 4],\n",
        "  5: [3, 5],\n",
        "  6: [3, 6],\n",
        "  7: [3, 5, 7],\n",
        "  8: [3, 5, 7, 8],\n",
        "  9: [3, 5, 7, 8, 9]},\n",
        " 4: {0: [4, 1, 0],\n",
        "  1: [4, 1],\n",
        "  2: [4, 3, 2],\n",
        "  3: [4, 3],\n",
        "  4: [4],\n",
        "  5: [4, 3, 5],\n",
        "  6: [4, 6],\n",
        "  7: [4, 6, 7],\n",
        "  8: [4, 6, 7, 8],\n",
        "  9: [4, 6, 7, 8, 9]},\n",
        " 5: {0: [5, 0],\n",
        "  1: [5, 0, 1],\n",
        "  2: [5, 2],\n",
        "  3: [5, 3],\n",
        "  4: [5, 3, 4],\n",
        "  5: [5],\n",
        "  6: [5, 6],\n",
        "  7: [5, 7],\n",
        "  8: [5, 7, 8],\n",
        "  9: [5, 7, 8, 9]},\n",
        " 6: {0: [6, 1, 0],\n",
        "  1: [6, 1],\n",
        "  2: [6, 3, 2],\n",
        "  3: [6, 3],\n",
        "  4: [6, 4],\n",
        "  5: [6, 5],\n",
        "  6: [6],\n",
        "  7: [6, 7],\n",
        "  8: [6, 7, 8],\n",
        "  9: [6, 7, 8, 9]},\n",
        " 7: {0: [7, 5, 0],\n",
        "  1: [7, 6, 1],\n",
        "  2: [7, 5, 2],\n",
        "  3: [7, 5, 3],\n",
        "  4: [7, 6, 4],\n",
        "  5: [7, 5],\n",
        "  6: [7, 6],\n",
        "  7: [7],\n",
        "  8: [7, 8],\n",
        "  9: [7, 8, 9]},\n",
        " 8: {0: [8, 7, 5, 0],\n",
        "  1: [8, 7, 6, 1],\n",
        "  2: [8, 7, 5, 2],\n",
        "  3: [8, 7, 5, 3],\n",
        "  4: [8, 7, 6, 4],\n",
        "  5: [8, 7, 5],\n",
        "  6: [8, 7, 6],\n",
        "  7: [8, 7],\n",
        "  8: [8],\n",
        "  9: [8, 9]},\n",
        " 9: {0: [9, 8, 7, 5, 0],\n",
        "  1: [9, 8, 7, 6, 1],\n",
        "  2: [9, 8, 7, 5, 2],\n",
        "  3: [9, 8, 7, 5, 3],\n",
        "  4: [9, 8, 7, 6, 4],\n",
        "  5: [9, 8, 7, 5],\n",
        "  6: [9, 8, 7, 6],\n",
        "  7: [9, 8, 7],\n",
        "  8: [9, 8],\n",
        "  9: [9]}}"
       ]
      }
     ],
     "prompt_number": 56
    },
    {
     "cell_type": "markdown",
     "metadata": {},
     "source": [
      "\u8fea\u6770\u65af\u7279\u62c9"
     ]
    },
    {
     "cell_type": "code",
     "collapsed": false,
     "input": [
      "algorithms.dijkstra_path(g,1,5)"
     ],
     "language": "python",
     "metadata": {},
     "outputs": [
      {
       "metadata": {},
       "output_type": "pyout",
       "prompt_number": 57,
       "text": [
        "[1, 0, 5]"
       ]
      }
     ],
     "prompt_number": 57
    },
    {
     "cell_type": "code",
     "collapsed": false,
     "input": [],
     "language": "python",
     "metadata": {},
     "outputs": []
    }
   ],
   "metadata": {}
  }
 ]
}