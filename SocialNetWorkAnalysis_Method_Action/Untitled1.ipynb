{
 "metadata": {
  "name": "",
  "signature": "sha256:2854285d9187f2a4c1846cf48420c29b62e37f3af28fb7bf03965d6803d42b8d"
 },
 "nbformat": 3,
 "nbformat_minor": 0,
 "worksheets": []
}