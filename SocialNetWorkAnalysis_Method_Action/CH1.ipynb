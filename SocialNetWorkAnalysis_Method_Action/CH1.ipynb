{
 "metadata": {
  "name": "",
  "signature": "sha256:63a63c00b6545adab0c62fc1f4246831f64bf09f306e71713585db0bd7b952e2"
 },
 "nbformat": 3,
 "nbformat_minor": 0,
 "worksheets": [
  {
   "cells": [
    {
     "cell_type": "code",
     "collapsed": false,
     "input": [
      "import networkx as net\n",
      "import matplotlib.pyplot as plot\n",
      "o=net.Graph()\n",
      "o.add_edge('Conrad','Mary')\n",
      "o.add_edge('Conrad','Cindy')\n",
      "o.add_edge('Conrad','Alice')\n",
      "o.add_edge('Alice','Brad')\n",
      "o.add_edge('Alice','Angie')\n",
      "o.add_edge('Alice','Jim')\n",
      "o.add_edge('Cindy','Samuel')\n",
      "o.add_edge('Cindy','Dave')\n",
      "o.add_edge('Cindy','Frida')\n",
      "net.draw(o)\n",
      "net.write_pajek(o,'data/ACME_orgchart.net')\n",
      "plot.show()\n",
      "\n",
      "a=net.Graph()\n",
      "a.add_edge('Cindy','Samuel')\n",
      "a.add_edge('Cindy','Conrad')\n",
      "a.add_edge('Samuel','Frida')\n",
      "a.add_edge('Conrad','Frida')\n",
      "a.add_edge('Alice','Frida')\n",
      "a.add_edge('Angie','Frida')\n",
      "a.add_edge('Dave','Frida')\n",
      "a.add_edge('Mary','Frida')\n",
      "a.add_edge('Brad','Mary')\n",
      "a.add_node('Jim')\n",
      "net.draw(a)\n",
      "net.write_pajek(a,'data/ACME_advice.net')\n",
      "plot.show()"
     ],
     "language": "python",
     "metadata": {},
     "outputs": [],
     "prompt_number": 14
    },
    {
     "cell_type": "heading",
     "level": 1,
     "metadata": {},
     "source": [
      "ACEM\u54a8\u8be2\u7ec4\u7ec7\u7ed3\u6784\u56fe\uff08\u6b63\u5f0f\u7f51\u7edc\uff09"
     ]
    },
    {
     "cell_type": "code",
     "collapsed": false,
     "input": [
      "import networkx as nx\n",
      "import matplotlib.pyplot as plot\n",
      "orgchart = nx.read_pajek('data/ACME_orgchart.net')\n",
      "nx.draw(orgchart)\n",
      "plot.show()"
     ],
     "language": "python",
     "metadata": {},
     "outputs": [],
     "prompt_number": 11
    },
    {
     "cell_type": "heading",
     "level": 1,
     "metadata": {},
     "source": [
      "ACEM\u54a8\u8be2\u7ec4\u7ec7\u7ed3\u6784\u56fe\uff08\u975e\u6b63\u5f0f\u7f51\u7edc\uff09"
     ]
    },
    {
     "cell_type": "code",
     "collapsed": false,
     "input": [
      "advice = nx.read_pajek('data/ACME_advice.net')\n",
      "nx.draw(advice)\n",
      "plot.show()"
     ],
     "language": "python",
     "metadata": {},
     "outputs": []
    },
    {
     "cell_type": "heading",
     "level": 1,
     "metadata": {},
     "source": [
      "\u57c3\u53ca\u9769\u547d\u8bdd\u9898\u8f6c\u53d1\u7f51\u7edc"
     ]
    },
    {
     "cell_type": "code",
     "collapsed": false,
     "input": [
      "import networkx as nx\n",
      "import matplotlib.pyplot as plot\n",
      "orgchart = nx.read_pajek('data/egypt_retweets.net')\n",
      "nx.draw(orgchart)\n",
      "plot.show()"
     ],
     "language": "python",
     "metadata": {},
     "outputs": []
    },
    {
     "cell_type": "code",
     "collapsed": false,
     "input": [],
     "language": "python",
     "metadata": {},
     "outputs": []
    }
   ],
   "metadata": {}
  }
 ]
}