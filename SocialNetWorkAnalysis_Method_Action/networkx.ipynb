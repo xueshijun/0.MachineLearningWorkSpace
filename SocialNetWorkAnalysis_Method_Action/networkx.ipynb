{
 "metadata": {
  "name": "",
  "signature": "sha256:ccb85c91db664dfcb6071126736ca1f969cab4ad494197ef193eece997d27f94"
 },
 "nbformat": 3,
 "nbformat_minor": 0,
 "worksheets": [
  {
   "cells": [
    {
     "cell_type": "raw",
     "metadata": {},
     "source": [
      "http://networkx.github.io/\n",
      "\u6839\u636e\u4e09\u4f4d\u5f00\u53d1\u8005\u7684\u5efa\u8bae\uff0c\u5982\u679c\u8981\u5728\u8bba\u6587\u4e2d\u5f15\u7528NetworkX\uff0c\u8bf7\u5f15\u7528\u4ee5\u4e0b\u6587\u732e:\n",
      "Aric A. Hagberg, Daniel A. Schult and Pieter J. Swart, \u201cExploring network structure, dynamics, and function using NetworkX\u201d, in Proceedings of the 7th Python in Science Conference (SciPy2008), G\u00e4el Varoquaux, Travis Vaught, and Jarrod Millman (Eds), (Pasadena, CA USA), pp. 11\u201315, Aug 2008"
     ]
    },
    {
     "cell_type": "heading",
     "level": 1,
     "metadata": {},
     "source": [
      "\u4e00\u3001NetworkX\u53caPython\u5f00\u53d1\u73af\u5883\u7684\u5b89\u88c5"
     ]
    },
    {
     "cell_type": "code",
     "collapsed": false,
     "input": [
      "import networkx as nx\n",
      "print nx"
     ],
     "language": "python",
     "metadata": {},
     "outputs": [
      {
       "output_type": "stream",
       "stream": "stdout",
       "text": [
        "<module 'networkx' from 'C:\\Python27\\lib\\site-packages\\networkx\\__init__.py'>\n"
       ]
      }
     ],
     "prompt_number": 8
    },
    {
     "cell_type": "heading",
     "level": 1,
     "metadata": {},
     "source": [
      "\u4e8c\u3001\u57fa\u672c\u7ed8\u56fe\u6d41\u7a0b"
     ]
    },
    {
     "cell_type": "heading",
     "level": 3,
     "metadata": {},
     "source": [
      "\u6837\u5f0f"
     ]
    },
    {
     "cell_type": "raw",
     "metadata": {},
     "source": [
      "nx.draw(G,node_size = 30,with_labels = False) \n",
      "- `node_size`:  \u6307\u5b9a\u8282\u70b9\u7684\u5c3a\u5bf8\u5927\u5c0f(\u9ed8\u8ba4\u662f300\uff0c\u5355\u4f4d\u672a\u77e5\uff0c\u5c31\u662f\u4e0a\u56fe\u4e2d\u90a3\u4e48\u5927\u7684\u70b9)\n",
      "- `node_color`:  \u6307\u5b9a\u8282\u70b9\u7684\u989c\u8272 (\u9ed8\u8ba4\u662f\u7ea2\u8272\uff0c\u53ef\u4ee5\u7528\u5b57\u7b26\u4e32\u7b80\u5355\u6807\u8bc6\u989c\u8272\uff0c\u4f8b\u5982'r'\u4e3a\u7ea2\u8272\uff0c'b'\u4e3a\u7eff\u8272\u7b49\uff0c\u5177\u4f53\u53ef\u67e5\u770b\u624b\u518c)\n",
      "- `node_shape`:  \u8282\u70b9\u7684\u5f62\u72b6\uff08\u9ed8\u8ba4\u662f\u5706\u5f62\uff0c\u7528\u5b57\u7b26\u4e32'o'\u6807\u8bc6\uff0c\u5177\u4f53\u53ef\u67e5\u770b\u624b\u518c\uff09\n",
      "- `alpha`: \u900f\u660e\u5ea6 (\u9ed8\u8ba4\u662f1.0\uff0c\u4e0d\u900f\u660e\uff0c0\u4e3a\u5b8c\u5168\u900f\u660e) \n",
      "- `width`: \u8fb9\u7684\u5bbd\u5ea6 (\u9ed8\u8ba4\u4e3a1.0)\n",
      "- `edge_color`: \u8fb9\u7684\u989c\u8272(\u9ed8\u8ba4\u4e3a\u9ed1\u8272)\n",
      "- `style`: \u8fb9\u7684\u6837\u5f0f(\u9ed8\u8ba4\u4e3a\u5b9e\u73b0\uff0c\u53ef\u9009\uff1a solid|dashed|dotted,dashdot)\n",
      "- `with_labels`: \u8282\u70b9\u662f\u5426\u5e26\u6807\u7b7e\uff08\u9ed8\u8ba4\u4e3aTrue\uff09\n",
      "- `font_size`: \u8282\u70b9\u6807\u7b7e\u5b57\u4f53\u5927\u5c0f (\u9ed8\u8ba4\u4e3a12)\n",
      "- `font_color`: \u8282\u70b9\u6807\u7b7e\u5b57\u4f53\u989c\u8272\uff08\u9ed8\u8ba4\u4e3a\u9ed1\u8272\uff09\n"
     ]
    },
    {
     "cell_type": "heading",
     "level": 3,
     "metadata": {},
     "source": [
      "\u5e03\u5c40"
     ]
    },
    {
     "cell_type": "raw",
     "metadata": {},
     "source": [
      "circular_layout\uff1a\u8282\u70b9\u5728\u4e00\u4e2a\u5706\u73af\u4e0a\u5747\u5300\u5206\u5e03\n",
      "random_layout\uff1a\u8282\u70b9\u968f\u673a\u5206\u5e03\n",
      "shell_layout\uff1a\u8282\u70b9\u5728\u540c\u5fc3\u5706\u4e0a\u5206\u5e03\n",
      "spring_layout\uff1a \u7528Fruchterman-Reingold\u7b97\u6cd5\u6392\u5217\u8282\u70b9\uff08\u8fd9\u4e2a\u7b97\u6cd5\u6211\u4e0d\u4e86\u89e3\uff0c\u6837\u5b50\u7c7b\u4f3c\u591a\u4e2d\u5fc3\u653e\u5c04\u72b6\uff09\n",
      "spectral_layout\uff1a\u6839\u636e\u56fe\u7684\u62c9\u666e\u62c9\u65af\u7279\u5f81\u5411\u91cf\u6392\u5217\u8282\u70b9\uff1f\u6211\u4e5f\u4e0d\u662f\u592a\u660e\u767d"
     ]
    },
    {
     "cell_type": "code",
     "collapsed": false,
     "input": [
      "import networkx as nx                   #\u5bfc\u5165networkx\u5305\n",
      "import matplotlib.pyplot as plt     #\u5bfc\u5165\u7ed8\u56fe\u5305matplotlib\uff08\u9700\u8981\u5b89\u88c5\uff0c\u65b9\u6cd5\u89c1\u7b2c\u4e00\u7bc7\u7b14\u8bb0\uff09\n",
      "G =nx.random_graphs.barabasi_albert_graph(100,1)   #\u751f\u6210\u4e00\u4e2aBA\u65e0\u6807\u5ea6\u7f51\u7edcG\n",
      "nx.draw(G)                          #\u7ed8\u5236\u7f51\u7edcG\n",
      "plt.savefig(\"ba.png\")           #\u8f93\u51fa\u65b9\u5f0f1: \u5c06\u56fe\u50cf\u5b58\u4e3a\u4e00\u4e2apng\u683c\u5f0f\u7684\u56fe\u7247\u6587\u4ef6\n",
      "plt.show()                            #\u8f93\u51fa\u65b9\u5f0f2: \u5728\u7a97\u53e3\u4e2d\u663e\u793a\u8fd9\u5e45\u56fe\u50cf"
     ],
     "language": "python",
     "metadata": {},
     "outputs": [],
     "prompt_number": 37
    },
    {
     "cell_type": "code",
     "collapsed": false,
     "input": [],
     "language": "python",
     "metadata": {},
     "outputs": []
    },
    {
     "cell_type": "heading",
     "level": 1,
     "metadata": {},
     "source": [
      "\u4e8c\u3001\u5efa\u7acb\u56fe\u6216\u7f51\u7edc"
     ]
    },
    {
     "cell_type": "markdown",
     "metadata": {},
     "source": [
      "Nodes"
     ]
    },
    {
     "cell_type": "raw",
     "metadata": {},
     "source": [
      ">>> G.add_node(1)\n",
      ">>> G.add_nodes_from([2,3])\n",
      "\n",
      "#add any nbunch of nodes. \n",
      "#An nbunch is any iterable container of nodes(e.g. a list, set, graph, file, etc..)\n",
      ">>> H=nx.path_graph(10)\n",
      ">>> G.add_nodes_from(H)\n",
      "\n",
      "#use the graph H as a node in G.\n",
      ">>> G.add_node(H)\n",
      ">>> G.remove_node(H)\n",
      "\n",
      ">>> G.add_node(\"spam\")       # adds node \"spam\"\n",
      ">>> G.add_nodes_from(\"spam\")   # adds 4 nodes: 's', 'p', 'a', 'm'\n",
      ">>> G.remove_nodes_from(\"spam\")\n",
      ">>> G.nodes()\n",
      "\n",
      "\u8282\u70b9\u5c5e\u6027\n",
      ">>> G.add_node(1, time='5pm')\n",
      ">>> G.add_nodes_from([3],time='2pm')\n",
      ">>> G.node[1]\n",
      "{'time': '5pm'}\n",
      ">>> G.node[1]['room'] = 714\n",
      ">>> G.nodes(data=True)\n",
      "[(1, {'room': 714, 'time': '5pm'}), (3, {'time': '2pm'})]\n",
      "\n",
      "Note that adding a node to G.node does not add it to the graph,\n",
      "use G.add_node() to add new nodes"
     ]
    },
    {
     "cell_type": "markdown",
     "metadata": {},
     "source": [
      "Edges"
     ]
    },
    {
     "cell_type": "raw",
     "metadata": {},
     "source": [
      ">>> G.add_edge(1,2)\n",
      ">>> G[1][2]['color']='blue'\n",
      ">>> G.remove_edge(1,2)\n",
      "\n",
      ">>> e=(2,3)\n",
      ">>> G.add_edge(*e) # unpack edge tuple*\n",
      "\n",
      ">>> G.add_edges_from([(1,2),(1,3)])\n",
      "\n",
      "#adding any ebunch of edges. \n",
      ">>> G.add_edges_from(H.edges()) \n",
      "# removing all nodes and edges\n",
      ">>> G.clear()\n",
      "\n",
      ">>> FG=nx.Graph()\n",
      ">>> FG.add_weighted_edges_from([(1,2,0.125),(1,3,0.75),(2,4,1.2),(3,4,0.375)])\n",
      ">>> for n,nbrs in FG.adjacency_iter():\n",
      "...    for nbr,eattr in nbrs.items():\n",
      "...        data=eattr['weight']\n",
      "...        if data<0.5: print('(%d, %d, %.3f)' % (n,nbr,data))\n",
      "                        \n",
      ">>> for (u,v,d) in FG.edges(data='weight'):\n",
      ">>>     if d<0.5: print('(%d, %d, %.3f)'%(n,nbr,d))\n",
      "(1, 2, 0.125)\n",
      "(3, 4, 0.375)\n",
      "\u8fb9\u7684\u5c5e\u6027     \n",
      ">>> G.add_edge(1, 2, weight=4.7 )\n",
      ">>> G.add_edges_from([(3,4),(4,5)], color='red')\n",
      ">>> G.add_edges_from([(1,2,{'color':'blue'}), (2,3,{'weight':8})])\n",
      ">>> G[1][2]['weight'] = 4.7\n",
      ">>> G.edge[1][2]['weight'] = 4"
     ]
    },
    {
     "cell_type": "heading",
     "level": 3,
     "metadata": {},
     "source": [
      "\u56fe"
     ]
    },
    {
     "cell_type": "raw",
     "metadata": {},
     "source": [
      "Graph.nodes()\n",
      "Graph.edges()\n",
      "Graph.neighbors()\n",
      "iterator versions (e.g. Graph.edges_iter()) \n",
      "\n",
      "Graph\u5c5e\u6027\n",
      "#Assign graph attributes when creating a new graph\n",
      ">>> G = nx.Graph(day=\"Friday\")\n",
      ">>> G.graph\n",
      "{'day': 'Friday'}\n",
      "#modify attributes later\n",
      ">>> G.graph['day']='Monday'\n",
      ">>> G.graph\n",
      "{'day': 'Monday'}"
     ]
    },
    {
     "cell_type": "heading",
     "level": 2,
     "metadata": {},
     "source": [
      "1\u3001\u65e0\u5411\u56fe"
     ]
    },
    {
     "cell_type": "code",
     "collapsed": false,
     "input": [
      "import networkx as nx                            #\u5bfc\u5165NetworkX\u5305\uff0c\u4e3a\u4e86\u5c11\u6253\u51e0\u4e2a\u5b57\u6bcd\uff0c\u5c06\u5176\u91cd\u547d\u540d\u4e3anx\n",
      "G = nx.Graph()                                        #\u5efa\u7acb\u4e00\u4e2a\u7a7a\u7684\u65e0\u5411\u56feG\n",
      "G.add_node(1)                                        #\u6dfb\u52a0\u4e00\u4e2a\u8282\u70b91\n",
      "G.add_edge(2,3)                                     #\u6dfb\u52a0\u4e00\u6761\u8fb92-3\uff08\u9690\u542b\u7740\u6dfb\u52a0\u4e86\u4e24\u4e2a\u8282\u70b92\u30013\uff09\n",
      "G.add_edge(3,2)                                     #\u5bf9\u4e8e\u65e0\u5411\u56fe\uff0c\u8fb93-2\u4e0e\u8fb92-3\u88ab\u8ba4\u4e3a\u662f\u4e00\u6761\u8fb9\n",
      "print G.nodes()                                       #\u8f93\u51fa\u5168\u90e8\u7684\u8282\u70b9\uff1a [1, 2, 3]\n",
      "print G.edges()                                       #\u8f93\u51fa\u5168\u90e8\u7684\u8fb9\uff1a[(2, 3)]\n",
      "print G.number_of_edges()                    #\u8f93\u51fa\u8fb9\u7684\u6570\u91cf\uff1a1 "
     ],
     "language": "python",
     "metadata": {},
     "outputs": [
      {
       "output_type": "stream",
       "stream": "stdout",
       "text": [
        "[1, 2, 3]\n",
        "[(2, 3)]\n",
        "1\n"
       ]
      }
     ],
     "prompt_number": 10
    },
    {
     "cell_type": "heading",
     "level": 2,
     "metadata": {},
     "source": [
      "2\u3001\u6709\u5411\u56fe"
     ]
    },
    {
     "cell_type": "code",
     "collapsed": false,
     "input": [
      "import networkx as nx   \n",
      "G = nx.DiGraph()\n",
      "G.add_node(1)                                        #\u6dfb\u52a0\u4e00\u4e2a\u8282\u70b91\n",
      "G.add_edge(2,3)                                     #\u6dfb\u52a0\u4e00\u6761\u8fb92-3\uff08\u9690\u542b\u7740\u6dfb\u52a0\u4e86\u4e24\u4e2a\u8282\u70b92\u30013\uff09\n",
      "G.add_edge(3,2)                                     #\u6dfb\u52a0\u4e00\u6761\u8fb92-3\uff08\u9690\u542b\u7740\u6dfb\u52a0\u4e86\u4e24\u4e2a\u8282\u70b92\u30013\uff09\n",
      "G.out_edges()\n",
      "G.in_degree()\n",
      "#G.predecessors(1) \n",
      "#G.successors()\n",
      "\n",
      "DG=nx.DiGraph()\n",
      "DG.add_weighted_edges_from([(1,2,0.5), (3,1,0.75)])\n",
      "print DG.out_degree(1,weight='weight')#0.5\n",
      "print DG.degree(1,weight='weight')#1.25\n",
      "print DG.successors(1)#[2]\n",
      "print DG.neighbors(1)#[2]"
     ],
     "language": "python",
     "metadata": {},
     "outputs": [
      {
       "output_type": "stream",
       "stream": "stdout",
       "text": [
        "0.5\n",
        "1.25\n",
        "[2]\n",
        "[2]\n"
       ]
      }
     ],
     "prompt_number": 12
    },
    {
     "cell_type": "heading",
     "level": 2,
     "metadata": {},
     "source": [
      "3\u3001\u52a0\u6743\u56fe\uff08\u7f51\u7edc\uff09"
     ]
    },
    {
     "cell_type": "code",
     "collapsed": false,
     "input": [
      "import networkx as nx                            #\u5bfc\u5165NetworkX\u5305\uff0c\u4e3a\u4e86\u5c11\u6253\u51e0\u4e2a\u5b57\u6bcd\uff0c\u5c06\u5176\u91cd\u547d\u540d\u4e3anx\n",
      "G = nx.Graph()                                        #\u5efa\u7acb\u4e00\u4e2a\u7a7a\u7684\u65e0\u5411\u56feG\n",
      "#G = nx.DiGraph()\n",
      "G.add_weighted_edges_from([(0,1,3.0),(1,2,7.5)]) #1\u4e2a\u6216\u591a\u4e2a\u4e09\u5143\u7ec4[u,v,w]\u4f5c\u4e3a\u53c2\u6570\uff0c\u5176\u4e2du\u662f\u8d77\u70b9\uff0cv\u662f\u7ec8\u70b9\uff0cw\u662f\u6743\u91cd\n",
      "print G.get_edge_data(1,2)\n",
      "print G.get_edge_data(1,2)['weight']"
     ],
     "language": "python",
     "metadata": {},
     "outputs": [
      {
       "output_type": "stream",
       "stream": "stdout",
       "text": [
        "{'weight': 7.5}\n",
        "7.5\n"
       ]
      }
     ],
     "prompt_number": 9
    },
    {
     "cell_type": "heading",
     "level": 3,
     "metadata": {},
     "source": [
      "4. Multigraphs"
     ]
    },
    {
     "cell_type": "code",
     "collapsed": false,
     "input": [
      "MG=nx.MultiGraph()\n",
      "MG.add_weighted_edges_from([(1,2,.5), (1,2,.75), (2,3,.5)])\n",
      "MG.degree(weight='weight')#{1: 1.25, 2: 1.75, 3: 0.5}\n",
      "GG=nx.Graph()\n",
      "for n,nbrs in MG.adjacency_iter():\n",
      "    for nbr,edict in nbrs.items():\n",
      "        minvalue=min([d['weight'] for d in edict.values()])\n",
      "        GG.add_edge(n,nbr, weight = minvalue)\n",
      "nx.shortest_path(GG,1,3)#[1, 2, 3]"
     ],
     "language": "python",
     "metadata": {},
     "outputs": [
      {
       "metadata": {},
       "output_type": "pyout",
       "prompt_number": 10,
       "text": [
        "[1, 2, 3]"
       ]
      }
     ],
     "prompt_number": 10
    },
    {
     "cell_type": "heading",
     "level": 1,
     "metadata": {},
     "source": [
      "Graph generators and graph operations"
     ]
    },
    {
     "cell_type": "raw",
     "metadata": {},
     "source": [
      "1.Applying classic graph operations:\n",
      "subgraph(G, nbunch)      - induce subgraph of G on nodes in nbunch\n",
      "union(G1,G2)             - graph union\n",
      "disjoint_union(G1,G2)    - graph union assuming all nodes are different\n",
      "cartesian_product(G1,G2) - return Cartesian product graph\n",
      "compose(G1,G2)           - combine graphs identifying nodes common to both\n",
      "complement(G)            - graph complement\n",
      "create_empty_copy(G)     - return an empty copy of the same graph class\n",
      "convert_to_undirected(G) - return an undirected representation of G\n",
      "convert_to_directed(G)   - return a directed representation of G\n",
      "\n",
      "2.Using a call to one of the classic small graphs, e.g.\n",
      "petersen=nx.petersen_graph()\n",
      "tutte=nx.tutte_graph()\n",
      "maze=nx.sedgewick_maze_graph()\n",
      "tet=nx.tetrahedral_graph()\n",
      "\n",
      "3.Using a (constructive) generator for a classic graph, e.g.\n",
      "K_5=nx.complete_graph(5)\n",
      "K_3_5=nx.complete_bipartite_graph(3,5)\n",
      "barbell=nx.barbell_graph(10,10)\n",
      "lollipop=nx.lollipop_graph(10,20)\n",
      "\n",
      "4.Using a stochastic graph generator, e.g.\n",
      "er=nx.erdos_renyi_graph(100,0.15)\n",
      "ws=nx.watts_strogatz_graph(30,3,0.1)\n",
      "ba=nx.barabasi_albert_graph(100,5)\n",
      "red=nx.random_lobster(100,0.9,0.9)\n",
      "\n",
      "5.Reading a graph stored in a file using common graph formats, such as edge lists, adjacency lists, GML, GraphML, pickle, LEDA and others.\n",
      "nx.write_gml(red,\"path.to.file\")\n",
      "mygraph=nx.read_gml(\"path.to.file\")"
     ]
    },
    {
     "cell_type": "heading",
     "level": 3,
     "metadata": {},
     "source": [
      "Graph generators"
     ]
    },
    {
     "cell_type": "code",
     "collapsed": false,
     "input": [
      "import matplotlib.pyplot as plot\n",
      "import networkx as nx\n",
      "#G=nx.balanced_tree(r=3, h=2, create_using=None)\n",
      "#G= nx.barbell_graph(3, 2)\n",
      "#G= nx.complete_multipartite_graph(2,2, 3)\n",
      "#G= nx.circular_ladder_graph(n, create_using=None)\n",
      "\n",
      "nx.draw(G)\n",
      "plot.show()"
     ],
     "language": "python",
     "metadata": {},
     "outputs": [],
     "prompt_number": 42
    },
    {
     "cell_type": "code",
     "collapsed": false,
     "input": [
      "\n"
     ],
     "language": "python",
     "metadata": {},
     "outputs": []
    },
    {
     "cell_type": "code",
     "collapsed": false,
     "input": [
      "Atlas\n",
      "#Generators for the small graph atlas.\n",
      "#See \u201cAn Atlas of Graphs\u201d by Ronald C. Read and Robin J. Wilson, Oxford University Press, 1998.\n",
      "#Because of its size, this module is not imported by default.\n",
      "graph_atlas_g()\n",
      "(Because of its size, this module is not imported by default.)\n",
      "\n",
      "Classic\n",
      "#G=nx.complete_graph(100)\n",
      "balanced_tree(r, h, create_using=None)\n",
      "'''\n",
      "Return the perfectly balanced r-tree of height h.\n",
      "r (int) \u2013 Branching factor of the tree\n",
      "h (int) \u2013 Height of the tree\n",
      "create_using (NetworkX graph type, optional) \u2013 Use specified type to construct graph (default = networkx.Graph)\n",
      "'''\n",
      "barbell_graph(m1, m2, create_using=None)\n",
      "'''\n",
      "Return the Barbell Graph: two complete graphs connected by a path.\n",
      "'''\n",
      "complete_graph(n, create_using=None)\n",
      "'''\n",
      "Return the complete graph K_n with n nodes.\n",
      "'''\n",
      "complete_multipartite_graph(*block_sizes)\n",
      "'''\n",
      "Returns the complete multipartite graph with the specified block sizes.\n",
      "'''\n",
      "circular_ladder_graph(n, create_using=None)\n",
      "'''\n",
      "Return the circular ladder graph CL_n of length n.\n",
      "'''\n",
      "cycle_graph(n, create_using=None)\n",
      "'''\n",
      "Return the cycle graph C_n over n nodes.\n",
      "'''\n",
      "dorogovtsev_goltsev_mendes_graph(n[, ...]) \tReturn the hierarchically constructed Dorogovtsev-Goltsev-Mendes graph.\n",
      "empty_graph([n, create_using]) \tReturn the empty graph with n nodes and zero edges.\n",
      "grid_2d_graph(m, n[, periodic, create_using]) \tReturn the 2d grid graph of mxn nodes, each connected to its nearest neighbors.\n",
      "grid_graph(dim[, periodic]) \tReturn the n-dimensional grid graph.\n",
      "hypercube_graph(n) \tReturn the n-dimensional hypercube.\n",
      "ladder_graph(n[, create_using]) \tReturn the Ladder graph of length n.\n",
      "lollipop_graph(m, n[, create_using]) \tReturn the Lollipop Graph; K_m connected to P_n.\n",
      "null_graph([create_using]) \tReturn the Null graph with no nodes or edges.\n",
      "path_graph(n[, create_using]) \tReturn the Path graph P_n of n nodes linearly connected by n-1 edges.\n",
      "star_graph(n[, create_using]) \tReturn the Star graph with n+1 nodes: one center node, connected to n outer nodes.\n",
      "trivial_graph([create_using]) \tReturn the Trivial graph with one node (with integer label 0) and no edges.\n",
      "wheel_graph(n[, create_using]) \tReturn the wheel graph: a single hub node connected to each node of the (n-1)-node cycle graph.\n",
      "\n",
      "Expanders\n",
      "#Provides explicit constructions of expander graphs.\n",
      "margulis_gabber_galil_graph(n[, create_using]) \tReturn the Margulis-Gabber-Galil undirected MultiGraph on n^2 nodes.\n",
      "chordal_cycle_graph(p[, create_using]) \tReturn the chordal cycle graph on p nodes.\n",
      "\n",
      "Small\n",
      "#Various small and named graphs, together with some compact generators.\n",
      "make_small_graph(graph_description[, ...]) \tReturn the small graph described by graph_description.\n",
      "LCF_graph(n, shift_list, repeats[, create_using]) \tReturn the cubic graph specified in LCF notation.\n",
      "bull_graph([create_using]) \tReturn the Bull graph.\n",
      "chvatal_graph([create_using]) \tReturn the Chv\u00e1tal graph.\n",
      "cubical_graph([create_using]) \tReturn the 3-regular Platonic Cubical graph.\n",
      "desargues_graph([create_using]) \tReturn the Desargues graph.\n",
      "diamond_graph([create_using]) \tReturn the Diamond graph.\n",
      "dodecahedral_graph([create_using]) \tReturn the Platonic Dodecahedral graph.\n",
      "frucht_graph([create_using]) \tReturn the Frucht Graph.\n",
      "heawood_graph([create_using]) \tReturn the Heawood graph, a (3,6) cage.\n",
      "house_graph([create_using]) \tReturn the House graph (square with triangle on top).\n",
      "house_x_graph([create_using]) \tReturn the House graph with a cross inside the house square.\n",
      "icosahedral_graph([create_using]) \tReturn the Platonic Icosahedral graph.\n",
      "krackhardt_kite_graph([create_using]) \tReturn the Krackhardt Kite Social Network.\n",
      "moebius_kantor_graph([create_using]) \tReturn the Moebius-Kantor graph.\n",
      "octahedral_graph([create_using]) \tReturn the Platonic Octahedral graph.\n",
      "pappus_graph() \tReturn the Pappus graph.\n",
      "petersen_graph([create_using]) \tReturn the Petersen graph.\n",
      "sedgewick_maze_graph([create_using]) \tReturn a small maze with a cycle.\n",
      "tetrahedral_graph([create_using]) \tReturn the 3-regular Platonic Tetrahedral graph.\n",
      "truncated_cube_graph([create_using]) \tReturn the skeleton of the truncated cube.\n",
      "truncated_tetrahedron_graph([create_using]) \tReturn the skeleton of the truncated Platonic tetrahedron.\n",
      "tutte_graph([create_using]) \tReturn the Tutte graph.\n",
      "\n",
      "\n",
      "Random Graphs\n",
      "#Generators for random graphs.\n",
      "fast_gnp_random_graph(n, p[, seed, directed]) \tReturns a G_{n,p} random graph, also known as an Erd\u0151s-R\u00e9nyi graph or a binomial graph.\n",
      "gnp_random_graph(n, p[, seed, directed]) \tReturns a G_{n,p} random graph, also known as an Erd\u0151s-R\u00e9nyi graph or a binomial graph.\n",
      "dense_gnm_random_graph(n, m[, seed]) \tReturns a G_{n,m} random graph.\n",
      "gnm_random_graph(n, m[, seed, directed]) \tReturns a G_{n,m} random graph.\n",
      "erdos_renyi_graph(n, p[, seed, directed]) \tReturns a G_{n,p} random graph, also known as an Erd\u0151s-R\u00e9nyi graph or a binomial graph.\n",
      "binomial_graph(n, p[, seed, directed]) \tReturns a G_{n,p} random graph, also known as an Erd\u0151s-R\u00e9nyi graph or a binomial graph.\n",
      "newman_watts_strogatz_graph(n, k, p[, seed]) \tReturn a Newman\u2013Watts\u2013Strogatz small-world graph.\n",
      "watts_strogatz_graph(n, k, p[, seed]) \tReturn a Watts\u2013Strogatz small-world graph.\n",
      "connected_watts_strogatz_graph(n, k, p[, ...]) \tReturns a connected Watts\u2013Strogatz small-world graph.\n",
      "random_regular_graph(d, n[, seed]) \tReturns a random d-regular graph on n nodes.\n",
      "barabasi_albert_graph(n, m[, seed]) \tReturns a random graph according to the Barab\u00e1si\u2013Albert preferential attachment model.\n",
      "powerlaw_cluster_graph(n, m, p[, seed]) \tHolme and Kim algorithm for growing graphs with powerlaw degree distribution and approximate average clustering.\n",
      "duplication_divergence_graph(n, p[, seed]) \tReturns an undirected graph using the duplication-divergence model.\n",
      "random_lobster(n, p1, p2[, seed]) \tReturns a random lobster graph.\n",
      "random_shell_graph(constructor[, seed]) \tReturns a random shell graph for the constructor given.\n",
      "random_powerlaw_tree(n[, gamma, seed, tries]) \tReturns a tree with a power law degree distribution.\n",
      "random_powerlaw_tree_sequence(n[, gamma, ...]) \tReturns a degree sequence for a tree with a power law distribution.\n",
      "\n",
      "Degree Sequence\n",
      "#Generate graphs with a given degree sequence or expected degree sequence.\n",
      "configuration_model(deg_sequence[, ...]) \tReturn a random graph with the given degree sequence.\n",
      "directed_configuration_model(...[, ...]) \tReturn a directed_random graph with the given degree sequences.\n",
      "expected_degree_graph(w[, seed, selfloops]) \tReturn a random graph with given expected degrees.\n",
      "havel_hakimi_graph(deg_sequence[, create_using]) \tReturn a simple graph with given degree sequence constructed using the Havel-Hakimi algorithm.\n",
      "directed_havel_hakimi_graph(in_deg_sequence, ...) \tReturn a directed graph with the given degree sequences.\n",
      "degree_sequence_tree(deg_sequence[, ...]) \tMake a tree for the given degree sequence.\n",
      "random_degree_sequence_graph(sequence[, ...]) \tReturn a simple random graph with the given degree sequence.\n",
      "\n",
      "Random Clustered\n",
      "#Generate graphs with given degree and triangle sequence.\n",
      "random_clustered_graph(joint_degree_sequence) \tGenerate a random graph with the given joint independent edge degree and triangle degree sequence.\n",
      "\n",
      "Directed\n",
      "#Generators for some directed graphs, including growing network (GN) graphs and scale-free graphs.\n",
      "gn_graph(n[, kernel, create_using, seed]) \tReturn the growing network (GN) digraph with n nodes.\n",
      "gnr_graph(n, p[, create_using, seed]) \tReturn the growing network with redirection (GNR) digraph with n nodes and redirection probability p.\n",
      "gnc_graph(n[, create_using, seed]) \tReturn the growing network with copying (GNC) digraph with n nodes.\n",
      "scale_free_graph(n[, alpha, beta, gamma, ...]) \tReturns a scale-free directed graph.\n",
      "\n",
      "Geometric\n",
      "#Generators for geometric graphs.\n",
      "random_geometric_graph(n, radius[, dim, pos]) \tReturns a random geometric graph in the unit cube.\n",
      "geographical_threshold_graph(n, theta[, ...]) \tReturns a geographical threshold graph.\n",
      "waxman_graph(n[, alpha, beta, L, domain]) \tReturn a Waxman random graph.\n",
      "navigable_small_world_graph(n[, p, q, r, ...]) \tReturn a navigable small-world graph.\n",
      "\n",
      "Line Graph\n",
      "#Functions for generating line graphs.\n",
      "line_graph(G[, create_using]) \tReturns the line graph of the graph or digraph G.\n",
      "\n",
      "Ego Graph\n",
      "ego_graph(G, n[, radius, center, ...]) \tReturns induced subgraph of neighbors centered at node n within a given radius.\n",
      "\n",
      "\n",
      "Stochastic\n",
      "#Functions for generating stochastic graphs from a given weighted directed graph.\n",
      "stochastic_graph(G[, copy, weight]) \tReturns a right-stochastic representation of the directed graph G.\n",
      "\n",
      "\n",
      "\n",
      "Intersection\n",
      "#Generators for random intersection graphs.\n",
      "uniform_random_intersection_graph(n, m, p[, ...]) \tReturn a uniform random intersection graph.\n",
      "k_random_intersection_graph(n, m, k) \tReturn a intersection graph with randomly chosen attribute sets for each node that are of equal size (k).\n",
      "general_random_intersection_graph(n, m, p) \tReturn a random intersection graph with independent probabilities for connections between node and attribute sets.\n",
      "\n",
      "Social Networks\n",
      "karate_club_graph() \tReturn Zachary\u2019s Karate Club graph.\n",
      "davis_southern_women_graph() \tReturn Davis Southern women social network.\n",
      "florentine_families_graph() \tReturn Florentine families graph.\n",
      "\n",
      "\n",
      "Community\n",
      "#Generators for classes of graphs used in studying social networks.\n",
      "caveman_graph(l, k) \tReturns a caveman graph of l cliques of size k.\n",
      "connected_caveman_graph(l, k) \tReturns a connected caveman graph of l cliques of size k.\n",
      "relaxed_caveman_graph(l, k, p[, seed]) \tReturn a relaxed caveman graph.\n",
      "random_partition_graph(sizes, p_in, p_out[, ...]) \tReturn the random partition graph with a partition of sizes.\n",
      "planted_partition_graph(l, k, p_in, p_out[, ...]) \tReturn the planted l-partition graph.\n",
      "gaussian_random_partition_graph(n, s, v, ...) \tGenerate a Gaussian random partition graph.\n",
      "\n",
      "\n",
      "\n",
      "Non Isomorphic Trees\n",
      "#Implementation of the Wright, Richmond, Odlyzko and McKay (WROM) algorithm for the enumeration of all non-isomorphic free trees of a given order. Rooted trees are represented by level sequences, i.e., lists in which the i-th element specifies the distance of vertex i to the root.\n",
      "nonisomorphic_trees(order[, create]) \tReturns a list of nonisomporphic trees\n",
      "number_of_nonisomorphic_trees(order) \tReturns the number of nonisomorphic trees\n"
     ],
     "language": "python",
     "metadata": {},
     "outputs": []
    },
    {
     "cell_type": "heading",
     "level": 3,
     "metadata": {},
     "source": [
      "Reading and writing graphs"
     ]
    },
    {
     "cell_type": "code",
     "collapsed": false,
     "input": [
      "'''Adjacency List\n",
      "#The graph with edges a-b, a-c, d-e can be represented as the following adjacency list \n",
      "#(anything following the # in a line is a comment):\n",
      "a b c # source target target\n",
      "d e\n",
      "\n",
      "#Read graph in adjacency list format from path.\n",
      "read_adjlist(path, comments='#', delimiter=None, create_using=None, nodetype=None, encoding='utf-8')\n",
      "\n",
      "# Write graph G in single-line adjacency-list format to path.\n",
      "write_adjlist(G, path, comments='#', delimiter=' ', encoding='utf-8')\n",
      "\n",
      "#Parse lines of a graph adjacency list representation.\n",
      "parse_adjlist(lines, comments='#', delimiter=None, create_using=None, nodetype=None)\n",
      "\n",
      "#Generate a single line of the graph G in adjacency list format.\n",
      "generate_adjlist(G[, delimiter]) \tGenerate a single line of the graph G in adjacency list format.\n",
      "'''\n",
      "import networkx as nx\n",
      "G=nx.path_graph(4)\n",
      "nx.write_adjlist(G, \"test.adjlist\")\n",
      "G=nx.read_adjlist(\"test.adjlist\")\n",
      "\n",
      "\n",
      "fh=open(\"test.adjlist\", 'rb')\n",
      "G=nx.read_adjlist(fh)\n",
      "\n",
      "fh=open(\"test.adjlist\",'wb')\n",
      "nx.write_adjlist(G, fh)\n",
      "\n",
      "nx.write_adjlist(G,\"test.adjlist.gz\")\n",
      "G=nx.read_adjlist(\"test.adjlist.gz\")\n",
      "\n",
      "G=nx.read_adjlist(\"test.adjlist\", nodetype=int)\n",
      "G=nx.read_adjlist(\"test.adjlist\", create_using=nx.DiGraph())\n",
      "\n",
      "G = nx.lollipop_graph(4, 3)\n",
      "for line in nx.generate_adjlist(G):\n",
      "    print(line)\n",
      "    \n",
      "'''\n",
      "\n",
      "Multiline Adjacency List \n",
      "#The graph with edges a-b, a-c, d-e can be represented as the following adjacency list (anything following the # in a line is a comment):\n",
      "# example.multiline-adjlist\n",
      "a 2\n",
      "b\n",
      "c\n",
      "d 1\n",
      "e\n",
      "read_multiline_adjlist(path[, comments, ...]) \tRead graph in multi-line adjacency list format from path.\n",
      "write_multiline_adjlist(G, path[, ...]) \tWrite the graph G in multiline adjacency list format to path\n",
      "parse_multiline_adjlist(lines[, comments, ...]) \tParse lines of a multiline adjacency list representation of a graph.\n",
      "generate_multiline_adjlist(G[, delimiter]) \tGenerate a single line of the graph G in multiline adjacency list format.\n",
      "\n",
      "\n",
      "\n",
      "Edge List\n",
      "    Node pairs with no data:\n",
      "        1 2\n",
      "    Python dictionary as data:\n",
      "        1 2 {'weight':7, 'color':'green'}\n",
      "    Arbitrary data:\n",
      "        1 2 7 green\n",
      "read_edgelist(path[, comments, delimiter, ...]) \tRead a graph from a list of edges.\n",
      "write_edgelist(G, path[, comments, ...]) \tWrite graph as a list of edges.\n",
      "read_weighted_edgelist(path[, comments, ...]) \tRead a graph as list of edges with numeric weights.\n",
      "write_weighted_edgelist(G, path[, comments, ...]) \tWrite graph G as a list of edges with numeric weights.\n",
      "generate_edgelist(G[, delimiter, data]) \tGenerate a single line of the graph G in edge list format.\n",
      "parse_edgelist(lines[, comments, delimiter, ...]) \tParse lines of an edge list representation of a graph.\n",
      "\n",
      "\n",
      "GEXF \n",
      "#GEXF (Graph Exchange XML Format) is a language for describing complex network structures, their associated data and dynamics.\n",
      "#This implementation does not support mixed graphs (directed and undirected edges together).\n",
      "read_gexf(path[, node_type, relabel, version]) \tRead graph in GEXF format from path.\n",
      "write_gexf(G, path[, encoding, prettyprint, ...]) \tWrite G in GEXF format to path.\n",
      "relabel_gexf_graph(G) \tRelabel graph using \u201clabel\u201d node keyword for node label.\n",
      "\n",
      "GML \n",
      "#\u201cGML, the G>raph Modelling Language, is our proposal for a portable file format for graphs. GML\u2019s key features are portability, simple syntax, extensibility and flexibility. A GML file consists of a hierarchical key-value lists. Graphs can be annotated with arbitrary data structures. The idea for a common file format was born at the GD\u201895; this proposal is the outcome of many discussions. GML is the standard file format in the Graphlet graph editor system. It has been overtaken and adapted by several other systems for drawing graphs.\u201d\n",
      "read_gml(path[, label, destringizer]) \tRead graph in GML format from path.\n",
      "write_gml(G, path[, stringizer]) \tWrite a graph G in GML format to the file or file handle path.\n",
      "parse_gml(lines[, label, destringizer]) \tParse GML graph from a string or iterable.\n",
      "generate_gml(G[, stringizer]) \tGenerate a single entry of the graph G in GML format.\n",
      "literal_destringizer(rep) \tConvert a Python literal to the value it represents.\n",
      "literal_stringizer(value) \tConvert a value to a Python literal in GML representation.\n",
      "\n",
      "Pickle \n",
      "read_gpickle(path) \tRead graph object in Python pickle format.\n",
      "write_gpickle(G, path[, protocol]) \tWrite graph in Python pickle format.\n",
      "\n",
      "GraphML \n",
      "read_graphml(path[, node_type]) \tRead graph in GraphML format from path.\n",
      "write_graphml(G, path[, encoding, prettyprint]) \tWrite G in GraphML XML format to path\n",
      "\n",
      "'''\n",
      "\n",
      "\n",
      "'''\n",
      "JSON \n",
      "node_link_data(G[, attrs]) \tReturn data in node-link format that is suitable for JSON serialization and use in Javascript documents.\n",
      "node_link_graph(data[, directed, ...]) \tReturn graph from node-link data format.\n",
      "adjacency_data(G[, attrs]) \tReturn data in adjacency format that is suitable for JSON serialization and use in Javascript documents.\n",
      "adjacency_graph(data[, directed, ...]) \tReturn graph from adjacency data format.\n",
      "tree_data(G, root[, attrs]) \tReturn data in tree format that is suitable for JSON serialization and use in Javascript documents.\n",
      "tree_graph(data[, attrs]) \tReturn graph from tree data format.\n",
      "'''\n",
      "from networkx.readwrite import json_graph\n",
      "G = nx.Graph([(1,2)])\n",
      "data = json_graph.node_link_data(G)\n",
      "#To serialize with json\n",
      "import json\n",
      "s = json.dumps(data)\n",
      "print s\n",
      "\n",
      "\n",
      "from networkx.readwrite import json_graph\n",
      "G = nx.Graph([(1,2)])\n",
      "data = json_graph.node_link_data(G)\n",
      "H = json_graph.node_link_graph(data)\n",
      "print H\n",
      "\n",
      "from networkx.readwrite import json_graph\n",
      "G = nx.Graph([(1,2)])\n",
      "data = json_graph.adjacency_data(G)\n",
      "#To serialize with json\n",
      "import json\n",
      "s = json.dumps(data)\n",
      "print s\n"
     ],
     "language": "python",
     "metadata": {},
     "outputs": [
      {
       "output_type": "stream",
       "stream": "stdout",
       "text": [
        "0 1 2 3\n",
        "1 2 3\n",
        "2 3\n",
        "3 4\n",
        "4 5\n",
        "5 6\n",
        "6\n",
        "{\"directed\": false, \"graph\": [], \"nodes\": [{\"id\": 1}, {\"id\": 2}], \"links\": [{\"source\": 0, \"target\": 1}], \"multigraph\": false}\n",
        "\n",
        "{\"directed\": false, \"graph\": [], \"nodes\": [{\"id\": 1}, {\"id\": 2}], \"adjacency\": [[{\"id\": 2}], [{\"id\": 1}]], \"multigraph\": false}\n"
       ]
      }
     ],
     "prompt_number": 23
    },
    {
     "cell_type": "code",
     "collapsed": false,
     "input": [],
     "language": "python",
     "metadata": {},
     "outputs": []
    },
    {
     "cell_type": "code",
     "collapsed": false,
     "input": [],
     "language": "python",
     "metadata": {},
     "outputs": []
    },
    {
     "cell_type": "markdown",
     "metadata": {},
     "source": [
      "\n",
      "\n",
      "\n",
      "LEDA \n",
      "read_leda(path[, encoding]) \tRead graph in LEDA format from path.\n",
      "parse_leda(lines) \tRead graph in LEDA format from string or iterable.\n",
      "\n",
      "YAML \n",
      "read_yaml(path) \tRead graph in YAML format from path.\n",
      "write_yaml(G, path[, encoding]) \tWrite graph G in YAML format to path.\n",
      "\n",
      "SparseGraph6 \n",
      "Graph6\n",
      "parse_graph6(string) \tRead a simple undirected graph in graph6 format from string.\n",
      "read_graph6(path) \tRead simple undirected graphs in graph6 format from path.\n",
      "generate_graph6(G[, nodes, header]) \tGenerate graph6 format string from a simple undirected graph.\n",
      "write_graph6(G, path[, nodes, header]) \tWrite a simple undirected graph to path in graph6 format.\n",
      "Sparse6\n",
      "parse_sparse6(string) \tRead an undirected graph in sparse6 format from string.\n",
      "read_sparse6(path) \tRead an undirected graph in sparse6 format from path.\n",
      "generate_sparse6(G[, nodes, header]) \tGenerate sparse6 format string from an undirected graph.\n",
      "write_sparse6(G, path[, nodes, header]) \tWrite graph G to given path in sparse6 format.\n",
      "\n",
      "\n",
      "Pajek \n",
      "read_pajek(path[, encoding]) \tRead graph in Pajek format from path.\n",
      "write_pajek(G, path[, encoding]) \tWrite graph in Pajek format to path.\n",
      "parse_pajek(lines) \tParse Pajek format graph from string or iterable.\n",
      "\n",
      "GIS Shapefile\n",
      "read_shp(path[, simplify]) \tGenerates a networkx.DiGraph from shapefiles.\n",
      "write_shp(G, outdir) \tWrites a networkx.DiGraph to two shapefiles, edges and nodes."
     ]
    },
    {
     "cell_type": "code",
     "collapsed": false,
     "input": [],
     "language": "python",
     "metadata": {},
     "outputs": []
    },
    {
     "cell_type": "code",
     "collapsed": false,
     "input": [],
     "language": "python",
     "metadata": {},
     "outputs": []
    },
    {
     "cell_type": "code",
     "collapsed": false,
     "input": [],
     "language": "python",
     "metadata": {},
     "outputs": []
    },
    {
     "cell_type": "code",
     "collapsed": false,
     "input": [],
     "language": "python",
     "metadata": {},
     "outputs": []
    },
    {
     "cell_type": "code",
     "collapsed": false,
     "input": [],
     "language": "python",
     "metadata": {},
     "outputs": []
    },
    {
     "cell_type": "code",
     "collapsed": false,
     "input": [],
     "language": "python",
     "metadata": {},
     "outputs": []
    },
    {
     "cell_type": "heading",
     "level": 1,
     "metadata": {},
     "source": [
      "\u4e09\u3001\u8c03\u7528\u56fe\u7b97\u6cd5"
     ]
    },
    {
     "cell_type": "code",
     "collapsed": false,
     "input": [
      "path=nx.all_pairs_shortest_path(G)     #\u8c03\u7528\u591a\u6e90\u6700\u77ed\u8def\u5f84\u7b97\u6cd5\uff0c\u8ba1\u7b97\u56feG\u6240\u6709\u8282\u70b9\u95f4\u7684\u6700\u77ed\u8def\u5f84\n",
      "print path[0][2]                                     #\u8f93\u51fa\u8282\u70b90\u30012\u4e4b\u95f4\u7684\u6700\u77ed\u8def\u5f84\u5e8f\u5217\uff1a [0, 1, 2]"
     ],
     "language": "python",
     "metadata": {},
     "outputs": [
      {
       "output_type": "stream",
       "stream": "stdout",
       "text": [
        "[0, 1, 2]\n"
       ]
      }
     ],
     "prompt_number": 14
    },
    {
     "cell_type": "heading",
     "level": 1,
     "metadata": {},
     "source": [
      "\u7edf\u8ba1\u6307\u6807\u8ba1\u7b97"
     ]
    },
    {
     "cell_type": "heading",
     "level": 3,
     "metadata": {},
     "source": [
      "\u4e00\u3001\u5ea6\u3001\u5ea6\u5206\u5e03"
     ]
    },
    {
     "cell_type": "code",
     "collapsed": false,
     "input": [
      "import networkx as nx\n",
      "G = nx.random_graphs.barabasi_albert_graph(1000,3)   #\u751f\u6210\u4e00\u4e2an=1000\uff0cm=3\u7684BA\u65e0\u6807\u5ea6\u7f51\u7edc\n",
      "print G.degree(0)                                   #\u8fd4\u56de\u67d0\u4e2a\u8282\u70b9\u7684\u5ea6\n",
      "#print G.degree()                                    #\u8fd4\u56de\u6240\u6709\u8282\u70b9\u7684\u5ea6\n",
      "#print nx.degree_histogram(G)    #\u8fd4\u56de\u56fe\u4e2d\u6240\u6709\u8282\u70b9\u7684\u5ea6\u5206\u5e03\u5e8f\u5217\uff08\u4ece1\u81f3\u6700\u5927\u5ea6\u7684\u51fa\u73b0\u9891\u6b21\uff09"
     ],
     "language": "python",
     "metadata": {},
     "outputs": [
      {
       "output_type": "stream",
       "stream": "stdout",
       "text": [
        "47\n"
       ]
      }
     ],
     "prompt_number": 18
    },
    {
     "cell_type": "heading",
     "level": 3,
     "metadata": {},
     "source": [
      "\u4e8c\u3001\u7fa4\u805a\u7cfb\u6570"
     ]
    },
    {
     "cell_type": "code",
     "collapsed": false,
     "input": [
      "nx.average_clustering(G) #\u5e73\u5747\u7fa4\u805a\u7cfb\u6570\u7684\u8ba1\u7b97\uff0c\n",
      "#nx.clustering(G) #\u8ba1\u7b97\u5404\u4e2a\u8282\u70b9\u7684\u7fa4\u805a\u7cfb\u6570\u3002"
     ],
     "language": "python",
     "metadata": {},
     "outputs": [
      {
       "metadata": {},
       "output_type": "pyout",
       "prompt_number": 21,
       "text": [
        "0.029511448953471735"
       ]
      }
     ],
     "prompt_number": 21
    },
    {
     "cell_type": "heading",
     "level": 3,
     "metadata": {},
     "source": [
      "\u4e09\u3001\u76f4\u5f84\u548c\u5e73\u5747\u8ddd\u79bb"
     ]
    },
    {
     "cell_type": "code",
     "collapsed": false,
     "input": [
      "nx.diameter(G)#\u56feG\u7684\u76f4\u5f84\uff08\u6700\u957f\u6700\u77ed\u8def\u5f84\u7684\u957f\u5ea6\uff09\uff0c\n",
      "#nx.average_shortest_path_length(G)#\u56feG\u6240\u6709\u8282\u70b9\u95f4\u5e73\u5747\u6700\u77ed\u8def\u5f84\u957f\u5ea6\u3002"
     ],
     "language": "python",
     "metadata": {},
     "outputs": [
      {
       "metadata": {},
       "output_type": "pyout",
       "prompt_number": 22,
       "text": [
        "3.5398758758758757"
       ]
      }
     ],
     "prompt_number": 22
    },
    {
     "cell_type": "heading",
     "level": 3,
     "metadata": {},
     "source": [
      "\u56db\u3001\u5339\u914d\u6027"
     ]
    },
    {
     "cell_type": "code",
     "collapsed": false,
     "input": [
      "nx.degree_assortativity(G) \u65b9\u6cd5\u53ef\u4ee5\u8ba1\u7b97\u4e00\u4e2a\u56fe\u7684\u5ea6\u5339\u914d\u6027\u3002"
     ],
     "language": "python",
     "metadata": {},
     "outputs": [],
     "prompt_number": 17
    },
    {
     "cell_type": "heading",
     "level": 1,
     "metadata": {},
     "source": [
      "\u4e94\u3001\u4e2d\u5fc3\u6027(Centrality)"
     ]
    },
    {
     "cell_type": "heading",
     "level": 3,
     "metadata": {},
     "source": [
      "1.\u5ea6(Degree)\u4e2d\u5fc3\u6027"
     ]
    },
    {
     "cell_type": "code",
     "collapsed": false,
     "input": [
      "nx.degree_centrality(G)#Compute the degree centrality for nodes.\n",
      "nx.in_degree_centrality(G)#Compute the in-degree centrality for nodes.\n",
      "nx.out_degree_centrality(G)#Compute the out-degree centrality for nodes."
     ],
     "language": "python",
     "metadata": {},
     "outputs": [
      {
       "metadata": {},
       "output_type": "pyout",
       "prompt_number": 27,
       "text": [
        "{1: 0.0, 2: 0.5, 3: 0.5}"
       ]
      }
     ],
     "prompt_number": 27
    },
    {
     "cell_type": "heading",
     "level": 3,
     "metadata": {},
     "source": [
      "2.\u63a5\u8fd1\u4e2d\u5fc3\u6027Closeness"
     ]
    },
    {
     "cell_type": "code",
     "collapsed": false,
     "input": [
      "nx.closeness_centrality(G, u=None, distance=None, normalized=True)"
     ],
     "language": "python",
     "metadata": {},
     "outputs": [
      {
       "metadata": {},
       "output_type": "pyout",
       "prompt_number": 29,
       "text": [
        "{1: 0.0, 2: 0.5, 3: 0.5}"
       ]
      }
     ],
     "prompt_number": 29
    },
    {
     "cell_type": "heading",
     "level": 3,
     "metadata": {},
     "source": [
      "3.\u4e2d\u95f4\u4e2d\u5fc3\u6027Betweenness"
     ]
    },
    {
     "cell_type": "code",
     "collapsed": false,
     "input": [
      "betweenness_centrality(G[, k, normalized, ...])#Compute the shortest-path betweenness centrality for nodes.\n",
      "edge_betweenness_centrality(G[, k, ...])#Compute betweenness centrality for edges."
     ],
     "language": "python",
     "metadata": {},
     "outputs": []
    },
    {
     "cell_type": "heading",
     "level": 3,
     "metadata": {},
     "source": [
      "4.\u7279\u5f81\u5411\u91cf\u4e2d\u5fc3\u6027Eigenvector"
     ]
    },
    {
     "cell_type": "code",
     "collapsed": false,
     "input": [
      "eigenvector_centrality(G[, max_iter, tol, ...])#Compute the eigenvector centrality for the graph G.\n",
      "eigenvector_centrality_numpy(G[, weight])#Compute the eigenvector centrality for the graph G.\n",
      "katz_centrality(G[, alpha, beta, max_iter, ...])#Compute the Katz centrality for the nodes of the graph G.\n",
      "katz_centrality_numpy(G[, alpha, beta, ...])#Compute the Katz centrality for the graph G."
     ],
     "language": "python",
     "metadata": {},
     "outputs": []
    },
    {
     "cell_type": "heading",
     "level": 3,
     "metadata": {},
     "source": [
      "5.\u7fa4\u4f53\u4e2d\u5fc3\u6027Communicability"
     ]
    },
    {
     "cell_type": "code",
     "collapsed": false,
     "input": [
      "communicability(G)#Return communicability between all pairs of nodes in G.\n",
      "communicability_exp(G)#Return communicability between all pairs of nodes in G.\n",
      "communicability_centrality(G)#Return communicability centrality for each node in G.\n",
      "communicability_centrality_exp(G)#Return the communicability centrality for each node of G\n",
      "communicability_betweenness_centrality(G[, ...])#Return communicability betweenness for all pairs of nodes in G.\n",
      "estrada_index(G)#Return the Estrada index of a the graph G."
     ],
     "language": "python",
     "metadata": {},
     "outputs": []
    },
    {
     "cell_type": "heading",
     "level": 3,
     "metadata": {},
     "source": [
      "Current-Flow Betweenness"
     ]
    },
    {
     "cell_type": "code",
     "collapsed": false,
     "input": [],
     "language": "python",
     "metadata": {},
     "outputs": []
    },
    {
     "cell_type": "heading",
     "level": 3,
     "metadata": {},
     "source": [
      "Current Flow Closeness"
     ]
    },
    {
     "cell_type": "code",
     "collapsed": false,
     "input": [],
     "language": "python",
     "metadata": {},
     "outputs": []
    },
    {
     "cell_type": "heading",
     "level": 3,
     "metadata": {},
     "source": [
      "Load"
     ]
    },
    {
     "cell_type": "code",
     "collapsed": false,
     "input": [
      "load_centrality(G[, v, cutoff, normalized, ...])#Compute load centrality for nodes.\n",
      "edge_load(G[, nodes, cutoff])#Compute edge load."
     ],
     "language": "python",
     "metadata": {},
     "outputs": []
    },
    {
     "cell_type": "heading",
     "level": 3,
     "metadata": {},
     "source": [
      "Dispersion"
     ]
    },
    {
     "cell_type": "code",
     "collapsed": false,
     "input": [
      "dispersion(G[, u, v, normalized, alpha, b, c])#Calculate dispersion between u and v in G."
     ],
     "language": "python",
     "metadata": {},
     "outputs": []
    },
    {
     "cell_type": "heading",
     "level": 1,
     "metadata": {},
     "source": [
      "\u7f51\u7edc\u6f14\u5316\u6a21\u578b"
     ]
    },
    {
     "cell_type": "raw",
     "metadata": {},
     "source": [
      "NetworkX\u63d0\u4f9b\u4e864\u79cd\u5e38\u89c1\u7f51\u7edc\u7684\u5efa\u6a21\u65b9\u6cd5\uff0c\u5206\u522b\u662f\uff1a\u89c4\u5219\u56fe\uff0cER\u968f\u673a\u56fe\uff0cWS\u5c0f\u4e16\u754c\u7f51\u7edc\u548cBA\u65e0\u6807\u5ea6\u7f51\u7edc\u3002http://blog.sciencenet.cn/blog-404069-337689.html"
     ]
    },
    {
     "cell_type": "heading",
     "level": 3,
     "metadata": {},
     "source": [
      "\u4e00\u3001\u89c4\u5219\u56fe"
     ]
    },
    {
     "cell_type": "raw",
     "metadata": {},
     "source": [
      "\u751f\u6210\u4e00\u4e2a\u542b\u6709n\u4e2a\u8282\u70b9\uff0c\u6bcf\u4e2a\u8282\u70b9\u6709d\u4e2a\u90bb\u5c45\u8282\u70b9\u7684\u89c4\u5219\u56fe\u3002"
     ]
    },
    {
     "cell_type": "code",
     "collapsed": false,
     "input": [
      "import networkx as nx\n",
      "import matplotlib.pyplot as plt\n",
      "RG = nx.random_graphs.random_regular_graph(3,20)  #\u751f\u6210\u5305\u542b20\u4e2a\u8282\u70b9\u3001\u6bcf\u4e2a\u8282\u70b9\u67093\u4e2a\u90bb\u5c45\u7684\u89c4\u5219\u56feRG\n",
      "pos = nx.spectral_layout(RG)          #\u5b9a\u4e49\u4e00\u4e2a\u5e03\u5c40\uff0c\u6b64\u5904\u91c7\u7528\u4e86spectral\u5e03\u5c40\u65b9\u5f0f\uff0c\u540e\u53d8\u8fd8\u4f1a\u4ecb\u7ecd\u5176\u5b83\u5e03\u5c40\u65b9\u5f0f\uff0c\u6ce8\u610f\u56fe\u5f62\u4e0a\u7684\u533a\u522b\n",
      "nx.draw(RG,pos,with_labels=False,node_size = 30)  #\u7ed8\u5236\u89c4\u5219\u56fe\u7684\u56fe\u5f62\uff0cwith_labels\u51b3\u5b9a\u8282\u70b9\u662f\u975e\u5e26\u6807\u7b7e\uff08\u7f16\u53f7\uff09\uff0cnode_size\u662f\u8282\u70b9\u7684\u76f4\u5f84\n",
      "plt.show()  #\u663e\u793a\u56fe\u5f62"
     ],
     "language": "python",
     "metadata": {},
     "outputs": [],
     "prompt_number": 31
    },
    {
     "cell_type": "heading",
     "level": 3,
     "metadata": {},
     "source": [
      "\u4e8c\u3001ER\u968f\u673a\u56fe"
     ]
    },
    {
     "cell_type": "raw",
     "metadata": {},
     "source": [
      "ER\u968f\u673a\u56fe\u662f\u65e9\u671f\u7814\u7a76\u5f97\u6bd4\u8f83\u591a\u7684\u4e00\u7c7b\u201c\u590d\u6742\u201d\u7f51\u7edc\uff0c\u8fd9\u4e2a\u6a21\u578b\u7684\u57fa\u672c\u601d\u60f3\u662f\u4ee5\u6982\u7387p\u8fde\u63a5N\u4e2a\u8282\u70b9\u4e2d\u7684\u6bcf\u4e00\u5bf9\u8282\u70b9\u3002"
     ]
    },
    {
     "cell_type": "code",
     "collapsed": false,
     "input": [
      "import networkx as nx\n",
      "import matplotlib.pyplot as plt\n",
      "ER = nx.random_graphs.erdos_renyi_graph(20,0.2)  #\u751f\u6210\u5305\u542b20\u4e2a\u8282\u70b9\u3001\u4ee5\u6982\u73870.2\u8fde\u63a5\u7684\u968f\u673a\u56fe\n",
      "pos = nx.shell_layout(ER)          #\u5b9a\u4e49\u4e00\u4e2a\u5e03\u5c40\uff0c\u6b64\u5904\u91c7\u7528\u4e86shell\u5e03\u5c40\u65b9\u5f0f\n",
      "nx.draw(ER,pos,with_labels=False,node_size = 30) \n",
      "plt.show()"
     ],
     "language": "python",
     "metadata": {},
     "outputs": [],
     "prompt_number": 32
    },
    {
     "cell_type": "heading",
     "level": 3,
     "metadata": {},
     "source": [
      "\u4e09\u3001WS\u5c0f\u4e16\u754c\u7f51\u7edc"
     ]
    },
    {
     "cell_type": "raw",
     "metadata": {},
     "source": [
      "\u751f\u6210\u4e00\u4e2a\u542b\u6709n\u4e2a\u8282\u70b9\u3001\u6bcf\u4e2a\u8282\u70b9\u6709k\u4e2a\u90bb\u5c45\u3001\u4ee5\u6982\u7387p\u968f\u673a\u5316\u91cd\u8fde\u8fb9\u7684WS\u5c0f\u4e16\u754c\u7f51\u7edc\uff0c"
     ]
    },
    {
     "cell_type": "code",
     "collapsed": false,
     "input": [
      "import networkx as nx\n",
      "import matplotlib.pyplot as plt\n",
      "WS = nx.random_graphs.watts_strogatz_graph(20,4,0.3)  #\u751f\u6210\u5305\u542b20\u4e2a\u8282\u70b9\u3001\u6bcf\u4e2a\u8282\u70b94\u4e2a\u8fd1\u90bb\u3001\u968f\u673a\u5316\u91cd\u8fde\u6982\u7387\u4e3a0.3\u7684\u5c0f\u4e16\u754c\u7f51\u7edc\n",
      "pos = nx.circular_layout(WS)                          #\u5b9a\u4e49\u4e00\u4e2a\u5e03\u5c40\uff0c\u6b64\u5904\u91c7\u7528\u4e86circular\u5e03\u5c40\u65b9\u5f0f\n",
      "nx.draw(WS,pos,with_labels=False,node_size = 30)  #\u7ed8\u5236\u56fe\u5f62\n",
      "plt.show()"
     ],
     "language": "python",
     "metadata": {},
     "outputs": [],
     "prompt_number": 33
    },
    {
     "cell_type": "heading",
     "level": 3,
     "metadata": {},
     "source": [
      "\u56db\u3001BA\u65e0\u6807\u5ea6\u7f51\u7edc"
     ]
    },
    {
     "cell_type": "raw",
     "metadata": {},
     "source": [
      "\u751f\u6210\u4e00\u4e2a\u542b\u6709n\u4e2a\u8282\u70b9\u3001\u6bcf\u6b21\u52a0\u5165m\u6761\u8fb9\u7684BA\u65e0\u6807\u5ea6\u7f51\u7edc"
     ]
    },
    {
     "cell_type": "code",
     "collapsed": false,
     "input": [
      "import networkx as nx\n",
      "import matplotlib.pyplot as plt\n",
      "BA= nx.random_graphs.barabasi_albert_graph(20,1)  #\u751f\u6210n=20\u3001m=1\u7684BA\u65e0\u6807\u5ea6\u7f51\u7edc\n",
      "pos = nx.spring_layout(BA)          #\u5b9a\u4e49\u4e00\u4e2a\u5e03\u5c40\uff0c\u6b64\u5904\u91c7\u7528\u4e86spring\u5e03\u5c40\u65b9\u5f0f\n",
      "nx.draw(BA,pos,with_labels=False,node_size = 30)  #\u7ed8\u5236\u56fe\u5f62\n",
      "plt.show()"
     ],
     "language": "python",
     "metadata": {},
     "outputs": [],
     "prompt_number": 34
    },
    {
     "cell_type": "heading",
     "level": 1,
     "metadata": {},
     "source": [
      "\u4e8c\u5206\u56fe"
     ]
    },
    {
     "cell_type": "heading",
     "level": 3,
     "metadata": {},
     "source": [
      "\u4e00\u3001\u5efa\u7acb\u4e8c\u5206\u56fe"
     ]
    },
    {
     "cell_type": "code",
     "collapsed": false,
     "input": [
      "import networkx as nx\n",
      "B = nx.Graph()\n",
      "#\u6dfb\u52a0\u4e00\u4e2a\u9879\u76ee101\uff0c\u5b83\u67093\u4e2a\u53c2\u4e0e\u8005\uff1a201,202,203\n",
      "B.add_edge(101,201)\n",
      "B.add_edge(101,202)\n",
      "B.add_edge(101,203)\n",
      "#\u6dfb\u52a0\u4e00\u4e2a\u9879\u76ee102\uff0c\u5b83\u67092\u4e2a\u53c2\u4e0e\u8005\uff1a203,202,2034\n",
      "B.add_edge(102,203)\n",
      "B.add_edge(102,204)"
     ],
     "language": "python",
     "metadata": {},
     "outputs": [],
     "prompt_number": 40
    },
    {
     "cell_type": "raw",
     "metadata": {},
     "source": [
      "--  networkx.generators.classic.complete_bipartite_graph(n1, n2, create_using=None)\n",
      "\u5efa\u7acb\u4e00\u4e2a\u5b8c\u5168\u4e8c\u5206\u56fe\n",
      "--  networkx.generators.bipartite.bipartite_configuration_model (aseq, bseq, create_using=None, seed=None)\n",
      "\u6839\u636e\u4e24\u4e2a\u5ea6\u5e8f\u5217\u5efa\u7acb\u4e00\u4e2a\u4e8c\u5206\u56fe\n",
      "--  networkx.generators.bipartite.bipartite_random_regular_graph(d, n, create_using=None, seed=None)\n",
      "\u5efa\u7acb\u4e00\u4e2a\u968f\u673a\u7684\u89c4\u5219\u4e8c\u5206\u56fe\n",
      "--  networkx.generators.bipartite.bipartite_preferential_attachment_graph(aseq, p, create_using=None, seed=None)\n",
      "\u5efa\u7acb\u4e00\u4e2a\u4f18\u5148\u8fde\u63a5\u7684\u4e8c\u5206\u56fe\n",
      "--  networkx.generators.bipartite.bipartite_havel_hakimi_graph(aseq, bseq, create_using=None)\n",
      "\u6839\u636e\u4e24\u4e2a\u5ea6\u5e8f\u5217\u5efa\u7acb\u4e00\u4e2aHavel-Hakimi\u6a21\u5f0f\u7684\u4e8c\u5206\u56fe\uff08\u4e0b\u9762\u4e24\u4e2a\u6a21\u578b\u7c7b\u4f3c\uff0c\u6211\u6ca1\u6709\u63a5\u89e6\u8fc7\u8fd9\u4e2a\u6a21\u578b\uff0c\u4e0d\u592a\u7406\u89e3\u5177\u4f53\u542b\u4e49\uff09\n",
      "--  networkx.generators.bipartite.bipartite_reverse_havel_hakimi_graph(aseq, bseq, create_using=None)\n",
      "--  networkx.generators.bipartite.bipartite_alternating_havel_hakimi_graph(aseq, bseq, create_using=None)"
     ]
    },
    {
     "cell_type": "heading",
     "level": 3,
     "metadata": {},
     "source": [
      "\u4e8c\u3001\u68c0\u6d4b\u56fe\u7684\u4e8c\u5206\u6027"
     ]
    },
    {
     "cell_type": "code",
     "collapsed": false,
     "input": [
      "nx.is_bipartite(B)#\u65b9\u6cd5\u53ef\u4ee5\u68c0\u6d4b\u4e00\u4e2a\u56fe\u662f\u5426\u662f\u4e8c\u5206\u56fe"
     ],
     "language": "python",
     "metadata": {},
     "outputs": [
      {
       "metadata": {},
       "output_type": "pyout",
       "prompt_number": 43,
       "text": [
        "True"
       ]
      }
     ],
     "prompt_number": 43
    },
    {
     "cell_type": "code",
     "collapsed": false,
     "input": [
      "R = nx.random_graphs.gnp_random_graph(100,0.2)\n",
      "nx.is_bipartite(R)"
     ],
     "language": "python",
     "metadata": {},
     "outputs": []
    },
    {
     "cell_type": "heading",
     "level": 3,
     "metadata": {},
     "source": [
      "\u4e09\u3001\u4e8c\u5206\u56fe\u7684\u6295\u5f71"
     ]
    },
    {
     "cell_type": "code",
     "collapsed": false,
     "input": [
      "#\u901a\u8fc7\u5411\u53c2\u4e0e\u8005\u8282\u70b9\u6295\u5f71\u6216\u5411\u9879\u76ee\u8282\u70b9\u6295\u5f71\u8f6c\u6362\u4e3a\u4e00\u4e2a\u5355\u5206\u56fe\n",
      "NSet = nx.bipartite_sets(B)   #\u5c06\u4e8c\u5206\u56fe\u4e2d\u7684\u4e24\u7c7b\u8282\u70b9\u5206\u522b\u63d0\u53d6\u51fa\u6765\n",
      "Act = nx.project(B,NSet[0])     #\u5411\u9879\u76ee\u8282\u70b9\u6295\u5f71\n",
      "Actor = nx.project(B,NSet[1])  #\u5411\u53c2\u4e0e\u8005\u8282\u70b9\u6295\u5f71\n",
      "print Act.edges()  #\u8f93\u51fa [(101, 102)]\n",
      "print Actor.edges()   #\u8f93\u51fa [(201, 202), (201, 203), (202, 203), (203, 204)]"
     ],
     "language": "python",
     "metadata": {},
     "outputs": [
      {
       "ename": "AttributeError",
       "evalue": "'module' object has no attribute 'bipartite_sets'",
       "output_type": "pyerr",
       "traceback": [
        "\u001b[1;31m---------------------------------------------------------------------------\u001b[0m\n\u001b[1;31mAttributeError\u001b[0m                            Traceback (most recent call last)",
        "\u001b[1;32m<ipython-input-45-3038aa127c3e>\u001b[0m in \u001b[0;36m<module>\u001b[1;34m()\u001b[0m\n\u001b[0;32m      1\u001b[0m \u001b[1;31m#\u901a\u8fc7\u5411\u53c2\u4e0e\u8005\u8282\u70b9\u6295\u5f71\u6216\u5411\u9879\u76ee\u8282\u70b9\u6295\u5f71\u8f6c\u6362\u4e3a\u4e00\u4e2a\u5355\u5206\u56fe\u001b[0m\u001b[1;33m\u001b[0m\u001b[1;33m\u001b[0m\u001b[0m\n\u001b[1;32m----> 2\u001b[1;33m \u001b[0mNSet\u001b[0m \u001b[1;33m=\u001b[0m \u001b[0mnx\u001b[0m\u001b[1;33m.\u001b[0m\u001b[0mbipartite_sets\u001b[0m\u001b[1;33m(\u001b[0m\u001b[0mB\u001b[0m\u001b[1;33m)\u001b[0m   \u001b[1;31m#\u5c06\u4e8c\u5206\u56fe\u4e2d\u7684\u4e24\u7c7b\u8282\u70b9\u5206\u522b\u63d0\u53d6\u51fa\u6765\u001b[0m\u001b[1;33m\u001b[0m\u001b[0m\n\u001b[0m\u001b[0;32m      3\u001b[0m \u001b[0mAct\u001b[0m \u001b[1;33m=\u001b[0m \u001b[0mnx\u001b[0m\u001b[1;33m.\u001b[0m\u001b[0mproject\u001b[0m\u001b[1;33m(\u001b[0m\u001b[0mB\u001b[0m\u001b[1;33m,\u001b[0m\u001b[0mNSet\u001b[0m\u001b[1;33m[\u001b[0m\u001b[1;36m0\u001b[0m\u001b[1;33m]\u001b[0m\u001b[1;33m)\u001b[0m     \u001b[1;31m#\u5411\u9879\u76ee\u8282\u70b9\u6295\u5f71\u001b[0m\u001b[1;33m\u001b[0m\u001b[0m\n\u001b[0;32m      4\u001b[0m \u001b[0mActor\u001b[0m \u001b[1;33m=\u001b[0m \u001b[0mnx\u001b[0m\u001b[1;33m.\u001b[0m\u001b[0mproject\u001b[0m\u001b[1;33m(\u001b[0m\u001b[0mB\u001b[0m\u001b[1;33m,\u001b[0m\u001b[0mNSet\u001b[0m\u001b[1;33m[\u001b[0m\u001b[1;36m1\u001b[0m\u001b[1;33m]\u001b[0m\u001b[1;33m)\u001b[0m  \u001b[1;31m#\u5411\u53c2\u4e0e\u8005\u8282\u70b9\u6295\u5f71\u001b[0m\u001b[1;33m\u001b[0m\u001b[0m\n\u001b[0;32m      5\u001b[0m \u001b[1;32mprint\u001b[0m \u001b[0mAct\u001b[0m\u001b[1;33m.\u001b[0m\u001b[0medges\u001b[0m\u001b[1;33m(\u001b[0m\u001b[1;33m)\u001b[0m  \u001b[1;31m#\u8f93\u51fa [(101, 102)]\u001b[0m\u001b[1;33m\u001b[0m\u001b[0m\n",
        "\u001b[1;31mAttributeError\u001b[0m: 'module' object has no attribute 'bipartite_sets'"
       ]
      }
     ],
     "prompt_number": 45
    },
    {
     "cell_type": "heading",
     "level": 3,
     "metadata": {},
     "source": [
      "\u56db\u3001\u901a\u8fc7\u6d3e\u7cfb\u63d0\u53d6\u6784\u9020\u4e8c\u5206\u56fe"
     ]
    },
    {
     "cell_type": "raw",
     "metadata": {},
     "source": [
      "NetworkX\u63d0\u4f9b\u7684networkx.make_clique_bipartite\u65b9\u6cd5\u53ef\u4ee5\u4ece\u56fe\u4e2d\u67e5\u627e\u6d3e\u7cfb\uff0c\u7136\u540e\u5c06\u4e00\u4e2a\u6d3e\u7cfb\u4f5c\u4e3a\u4e00\u4e2a\u9879\u76ee\u8282\u70b9\u5e76\u548c\u8be5\u6d3e\u7cfb\u4e2d\u7684\u8282\u70b9\u5efa\u7acb\u8fde\u63a5\uff0c\u4ece\u800c\u6784\u9020\u4e00\u4e2a\u4e8c\u5206\u56fe\u3002\u5b83\u662f\u4e8c\u5206\u56fe\u5411\u53c2\u4e0e\u8005\u8282\u70b9\u6295\u5f71\u7684\u9006\u8fc7\u7a0b"
     ]
    },
    {
     "cell_type": "code",
     "collapsed": false,
     "input": [
      "G = nx.make_clique_bipartite(Actor)\n",
      "print G.edges()  #\u8f93\u51fa\uff1a[(201, -1), (202, -1), (203, -2), (203, -1), (204, -2)]"
     ],
     "language": "python",
     "metadata": {},
     "outputs": [
      {
       "ename": "NameError",
       "evalue": "name 'Actor' is not defined",
       "output_type": "pyerr",
       "traceback": [
        "\u001b[1;31m---------------------------------------------------------------------------\u001b[0m\n\u001b[1;31mNameError\u001b[0m                                 Traceback (most recent call last)",
        "\u001b[1;32m<ipython-input-46-02937822bc31>\u001b[0m in \u001b[0;36m<module>\u001b[1;34m()\u001b[0m\n\u001b[1;32m----> 1\u001b[1;33m \u001b[0mG\u001b[0m \u001b[1;33m=\u001b[0m \u001b[0mnx\u001b[0m\u001b[1;33m.\u001b[0m\u001b[0mmake_clique_bipartite\u001b[0m\u001b[1;33m(\u001b[0m\u001b[0mActor\u001b[0m\u001b[1;33m)\u001b[0m\u001b[1;33m\u001b[0m\u001b[0m\n\u001b[0m\u001b[0;32m      2\u001b[0m \u001b[1;32mprint\u001b[0m \u001b[0mG\u001b[0m\u001b[1;33m.\u001b[0m\u001b[0medges\u001b[0m\u001b[1;33m(\u001b[0m\u001b[1;33m)\u001b[0m  \u001b[1;31m#\u8f93\u51fa\uff1a[(201, -1), (202, -1), (203, -2), (203, -1), (204, -2)]\u001b[0m\u001b[1;33m\u001b[0m\u001b[0m\n",
        "\u001b[1;31mNameError\u001b[0m: name 'Actor' is not defined"
       ]
      }
     ],
     "prompt_number": 46
    },
    {
     "cell_type": "code",
     "collapsed": false,
     "input": [],
     "language": "python",
     "metadata": {},
     "outputs": []
    }
   ],
   "metadata": {}
  }
 ]
}