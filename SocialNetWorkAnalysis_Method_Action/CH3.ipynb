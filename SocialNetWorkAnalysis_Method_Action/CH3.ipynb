{
 "metadata": {
  "name": "",
  "signature": "sha256:d1ae4e1e609f691ec069bfc0ccb7b7bf64cf8661e45eb3cfec692febedd03c62"
 },
 "nbformat": 3,
 "nbformat_minor": 0,
 "worksheets": [
  {
   "cells": [
    {
     "cell_type": "heading",
     "level": 1,
     "metadata": {},
     "source": [
      "\u6eda\u96ea\u7403\u62bd\u6837\u6cd5"
     ]
    },
    {
     "cell_type": "code",
     "collapsed": false,
     "input": [
      "import sys\n",
      "import os\n",
      "import networkx as nx\n",
      "import urllib\n",
      "\n",
      "\n",
      "def read_lj_friends(g, name):\n",
      "    # fetch the friend-list from LiveJournal\n",
      "    response=urllib.urlopen('http://www.livejournal.com/misc/fdata.bml?user='+name)\n",
      "    for line in response.readlines():\n",
      "        #Comments in the response start with a '#'\n",
      "        if line.startswith('#'): continue \n",
      "        # the format is \"< name\" (incoming) or \"> name\" (outgoing)\n",
      "        parts=line.split()\n",
      "        #make sure that we don't have an empty line\n",
      "        if len(parts)==0: continue\n",
      "        #add the edge to the network\n",
      "        if parts[0]=='<': \n",
      "            g.add_edge(parts[1],name)\n",
      "        else:\n",
      "            g.add_edge(name,parts[1])\n",
      "\n",
      "def snowball_sampling(g, center, max_depth=1, current_depth=0, taboo_list=[]):\n",
      "    # if we have reached the depth limit of the search, bomb out.\n",
      "    print center, current_depth, max_depth, taboo_list\n",
      "    if current_depth==max_depth: \n",
      "        print 'out of depth'\n",
      "        return taboo_list\n",
      "    if center in taboo_list:\n",
      "        print 'taboo' \n",
      "        return taboo_list #we've been here before\n",
      "    else:\n",
      "        taboo_list.append(center) # we shall never return\n",
      "        \n",
      "    read_lj_friends(g, center)\n",
      "    \n",
      "    for node in g.neighbors(center):\n",
      "        taboo_list=snowball_sampling(g, node, current_depth=current_depth+1, max_depth=max_depth, taboo_list=taboo_list)\n",
      "    \n",
      "    return taboo_list\n",
      "\n",
      "def main():\n",
      "    g=net.Graph()\n",
      "   # read_lj_friends(g,'kozel_na_sakse')\n",
      "    snowball_sampling(g,'kozel_na_sakse') \n",
      "    nx.write_pajek(g,\"data/lj_friends.net\")\n",
      "\n",
      "if __name__ == '__main__':\n",
      "    main()"
     ],
     "language": "python",
     "metadata": {},
     "outputs": [
      {
       "output_type": "stream",
       "stream": "stdout",
       "text": [
        "kozel_na_sakse 0 1 []\n",
        "jenya_salaveya"
       ]
      },
      {
       "output_type": "stream",
       "stream": "stdout",
       "text": [
        " 1 1 ['kozel_na_sakse']\n",
        "out of depth\n",
        "husky_wardsa 1 1 ['kozel_na_sakse']\n",
        "out of depth\n",
        "vujurja 1 1 ['kozel_na_sakse']\n",
        "out of depth\n",
        "doctor_livsy 1 1 ['kozel_na_sakse']\n",
        "out of depth\n",
        "plastickfreakz 1 1 ['kozel_na_sakse']\n",
        "out of depth\n",
        "cr 1 1 ['kozel_na_sakse']\n",
        "out of depth\n",
        "cher_no_more 1 1 ['kozel_na_sakse']\n",
        "out of depth\n",
        "to_to_i_ono_to 1 1 ['kozel_na_sakse']\n",
        "out of depth\n",
        "letchikleha 1 1 ['kozel_na_sakse']\n",
        "out of depth\n",
        "dr_livsig 1 1 ['kozel_na_sakse']\n",
        "out of depth\n",
        "nikitosbro 1 1 ['kozel_na_sakse']\n",
        "out of depth\n",
        "zina_korzina 1 1 ['kozel_na_sakse']\n",
        "out of depth\n",
        "dachte 1 1 ['kozel_na_sakse']\n",
        "out of depth\n",
        "klari 1 1 ['kozel_na_sakse']\n",
        "out of depth\n",
        "tanyakotova 1 1 ['kozel_na_sakse']\n",
        "out of depth\n",
        "gingea 1 1 ['kozel_na_sakse']\n",
        "out of depth\n",
        "saper 1 1 ['kozel_na_sakse']\n",
        "out of depth\n",
        "dumjtio 1 1 ['kozel_na_sakse']\n",
        "out of depth\n",
        "periskop 1 1 ['kozel_na_sakse']\n",
        "out of depth\n",
        "usolt 1 1 ['kozel_na_sakse']\n",
        "out of depth\n",
        "solo_oboroten 1 1 ['kozel_na_sakse']\n",
        "out of depth\n",
        "sovarh 1 1 ['kozel_na_sakse']\n",
        "out of depth\n",
        "valerois 1 1 ['kozel_na_sakse']\n",
        "out of depth\n",
        "fartasssea 1 1 ['kozel_na_sakse']\n",
        "out of depth\n",
        "gde_moi_mozgi 1 1 ['kozel_na_sakse']\n",
        "out of depth\n",
        "kirulya 1 1 ['kozel_na_sakse']\n",
        "out of depth\n",
        "orteme_ru 1 1 ['kozel_na_sakse']\n",
        "out of depth\n",
        "pussbigeyesz 1 1 ['kozel_na_sakse']\n",
        "out of depth\n",
        "olimkasaz 1 1 ['kozel_na_sakse']\n",
        "out of depth\n",
        "ak_bara 1 1 ['kozel_na_sakse']\n",
        "out of depth\n",
        "jolita 1 1 ['kozel_na_sakse']\n",
        "out of depth\n",
        "cheese_people 1 1 ['kozel_na_sakse']\n",
        "out of depth\n",
        "ptfenix 1 1 ['kozel_na_sakse']\n",
        "out of depth\n",
        "guy_gomel 1 1 ['kozel_na_sakse']\n",
        "out of depth\n",
        "hamptonlanny 1 1 ['kozel_na_sakse']\n",
        "out of depth\n",
        "emjudob 1 1 ['kozel_na_sakse']\n",
        "out of depth\n",
        "olga_mama 1 1 ['kozel_na_sakse']\n",
        "out of depth\n",
        "oshestak 1 1 ['kozel_na_sakse']\n",
        "out of depth\n"
       ]
      }
     ],
     "prompt_number": 6
    },
    {
     "cell_type": "raw",
     "metadata": {},
     "source": [
      "\u4f20\u8bf4\u4e2d\u6700\u5feb\u7684python\u5b57\u5178\u6392\u5e8f\u65b9\u6cd5\n",
      "def sbv0(d,reverse=False):\n",
      "    return sorted(d.iteritems(), key=lambda (k,v): (v,k), reverse=reverse)\n",
      "def sbv1(d,reverse=False):\n",
      "    L = [(k,v) for (k,v) in d.iteritems()]\n",
      "    return sorted(L, key=lambda x: x[1] , reverse=reverse)\n",
      "def sbv2(d,reverse=False):\n",
      "    return sorted(d.items(), key=lambda x: x[1] , reverse=reverse)\n",
      "def sbv3(d,reverse=False):\n",
      "    L = ((k,v) for (k,v) in d.iteritems())\n",
      "    return sorted(L, key=lambda x: x[1] , reverse=reverse)\n",
      "def sbv4(d,reverse=False):\n",
      "    return sorted(d.iteritems(), key=lambda x: x[1] , reverse=reverse)\n",
      "def sbv5(d,reverse=False):\n",
      "    return sorted(d.iteritems(), key=itemgetter(1), reverse=True)\n",
      "\n",
      "from operator import itemgetter\n",
      "#D = dict(zip(range(100),range(100)))\n",
      "D = {'a':2, 'b':23, 'c':5, 'd':17, 'e':1}\n",
      "from profile import run\n",
      "run(\"for ii in xrange(10000):  sbv0(D, reverse=True)\")\n",
      "run(\"for ii in xrange(10000):  sbv1(D, reverse=True)\")\n",
      "run(\"for ii in xrange(10000):  sbv2(D, reverse=True)\")\n",
      "run(\"for ii in xrange(10000):  sbv3(D, reverse=True)\")\n",
      "run(\"for ii in xrange(10000):  sbv4(D, reverse=True)\")\n",
      "run(\"for ii in xrange(10000):  sbv5(D, reverse=True)\")"
     ]
    },
    {
     "cell_type": "code",
     "collapsed": false,
     "input": [
      "def sorted_map(items):\n",
      "    return sorted(items.iteritems(), key=itemgetter(1), reverse=True) "
     ],
     "language": "python",
     "metadata": {},
     "outputs": [],
     "prompt_number": 4
    },
    {
     "cell_type": "heading",
     "level": 1,
     "metadata": {},
     "source": [
      "\u7a0b\u5ea6\u4e2d\u5fc3\u6027"
     ]
    },
    {
     "cell_type": "code",
     "collapsed": false,
     "input": [
      "import networkx as nx \n",
      "from operator import itemgetter\n",
      "\n",
      "g = nx.read_pajek(\"data/russians.net\")\n",
      "len(g)"
     ],
     "language": "python",
     "metadata": {},
     "outputs": [
      {
       "metadata": {},
       "output_type": "pyout",
       "prompt_number": 103,
       "text": [
        "87250"
       ]
      }
     ],
     "prompt_number": 103
    },
    {
     "cell_type": "heading",
     "level": 3,
     "metadata": {},
     "source": [
      "\u7a0b\u5ea6\u4e2d\u5fc3\u6027(Degree Centrality)-------->\u53d1\u73b0\u7f51\u7edc\u4e2d\u7684\u91cd\u8981\u4eba\u7269"
     ]
    },
    {
     "cell_type": "code",
     "collapsed": false,
     "input": [
      "d = nx.degree(g)\n",
      "print d['valerois']      #\"valerois\"\u8282\u70b9\u7684\u5ea6\n",
      "print min(d.values())     #\u6700\u5c0f\u5ea6\n",
      "print max(d.values())     #\u6700\u5927\u5ea6\n",
      " \n",
      "#\u8fd4\u56de\u5ea6\u6700\u5927\u7684\u524d\u5341\u540d\uff08\u5373\u540d\u4eba\uff09\n",
      "ds =sorted_map(d)\n",
      "print ds[0:9]"
     ],
     "language": "python",
     "metadata": {},
     "outputs": [
      {
       "output_type": "stream",
       "stream": "stdout",
       "text": [
        "232\n",
        "1\n",
        "4691\n",
        "[(u'borisakunin', 4691), (u'doctor_liza', 3046), (u'tareeva', 2970), (u'cheger', 2887), (u'karial', 2717), (u'snorapp', 2707), (u'masha_koroleva', 2683), (u'elladkin', 2616), (u'samoleg', 2597)]"
       ]
      },
      {
       "output_type": "stream",
       "stream": "stdout",
       "text": [
        "\n"
       ]
      }
     ],
     "prompt_number": 104
    },
    {
     "cell_type": "code",
     "collapsed": false,
     "input": [
      "#\u79fb\u9664\u6307\u5b9a\u8282\u70b9\u7684\n",
      "def trim_degree(g,degree=1):\n",
      "    g2 = g.copy()\n",
      "    d = nx.degree(g2)\n",
      "    for n in g2.nodes():\n",
      "        if d[n] < degree : \n",
      "            g2.remove_node(n)\n",
      "    return g2\n",
      "\n",
      "core10 = trim_degree(g,10)\n",
      "#nx.draw(core10)\n",
      "#plot.show()"
     ],
     "language": "python",
     "metadata": {},
     "outputs": [],
     "prompt_number": 105
    },
    {
     "cell_type": "heading",
     "level": 3,
     "metadata": {},
     "source": [
      "\u4eb2\u8fd1\u4e2d\u5fc3\u5ea6\uff08Closeness Centrality\uff09-------->\u53d1\u73b0\u516b\u5366\u4f20\u64ad\u8005"
     ]
    },
    {
     "cell_type": "code",
     "collapsed": false,
     "input": [
      "c = nx.closeness_centrality(core10)\n",
      "cs = sorted_map(c)\n",
      "#\u8fd4\u56de\u524d\u5341\u540d\u516b\u5366\u8005\n",
      "print cs[:10]"
     ],
     "language": "python",
     "metadata": {},
     "outputs": [
      {
       "output_type": "stream",
       "stream": "stdout",
       "text": [
        "[(u'azbukivedi', 0.6117740652346858), (u'valerois', 0.5879204892966361), (u'bagira', 0.580377358490566), (u'kpoxa_e', 0.5675276752767527), (u'karial', 0.565025716385011), (u'kirulya', 0.5366364270760642), (u'borisakunin', 0.5292498279421886), (u'yelya', 0.5227736233854521), (u'angerona', 0.5213559322033898), (u'snorapp', 0.5210027100271003)]\n"
       ]
      }
     ],
     "prompt_number": 106
    },
    {
     "cell_type": "heading",
     "level": 3,
     "metadata": {},
     "source": [
      "\u5c45\u95f4\u4e2d\u5fc3\u6027\uff08Betweenness Centrality\uff09----->\u53d1\u73b0\u8de8\u754c\u8005"
     ]
    },
    {
     "cell_type": "code",
     "collapsed": false,
     "input": [
      "b = nx.betweenness_centrality(core10)\n",
      "bs = sorted_map(b)\n",
      "print bs[:10]"
     ],
     "language": "python",
     "metadata": {},
     "outputs": [
      {
       "output_type": "stream",
       "stream": "stdout",
       "text": [
        "[(u'valerois', 0.16695738080654995), (u'azbukivedi', 0.09801168103385022), (u'bagira', 0.06282469913200113), (u'karial', 0.05128262875661925), (u'kpoxa_e', 0.044116300400526116), (u'kirulya', 0.027862548029190273), (u'snorapp', 0.026582022759573002), (u'borisakunin', 0.026291115481229244), (u'gracebirkin', 0.023960779997234314), (u'eprst2000', 0.02164413400409739)]\n"
       ]
      }
     ],
     "prompt_number": 107
    },
    {
     "cell_type": "heading",
     "level": 3,
     "metadata": {},
     "source": [
      "\u4e09\u79cd\u4e2d\u5fc3\u6027\u6574\u5408"
     ]
    },
    {
     "cell_type": "code",
     "collapsed": false,
     "input": [
      "name1 = [x[0] for x in ds[:10]]\n",
      "name2 = [x[0] for x in cs[:10]]\n",
      "name3 = [x[0] for x in bs[:10]]\n",
      "names = list(set(name1) | set(name2) | set(name3))\n",
      "table = [[name,d[name],c[name],b[name]] for name in names]"
     ],
     "language": "python",
     "metadata": {},
     "outputs": [],
     "prompt_number": 108
    },
    {
     "cell_type": "code",
     "collapsed": false,
     "input": [
      "print table"
     ],
     "language": "python",
     "metadata": {},
     "outputs": [
      {
       "output_type": "stream",
       "stream": "stdout",
       "text": [
        "[[u'valerois', 232, 0.5879204892966361, 0.16695738080654995], [u'bagira', 1481, 0.580377358490566, 0.06282469913200113], [u'kpoxa_e', 946, 0.5675276752767527, 0.044116300400526116], [u'tareeva', 2970, 0.47235872235872234, 0.008534920883779135], [u'elladkin', 2616, 0.456379821958457, 0.018649024983887912], [u'azbukivedi', 2541, 0.6117740652346858, 0.09801168103385022], [u'kirulya', 2398, 0.5366364270760642, 0.027862548029190273], [u'karial', 2717, 0.565025716385011, 0.05128262875661925], [u'masha_koroleva', 2683, 0.4945337620578778, 0.019108734369004614], [u'doctor_liza', 3046, 0.47293972939729395, 0.021326785837617494], [u'borisakunin', 4691, 0.5292498279421886, 0.026291115481229244], [u'samoleg', 2597, 0.4604790419161677, 0.01504600247494716], [u'yelya', 582, 0.5227736233854521, 0.014447890511857483], [u'zina_korzina', 2596, 0.47972551466001245, 0.009946394073282934], [u'snorapp', 2707, 0.5210027100271003, 0.026582022759573002], [u'gracebirkin', 2575, 0.5022860875244938, 0.023960779997234314], [u'eprst2000', 2510, 0.5168010752688172, 0.02164413400409739], [u'cheger', 2887, 0.3903553299492386, 0.0009638305146620792], [u'angerona', 752, 0.5213559322033898, 0.019653087424363894]]\n"
       ]
      }
     ],
     "prompt_number": 109
    },
    {
     "cell_type": "heading",
     "level": 3,
     "metadata": {},
     "source": [
      "\u7279\u5f81\u5411\u91cf\u4e2d\u5fc3\u6027----------->\u627e\u51fa\u5e55\u540e\u5927\u4f6c\uff08\u7070\u8863\u4e3b\u6559\uff09"
     ]
    },
    {
     "cell_type": "code",
     "collapsed": false,
     "input": [
      "import networkx as nx \n",
      "from operator import itemgetter\n",
      "anon_e_list = [(10, 59), (10, 15), (10, 61), (15, 32), (16, 31), (16, 0), (16, 37), (16, 54), (16, 45), (16, 56), (16, 10), (16, 8), (16, 36), (16, 24), (16, 30), (18, 34), (18, 36), (18, 30), (19, 1), (19, 3), (19, 51), (19, 21), (19, 40), (19, 41), (19, 30), (19, 14), (19, 61), (21, 64), (26, 1), (31, 1), (31, 3), (31, 51), (31, 62), (31, 33), (31, 40), (31, 23), (31, 30), (31, 18), (31, 13), (31, 46), (31, 61), (32, 3), (32, 2), (32, 33), (32, 6), (32, 7), (32, 9), (32, 15), (32, 17), (32, 18), (32, 23), (32, 30), (32, 5), (32, 27), (32, 34), (32, 35), (32, 38), (32, 40), (32, 42), (32, 43), (32, 46), (32, 47), (32, 62), (32, 56), (32, 57), (32, 59), (32, 64), (32, 61), (33, 0), (33, 31), (33, 2), (33, 7), (33, 9), (33, 10), (33, 12), (33, 64), (33, 14), (33, 46), (33, 16), (33, 17), (33, 18), (33, 19), (33, 20), (33, 21), (33, 22), (33, 23), (33, 30), (33, 26), (33, 28), (33, 11), (33, 34), (33, 32), (33, 35), (33, 37), (33, 38), (33, 39), (33, 41), (33, 43), (33, 45), (33, 24), (33, 47), (33, 48), (33, 49), (33, 58), (33, 62), (33, 53), (33, 54), (33, 55), (33, 60), (33, 57), (33, 59), (33, 5), (33, 52), (33, 63), (33, 61), (34, 58), (34, 4), (34, 33), (34, 20), (34, 55), (34, 28), (34, 11), (34, 64), (35, 18), (35, 60), (35, 61), (37, 34), (37, 48), (37, 49), (37, 18), (37, 33), (37, 39), (37, 21), (37, 42), (37, 26), (37, 59), (37, 44), (37, 12), (37, 11), (37, 61), (41, 3), (41, 50), (41, 18), (41, 52), (41, 33), (41, 54), (41, 19), (41, 22), (41, 5), (41, 46), (41, 25), (41, 44), (41, 13), (41, 62), (41, 29), (44, 32), (44, 3), (44, 18), (44, 33), (44, 40), (44, 41), (44, 30), (44, 23), (44, 61), (50, 17), (50, 37), (50, 62), (50, 41), (50, 25), (50, 43), (50, 27), (50, 28), (50, 29), (54, 33), (54, 41), (54, 10), (54, 59), (54, 63), (54, 61), (58, 62), (58, 46), (59, 31), (59, 34), (59, 30), (59, 49), (59, 18), (59, 33), (59, 9), (59, 10), (59, 8), (59, 13), (59, 24), (59, 61), (60, 34), (60, 16), (60, 35), (60, 50), (60, 4), (60, 6), (60, 59), (60, 24), (63, 40), (63, 33), (63, 30), (63, 61), (63, 53)]\n",
      "\n",
      "my_graph = nx.DiGraph()\n",
      "my_graph.add_edges_from(anon_e_list)\n",
      "r_eig = nx.eigenvector_centrality(my_graph)\n",
      "\n",
      "vs = sorted_map(r_eig)\n",
      "print vs[:10]"
     ],
     "language": "python",
     "metadata": {},
     "outputs": [
      {
       "output_type": "stream",
       "stream": "stdout",
       "text": [
        "[(61, 0.321989931503125), (30, 0.2907187578982255), (33, 0.2633121063914584), (18, 0.2482038729203014), (34, 0.22819739547172369), (59, 0.18810270942670318), (62, 0.18430163005272898), (46, 0.17193424564979815), (64, 0.16172975730166475), (10, 0.1526124205922619)]\n"
       ]
      }
     ],
     "prompt_number": 6
    },
    {
     "cell_type": "heading",
     "level": 3,
     "metadata": {},
     "source": [
      "PR\u503c"
     ]
    }
   ],
   "metadata": {}
  }
 ]
}