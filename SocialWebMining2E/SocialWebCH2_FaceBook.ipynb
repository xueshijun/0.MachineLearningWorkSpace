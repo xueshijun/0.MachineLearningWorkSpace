{
 "metadata": {
  "name": "",
  "signature": "sha256:2ea6acad69ae13e1f4333853f822d0ec959114a14e49cf2bb0352c006e49a9e5"
 },
 "nbformat": 3,
 "nbformat_minor": 0,
 "worksheets": [
  {
   "cells": [
    {
     "cell_type": "heading",
     "level": 1,
     "metadata": {},
     "source": [
      "FaceBook\u7c89\u4e1d\u9875\u9762\u3001\u597d\u53cb\u5173\u7cfb"
     ]
    },
    {
     "cell_type": "raw",
     "metadata": {},
     "source": [
      "\u7b2c2\u7ae0 \u6316\u6398Facebook\uff1a\u5206\u6790\u7c89\u4e1d\u9875\u9762\u3001\u67e5\u770b\u597d\u53cb\u5173\u7cfb\u7b49 50\n",
      "2.1 \u6982\u8ff0 51\n",
      "2.2 \u63a2\u7d22Facebook\u7684\u793e\u4ea4\u56fe\u8c31API 51\n",
      "2.3 \u5206\u6790\u793e\u4ea4\u56fe\u8c31\u8054\u7cfb 62\n",
      "2.4 \u672c\u7ae0\u5c0f\u7ed3 85\n",
      "2.5 \u63a8\u8350\u7ec3\u4e60 86\n",
      "2.6 \u5728\u7ebf\u8d44\u6e90 86"
     ]
    },
    {
     "cell_type": "heading",
     "level": 1,
     "metadata": {},
     "source": [
      "Example 1. \u901a\u8fc7HTTP\u521b\u5efa\u56fe\u8c31API\u8bf7\u6c42"
     ]
    },
    {
     "cell_type": "code",
     "collapsed": false,
     "input": [
      "import requests # pip install requests\n",
      "import json\n",
      "\n",
      "base_url = 'https://graph.facebook.com/me'\n",
      "\n",
      "# Get 10 likes for 10 friends\n",
      "fields = 'id,name,friends.limit(10).fields(likes.limit(10))'\n",
      "# Keep in mind that you could have just gone to https://developers.facebook.com/tools/access_token/\n",
      "# and retrieved the \"User Token\" value from the Access Token Tool\n",
      "ACCESS_TOKEN = 'XXXXXXXXXXXXXXXXXXXXXXXXXXXXXXXXXXXXXXXX'\n",
      "\n",
      "url = '%s?fields=%s&access_token=%s' % \\\n",
      "    (base_url, fields, ACCESS_TOKEN,)\n",
      "\n",
      "# This API is HTTP-based and could be requested in the browser,\n",
      "# with a command line utlity like curl, or using just about\n",
      "# any programming language by making a request to the URL.\n",
      "# Click the hyperlink that appears in your notebook output\n",
      "# when you execute this code cell to see for yourself...\n",
      "print url\n",
      "\n",
      "# Interpret the response as JSON and convert back\n",
      "# to Python data structures\n",
      "content = requests.get(url).json()\n",
      "\n",
      "# Pretty-print the JSON and display it\n",
      "print json.dumps(content, indent=1)"
     ],
     "language": "python",
     "metadata": {},
     "outputs": [
      {
       "output_type": "stream",
       "stream": "stdout",
       "text": [
        "https://graph.facebook.com/me?fields=id,name,friends.limit(10).fields(likes.limit(10))&access_token=XXXXXXXXXXXXXXXXXXXXXXXXXXXXXXXXXXXXXXXX\n"
       ]
      },
      {
       "ename": "ConnectionError",
       "evalue": "('Connection aborted.', gaierror(11004, 'getaddrinfo failed'))",
       "output_type": "pyerr",
       "traceback": [
        "\u001b[1;31m---------------------------------------------------------------------------\u001b[0m\n\u001b[1;31mConnectionError\u001b[0m                           Traceback (most recent call last)",
        "\u001b[1;32m<ipython-input-1-f3a0c8b8068d>\u001b[0m in \u001b[0;36m<module>\u001b[1;34m()\u001b[0m\n\u001b[0;32m     21\u001b[0m \u001b[1;31m# Interpret the response as JSON and convert back\u001b[0m\u001b[1;33m\u001b[0m\u001b[1;33m\u001b[0m\u001b[0m\n\u001b[0;32m     22\u001b[0m \u001b[1;31m# to Python data structures\u001b[0m\u001b[1;33m\u001b[0m\u001b[1;33m\u001b[0m\u001b[0m\n\u001b[1;32m---> 23\u001b[1;33m \u001b[0mcontent\u001b[0m \u001b[1;33m=\u001b[0m \u001b[0mrequests\u001b[0m\u001b[1;33m.\u001b[0m\u001b[0mget\u001b[0m\u001b[1;33m(\u001b[0m\u001b[0murl\u001b[0m\u001b[1;33m)\u001b[0m\u001b[1;33m.\u001b[0m\u001b[0mjson\u001b[0m\u001b[1;33m(\u001b[0m\u001b[1;33m)\u001b[0m\u001b[1;33m\u001b[0m\u001b[0m\n\u001b[0m\u001b[0;32m     24\u001b[0m \u001b[1;33m\u001b[0m\u001b[0m\n\u001b[0;32m     25\u001b[0m \u001b[1;31m# Pretty-print the JSON and display it\u001b[0m\u001b[1;33m\u001b[0m\u001b[1;33m\u001b[0m\u001b[0m\n",
        "\u001b[1;32mC:\\Python27\\lib\\site-packages\\requests\\api.py\u001b[0m in \u001b[0;36mget\u001b[1;34m(url, **kwargs)\u001b[0m\n\u001b[0;32m     63\u001b[0m \u001b[1;33m\u001b[0m\u001b[0m\n\u001b[0;32m     64\u001b[0m     \u001b[0mkwargs\u001b[0m\u001b[1;33m.\u001b[0m\u001b[0msetdefault\u001b[0m\u001b[1;33m(\u001b[0m\u001b[1;34m'allow_redirects'\u001b[0m\u001b[1;33m,\u001b[0m \u001b[0mTrue\u001b[0m\u001b[1;33m)\u001b[0m\u001b[1;33m\u001b[0m\u001b[0m\n\u001b[1;32m---> 65\u001b[1;33m     \u001b[1;32mreturn\u001b[0m \u001b[0mrequest\u001b[0m\u001b[1;33m(\u001b[0m\u001b[1;34m'get'\u001b[0m\u001b[1;33m,\u001b[0m \u001b[0murl\u001b[0m\u001b[1;33m,\u001b[0m \u001b[1;33m**\u001b[0m\u001b[0mkwargs\u001b[0m\u001b[1;33m)\u001b[0m\u001b[1;33m\u001b[0m\u001b[0m\n\u001b[0m\u001b[0;32m     66\u001b[0m \u001b[1;33m\u001b[0m\u001b[0m\n\u001b[0;32m     67\u001b[0m \u001b[1;33m\u001b[0m\u001b[0m\n",
        "\u001b[1;32mC:\\Python27\\lib\\site-packages\\requests\\api.py\u001b[0m in \u001b[0;36mrequest\u001b[1;34m(method, url, **kwargs)\u001b[0m\n\u001b[0;32m     47\u001b[0m \u001b[1;33m\u001b[0m\u001b[0m\n\u001b[0;32m     48\u001b[0m     \u001b[0msession\u001b[0m \u001b[1;33m=\u001b[0m \u001b[0msessions\u001b[0m\u001b[1;33m.\u001b[0m\u001b[0mSession\u001b[0m\u001b[1;33m(\u001b[0m\u001b[1;33m)\u001b[0m\u001b[1;33m\u001b[0m\u001b[0m\n\u001b[1;32m---> 49\u001b[1;33m     \u001b[0mresponse\u001b[0m \u001b[1;33m=\u001b[0m \u001b[0msession\u001b[0m\u001b[1;33m.\u001b[0m\u001b[0mrequest\u001b[0m\u001b[1;33m(\u001b[0m\u001b[0mmethod\u001b[0m\u001b[1;33m=\u001b[0m\u001b[0mmethod\u001b[0m\u001b[1;33m,\u001b[0m \u001b[0murl\u001b[0m\u001b[1;33m=\u001b[0m\u001b[0murl\u001b[0m\u001b[1;33m,\u001b[0m \u001b[1;33m**\u001b[0m\u001b[0mkwargs\u001b[0m\u001b[1;33m)\u001b[0m\u001b[1;33m\u001b[0m\u001b[0m\n\u001b[0m\u001b[0;32m     50\u001b[0m     \u001b[1;31m# By explicitly closing the session, we avoid leaving sockets open which\u001b[0m\u001b[1;33m\u001b[0m\u001b[1;33m\u001b[0m\u001b[0m\n\u001b[0;32m     51\u001b[0m     \u001b[1;31m# can trigger a ResourceWarning in some cases, and look like a memory leak\u001b[0m\u001b[1;33m\u001b[0m\u001b[1;33m\u001b[0m\u001b[0m\n",
        "\u001b[1;32mC:\\Python27\\lib\\site-packages\\requests\\sessions.py\u001b[0m in \u001b[0;36mrequest\u001b[1;34m(self, method, url, params, data, headers, cookies, files, auth, timeout, allow_redirects, proxies, hooks, stream, verify, cert, json)\u001b[0m\n\u001b[0;32m    459\u001b[0m         }\n\u001b[0;32m    460\u001b[0m         \u001b[0msend_kwargs\u001b[0m\u001b[1;33m.\u001b[0m\u001b[0mupdate\u001b[0m\u001b[1;33m(\u001b[0m\u001b[0msettings\u001b[0m\u001b[1;33m)\u001b[0m\u001b[1;33m\u001b[0m\u001b[0m\n\u001b[1;32m--> 461\u001b[1;33m         \u001b[0mresp\u001b[0m \u001b[1;33m=\u001b[0m \u001b[0mself\u001b[0m\u001b[1;33m.\u001b[0m\u001b[0msend\u001b[0m\u001b[1;33m(\u001b[0m\u001b[0mprep\u001b[0m\u001b[1;33m,\u001b[0m \u001b[1;33m**\u001b[0m\u001b[0msend_kwargs\u001b[0m\u001b[1;33m)\u001b[0m\u001b[1;33m\u001b[0m\u001b[0m\n\u001b[0m\u001b[0;32m    462\u001b[0m \u001b[1;33m\u001b[0m\u001b[0m\n\u001b[0;32m    463\u001b[0m         \u001b[1;32mreturn\u001b[0m \u001b[0mresp\u001b[0m\u001b[1;33m\u001b[0m\u001b[0m\n",
        "\u001b[1;32mC:\\Python27\\lib\\site-packages\\requests\\sessions.py\u001b[0m in \u001b[0;36msend\u001b[1;34m(self, request, **kwargs)\u001b[0m\n\u001b[0;32m    571\u001b[0m \u001b[1;33m\u001b[0m\u001b[0m\n\u001b[0;32m    572\u001b[0m         \u001b[1;31m# Send the request\u001b[0m\u001b[1;33m\u001b[0m\u001b[1;33m\u001b[0m\u001b[0m\n\u001b[1;32m--> 573\u001b[1;33m         \u001b[0mr\u001b[0m \u001b[1;33m=\u001b[0m \u001b[0madapter\u001b[0m\u001b[1;33m.\u001b[0m\u001b[0msend\u001b[0m\u001b[1;33m(\u001b[0m\u001b[0mrequest\u001b[0m\u001b[1;33m,\u001b[0m \u001b[1;33m**\u001b[0m\u001b[0mkwargs\u001b[0m\u001b[1;33m)\u001b[0m\u001b[1;33m\u001b[0m\u001b[0m\n\u001b[0m\u001b[0;32m    574\u001b[0m \u001b[1;33m\u001b[0m\u001b[0m\n\u001b[0;32m    575\u001b[0m         \u001b[1;31m# Total elapsed time of the request (approximately)\u001b[0m\u001b[1;33m\u001b[0m\u001b[1;33m\u001b[0m\u001b[0m\n",
        "\u001b[1;32mC:\\Python27\\lib\\site-packages\\requests\\adapters.py\u001b[0m in \u001b[0;36msend\u001b[1;34m(self, request, stream, timeout, verify, cert, proxies)\u001b[0m\n\u001b[0;32m    413\u001b[0m \u001b[1;33m\u001b[0m\u001b[0m\n\u001b[0;32m    414\u001b[0m         \u001b[1;32mexcept\u001b[0m \u001b[1;33m(\u001b[0m\u001b[0mProtocolError\u001b[0m\u001b[1;33m,\u001b[0m \u001b[0msocket\u001b[0m\u001b[1;33m.\u001b[0m\u001b[0merror\u001b[0m\u001b[1;33m)\u001b[0m \u001b[1;32mas\u001b[0m \u001b[0merr\u001b[0m\u001b[1;33m:\u001b[0m\u001b[1;33m\u001b[0m\u001b[0m\n\u001b[1;32m--> 415\u001b[1;33m             \u001b[1;32mraise\u001b[0m \u001b[0mConnectionError\u001b[0m\u001b[1;33m(\u001b[0m\u001b[0merr\u001b[0m\u001b[1;33m,\u001b[0m \u001b[0mrequest\u001b[0m\u001b[1;33m=\u001b[0m\u001b[0mrequest\u001b[0m\u001b[1;33m)\u001b[0m\u001b[1;33m\u001b[0m\u001b[0m\n\u001b[0m\u001b[0;32m    416\u001b[0m \u001b[1;33m\u001b[0m\u001b[0m\n\u001b[0;32m    417\u001b[0m         \u001b[1;32mexcept\u001b[0m \u001b[0mMaxRetryError\u001b[0m \u001b[1;32mas\u001b[0m \u001b[0me\u001b[0m\u001b[1;33m:\u001b[0m\u001b[1;33m\u001b[0m\u001b[0m\n",
        "\u001b[1;31mConnectionError\u001b[0m: ('Connection aborted.', gaierror(11004, 'getaddrinfo failed'))"
       ]
      }
     ],
     "prompt_number": 1
    },
    {
     "cell_type": "heading",
     "level": 1,
     "metadata": {},
     "source": [
      "Example 2. \u7528Python\u67e5\u8be2\u56fe\u8c31API"
     ]
    },
    {
     "cell_type": "code",
     "collapsed": false,
     "input": [
      "import facebook # pip install facebook-sdk\n",
      "import json\n",
      "\n",
      "# A helper function to pretty-print Python objects as JSON\n",
      "\n",
      "def pp(o): \n",
      "    print json.dumps(o, indent=1)\n",
      "\n",
      "# Create a connection to the Graph API with your access token\n",
      "\n",
      "g = facebook.GraphAPI(ACCESS_TOKEN)\n",
      "\n",
      "# Execute a few sample queries\n",
      "\n",
      "print '---------------'\n",
      "print 'Me'\n",
      "print '---------------'\n",
      "pp(g.get_object('me'))\n",
      "print\n",
      "print '---------------'\n",
      "print 'My Friends'\n",
      "print '---------------'\n",
      "pp(g.get_connections('me', 'friends'))\n",
      "print\n",
      "print '---------------'\n",
      "print 'Social Web'\n",
      "print '---------------'\n",
      "pp(g.request(\"search\", {'q' : 'social web', 'type' : 'page'}))"
     ],
     "language": "python",
     "metadata": {},
     "outputs": [
      {
       "ename": "ImportError",
       "evalue": "No module named facebook",
       "output_type": "pyerr",
       "traceback": [
        "\u001b[1;31m---------------------------------------------------------------------------\u001b[0m\n\u001b[1;31mImportError\u001b[0m                               Traceback (most recent call last)",
        "\u001b[1;32m<ipython-input-2-758d693381a8>\u001b[0m in \u001b[0;36m<module>\u001b[1;34m()\u001b[0m\n\u001b[1;32m----> 1\u001b[1;33m \u001b[1;32mimport\u001b[0m \u001b[0mfacebook\u001b[0m \u001b[1;31m# pip install facebook-sdk\u001b[0m\u001b[1;33m\u001b[0m\u001b[0m\n\u001b[0m\u001b[0;32m      2\u001b[0m \u001b[1;32mimport\u001b[0m \u001b[0mjson\u001b[0m\u001b[1;33m\u001b[0m\u001b[0m\n\u001b[0;32m      3\u001b[0m \u001b[1;33m\u001b[0m\u001b[0m\n\u001b[0;32m      4\u001b[0m \u001b[1;31m# A helper function to pretty-print Python objects as JSON\u001b[0m\u001b[1;33m\u001b[0m\u001b[1;33m\u001b[0m\u001b[0m\n\u001b[0;32m      5\u001b[0m \u001b[1;33m\u001b[0m\u001b[0m\n",
        "\u001b[1;31mImportError\u001b[0m: No module named facebook"
       ]
      }
     ],
     "prompt_number": 2
    },
    {
     "cell_type": "heading",
     "level": 1,
     "metadata": {},
     "source": [
      "Example 3. \u4f7f\u7528\u56fe\u8c31API\u67e5\u8be2\u7ed3\u679c"
     ]
    },
    {
     "cell_type": "code",
     "collapsed": false,
     "input": [
      "# Get an instance of Mining the Social Web\n",
      "# Using the page name also works if you know it.\n",
      "# e.g. 'MiningTheSocialWeb' or 'CrossFit'\n",
      "mtsw_id = '146803958708175'\n",
      "pp(g.get_object(mtsw_id))"
     ],
     "language": "python",
     "metadata": {},
     "outputs": [
      {
       "ename": "NameError",
       "evalue": "name 'pp' is not defined",
       "output_type": "pyerr",
       "traceback": [
        "\u001b[1;31m---------------------------------------------------------------------------\u001b[0m\n\u001b[1;31mNameError\u001b[0m                                 Traceback (most recent call last)",
        "\u001b[1;32m<ipython-input-3-fe5e9c910439>\u001b[0m in \u001b[0;36m<module>\u001b[1;34m()\u001b[0m\n\u001b[0;32m      3\u001b[0m \u001b[1;31m# e.g. 'MiningTheSocialWeb' or 'CrossFit'\u001b[0m\u001b[1;33m\u001b[0m\u001b[1;33m\u001b[0m\u001b[0m\n\u001b[0;32m      4\u001b[0m \u001b[0mmtsw_id\u001b[0m \u001b[1;33m=\u001b[0m \u001b[1;34m'146803958708175'\u001b[0m\u001b[1;33m\u001b[0m\u001b[0m\n\u001b[1;32m----> 5\u001b[1;33m \u001b[0mpp\u001b[0m\u001b[1;33m(\u001b[0m\u001b[0mg\u001b[0m\u001b[1;33m.\u001b[0m\u001b[0mget_object\u001b[0m\u001b[1;33m(\u001b[0m\u001b[0mmtsw_id\u001b[0m\u001b[1;33m)\u001b[0m\u001b[1;33m)\u001b[0m\u001b[1;33m\u001b[0m\u001b[0m\n\u001b[0m",
        "\u001b[1;31mNameError\u001b[0m: name 'pp' is not defined"
       ]
      }
     ],
     "prompt_number": 3
    },
    {
     "cell_type": "heading",
     "level": 1,
     "metadata": {},
     "source": [
      "Example 4. \u901a\u8fc7URL\u5bf9\u5f00\u653e\u56fe\u5bf9\u8c61\u67e5\u8be2\u56fe\u8c31API"
     ]
    },
    {
     "cell_type": "code",
     "collapsed": false,
     "input": [
      "# MTSW catalog link\n",
      "pp(g.get_object('http://shop.oreilly.com/product/0636920030195.do'))\n",
      "\n",
      "# PCI catalog link\n",
      "pp(g.get_object('http://shop.oreilly.com/product/9780596529321.do'))"
     ],
     "language": "python",
     "metadata": {},
     "outputs": [
      {
       "ename": "NameError",
       "evalue": "name 'pp' is not defined",
       "output_type": "pyerr",
       "traceback": [
        "\u001b[1;31m---------------------------------------------------------------------------\u001b[0m\n\u001b[1;31mNameError\u001b[0m                                 Traceback (most recent call last)",
        "\u001b[1;32m<ipython-input-4-3345ead9899c>\u001b[0m in \u001b[0;36m<module>\u001b[1;34m()\u001b[0m\n\u001b[0;32m      1\u001b[0m \u001b[1;31m# MTSW catalog link\u001b[0m\u001b[1;33m\u001b[0m\u001b[1;33m\u001b[0m\u001b[0m\n\u001b[1;32m----> 2\u001b[1;33m \u001b[0mpp\u001b[0m\u001b[1;33m(\u001b[0m\u001b[0mg\u001b[0m\u001b[1;33m.\u001b[0m\u001b[0mget_object\u001b[0m\u001b[1;33m(\u001b[0m\u001b[1;34m'http://shop.oreilly.com/product/0636920030195.do'\u001b[0m\u001b[1;33m)\u001b[0m\u001b[1;33m)\u001b[0m\u001b[1;33m\u001b[0m\u001b[0m\n\u001b[0m\u001b[0;32m      3\u001b[0m \u001b[1;33m\u001b[0m\u001b[0m\n\u001b[0;32m      4\u001b[0m \u001b[1;31m# PCI catalog link\u001b[0m\u001b[1;33m\u001b[0m\u001b[1;33m\u001b[0m\u001b[0m\n\u001b[0;32m      5\u001b[0m \u001b[0mpp\u001b[0m\u001b[1;33m(\u001b[0m\u001b[0mg\u001b[0m\u001b[1;33m.\u001b[0m\u001b[0mget_object\u001b[0m\u001b[1;33m(\u001b[0m\u001b[1;34m'http://shop.oreilly.com/product/9780596529321.do'\u001b[0m\u001b[1;33m)\u001b[0m\u001b[1;33m)\u001b[0m\u001b[1;33m\u001b[0m\u001b[0m\n",
        "\u001b[1;31mNameError\u001b[0m: name 'pp' is not defined"
       ]
      }
     ],
     "prompt_number": 4
    },
    {
     "cell_type": "heading",
     "level": 1,
     "metadata": {},
     "source": [
      "Example 5. \u6bd4\u8f83 Coke and Pepsi \u7c89\u4e1d\u201c\u8d5e\u201d\u6570\uff08Comparing likes between Coke and Pepsi fan pages\uff09"
     ]
    },
    {
     "cell_type": "code",
     "collapsed": false,
     "input": [
      "# Find Pepsi and Coke in search results\n",
      "\n",
      "pp(g.request('search', {'q' : 'pepsi', 'type' : 'page', 'limit' : 5}))\n",
      "pp(g.request('search', {'q' : 'coke', 'type' : 'page', 'limit' : 5}))\n",
      "\n",
      "# Use the ids to query for likes\n",
      "\n",
      "pepsi_id = '56381779049' # Could also use 'PepsiUS'\n",
      "coke_id = '40796308305'  # Could also use 'CocaCola'\n",
      "\n",
      "# A quick way to format integers with commas every 3 digits\n",
      "def int_format(n): return \"{:,}\".format(n)\n",
      "\n",
      "print \"Pepsi likes:\", int_format(g.get_object(pepsi_id)['likes'])\n",
      "print \"Coke likes:\", int_format(g.get_object(coke_id)['likes'])"
     ],
     "language": "python",
     "metadata": {},
     "outputs": []
    },
    {
     "cell_type": "heading",
     "level": 1,
     "metadata": {},
     "source": [
      "Example 6. \u67e5\u8be2\u4e00\u4e2a\u9875\u9762\u7684\u201c\u8ba2\u9605\u201d\u548c\u201c\u94fe\u63a5\u201d\u8054\u7cfb"
     ]
    },
    {
     "cell_type": "code",
     "collapsed": false,
     "input": [
      "pp(g.get_connections(pepsi_id, 'feed'))\n",
      "pp(g.get_connections(pepsi_id, 'links'))\n",
      "\n",
      "pp(g.get_connections(coke_id, 'feed'))\n",
      "pp(g.get_connections(coke_id, 'links'))"
     ],
     "language": "python",
     "metadata": {},
     "outputs": [
      {
       "ename": "NameError",
       "evalue": "name 'pp' is not defined",
       "output_type": "pyerr",
       "traceback": [
        "\u001b[1;31m---------------------------------------------------------------------------\u001b[0m\n\u001b[1;31mNameError\u001b[0m                                 Traceback (most recent call last)",
        "\u001b[1;32m<ipython-input-5-aaa8045b584f>\u001b[0m in \u001b[0;36m<module>\u001b[1;34m()\u001b[0m\n\u001b[1;32m----> 1\u001b[1;33m \u001b[0mpp\u001b[0m\u001b[1;33m(\u001b[0m\u001b[0mg\u001b[0m\u001b[1;33m.\u001b[0m\u001b[0mget_connections\u001b[0m\u001b[1;33m(\u001b[0m\u001b[0mpepsi_id\u001b[0m\u001b[1;33m,\u001b[0m \u001b[1;34m'feed'\u001b[0m\u001b[1;33m)\u001b[0m\u001b[1;33m)\u001b[0m\u001b[1;33m\u001b[0m\u001b[0m\n\u001b[0m\u001b[0;32m      2\u001b[0m \u001b[0mpp\u001b[0m\u001b[1;33m(\u001b[0m\u001b[0mg\u001b[0m\u001b[1;33m.\u001b[0m\u001b[0mget_connections\u001b[0m\u001b[1;33m(\u001b[0m\u001b[0mpepsi_id\u001b[0m\u001b[1;33m,\u001b[0m \u001b[1;34m'links'\u001b[0m\u001b[1;33m)\u001b[0m\u001b[1;33m)\u001b[0m\u001b[1;33m\u001b[0m\u001b[0m\n\u001b[0;32m      3\u001b[0m \u001b[1;33m\u001b[0m\u001b[0m\n\u001b[0;32m      4\u001b[0m \u001b[0mpp\u001b[0m\u001b[1;33m(\u001b[0m\u001b[0mg\u001b[0m\u001b[1;33m.\u001b[0m\u001b[0mget_connections\u001b[0m\u001b[1;33m(\u001b[0m\u001b[0mcoke_id\u001b[0m\u001b[1;33m,\u001b[0m \u001b[1;34m'feed'\u001b[0m\u001b[1;33m)\u001b[0m\u001b[1;33m)\u001b[0m\u001b[1;33m\u001b[0m\u001b[0m\n\u001b[0;32m      5\u001b[0m \u001b[0mpp\u001b[0m\u001b[1;33m(\u001b[0m\u001b[0mg\u001b[0m\u001b[1;33m.\u001b[0m\u001b[0mget_connections\u001b[0m\u001b[1;33m(\u001b[0m\u001b[0mcoke_id\u001b[0m\u001b[1;33m,\u001b[0m \u001b[1;34m'links'\u001b[0m\u001b[1;33m)\u001b[0m\u001b[1;33m)\u001b[0m\u001b[1;33m\u001b[0m\u001b[0m\n",
        "\u001b[1;31mNameError\u001b[0m: name 'pp' is not defined"
       ]
      }
     ],
     "prompt_number": 5
    },
    {
     "cell_type": "heading",
     "level": 1,
     "metadata": {},
     "source": [
      "Example 7. \u67e5\u8be2\u4f60\u597d\u53cb\u7684\u8d5e\n",
      "\uff08Querying for all of your friends' likes\uff09"
     ]
    },
    {
     "cell_type": "code",
     "collapsed": false,
     "input": [
      "friends = g.get_connections(\"me\", \"friends\")['data']\n",
      "\n",
      "likes = { friend['name'] : g.get_connections(friend['id'], \"likes\")['data'] \n",
      "          for friend in friends }\n",
      "\n",
      "print likes"
     ],
     "language": "python",
     "metadata": {},
     "outputs": [
      {
       "ename": "NameError",
       "evalue": "name 'g' is not defined",
       "output_type": "pyerr",
       "traceback": [
        "\u001b[1;31m---------------------------------------------------------------------------\u001b[0m\n\u001b[1;31mNameError\u001b[0m                                 Traceback (most recent call last)",
        "\u001b[1;32m<ipython-input-7-99b9d1ac3825>\u001b[0m in \u001b[0;36m<module>\u001b[1;34m()\u001b[0m\n\u001b[1;32m----> 1\u001b[1;33m \u001b[0mfriends\u001b[0m \u001b[1;33m=\u001b[0m \u001b[0mg\u001b[0m\u001b[1;33m.\u001b[0m\u001b[0mget_connections\u001b[0m\u001b[1;33m(\u001b[0m\u001b[1;34m\"me\"\u001b[0m\u001b[1;33m,\u001b[0m \u001b[1;34m\"friends\"\u001b[0m\u001b[1;33m)\u001b[0m\u001b[1;33m[\u001b[0m\u001b[1;34m'data'\u001b[0m\u001b[1;33m]\u001b[0m\u001b[1;33m\u001b[0m\u001b[0m\n\u001b[0m\u001b[0;32m      2\u001b[0m \u001b[1;33m\u001b[0m\u001b[0m\n\u001b[0;32m      3\u001b[0m likes = { friend['name'] : g.get_connections(friend['id'], \"likes\")['data'] \n\u001b[0;32m      4\u001b[0m           for friend in friends }\n\u001b[0;32m      5\u001b[0m \u001b[1;33m\u001b[0m\u001b[0m\n",
        "\u001b[1;31mNameError\u001b[0m: name 'g' is not defined"
       ]
      }
     ],
     "prompt_number": 7
    },
    {
     "cell_type": "heading",
     "level": 1,
     "metadata": {},
     "source": [
      "Example 8. \u8ba1\u7b97\u4f60\u597d\u53cb\u4e2d\u6700\u53d7\u6b22\u8fce\u7684\u201c\u8d5e\u201d"
     ]
    },
    {
     "cell_type": "code",
     "collapsed": false,
     "input": [
      "# Analyze all likes from friendships for frequency\n",
      "\n",
      "# pip install prettytable\n",
      "from prettytable import PrettyTable\n",
      "from collections import Counter\n",
      "friends_likes = Counter([like['name']\n",
      "                         for friend in likes \n",
      "                           for like in likes[friend]\n",
      "                               if like.get('name')])\n",
      "\n",
      "pt = PrettyTable(field_names=['Name', 'Freq'])\n",
      "pt.align['Name'], pt.align['Freq'] = 'l', 'r'\n",
      "[ pt.add_row(fl) for fl in friends_likes.most_common(10) ]\n",
      "\n",
      "print 'Top 10 likes amongst friends'\n",
      "print pt"
     ],
     "language": "python",
     "metadata": {},
     "outputs": [
      {
       "ename": "ImportError",
       "evalue": "No module named prettytable",
       "output_type": "pyerr",
       "traceback": [
        "\u001b[1;31m---------------------------------------------------------------------------\u001b[0m\n\u001b[1;31mImportError\u001b[0m                               Traceback (most recent call last)",
        "\u001b[1;32m<ipython-input-8-9aa1d5d74643>\u001b[0m in \u001b[0;36m<module>\u001b[1;34m()\u001b[0m\n\u001b[0;32m      2\u001b[0m \u001b[1;33m\u001b[0m\u001b[0m\n\u001b[0;32m      3\u001b[0m \u001b[1;31m# pip install prettytable\u001b[0m\u001b[1;33m\u001b[0m\u001b[1;33m\u001b[0m\u001b[0m\n\u001b[1;32m----> 4\u001b[1;33m \u001b[1;32mfrom\u001b[0m \u001b[0mprettytable\u001b[0m \u001b[1;32mimport\u001b[0m \u001b[0mPrettyTable\u001b[0m\u001b[1;33m\u001b[0m\u001b[0m\n\u001b[0m\u001b[0;32m      5\u001b[0m \u001b[1;32mfrom\u001b[0m \u001b[0mcollections\u001b[0m \u001b[1;32mimport\u001b[0m \u001b[0mCounter\u001b[0m\u001b[1;33m\u001b[0m\u001b[0m\n\u001b[0;32m      6\u001b[0m friends_likes = Counter([like['name']\n",
        "\u001b[1;31mImportError\u001b[0m: No module named prettytable"
       ]
      }
     ],
     "prompt_number": 8
    },
    {
     "cell_type": "heading",
     "level": 1,
     "metadata": {},
     "source": [
      "Example 9. \u8ba1\u7b97\u4f60\u597d\u53cb\u4e2d\u201c\u8d5e\u201d\u4e2d\u6700\u53d7\u6b22\u8fce\u7684\u7c7b\u522b\n",
      "Calculating the most popular categories for likes among your friends"
     ]
    },
    {
     "cell_type": "code",
     "collapsed": false,
     "input": [
      "# Analyze all like categories by frequency\n",
      "\n",
      "friends_likes_categories = Counter([like['category'] \n",
      "                                    for friend in likes \n",
      "                                      for like in likes[friend]])\n",
      "\n",
      "pt = PrettyTable(field_names=['Category', 'Freq'])\n",
      "pt.align['Category'], pt.align['Freq'] = 'l', 'r'\n",
      "[ pt.add_row(flc) for flc in friends_likes_categories.most_common(10) ]\n",
      "\n",
      "print \"Top 10 like categories for friends\"\n",
      "print pt"
     ],
     "language": "python",
     "metadata": {},
     "outputs": [
      {
       "ename": "NameError",
       "evalue": "name 'Counter' is not defined",
       "output_type": "pyerr",
       "traceback": [
        "\u001b[1;31m---------------------------------------------------------------------------\u001b[0m\n\u001b[1;31mNameError\u001b[0m                                 Traceback (most recent call last)",
        "\u001b[1;32m<ipython-input-9-1525b9470daa>\u001b[0m in \u001b[0;36m<module>\u001b[1;34m()\u001b[0m\n\u001b[0;32m      1\u001b[0m \u001b[1;31m# Analyze all like categories by frequency\u001b[0m\u001b[1;33m\u001b[0m\u001b[1;33m\u001b[0m\u001b[0m\n\u001b[0;32m      2\u001b[0m \u001b[1;33m\u001b[0m\u001b[0m\n\u001b[1;32m----> 3\u001b[1;33m friends_likes_categories = Counter([like['category'] \n\u001b[0m\u001b[0;32m      4\u001b[0m                                     \u001b[1;32mfor\u001b[0m \u001b[0mfriend\u001b[0m \u001b[1;32min\u001b[0m \u001b[0mlikes\u001b[0m\u001b[1;33m\u001b[0m\u001b[0m\n\u001b[0;32m      5\u001b[0m                                       for like in likes[friend]])\n",
        "\u001b[1;31mNameError\u001b[0m: name 'Counter' is not defined"
       ]
      }
     ],
     "prompt_number": 9
    },
    {
     "cell_type": "heading",
     "level": 1,
     "metadata": {},
     "source": [
      "Example 10. \u8ba1\u7b97\u6bcf\u4e2a\u597d\u53cb\u7684\u201c\u8d5e\u201d\u6570\u91cf\uff0c\u5e76\u6839\u636e\u9891\u7387\u8fdb\u884c\u6392\u5e8f\n",
      "Calculating the number of likes for each friend and sorting by frequency"
     ]
    },
    {
     "cell_type": "code",
     "collapsed": false,
     "input": [
      "# Build a frequency distribution of number of likes by \n",
      "# friend with a dictionary comprehension and sort it in \n",
      "# descending order\n",
      "\n",
      "from operator import itemgetter\n",
      "\n",
      "num_likes_by_friend = { friend : len(likes[friend]) \n",
      "                        for friend in likes }\n",
      "\n",
      "\n",
      "pt = PrettyTable(field_names=['Friend', 'Num Likes'])\n",
      "pt.align['Friend'], pt.align['Num Likes'] = 'l', 'r'\n",
      "[ pt.add_row(nlbf) \n",
      "  for nlbf in sorted(num_likes_by_friend.items(), \n",
      "                     key=itemgetter(1), \n",
      "                     reverse=True) ]\n",
      "\n",
      "print \"Number of likes per friend\"\n",
      "print pt"
     ],
     "language": "python",
     "metadata": {},
     "outputs": []
    },
    {
     "cell_type": "heading",
     "level": 1,
     "metadata": {},
     "source": [
      "Example 11. \u627e\u51fa\u793e\u4ea4\u7f51\u7edc\u4e2d\u81ea\u5df1\u548c\u597d\u53cb\u5173\u7cfb\u5171\u540c\u7684\u201c\u8d5e\u201d"
     ]
    },
    {
     "cell_type": "code",
     "collapsed": false,
     "input": [
      "# Which of your likes are in common with which friends?\n",
      "my_likes = [ like['name'] \n",
      "             for like in g.get_connections(\"me\", \"likes\")['data'] ]\n",
      "\n",
      "pt = PrettyTable(field_names=[\"Name\"])\n",
      "pt.align = 'l'\n",
      "[ pt.add_row((ml,)) for ml in my_likes ]\n",
      "print \"My likes\"\n",
      "print pt\n",
      "\n",
      "# Use the set intersection as represented by the ampersand\n",
      "# operator to find common likes.\n",
      "\n",
      "common_likes = list(set(my_likes) & set(friends_likes))\n",
      "\n",
      "pt = PrettyTable(field_names=[\"Name\"])\n",
      "pt.align = 'l'\n",
      "[ pt.add_row((cl,)) for cl in common_likes ]\n",
      "print\n",
      "print \"My common likes with friends\"\n",
      "print pt"
     ],
     "language": "python",
     "metadata": {},
     "outputs": [
      {
       "ename": "NameError",
       "evalue": "name 'g' is not defined",
       "output_type": "pyerr",
       "traceback": [
        "\u001b[1;31m---------------------------------------------------------------------------\u001b[0m\n\u001b[1;31mNameError\u001b[0m                                 Traceback (most recent call last)",
        "\u001b[1;32m<ipython-input-11-4c373cf9187f>\u001b[0m in \u001b[0;36m<module>\u001b[1;34m()\u001b[0m\n\u001b[0;32m      1\u001b[0m \u001b[1;31m# Which of your likes are in common with which friends?\u001b[0m\u001b[1;33m\u001b[0m\u001b[1;33m\u001b[0m\u001b[0m\n\u001b[0;32m      2\u001b[0m my_likes = [ like['name'] \n\u001b[1;32m----> 3\u001b[1;33m              for like in g.get_connections(\"me\", \"likes\")['data'] ]\n\u001b[0m\u001b[0;32m      4\u001b[0m \u001b[1;33m\u001b[0m\u001b[0m\n\u001b[0;32m      5\u001b[0m \u001b[0mpt\u001b[0m \u001b[1;33m=\u001b[0m \u001b[0mPrettyTable\u001b[0m\u001b[1;33m(\u001b[0m\u001b[0mfield_names\u001b[0m\u001b[1;33m=\u001b[0m\u001b[1;33m[\u001b[0m\u001b[1;34m\"Name\"\u001b[0m\u001b[1;33m]\u001b[0m\u001b[1;33m)\u001b[0m\u001b[1;33m\u001b[0m\u001b[0m\n",
        "\u001b[1;31mNameError\u001b[0m: name 'g' is not defined"
       ]
      }
     ],
     "prompt_number": 11
    },
    {
     "cell_type": "heading",
     "level": 1,
     "metadata": {},
     "source": [
      "Example 12. \u8ba1\u7b97\u793e\u4ea4\u7f51\u7edc\u4e2d\u4e0e\u81ea\u5df1\u6700\u76f8\u4f3c\u7684\u597d\u53cb"
     ]
    },
    {
     "cell_type": "code",
     "collapsed": false,
     "input": [
      "# Which of your friends like things that you like?\n",
      "\n",
      "similar_friends = [ (friend, friend_like['name']) \n",
      "                     for friend, friend_likes in likes.items()\n",
      "                       for friend_like in friend_likes\n",
      "                         if friend_like.get('name') in common_likes ]\n",
      "\n",
      "\n",
      "# Filter out any possible duplicates that could occur\n",
      "\n",
      "ranked_friends = Counter([ friend for (friend, like) in list(set(similar_friends)) ])\n",
      "\n",
      "\n",
      "pt = PrettyTable(field_names=[\"Friend\", \"Common Likes\"])\n",
      "pt.align[\"Friend\"], pt.align[\"Common Likes\"] = 'l', 'r'\n",
      "[ pt.add_row(rf) \n",
      "  for rf in sorted(ranked_friends.items(), \n",
      "                   key=itemgetter(1), \n",
      "                   reverse=True) ]\n",
      "print \"My similar friends (ranked)\"\n",
      "print pt\n",
      "\n",
      "# Also keep in mind that you have the full range of plotting\n",
      "# capabilities available to you. A quick histogram that shows\n",
      "# how many friends.\n",
      "\n",
      "plt.hist(ranked_friends.values())\n",
      "plt.xlabel('Bins (number of friends with shared likes)')\n",
      "plt.ylabel('Number of shared likes in each bin')\n",
      "\n",
      "# Keep in mind that you can customize the binning\n",
      "# as desired. See http://matplotlib.org/api/pyplot_api.html\n",
      "\n",
      "# For example...\n",
      "\n",
      "plt.figure() # Display the previous plot\n",
      "plt.hist(ranked_friends.values(),\n",
      "          bins=arange(1,max(ranked_friends.values()),1))\n",
      "plt.xlabel('Bins (number of friends with shared likes)')\n",
      "plt.ylabel('Number of shared likes in each bin')\n",
      "plt.figure() # Display the working plot"
     ],
     "language": "python",
     "metadata": {},
     "outputs": [
      {
       "ename": "NameError",
       "evalue": "name 'likes' is not defined",
       "output_type": "pyerr",
       "traceback": [
        "\u001b[1;31m---------------------------------------------------------------------------\u001b[0m\n\u001b[1;31mNameError\u001b[0m                                 Traceback (most recent call last)",
        "\u001b[1;32m<ipython-input-12-92c4586daa39>\u001b[0m in \u001b[0;36m<module>\u001b[1;34m()\u001b[0m\n\u001b[0;32m      2\u001b[0m \u001b[1;33m\u001b[0m\u001b[0m\n\u001b[0;32m      3\u001b[0m similar_friends = [ (friend, friend_like['name']) \n\u001b[1;32m----> 4\u001b[1;33m                      \u001b[1;32mfor\u001b[0m \u001b[0mfriend\u001b[0m\u001b[1;33m,\u001b[0m \u001b[0mfriend_likes\u001b[0m \u001b[1;32min\u001b[0m \u001b[0mlikes\u001b[0m\u001b[1;33m.\u001b[0m\u001b[0mitems\u001b[0m\u001b[1;33m(\u001b[0m\u001b[1;33m)\u001b[0m\u001b[1;33m\u001b[0m\u001b[0m\n\u001b[0m\u001b[0;32m      5\u001b[0m                        \u001b[1;32mfor\u001b[0m \u001b[0mfriend_like\u001b[0m \u001b[1;32min\u001b[0m \u001b[0mfriend_likes\u001b[0m\u001b[1;33m\u001b[0m\u001b[0m\n\u001b[0;32m      6\u001b[0m                          if friend_like.get('name') in common_likes ]\n",
        "\u001b[1;31mNameError\u001b[0m: name 'likes' is not defined"
       ]
      }
     ],
     "prompt_number": 12
    },
    {
     "cell_type": "heading",
     "level": 1,
     "metadata": {},
     "source": [
      "Example 13. \u521b\u5efa\u4e00\u4e2a\u76f8\u4e92\u597d\u53cb\u5173\u7cfb\u56fe"
     ]
    },
    {
     "cell_type": "code",
     "collapsed": false,
     "input": [
      "pip install networkx"
     ],
     "language": "python",
     "metadata": {},
     "outputs": [
      {
       "ename": "SyntaxError",
       "evalue": "invalid syntax (<ipython-input-13-e7dcbb53beaf>, line 1)",
       "output_type": "pyerr",
       "traceback": [
        "\u001b[1;36m  File \u001b[1;32m\"<ipython-input-13-e7dcbb53beaf>\"\u001b[1;36m, line \u001b[1;32m1\u001b[0m\n\u001b[1;33m    pip install networkx\u001b[0m\n\u001b[1;37m              ^\u001b[0m\n\u001b[1;31mSyntaxError\u001b[0m\u001b[1;31m:\u001b[0m invalid syntax\n"
       ]
      }
     ],
     "prompt_number": 13
    },
    {
     "cell_type": "code",
     "collapsed": false,
     "input": [
      "import networkx as nx # pip install networkx\n",
      "import requests # pip install requests\n",
      "\n",
      "friends = [ (friend['id'], friend['name'],)\n",
      "                for friend in g.get_connections('me', 'friends')['data'] ]\n",
      "\n",
      "url = 'https://graph.facebook.com/me/mutualfriends/%s?access_token=%s'\n",
      "\n",
      "mutual_friends = {} \n",
      "\n",
      "# This loop spawns a separate request for each iteration, so\n",
      "# it may take a while. Optimization with a thread pool or similar\n",
      "# technique would be possible.\n",
      "for friend_id, friend_name in friends:\n",
      "    r = requests.get(url % (friend_id, ACCESS_TOKEN,) )\n",
      "    response_data = json.loads(r.content)['data']\n",
      "    mutual_friends[friend_name] = [ data['name'] \n",
      "                                    for data in response_data ]\n",
      "    \n",
      "nxg = nx.Graph()\n",
      "\n",
      "[ nxg.add_edge('me', mf) for mf in mutual_friends ]\n",
      "\n",
      "[ nxg.add_edge(f1, f2) \n",
      "  for f1 in mutual_friends \n",
      "      for f2 in mutual_friends[f1] ]\n",
      "\n",
      "# Explore what's possible to do with the graph by \n",
      "# typing nxg.<tab> or executing a new cell with \n",
      "# the following value in it to see some pydoc on nxg\n",
      "print nxg"
     ],
     "language": "python",
     "metadata": {},
     "outputs": [
      {
       "ename": "NameError",
       "evalue": "name 'g' is not defined",
       "output_type": "pyerr",
       "traceback": [
        "\u001b[1;31m---------------------------------------------------------------------------\u001b[0m\n\u001b[1;31mNameError\u001b[0m                                 Traceback (most recent call last)",
        "\u001b[1;32m<ipython-input-14-7814c48586ac>\u001b[0m in \u001b[0;36m<module>\u001b[1;34m()\u001b[0m\n\u001b[0;32m      3\u001b[0m \u001b[1;33m\u001b[0m\u001b[0m\n\u001b[0;32m      4\u001b[0m friends = [ (friend['id'], friend['name'],)\n\u001b[1;32m----> 5\u001b[1;33m                 for friend in g.get_connections('me', 'friends')['data'] ]\n\u001b[0m\u001b[0;32m      6\u001b[0m \u001b[1;33m\u001b[0m\u001b[0m\n\u001b[0;32m      7\u001b[0m \u001b[0murl\u001b[0m \u001b[1;33m=\u001b[0m \u001b[1;34m'https://graph.facebook.com/me/mutualfriends/%s?access_token=%s'\u001b[0m\u001b[1;33m\u001b[0m\u001b[0m\n",
        "\u001b[1;31mNameError\u001b[0m: name 'g' is not defined"
       ]
      }
     ],
     "prompt_number": 14
    },
    {
     "cell_type": "heading",
     "level": 1,
     "metadata": {},
     "source": [
      "Example 14. \u5728\u76f8\u4e92\u597d\u53cb\u5173\u7cfb\u56fe\u4e2d\u5bfb\u627e\u548c\u5206\u6790\u201c\u56e2\u201d\n",
      "Finding and analyzing cliques in a graph of mutual friendships"
     ]
    },
    {
     "cell_type": "code",
     "collapsed": false,
     "input": [
      "# Finding cliques is a hard problem, so this could\n",
      "# take a while for large graphs.\n",
      "# See http://en.wikipedia.org/wiki/NP-complete and \n",
      "# http://en.wikipedia.org/wiki/Clique_problem.\n",
      "\n",
      "cliques = [c for c in nx.find_cliques(nxg)]\n",
      "\n",
      "num_cliques = len(cliques)\n",
      "\n",
      "clique_sizes = [len(c) for c in cliques]\n",
      "max_clique_size = max(clique_sizes)\n",
      "avg_clique_size = sum(clique_sizes) / num_cliques\n",
      "\n",
      "max_cliques = [c for c in cliques if len(c) == max_clique_size]\n",
      "\n",
      "num_max_cliques = len(max_cliques)\n",
      "\n",
      "max_clique_sets = [set(c) for c in max_cliques]\n",
      "friends_in_all_max_cliques = list(reduce(lambda x, y: x.intersection(y),\n",
      "                                  max_clique_sets))\n",
      "\n",
      "print 'Num cliques:', num_cliques\n",
      "print 'Avg clique size:', avg_clique_size\n",
      "print 'Max clique size:', max_clique_size\n",
      "print 'Num max cliques:', num_max_cliques\n",
      "print\n",
      "print 'Friends in all max cliques:'\n",
      "print json.dumps(friends_in_all_max_cliques, indent=1)\n",
      "print\n",
      "print 'Max cliques:'\n",
      "print json.dumps(max_cliques, indent=1)"
     ],
     "language": "python",
     "metadata": {},
     "outputs": [
      {
       "ename": "NameError",
       "evalue": "name 'nxg' is not defined",
       "output_type": "pyerr",
       "traceback": [
        "\u001b[1;31m---------------------------------------------------------------------------\u001b[0m\n\u001b[1;31mNameError\u001b[0m                                 Traceback (most recent call last)",
        "\u001b[1;32m<ipython-input-16-7bd3fd806d50>\u001b[0m in \u001b[0;36m<module>\u001b[1;34m()\u001b[0m\n\u001b[0;32m      4\u001b[0m \u001b[1;31m# http://en.wikipedia.org/wiki/Clique_problem.\u001b[0m\u001b[1;33m\u001b[0m\u001b[1;33m\u001b[0m\u001b[0m\n\u001b[0;32m      5\u001b[0m \u001b[1;33m\u001b[0m\u001b[0m\n\u001b[1;32m----> 6\u001b[1;33m \u001b[0mcliques\u001b[0m \u001b[1;33m=\u001b[0m \u001b[1;33m[\u001b[0m\u001b[0mc\u001b[0m \u001b[1;32mfor\u001b[0m \u001b[0mc\u001b[0m \u001b[1;32min\u001b[0m \u001b[0mnx\u001b[0m\u001b[1;33m.\u001b[0m\u001b[0mfind_cliques\u001b[0m\u001b[1;33m(\u001b[0m\u001b[0mnxg\u001b[0m\u001b[1;33m)\u001b[0m\u001b[1;33m]\u001b[0m\u001b[1;33m\u001b[0m\u001b[0m\n\u001b[0m\u001b[0;32m      7\u001b[0m \u001b[1;33m\u001b[0m\u001b[0m\n\u001b[0;32m      8\u001b[0m \u001b[0mnum_cliques\u001b[0m \u001b[1;33m=\u001b[0m \u001b[0mlen\u001b[0m\u001b[1;33m(\u001b[0m\u001b[0mcliques\u001b[0m\u001b[1;33m)\u001b[0m\u001b[1;33m\u001b[0m\u001b[0m\n",
        "\u001b[1;31mNameError\u001b[0m: name 'nxg' is not defined"
       ]
      }
     ],
     "prompt_number": 16
    },
    {
     "cell_type": "heading",
     "level": 1,
     "metadata": {},
     "source": [
      "Example 15. \u5c06\u4e00\u5e45NetworkX\u56fe\u4fdd\u5b58\u4e3a\u6587\u4ef6\u4ee5\u4f9bD3\u4f7f\u7528\n",
      "Serializing a NetworkX graph to a file for consumption by D3"
     ]
    },
    {
     "cell_type": "code",
     "collapsed": false,
     "input": [
      "from networkx.readwrite import json_graph\n",
      "\n",
      "nld = json_graph.node_link_data(nxg)\n",
      "\n",
      "json.dump(nld, open('resources/ch02-facebook/viz/force.json','w'))"
     ],
     "language": "python",
     "metadata": {},
     "outputs": [
      {
       "ename": "NameError",
       "evalue": "name 'nxg' is not defined",
       "output_type": "pyerr",
       "traceback": [
        "\u001b[1;31m---------------------------------------------------------------------------\u001b[0m\n\u001b[1;31mNameError\u001b[0m                                 Traceback (most recent call last)",
        "\u001b[1;32m<ipython-input-17-fbc02d1c2607>\u001b[0m in \u001b[0;36m<module>\u001b[1;34m()\u001b[0m\n\u001b[0;32m      1\u001b[0m \u001b[1;32mfrom\u001b[0m \u001b[0mnetworkx\u001b[0m\u001b[1;33m.\u001b[0m\u001b[0mreadwrite\u001b[0m \u001b[1;32mimport\u001b[0m \u001b[0mjson_graph\u001b[0m\u001b[1;33m\u001b[0m\u001b[0m\n\u001b[0;32m      2\u001b[0m \u001b[1;33m\u001b[0m\u001b[0m\n\u001b[1;32m----> 3\u001b[1;33m \u001b[0mnld\u001b[0m \u001b[1;33m=\u001b[0m \u001b[0mjson_graph\u001b[0m\u001b[1;33m.\u001b[0m\u001b[0mnode_link_data\u001b[0m\u001b[1;33m(\u001b[0m\u001b[0mnxg\u001b[0m\u001b[1;33m)\u001b[0m\u001b[1;33m\u001b[0m\u001b[0m\n\u001b[0m\u001b[0;32m      4\u001b[0m \u001b[1;33m\u001b[0m\u001b[0m\n\u001b[0;32m      5\u001b[0m \u001b[0mjson\u001b[0m\u001b[1;33m.\u001b[0m\u001b[0mdump\u001b[0m\u001b[1;33m(\u001b[0m\u001b[0mnld\u001b[0m\u001b[1;33m,\u001b[0m \u001b[0mopen\u001b[0m\u001b[1;33m(\u001b[0m\u001b[1;34m'resources/ch02-facebook/viz/force.json'\u001b[0m\u001b[1;33m,\u001b[0m\u001b[1;34m'w'\u001b[0m\u001b[1;33m)\u001b[0m\u001b[1;33m)\u001b[0m\u001b[1;33m\u001b[0m\u001b[0m\n",
        "\u001b[1;31mNameError\u001b[0m: name 'nxg' is not defined"
       ]
      }
     ],
     "prompt_number": 17
    },
    {
     "cell_type": "code",
     "collapsed": false,
     "input": [],
     "language": "python",
     "metadata": {},
     "outputs": []
    }
   ],
   "metadata": {}
  }
 ]
}