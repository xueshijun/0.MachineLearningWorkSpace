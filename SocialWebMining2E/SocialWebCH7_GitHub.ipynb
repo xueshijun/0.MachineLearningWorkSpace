{
 "metadata": {
  "name": "",
  "signature": "sha256:8b00654e1c93308f5fcce3427dd6126bcbfb7a586598972f767485b9432319c8"
 },
 "nbformat": 3,
 "nbformat_minor": 0,
 "worksheets": [
  {
   "cells": [
    {
     "cell_type": "heading",
     "level": 1,
     "metadata": {},
     "source": [
      "\u68c0\u67e5\u8f6f\u4ef6\u534f\u540c\u4e60\u60ef\u3001\u6784\u5efa\u5174\u8da3\u56fe\u8c31"
     ]
    },
    {
     "cell_type": "raw",
     "metadata": {},
     "source": [
      "\u7b2c7\u7ae0 \u6316\u6398GitHub\uff1a\u68c0\u67e5\u8f6f\u4ef6\u534f\u540c\u4e60\u60ef\u3001\u6784\u5efa\u5174\u8da3\u56fe\u8c31\u7b49 253\n",
      "7.1 \u6982\u8ff0 254\n",
      "7.2 \u63a2\u7d22GitHub\u7684API 254\n",
      "7.3 \u4f7f\u7528\u5c5e\u6027\u56fe\u4e3a\u6570\u636e\u5efa\u6a21 260\n",
      "7.4 \u5206\u6790GitHub\u5174\u8da3\u56fe\u8c31 264\n",
      "7.5 \u672c\u7ae0\u5c0f\u7ed3 286\n",
      "7.6 \u63a8\u8350\u7ec3\u4e60 287\n",
      "7.7 \u5728\u7ebf\u8d44\u6e90 287"
     ]
    },
    {
     "cell_type": "heading",
     "level": 1,
     "metadata": {},
     "source": [
      "Example 1.\u5728\u7a0b\u5e8f\u4e2d\u83b7\u5f97\u8bbf\u95eeGitHubAPI\u7684\u4e2a\u4eba\u8bbf\u95ee\u4ee4\u724c"
     ]
    },
    {
     "cell_type": "code",
     "collapsed": false,
     "input": [
      "import requests\n",
      "from getpass import getpass\n",
      "import json\n",
      "\n",
      "username = '324858038@qq.com' # Your GitHub username\n",
      "password = 'xueshijun666' # Your GitHub password\n",
      "\n",
      "# Note that credentials will be transmitted over a secure SSL connection\n",
      "url = 'https://api.github.com/authorizations'\n",
      "note = 'Mining the Social Web, 2nd Ed.'\n",
      "post_data = {'scopes':['repo'],'note': note }\n",
      "\n",
      "response = requests.post(\n",
      "    url,\n",
      "    auth = (username, password),\n",
      "    data = json.dumps(post_data),\n",
      "    )   \n",
      "\n",
      "print \"API response:\", response.text\n",
      "print\n",
      "print \"Your OAuth token is\", response.json()['token']\n",
      "#b88de1d476b905b63e2585cb84e106edcb9ccf94\n",
      "# Go to https://github.com/settings/applications to revoke this token"
     ],
     "language": "python",
     "metadata": {},
     "outputs": [
      {
       "output_type": "stream",
       "stream": "stdout",
       "text": [
        " API response: {\"id\":29856474,\"url\":\"https://api.github.com/authorizations/29856474\",\"app\":{\"name\":\"Mining the Social Web, 2nd Ed.\",\"url\":\"https://developer.github.com/v3/oauth_authorizations/\",\"client_id\":\"00000000000000000000\"},\"token\":\"b88de1d476b905b63e2585cb84e106edcb9ccf94\",\"hashed_token\":\"35eb299d39f73a171f9427b202c7ddc6288f8cd8158adcec831fb5788a581f9b\",\"token_last_eight\":\"cb9ccf94\",\"note\":\"Mining the Social Web, 2nd Ed.\",\"note_url\":null,\"created_at\":\"2016-03-25T12:39:09Z\",\"updated_at\":\"2016-03-25T12:39:09Z\",\"scopes\":[\"repo\"],\"fingerprint\":null}\n",
        "\n",
        "Your OAuth token is b88de1d476b905b63e2585cb84e106edcb9ccf94\n"
       ]
      }
     ],
     "prompt_number": 4
    },
    {
     "cell_type": "heading",
     "level": 1,
     "metadata": {},
     "source": [
      "Example 2. \u5bf9GitHub's API\u5efa\u7acb\u76f4\u63a5HTTP\u8bf7\u6c42"
     ]
    },
    {
     "cell_type": "code",
     "collapsed": false,
     "input": [
      "import json\n",
      "import requests\n",
      "\n",
      "# An unauthenticated request that doesn't contain an ?access_token=xxx query string\n",
      "url = \"https://api.github.com/repos/ptwobrussell/Mining-the-Social-Web/stargazers\"\n",
      "response = requests.get(url)\n",
      "\n",
      "# Display one stargazer\n",
      "\n",
      "print json.dumps(response.json()[0], indent=1)\n",
      "print\n",
      "\n",
      "# Display headers\n",
      "for (k,v) in response.headers.items():\n",
      "    print k, \"=>\", v"
     ],
     "language": "python",
     "metadata": {},
     "outputs": [
      {
       "output_type": "stream",
       "stream": "stdout",
       "text": [
        "{\n",
        " \"following_url\": \"https://api.github.com/users/georgebellos/following{/other_user}\", \n",
        " \"events_url\": \"https://api.github.com/users/georgebellos/events{/privacy}\", \n",
        " \"organizations_url\": \"https://api.github.com/users/georgebellos/orgs\", \n",
        " \"url\": \"https://api.github.com/users/georgebellos\", \n",
        " \"gists_url\": \"https://api.github.com/users/georgebellos/gists{/gist_id}\", \n",
        " \"html_url\": \"https://github.com/georgebellos\", \n",
        " \"subscriptions_url\": \"https://api.github.com/users/georgebellos/subscriptions\", \n",
        " \"avatar_url\": \"https://avatars.githubusercontent.com/u/13009?v=3\", \n",
        " \"repos_url\": \"https://api.github.com/users/georgebellos/repos\", \n",
        " \"received_events_url\": \"https://api.github.com/users/georgebellos/received_events\", \n",
        " \"gravatar_id\": \"\", \n",
        " \"starred_url\": \"https://api.github.com/users/georgebellos/starred{/owner}{/repo}\", \n",
        " \"site_admin\": false, \n",
        " \"login\": \"georgebellos\", \n",
        " \"type\": \"User\", \n",
        " \"id\": 13009, \n",
        " \"followers_url\": \"https://api.github.com/users/georgebellos/followers\"\n",
        "}\n",
        "\n",
        "vary => Accept, Accept-Encoding\n",
        "x-github-media-type => github.v3\n",
        "x-xss-protection => 1; mode=block\n",
        "x-content-type-options => nosniff\n",
        "etag => W/\"ccecbb8f902b5668c3d206bef821fc7c\"\n",
        "cache-control => public, max-age=60, s-maxage=60\n",
        "status => 200 OK\n",
        "x-ratelimit-remaining => 59\n",
        "x-served-by => 2c18a09f3ac5e4dd1e004af7c5a94769\n",
        "access-control-expose-headers => ETag, Link, X-GitHub-OTP, X-RateLimit-Limit, X-RateLimit-Remaining, X-RateLimit-Reset, X-OAuth-Scopes, X-Accepted-OAuth-Scopes, X-Poll-Interval\n",
        "transfer-encoding => chunked\n",
        "x-github-request-id => DA02D803:6B9C:D86F93F:56F52FE6\n",
        "link => <https://api.github.com/repositories/1040700/stargazers?page=2>; rel=\"next\", <https://api.github.com/repositories/1040700/stargazers?page=36>; rel=\"last\"\n",
        "date => Fri, 25 Mar 2016 12:32:41 GMT\n",
        "access-control-allow-origin => *\n",
        "content-security-policy => default-src 'none'\n",
        "content-encoding => gzip\n",
        "strict-transport-security => max-age=31536000; includeSubdomains; preload\n",
        "server => GitHub.com\n",
        "x-ratelimit-limit => 60\n",
        "x-frame-options => deny\n",
        "content-type => application/json; charset=utf-8\n",
        "x-ratelimit-reset => 1458912761\n"
       ]
      }
     ],
     "prompt_number": 2
    },
    {
     "cell_type": "heading",
     "level": 1,
     "metadata": {},
     "source": [
      "Example 3. \u7528PyGithub\u8bf7\u6c42\u7279\u5b9a\u5e93\u7684\u89c2\u661f\u4eba"
     ]
    },
    {
     "cell_type": "raw",
     "metadata": {},
     "source": [
      "pip install PyGithub"
     ]
    },
    {
     "cell_type": "code",
     "collapsed": false,
     "input": [
      "from github import Github\n",
      "\n",
      "# XXX: Specify your own access token here\n",
      "\n",
      "ACCESS_TOKEN = 'b88de1d476b905b63e2585cb84e106edcb9ccf94'\n",
      "\n",
      "# Specify a username and repository of interest for that user.\n",
      "\n",
      "USER = 'ptwobrussell'\n",
      "REPO = 'Mining-the-Social-Web'\n",
      "\n",
      "client = Github(ACCESS_TOKEN, per_page=100)\n",
      "user = client.get_user(USER)\n",
      "repo = user.get_repo(REPO)\n",
      "\n",
      "# Get a list of people who have bookmarked the repo.\n",
      "# Since you'll get a lazy iterator back, you have to traverse\n",
      "# it if you want to get the total number of stargazers.\n",
      "\n",
      "stargazers = [ s for s in repo.get_stargazers() ]\n",
      "print \"Number of stargazers\", len(stargazers)"
     ],
     "language": "python",
     "metadata": {},
     "outputs": [
      {
       "output_type": "stream",
       "stream": "stdout",
       "text": [
        "Number of stargazers 1061\n"
       ]
      }
     ],
     "prompt_number": 6
    },
    {
     "cell_type": "heading",
     "level": 1,
     "metadata": {},
     "source": [
      "Example 4. \u6784\u9020\u5e73\u51e1\u5c5e\u6027\u56fe"
     ]
    },
    {
     "cell_type": "code",
     "collapsed": false,
     "input": [
      "pip install networkx"
     ],
     "language": "python",
     "metadata": {},
     "outputs": []
    },
    {
     "cell_type": "code",
     "collapsed": false,
     "input": [
      "import networkx as nx\n",
      "\n",
      "# Create a directed graph\n",
      "\n",
      "g = nx.DiGraph()\n",
      "\n",
      "# Add an edge to the directed graph from X to Y\n",
      "\n",
      "g.add_edge('X', 'Y')\n",
      "\n",
      "# Print some statistics about the graph\n",
      "\n",
      "print nx.info(g)\n",
      "print\n",
      "\n",
      "# Get the nodes and edges from the graph\n",
      "\n",
      "print \"Nodes:\", g.nodes()\n",
      "print \"Edges:\", g.edges()\n",
      "print\n",
      "\n",
      "# Get node properties\n",
      "\n",
      "print \"X props:\", g.node['X']\n",
      "print \"Y props:\", g.node['Y']\n",
      "\n",
      "# Get edge properties\n",
      "\n",
      "print \"X=>Y props:\", g['X']['Y']\n",
      "print\n",
      "\n",
      "# Update a node property\n",
      "\n",
      "g.node['X'].update({'prop1' : 'value1'})\n",
      "print \"X props:\", g.node['X']\n",
      "print\n",
      "\n",
      "# Update an edge property\n",
      "\n",
      "g['X']['Y'].update({'label' : 'label1'})\n",
      "print \"X=>Y props:\", g['X']['Y']"
     ],
     "language": "python",
     "metadata": {},
     "outputs": [
      {
       "output_type": "stream",
       "stream": "stdout",
       "text": [
        "Name: \n",
        "Type: DiGraph\n",
        "Number of nodes: 2\n",
        "Number of edges: 1\n",
        "Average in degree:   0.5000\n",
        "Average out degree:   0.5000\n",
        "\n",
        "Nodes: ['Y', 'X']\n",
        "Edges: [('X', 'Y')]\n",
        "\n",
        "X props: {}\n",
        "Y props: {}\n",
        "X=>Y props: {}\n",
        "\n",
        "X props: {'prop1': 'value1'}\n",
        "\n",
        "X=>Y props: {'label': 'label1'}\n"
       ]
      }
     ],
     "prompt_number": 7
    },
    {
     "cell_type": "heading",
     "level": 1,
     "metadata": {},
     "source": [
      "Example 5. \u6784\u5efa\u4e00\u4e2a\u8d44\u6e90\u5e93\u548c\u89c2\u661f\u4eba\u7684\u81ea\u6211\u56fe"
     ]
    },
    {
     "cell_type": "code",
     "collapsed": false,
     "input": [
      "# Expand the initial graph with (interest) edges pointing each direction for \n",
      "# additional people interested. Take care to ensure that user and repo nodes \n",
      "# do not collide by appending their type.\n",
      "\n",
      "import networkx as nx\n",
      "\n",
      "g = nx.DiGraph()\n",
      "g.add_node(repo.name + '(repo)', type='repo', lang=repo.language, owner=user.login)\n",
      "\n",
      "for sg in stargazers:\n",
      "    g.add_node(sg.login + '(user)', type='user')\n",
      "    g.add_edge(sg.login + '(user)', repo.name + '(repo)', type='gazes')"
     ],
     "language": "python",
     "metadata": {},
     "outputs": [],
     "prompt_number": 8
    },
    {
     "cell_type": "heading",
     "level": 1,
     "metadata": {},
     "source": [
      "Example 6. \u4e00\u4e9b\u65b9\u4fbf\u7684\u56fe\u64cd\u4f5c"
     ]
    },
    {
     "cell_type": "code",
     "collapsed": false,
     "input": [
      "# Poke around in the current graph to get a better feel for how NetworkX works\n",
      "\n",
      "print nx.info(g)\n",
      "print\n",
      "print g.node['Mining-the-Social-Web(repo)']\n",
      "print g.node['ptwobrussell(user)']\n",
      "print\n",
      "print g['ptwobrussell(user)']['Mining-the-Social-Web(repo)']\n",
      "# The next line would throw a KeyError since no such edge exists:\n",
      "# print g['Mining-the-Social-Web(repo)']['ptwobrussell(user)']\n",
      "print\n",
      "print g['ptwobrussell(user)']\n",
      "print g['Mining-the-Social-Web(repo)']\n",
      "print\n",
      "print g.in_edges(['ptwobrussell(user)'])\n",
      "print g.out_edges(['ptwobrussell(user)'])\n",
      "print\n",
      "print g.in_edges(['Mining-the-Social-Web(repo)'])\n",
      "print g.out_edges(['Mining-the-Social-Web(repo)'])"
     ],
     "language": "python",
     "metadata": {},
     "outputs": [
      {
       "output_type": "stream",
       "stream": "stdout",
       "text": [
        "Name: \n",
        "Type: DiGraph\n",
        "Number of nodes: 1062\n",
        "Number of edges: 1061\n",
        "Average in degree:   0.9991\n",
        "Average out degree:   0.9991\n",
        "\n",
        "{'lang': u'JavaScript', 'owner': u'ptwobrussell', 'type': 'repo'}\n",
        "{'type': 'user'}\n",
        "\n",
        "{'type': 'gazes'}\n",
        "\n",
        "{u'Mining-the-Social-Web(repo)': {'type': 'gazes'}}\n",
        "{}\n",
        "\n",
        "[]\n",
        "[('ptwobrussell(user)', u'Mining-the-Social-Web(repo)')]\n",
        "\n",
        "[(u'yobo000(user)', 'Mining-the-Social-Web(repo)'), (u'gregmoreno(user)', 'Mining-the-Social-Web(repo)'), (u'SathishRaju(user)', 'Mining-the-Social-Web(repo)'), (u'beinvest(user)', 'Mining-the-Social-Web(repo)'), (u'gawry(user)', 'Mining-the-Social-Web(repo)'), (u'darkfall(user)', 'Mining-the-Social-Web(repo)'), (u'daimajia(user)', 'Mining-the-Social-Web(repo)'), (u'henri-nourel(user)', 'Mining-the-Social-Web(repo)'), (u'chihuanqi(user)', 'Mining-the-Social-Web(repo)'), (u'program247365(user)', 'Mining-the-Social-Web(repo)'), (u'xiaodiu2010(user)', 'Mining-the-Social-Web(repo)'), (u'yoghi(user)', 'Mining-the-Social-Web(repo)'), (u'dylanthomas(user)', 'Mining-the-Social-Web(repo)'), (u'EugeneLiang(user)', 'Mining-the-Social-Web(repo)'), (u'longislandicetea(user)', 'Mining-the-Social-Web(repo)'), (u'jagguli(user)', 'Mining-the-Social-Web(repo)'), (u'ConceptKreator(user)', 'Mining-the-Social-Web(repo)'), (u'rgtjf(user)', 'Mining-the-Social-Web(repo)'), (u'daseme(user)', 'Mining-the-Social-Web(repo)'), (u'keokilee(user)', 'Mining-the-Social-Web(repo)'), (u'azuranop(user)', 'Mining-the-Social-Web(repo)'), (u'enriquesanchezb(user)', 'Mining-the-Social-Web(repo)'), (u'chhzhangs(user)', 'Mining-the-Social-Web(repo)'), (u'jfca(user)', 'Mining-the-Social-Web(repo)'), (u'terry2012(user)', 'Mining-the-Social-Web(repo)'), (u'yy(user)', 'Mining-the-Social-Web(repo)'), (u'batasrki(user)', 'Mining-the-Social-Web(repo)'), (u'yhj8341(user)', 'Mining-the-Social-Web(repo)'), (u'zerojarvis(user)', 'Mining-the-Social-Web(repo)'), (u'royburns(user)', 'Mining-the-Social-Web(repo)'), (u'coodoing(user)', 'Mining-the-Social-Web(repo)'), (u'bootstrapt(user)', 'Mining-the-Social-Web(repo)'), (u'alexdiao(user)', 'Mining-the-Social-Web(repo)'), (u'ZoomQuiet(user)', 'Mining-the-Social-Web(repo)'), (u'trietptm(user)', 'Mining-the-Social-Web(repo)'), (u'bryantchan(user)', 'Mining-the-Social-Web(repo)'), (u'metllord(user)', 'Mining-the-Social-Web(repo)'), (u'flashus(user)', 'Mining-the-Social-Web(repo)'), (u'TomiToivio(user)', 'Mining-the-Social-Web(repo)'), (u'hammer(user)', 'Mining-the-Social-Web(repo)'), (u'paulbersch(user)', 'Mining-the-Social-Web(repo)'), (u'tranminhan(user)', 'Mining-the-Social-Web(repo)'), (u'amckenna(user)', 'Mining-the-Social-Web(repo)'), (u'zihaolucky(user)', 'Mining-the-Social-Web(repo)'), (u'Amandianeze(user)', 'Mining-the-Social-Web(repo)'), (u'khaing211(user)', 'Mining-the-Social-Web(repo)'), (u'thulio(user)', 'Mining-the-Social-Web(repo)'), (u'virajkulkarni14(user)', 'Mining-the-Social-Web(repo)'), (u'khurchla(user)', 'Mining-the-Social-Web(repo)'), (u'timmyshen(user)', 'Mining-the-Social-Web(repo)'), (u'acadopia(user)', 'Mining-the-Social-Web(repo)'), (u'lesbleus2007(user)', 'Mining-the-Social-Web(repo)'), (u'madsurgeon(user)', 'Mining-the-Social-Web(repo)'), (u'lemonad(user)', 'Mining-the-Social-Web(repo)'), (u'liuyeliufeng(user)', 'Mining-the-Social-Web(repo)'), (u'yiseul(user)', 'Mining-the-Social-Web(repo)'), (u'heptal(user)', 'Mining-the-Social-Web(repo)'), (u'yanhuaaoaoao(user)', 'Mining-the-Social-Web(repo)'), (u'tertsch(user)', 'Mining-the-Social-Web(repo)'), (u'shuhei(user)', 'Mining-the-Social-Web(repo)'), (u'NandoKstroNet(user)', 'Mining-the-Social-Web(repo)'), (u'mattharrison(user)', 'Mining-the-Social-Web(repo)'), (u'eduardocereto(user)', 'Mining-the-Social-Web(repo)'), (u'holys(user)', 'Mining-the-Social-Web(repo)'), (u'matiskay(user)', 'Mining-the-Social-Web(repo)'), (u'shanlalit(user)', 'Mining-the-Social-Web(repo)'), (u'andrewdanks(user)', 'Mining-the-Social-Web(repo)'), (u'liulinyang(user)', 'Mining-the-Social-Web(repo)'), (u'rossant(user)', 'Mining-the-Social-Web(repo)'), (u'tayashigenori(user)', 'Mining-the-Social-Web(repo)'), (u'Btibert3(user)', 'Mining-the-Social-Web(repo)'), (u'fakber(user)', 'Mining-the-Social-Web(repo)'), (u'Alexoner(user)', 'Mining-the-Social-Web(repo)'), (u'nine9s(user)', 'Mining-the-Social-Web(repo)'), (u'frac(user)', 'Mining-the-Social-Web(repo)'), (u'FranklinChen(user)', 'Mining-the-Social-Web(repo)'), (u'manesiotise(user)', 'Mining-the-Social-Web(repo)'), (u'riivo(user)', 'Mining-the-Social-Web(repo)'), (u'edfine(user)', 'Mining-the-Social-Web(repo)'), (u'NapalmHorn(user)', 'Mining-the-Social-Web(repo)'), (u'bububa(user)', 'Mining-the-Social-Web(repo)'), (u'paulgoggin(user)', 'Mining-the-Social-Web(repo)'), (u'douglas(user)', 'Mining-the-Social-Web(repo)'), (u'frankk00(user)', 'Mining-the-Social-Web(repo)'), (u'parama(user)', 'Mining-the-Social-Web(repo)'), (u'yujinw(user)', 'Mining-the-Social-Web(repo)'), (u'wbzyl(user)', 'Mining-the-Social-Web(repo)'), (u'joliva(user)', 'Mining-the-Social-Web(repo)'), (u'bpeirce(user)', 'Mining-the-Social-Web(repo)'), (u'seijiro(user)', 'Mining-the-Social-Web(repo)'), (u'openp2pdesign(user)', 'Mining-the-Social-Web(repo)'), (u'iwanbk(user)', 'Mining-the-Social-Web(repo)'), (u'bgriffen(user)', 'Mining-the-Social-Web(repo)'), (u'hupili(user)', 'Mining-the-Social-Web(repo)'), (u'ansion103(user)', 'Mining-the-Social-Web(repo)'), (u'eyadsibai(user)', 'Mining-the-Social-Web(repo)'), (u'ardalahmet(user)', 'Mining-the-Social-Web(repo)'), (u'fanggai(user)', 'Mining-the-Social-Web(repo)'), (u'stephen-cernota(user)', 'Mining-the-Social-Web(repo)'), (u'lsinger(user)', 'Mining-the-Social-Web(repo)'), (u'menorki(user)', 'Mining-the-Social-Web(repo)'), (u'zeyuanxy(user)', 'Mining-the-Social-Web(repo)'), (u'dineshj1(user)', 'Mining-the-Social-Web(repo)'), (u'jonathansick(user)', 'Mining-the-Social-Web(repo)'), (u'shurik(user)', 'Mining-the-Social-Web(repo)'), (u'hiorws(user)', 'Mining-the-Social-Web(repo)'), (u'allengaller(user)', 'Mining-the-Social-Web(repo)'), (u'napo(user)', 'Mining-the-Social-Web(repo)'), (u'infinitum8(user)', 'Mining-the-Social-Web(repo)'), (u'ironico(user)', 'Mining-the-Social-Web(repo)'), (u'cnunciato(user)', 'Mining-the-Social-Web(repo)'), (u'jessegahlla(user)', 'Mining-the-Social-Web(repo)'), (u'IWhisper(user)', 'Mining-the-Social-Web(repo)'), (u'stefaneyr(user)', 'Mining-the-Social-Web(repo)'), (u'boringmachine(user)', 'Mining-the-Social-Web(repo)'), (u'pengyutang125(user)', 'Mining-the-Social-Web(repo)'), (u'coronin(user)', 'Mining-the-Social-Web(repo)'), (u'alamsal(user)', 'Mining-the-Social-Web(repo)'), (u'akondylis(user)', 'Mining-the-Social-Web(repo)'), (u'dworznik(user)', 'Mining-the-Social-Web(repo)'), (u'ricardoalmeida(user)', 'Mining-the-Social-Web(repo)'), (u'BENGMN(user)', 'Mining-the-Social-Web(repo)'), (u'yicaoyimu(user)', 'Mining-the-Social-Web(repo)'), (u'elg0nz(user)', 'Mining-the-Social-Web(repo)'), (u'todrobbins(user)', 'Mining-the-Social-Web(repo)'), (u'darron(user)', 'Mining-the-Social-Web(repo)'), (u'ya790206(user)', 'Mining-the-Social-Web(repo)'), (u'h2rd(user)', 'Mining-the-Social-Web(repo)'), (u'eughenes(user)', 'Mining-the-Social-Web(repo)'), (u'zeutrap(user)', 'Mining-the-Social-Web(repo)'), (u'omoto(user)', 'Mining-the-Social-Web(repo)'), (u'MichaelMartinez(user)', 'Mining-the-Social-Web(repo)'), (u'ibugs961(user)', 'Mining-the-Social-Web(repo)'), (u'bcambel(user)', 'Mining-the-Social-Web(repo)'), (u'kwaibun(user)', 'Mining-the-Social-Web(repo)'), (u'zaynaib(user)', 'Mining-the-Social-Web(repo)'), (u'booyildirim(user)', 'Mining-the-Social-Web(repo)'), (u'jatinmistry13(user)', 'Mining-the-Social-Web(repo)'), (u'macdiva(user)', 'Mining-the-Social-Web(repo)'), (u'miku(user)', 'Mining-the-Social-Web(repo)'), (u'yogeshc(user)', 'Mining-the-Social-Web(repo)'), (u'timelyportfolio(user)', 'Mining-the-Social-Web(repo)'), (u'pensz(user)', 'Mining-the-Social-Web(repo)'), (u'ChrisMcKee(user)', 'Mining-the-Social-Web(repo)'), (u'jannson(user)', 'Mining-the-Social-Web(repo)'), (u'amejiarosario(user)', 'Mining-the-Social-Web(repo)'), (u'msonsona(user)', 'Mining-the-Social-Web(repo)'), (u'zhuwenger(user)', 'Mining-the-Social-Web(repo)'), (u'chengdujin(user)', 'Mining-the-Social-Web(repo)'), (u'BrianPin(user)', 'Mining-the-Social-Web(repo)'), (u'gr33ndata(user)', 'Mining-the-Social-Web(repo)'), (u'kuntoaji(user)', 'Mining-the-Social-Web(repo)'), (u'furukama(user)', 'Mining-the-Social-Web(repo)'), (u'vigo(user)', 'Mining-the-Social-Web(repo)'), (u'jonathan-bower(user)', 'Mining-the-Social-Web(repo)'), (u'Erict19(user)', 'Mining-the-Social-Web(repo)'), (u'hanksudo(user)', 'Mining-the-Social-Web(repo)'), (u'CaptSolo(user)', 'Mining-the-Social-Web(repo)'), (u'tianhaocto(user)', 'Mining-the-Social-Web(repo)'), (u'rohithadassanayake(user)', 'Mining-the-Social-Web(repo)'), (u'xl-y(user)', 'Mining-the-Social-Web(repo)'), (u'olovholm(user)', 'Mining-the-Social-Web(repo)'), (u'Jgustavii(user)', 'Mining-the-Social-Web(repo)'), (u'arianpasquali(user)', 'Mining-the-Social-Web(repo)'), (u'abecciu(user)', 'Mining-the-Social-Web(repo)'), (u'mootPoint(user)', 'Mining-the-Social-Web(repo)'), (u'hoffmann(user)', 'Mining-the-Social-Web(repo)'), (u'masdude(user)', 'Mining-the-Social-Web(repo)'), (u'oliverc(user)', 'Mining-the-Social-Web(repo)'), (u'tomasaftalion(user)', 'Mining-the-Social-Web(repo)'), (u'alfredcai(user)', 'Mining-the-Social-Web(repo)'), (u'robstrange(user)', 'Mining-the-Social-Web(repo)'), (u'ykhroki(user)', 'Mining-the-Social-Web(repo)'), (u'fcojperez(user)', 'Mining-the-Social-Web(repo)'), (u'futurespective(user)', 'Mining-the-Social-Web(repo)'), (u'sleyzerzon(user)', 'Mining-the-Social-Web(repo)'), (u'willddy(user)', 'Mining-the-Social-Web(repo)'), (u'joshz(user)', 'Mining-the-Social-Web(repo)'), (u'iaind(user)', 'Mining-the-Social-Web(repo)'), (u'predmach(user)', 'Mining-the-Social-Web(repo)'), (u'seralf(user)', 'Mining-the-Social-Web(repo)'), (u'seanschang(user)', 'Mining-the-Social-Web(repo)'), (u'chunhuawu(user)', 'Mining-the-Social-Web(repo)'), (u'nada(user)', 'Mining-the-Social-Web(repo)'), (u'carlditzler(user)', 'Mining-the-Social-Web(repo)'), (u'qianyanseu(user)', 'Mining-the-Social-Web(repo)'), (u'Brhett(user)', 'Mining-the-Social-Web(repo)'), (u'kelvincobanaj(user)', 'Mining-the-Social-Web(repo)'), (u'stepmr(user)', 'Mining-the-Social-Web(repo)'), (u'adawsonfullsail(user)', 'Mining-the-Social-Web(repo)'), (u'miyaso(user)', 'Mining-the-Social-Web(repo)'), (u'bugrax(user)', 'Mining-the-Social-Web(repo)'), (u'michalbcz(user)', 'Mining-the-Social-Web(repo)'), (u'majahn(user)', 'Mining-the-Social-Web(repo)'), (u'surecc(user)', 'Mining-the-Social-Web(repo)'), (u'allen3921(user)', 'Mining-the-Social-Web(repo)'), (u'NikhilKodilkar(user)', 'Mining-the-Social-Web(repo)'), (u'bossiernesto(user)', 'Mining-the-Social-Web(repo)'), (u'Sdmattpotter(user)', 'Mining-the-Social-Web(repo)'), (u'iccupzerg(user)', 'Mining-the-Social-Web(repo)'), (u'kiogo(user)', 'Mining-the-Social-Web(repo)'), (u'miukal(user)', 'Mining-the-Social-Web(repo)'), (u'MorphZhou(user)', 'Mining-the-Social-Web(repo)'), (u'mike-grayhat(user)', 'Mining-the-Social-Web(repo)'), (u'andypiper(user)', 'Mining-the-Social-Web(repo)'), (u'UniIsland(user)', 'Mining-the-Social-Web(repo)'), (u'mengD(user)', 'Mining-the-Social-Web(repo)'), (u'Sundae(user)', 'Mining-the-Social-Web(repo)'), (u'mchoimis(user)', 'Mining-the-Social-Web(repo)'), (u'kshimo69(user)', 'Mining-the-Social-Web(repo)'), (u'liang456(user)', 'Mining-the-Social-Web(repo)'), (u'brianly(user)', 'Mining-the-Social-Web(repo)'), (u'sfrench(user)', 'Mining-the-Social-Web(repo)'), (u'downrightmike(user)', 'Mining-the-Social-Web(repo)'), (u'johnthebrave(user)', 'Mining-the-Social-Web(repo)'), (u'rukku(user)', 'Mining-the-Social-Web(repo)'), (u'Faddel(user)', 'Mining-the-Social-Web(repo)'), (u'zakobyte(user)', 'Mining-the-Social-Web(repo)'), (u'erainey(user)', 'Mining-the-Social-Web(repo)'), (u'skyserpent(user)', 'Mining-the-Social-Web(repo)'), (u'cjf4(user)', 'Mining-the-Social-Web(repo)'), (u'tigerjh(user)', 'Mining-the-Social-Web(repo)'), (u'rasper121(user)', 'Mining-the-Social-Web(repo)'), (u'zolizoli(user)', 'Mining-the-Social-Web(repo)'), (u'1rick(user)', 'Mining-the-Social-Web(repo)'), (u'nikolay(user)', 'Mining-the-Social-Web(repo)'), (u'acdha(user)', 'Mining-the-Social-Web(repo)'), (u'chilijung(user)', 'Mining-the-Social-Web(repo)'), (u'jodyabney(user)', 'Mining-the-Social-Web(repo)'), (u'ngpestelos(user)', 'Mining-the-Social-Web(repo)'), (u'callard(user)', 'Mining-the-Social-Web(repo)'), (u'ymirpl(user)', 'Mining-the-Social-Web(repo)'), (u'ukituki(user)', 'Mining-the-Social-Web(repo)'), (u'tayf(user)', 'Mining-the-Social-Web(repo)'), (u'KevinOfNeu(user)', 'Mining-the-Social-Web(repo)'), (u'pietrolo(user)', 'Mining-the-Social-Web(repo)'), (u'ysfseu(user)', 'Mining-the-Social-Web(repo)'), (u'dhiemazt(user)', 'Mining-the-Social-Web(repo)'), (u'yokoj(user)', 'Mining-the-Social-Web(repo)'), (u'ethanhu(user)', 'Mining-the-Social-Web(repo)'), (u'milmazz(user)', 'Mining-the-Social-Web(repo)'), (u'willi(user)', 'Mining-the-Social-Web(repo)'), (u'digvan(user)', 'Mining-the-Social-Web(repo)'), (u'JacekAmbroziak(user)', 'Mining-the-Social-Web(repo)'), (u'singit(user)', 'Mining-the-Social-Web(repo)'), (u'dasfaha(user)', 'Mining-the-Social-Web(repo)'), (u'deusnet(user)', 'Mining-the-Social-Web(repo)'), (u'brunojm(user)', 'Mining-the-Social-Web(repo)'), (u'themiurgo(user)', 'Mining-the-Social-Web(repo)'), (u'sirithink(user)', 'Mining-the-Social-Web(repo)'), (u'maxtheman(user)', 'Mining-the-Social-Web(repo)'), (u'nambra(user)', 'Mining-the-Social-Web(repo)'), (u'subrays(user)', 'Mining-the-Social-Web(repo)'), (u'jerryyeezus(user)', 'Mining-the-Social-Web(repo)'), (u'charlesgavin(user)', 'Mining-the-Social-Web(repo)'), (u'whuwy(user)', 'Mining-the-Social-Web(repo)'), (u'kennethreitz(user)', 'Mining-the-Social-Web(repo)'), (u'tonez(user)', 'Mining-the-Social-Web(repo)'), (u'studiomaestro(user)', 'Mining-the-Social-Web(repo)'), (u'vanderwal(user)', 'Mining-the-Social-Web(repo)'), (u'extremecasey(user)', 'Mining-the-Social-Web(repo)'), (u'jakobzhao(user)', 'Mining-the-Social-Web(repo)'), (u'lvwangbeta(user)', 'Mining-the-Social-Web(repo)'), (u'raoulwissink(user)', 'Mining-the-Social-Web(repo)'), (u'edglazer(user)', 'Mining-the-Social-Web(repo)'), (u'sffafa(user)', 'Mining-the-Social-Web(repo)'), (u'rdempsey(user)', 'Mining-the-Social-Web(repo)'), (u'gcornejo(user)', 'Mining-the-Social-Web(repo)'), (u'redswallow(user)', 'Mining-the-Social-Web(repo)'), (u'BrentAuble(user)', 'Mining-the-Social-Web(repo)'), (u'janetyc(user)', 'Mining-the-Social-Web(repo)'), (u'wanpiqiao(user)', 'Mining-the-Social-Web(repo)'), (u'blackerby(user)', 'Mining-the-Social-Web(repo)'), (u'thaifdotme(user)', 'Mining-the-Social-Web(repo)'), (u'daemianmack(user)', 'Mining-the-Social-Web(repo)'), (u'ikari-pl(user)', 'Mining-the-Social-Web(repo)'), (u'Tuxified(user)', 'Mining-the-Social-Web(repo)'), (u'0x27(user)', 'Mining-the-Social-Web(repo)'), (u'tisihara(user)', 'Mining-the-Social-Web(repo)'), (u'andreypaa(user)', 'Mining-the-Social-Web(repo)'), (u'gregrahn(user)', 'Mining-the-Social-Web(repo)'), (u'mountcrow(user)', 'Mining-the-Social-Web(repo)'), (u'Prufrock1(user)', 'Mining-the-Social-Web(repo)'), (u'zhangwenkang(user)', 'Mining-the-Social-Web(repo)'), (u'mrmvergeer(user)', 'Mining-the-Social-Web(repo)'), (u'sofianhw(user)', 'Mining-the-Social-Web(repo)'), (u'folkengine(user)', 'Mining-the-Social-Web(repo)'), (u'ramkrsna(user)', 'Mining-the-Social-Web(repo)'), (u'likaiguo(user)', 'Mining-the-Social-Web(repo)'), (u'cyrusin(user)', 'Mining-the-Social-Web(repo)'), (u'bryantology(user)', 'Mining-the-Social-Web(repo)'), (u'joeywen(user)', 'Mining-the-Social-Web(repo)'), (u'slojo404(user)', 'Mining-the-Social-Web(repo)'), (u'negrond(user)', 'Mining-the-Social-Web(repo)'), (u'myditto(user)', 'Mining-the-Social-Web(repo)'), (u'shaobin0604(user)', 'Mining-the-Social-Web(repo)'), (u'yuxwmail(user)', 'Mining-the-Social-Web(repo)'), (u'anirudhjoshi(user)', 'Mining-the-Social-Web(repo)'), (u'Doppp(user)', 'Mining-the-Social-Web(repo)'), (u'jbreger(user)', 'Mining-the-Social-Web(repo)'), (u'bcattle(user)', 'Mining-the-Social-Web(repo)'), (u'sumnous(user)', 'Mining-the-Social-Web(repo)'), (u'johnymontana(user)', 'Mining-the-Social-Web(repo)'), (u'manboubird(user)', 'Mining-the-Social-Web(repo)'), (u'jumping(user)', 'Mining-the-Social-Web(repo)'), (u'girish(user)', 'Mining-the-Social-Web(repo)'), (u'caseysoftware(user)', 'Mining-the-Social-Web(repo)'), (u'rohithjyothish(user)', 'Mining-the-Social-Web(repo)'), (u'edtechdev(user)', 'Mining-the-Social-Web(repo)'), (u'jwsy(user)', 'Mining-the-Social-Web(repo)'), (u'jhaus(user)', 'Mining-the-Social-Web(repo)'), (u'jtmhom88(user)', 'Mining-the-Social-Web(repo)'), (u'Thawab(user)', 'Mining-the-Social-Web(repo)'), (u'jah2488(user)', 'Mining-the-Social-Web(repo)'), (u'tswicegood(user)', 'Mining-the-Social-Web(repo)'), (u'sfahad46(user)', 'Mining-the-Social-Web(repo)'), (u'adivik2000(user)', 'Mining-the-Social-Web(repo)'), (u'masamik(user)', 'Mining-the-Social-Web(repo)'), (u'quakerpunk(user)', 'Mining-the-Social-Web(repo)'), (u'MorLong(user)', 'Mining-the-Social-Web(repo)'), (u'momotas210(user)', 'Mining-the-Social-Web(repo)'), (u'guillermogrande(user)', 'Mining-the-Social-Web(repo)'), (u'PendletonJones(user)', 'Mining-the-Social-Web(repo)'), (u'kadnan(user)', 'Mining-the-Social-Web(repo)'), (u'prod-man(user)', 'Mining-the-Social-Web(repo)'), (u'hejibo(user)', 'Mining-the-Social-Web(repo)'), (u'disappearedgod(user)', 'Mining-the-Social-Web(repo)'), (u'jpendry(user)', 'Mining-the-Social-Web(repo)'), (u'michaelwills(user)', 'Mining-the-Social-Web(repo)'), (u'ehmo(user)', 'Mining-the-Social-Web(repo)'), (u'cobblest(user)', 'Mining-the-Social-Web(repo)'), (u'nacht(user)', 'Mining-the-Social-Web(repo)'), (u'espeed(user)', 'Mining-the-Social-Web(repo)'), (u'jgarza(user)', 'Mining-the-Social-Web(repo)'), (u'rytis(user)', 'Mining-the-Social-Web(repo)'), (u'dotpot(user)', 'Mining-the-Social-Web(repo)'), (u'roppen(user)', 'Mining-the-Social-Web(repo)'), (u'torazuka(user)', 'Mining-the-Social-Web(repo)'), (u'sabanana(user)', 'Mining-the-Social-Web(repo)'), (u'paxan(user)', 'Mining-the-Social-Web(repo)'), (u'cb372(user)', 'Mining-the-Social-Web(repo)'), (u'ZwyAnswer(user)', 'Mining-the-Social-Web(repo)'), (u'ocowchun(user)', 'Mining-the-Social-Web(repo)'), (u'dayu321(user)', 'Mining-the-Social-Web(repo)'), (u'IAbuElRuzz(user)', 'Mining-the-Social-Web(repo)'), (u'Almad(user)', 'Mining-the-Social-Web(repo)'), (u'ndarville(user)', 'Mining-the-Social-Web(repo)'), (u'magnum(user)', 'Mining-the-Social-Web(repo)'), (u'jean(user)', 'Mining-the-Social-Web(repo)'), (u'gkhnlts(user)', 'Mining-the-Social-Web(repo)'), (u'chunkplus(user)', 'Mining-the-Social-Web(repo)'), (u'barbietunnie(user)', 'Mining-the-Social-Web(repo)'), (u'ywdong(user)', 'Mining-the-Social-Web(repo)'), (u'hanula(user)', 'Mining-the-Social-Web(repo)'), (u'kkovacs(user)', 'Mining-the-Social-Web(repo)'), (u'phauly(user)', 'Mining-the-Social-Web(repo)'), (u'BillBai(user)', 'Mining-the-Social-Web(repo)'), (u'paulhoule(user)', 'Mining-the-Social-Web(repo)'), (u'jlcarvalho(user)', 'Mining-the-Social-Web(repo)'), (u'rickixie(user)', 'Mining-the-Social-Web(repo)'), (u'guoylyy(user)', 'Mining-the-Social-Web(repo)'), (u'elidupuis(user)', 'Mining-the-Social-Web(repo)'), (u'cameronpriest(user)', 'Mining-the-Social-Web(repo)'), (u'treper(user)', 'Mining-the-Social-Web(repo)'), (u'sangeethamuralidharan(user)', 'Mining-the-Social-Web(repo)'), (u'ahmads(user)', 'Mining-the-Social-Web(repo)'), (u'flyabroad(user)', 'Mining-the-Social-Web(repo)'), (u'csuper(user)', 'Mining-the-Social-Web(repo)'), (u'nimblemachine(user)', 'Mining-the-Social-Web(repo)'), (u'ykakihara(user)', 'Mining-the-Social-Web(repo)'), (u'cmcgovern(user)', 'Mining-the-Social-Web(repo)'), (u'Huiyang520(user)', 'Mining-the-Social-Web(repo)'), (u'jmshoffs0812(user)', 'Mining-the-Social-Web(repo)'), (u'dgryski(user)', 'Mining-the-Social-Web(repo)'), (u'samuel(user)', 'Mining-the-Social-Web(repo)'), (u'collardb(user)', 'Mining-the-Social-Web(repo)'), (u'joohnnie(user)', 'Mining-the-Social-Web(repo)'), (u'mapio(user)', 'Mining-the-Social-Web(repo)'), (u'gavinmh(user)', 'Mining-the-Social-Web(repo)'), (u'lg2046(user)', 'Mining-the-Social-Web(repo)'), (u'mmccaff(user)', 'Mining-the-Social-Web(repo)'), (u'shancci(user)', 'Mining-the-Social-Web(repo)'), (u'isnowfy(user)', 'Mining-the-Social-Web(repo)'), (u'bzak(user)', 'Mining-the-Social-Web(repo)'), (u'bjzu(user)', 'Mining-the-Social-Web(repo)'), (u'miyucy(user)', 'Mining-the-Social-Web(repo)'), (u'FGRibreau(user)', 'Mining-the-Social-Web(repo)'), (u'zonovo(user)', 'Mining-the-Social-Web(repo)'), (u'awb99(user)', 'Mining-the-Social-Web(repo)'), (u'mgrouchy(user)', 'Mining-the-Social-Web(repo)'), (u'matagus(user)', 'Mining-the-Social-Web(repo)'), (u'georgebellos(user)', 'Mining-the-Social-Web(repo)'), (u'myhomepc(user)', 'Mining-the-Social-Web(repo)'), (u'tokestermw(user)', 'Mining-the-Social-Web(repo)'), (u'lincolinnyan(user)', 'Mining-the-Social-Web(repo)'), (u'DKMonroe(user)', 'Mining-the-Social-Web(repo)'), (u'mkdotam(user)', 'Mining-the-Social-Web(repo)'), (u'mrblack555(user)', 'Mining-the-Social-Web(repo)'), (u'tttxxx(user)', 'Mining-the-Social-Web(repo)'), (u'redy(user)', 'Mining-the-Social-Web(repo)'), (u'shenli(user)', 'Mining-the-Social-Web(repo)'), (u'temberature(user)', 'Mining-the-Social-Web(repo)'), (u'funwalla(user)', 'Mining-the-Social-Web(repo)'), (u'apetrunev(user)', 'Mining-the-Social-Web(repo)'), (u'xlogik(user)', 'Mining-the-Social-Web(repo)'), (u'PowChow(user)', 'Mining-the-Social-Web(repo)'), (u'nordhuang(user)', 'Mining-the-Social-Web(repo)'), (u'pkrishnaprasad(user)', 'Mining-the-Social-Web(repo)'), (u'springga(user)', 'Mining-the-Social-Web(repo)'), (u'csuzhangxc(user)', 'Mining-the-Social-Web(repo)'), (u'gcavallanti(user)', 'Mining-the-Social-Web(repo)'), (u'InFog(user)', 'Mining-the-Social-Web(repo)'), (u'natorro(user)', 'Mining-the-Social-Web(repo)'), (u'ningandma(user)', 'Mining-the-Social-Web(repo)'), (u'wuhao4u(user)', 'Mining-the-Social-Web(repo)'), (u'morpheme(user)', 'Mining-the-Social-Web(repo)'), (u'rabbit-run(user)', 'Mining-the-Social-Web(repo)'), (u'chishaku(user)', 'Mining-the-Social-Web(repo)'), (u'daevid(user)', 'Mining-the-Social-Web(repo)'), (u'lyl7225(user)', 'Mining-the-Social-Web(repo)'), (u'macorama(user)', 'Mining-the-Social-Web(repo)'), (u'844792418(user)', 'Mining-the-Social-Web(repo)'), (u'nbyloff(user)', 'Mining-the-Social-Web(repo)'), (u'javouhey(user)', 'Mining-the-Social-Web(repo)'), (u'mhaidarh(user)', 'Mining-the-Social-Web(repo)'), (u'pparo(user)', 'Mining-the-Social-Web(repo)'), (u'opexxx(user)', 'Mining-the-Social-Web(repo)'), (u'jengdal(user)', 'Mining-the-Social-Web(repo)'), (u'chlalanne(user)', 'Mining-the-Social-Web(repo)'), (u'jcprandini(user)', 'Mining-the-Social-Web(repo)'), (u'joepestro(user)', 'Mining-the-Social-Web(repo)'), (u'theresia(user)', 'Mining-the-Social-Web(repo)'), (u'twidi(user)', 'Mining-the-Social-Web(repo)'), (u'marcbelmont(user)', 'Mining-the-Social-Web(repo)'), (u'gabstehr(user)', 'Mining-the-Social-Web(repo)'), (u'astergu(user)', 'Mining-the-Social-Web(repo)'), (u'eujinkim(user)', 'Mining-the-Social-Web(repo)'), (u'eddygreen(user)', 'Mining-the-Social-Web(repo)'), (u'aburan28(user)', 'Mining-the-Social-Web(repo)'), (u'slimsymphony(user)', 'Mining-the-Social-Web(repo)'), (u'oweidner(user)', 'Mining-the-Social-Web(repo)'), (u'polonia(user)', 'Mining-the-Social-Web(repo)'), (u'benjikraft(user)', 'Mining-the-Social-Web(repo)'), (u'anentropic(user)', 'Mining-the-Social-Web(repo)'), (u'freemandealer(user)', 'Mining-the-Social-Web(repo)'), (u'xxllp(user)', 'Mining-the-Social-Web(repo)'), (u'omg(user)', 'Mining-the-Social-Web(repo)'), (u'JonWeinberg(user)', 'Mining-the-Social-Web(repo)'), (u'ticean(user)', 'Mining-the-Social-Web(repo)'), (u'rgaidot(user)', 'Mining-the-Social-Web(repo)'), (u'mtchang(user)', 'Mining-the-Social-Web(repo)'), (u'dcloud(user)', 'Mining-the-Social-Web(repo)'), (u'danieljjh(user)', 'Mining-the-Social-Web(repo)'), (u'shuxue051(user)', 'Mining-the-Social-Web(repo)'), (u'lifeforaiur(user)', 'Mining-the-Social-Web(repo)'), (u'lilylabo(user)', 'Mining-the-Social-Web(repo)'), (u'wendyran(user)', 'Mining-the-Social-Web(repo)'), (u'toori67(user)', 'Mining-the-Social-Web(repo)'), (u'waleking(user)', 'Mining-the-Social-Web(repo)'), (u'pdailey(user)', 'Mining-the-Social-Web(repo)'), (u'SocialQ(user)', 'Mining-the-Social-Web(repo)'), (u'aminert(user)', 'Mining-the-Social-Web(repo)'), (u'pedrokoblitz(user)', 'Mining-the-Social-Web(repo)'), (u'waterfox0323(user)', 'Mining-the-Social-Web(repo)'), (u'cbdfocus(user)', 'Mining-the-Social-Web(repo)'), (u'brianjolly(user)', 'Mining-the-Social-Web(repo)'), (u'jlmvale(user)', 'Mining-the-Social-Web(repo)'), (u'hz2003(user)', 'Mining-the-Social-Web(repo)'), (u'jineshpaloor(user)', 'Mining-the-Social-Web(repo)'), (u'bobdia(user)', 'Mining-the-Social-Web(repo)'), (u'PittyXu(user)', 'Mining-the-Social-Web(repo)'), (u'datomnurdin(user)', 'Mining-the-Social-Web(repo)'), (u'ackratos(user)', 'Mining-the-Social-Web(repo)'), (u'vfulco(user)', 'Mining-the-Social-Web(repo)'), (u'jackxu(user)', 'Mining-the-Social-Web(repo)'), (u'webmaven(user)', 'Mining-the-Social-Web(repo)'), (u'gracaninja(user)', 'Mining-the-Social-Web(repo)'), (u'capricasix(user)', 'Mining-the-Social-Web(repo)'), (u'softpurkelly(user)', 'Mining-the-Social-Web(repo)'), (u'NikGero(user)', 'Mining-the-Social-Web(repo)'), (u'akton(user)', 'Mining-the-Social-Web(repo)'), (u'rickschmoo(user)', 'Mining-the-Social-Web(repo)'), (u'douglas-larocca(user)', 'Mining-the-Social-Web(repo)'), (u'shotaatago(user)', 'Mining-the-Social-Web(repo)'), (u'csjones(user)', 'Mining-the-Social-Web(repo)'), (u'hisuley(user)', 'Mining-the-Social-Web(repo)'), (u'sakares(user)', 'Mining-the-Social-Web(repo)'), (u'ndunnage(user)', 'Mining-the-Social-Web(repo)'), (u'davni(user)', 'Mining-the-Social-Web(repo)'), (u'pqnga(user)', 'Mining-the-Social-Web(repo)'), (u'4148(user)', 'Mining-the-Social-Web(repo)'), (u'mistahBen(user)', 'Mining-the-Social-Web(repo)'), (u'kibernick(user)', 'Mining-the-Social-Web(repo)'), (u'fozbaca(user)', 'Mining-the-Social-Web(repo)'), (u'nycterent(user)', 'Mining-the-Social-Web(repo)'), (u'lucassbgomes(user)', 'Mining-the-Social-Web(repo)'), (u'Derick13(user)', 'Mining-the-Social-Web(repo)'), (u'nisc(user)', 'Mining-the-Social-Web(repo)'), (u'LeandroAlmeida(user)', 'Mining-the-Social-Web(repo)'), (u'cenphoenix(user)', 'Mining-the-Social-Web(repo)'), (u'purplecow(user)', 'Mining-the-Social-Web(repo)'), (u'mpac(user)', 'Mining-the-Social-Web(repo)'), (u'openweb(user)', 'Mining-the-Social-Web(repo)'), (u'Doomking(user)', 'Mining-the-Social-Web(repo)'), (u'taoyu(user)', 'Mining-the-Social-Web(repo)'), (u'mt3(user)', 'Mining-the-Social-Web(repo)'), (u'briatte(user)', 'Mining-the-Social-Web(repo)'), (u'empjustine(user)', 'Mining-the-Social-Web(repo)'), (u'twneale(user)', 'Mining-the-Social-Web(repo)'), (u'chu052(user)', 'Mining-the-Social-Web(repo)'), (u'zambrose(user)', 'Mining-the-Social-Web(repo)'), (u'shockley(user)', 'Mining-the-Social-Web(repo)'), (u'billday(user)', 'Mining-the-Social-Web(repo)'), (u'chengen(user)', 'Mining-the-Social-Web(repo)'), (u'deepblue-phoenix(user)', 'Mining-the-Social-Web(repo)'), (u'pantelis(user)', 'Mining-the-Social-Web(repo)'), (u'ssingh10(user)', 'Mining-the-Social-Web(repo)'), (u'cacciaresi(user)', 'Mining-the-Social-Web(repo)'), (u'Basphil(user)', 'Mining-the-Social-Web(repo)'), (u'peicheng(user)', 'Mining-the-Social-Web(repo)'), (u'EmotionMask(user)', 'Mining-the-Social-Web(repo)'), (u'rosco5(user)', 'Mining-the-Social-Web(repo)'), (u'hectoregm(user)', 'Mining-the-Social-Web(repo)'), (u'bnvk(user)', 'Mining-the-Social-Web(repo)'), (u'bisko(user)', 'Mining-the-Social-Web(repo)'), (u'davidrd123(user)', 'Mining-the-Social-Web(repo)'), (u'w1mvy(user)', 'Mining-the-Social-Web(repo)'), (u'laixintao(user)', 'Mining-the-Social-Web(repo)'), (u'stumm(user)', 'Mining-the-Social-Web(repo)'), (u'arthur-e(user)', 'Mining-the-Social-Web(repo)'), (u'maysarax(user)', 'Mining-the-Social-Web(repo)'), (u'liule(user)', 'Mining-the-Social-Web(repo)'), (u'slaporte(user)', 'Mining-the-Social-Web(repo)'), (u'vmharrel(user)', 'Mining-the-Social-Web(repo)'), (u'xinnan(user)', 'Mining-the-Social-Web(repo)'), (u'Linusp(user)', 'Mining-the-Social-Web(repo)'), (u'aboutaaron(user)', 'Mining-the-Social-Web(repo)'), (u'omarayad1(user)', 'Mining-the-Social-Web(repo)'), (u'dougapd(user)', 'Mining-the-Social-Web(repo)'), (u'ggarlic(user)', 'Mining-the-Social-Web(repo)'), (u'zhurizhe(user)', 'Mining-the-Social-Web(repo)'), (u'scorpiohjx(user)', 'Mining-the-Social-Web(repo)'), (u'bendaizer(user)', 'Mining-the-Social-Web(repo)'), (u'valentinzberea(user)', 'Mining-the-Social-Web(repo)'), (u'chaoticjoy(user)', 'Mining-the-Social-Web(repo)'), (u'ekanol(user)', 'Mining-the-Social-Web(repo)'), (u'xiaxianzhi(user)', 'Mining-the-Social-Web(repo)'), (u'phillpafford(user)', 'Mining-the-Social-Web(repo)'), (u'onozka(user)', 'Mining-the-Social-Web(repo)'), (u'samuelleach(user)', 'Mining-the-Social-Web(repo)'), (u'campeterson(user)', 'Mining-the-Social-Web(repo)'), (u'gar(user)', 'Mining-the-Social-Web(repo)'), (u'chrisapril(user)', 'Mining-the-Social-Web(repo)'), (u'AshBT(user)', 'Mining-the-Social-Web(repo)'), (u'yangzhandong999(user)', 'Mining-the-Social-Web(repo)'), (u'krmaxwell(user)', 'Mining-the-Social-Web(repo)'), (u'brooklynrob(user)', 'Mining-the-Social-Web(repo)'), (u'sandyleo26(user)', 'Mining-the-Social-Web(repo)'), (u'albertsun(user)', 'Mining-the-Social-Web(repo)'), (u'gravitymonkey(user)', 'Mining-the-Social-Web(repo)'), (u'pygloo(user)', 'Mining-the-Social-Web(repo)'), (u'sp0rus(user)', 'Mining-the-Social-Web(repo)'), (u'seancron(user)', 'Mining-the-Social-Web(repo)'), (u'velthuis(user)', 'Mining-the-Social-Web(repo)'), (u'jgrosche(user)', 'Mining-the-Social-Web(repo)'), (u'kostyll(user)', 'Mining-the-Social-Web(repo)'), (u'fone4u(user)', 'Mining-the-Social-Web(repo)'), (u'KRostyslav(user)', 'Mining-the-Social-Web(repo)'), (u'judywawira(user)', 'Mining-the-Social-Web(repo)'), (u'ngopal(user)', 'Mining-the-Social-Web(repo)'), (u'norri(user)', 'Mining-the-Social-Web(repo)'), (u'DanielleSucher(user)', 'Mining-the-Social-Web(repo)'), (u'amitagrawal(user)', 'Mining-the-Social-Web(repo)'), (u'iroid(user)', 'Mining-the-Social-Web(repo)'), (u'Zolomon(user)', 'Mining-the-Social-Web(repo)'), (u'rsmoz(user)', 'Mining-the-Social-Web(repo)'), (u'bngoogle(user)', 'Mining-the-Social-Web(repo)'), (u'mfalcon(user)', 'Mining-the-Social-Web(repo)'), (u'panckreous(user)', 'Mining-the-Social-Web(repo)'), (u'nipengadmaster(user)', 'Mining-the-Social-Web(repo)'), (u'albhardy(user)', 'Mining-the-Social-Web(repo)'), (u'michaeldhealy(user)', 'Mining-the-Social-Web(repo)'), (u'rabit(user)', 'Mining-the-Social-Web(repo)'), (u'macdet(user)', 'Mining-the-Social-Web(repo)'), (u'analyticsPierce(user)', 'Mining-the-Social-Web(repo)'), (u'liuyix(user)', 'Mining-the-Social-Web(repo)'), (u'mikedorseyjr(user)', 'Mining-the-Social-Web(repo)'), (u'zhouzhuojie(user)', 'Mining-the-Social-Web(repo)'), (u'hellysmile(user)', 'Mining-the-Social-Web(repo)'), (u'jingle(user)', 'Mining-the-Social-Web(repo)'), (u'Gonzillaaa(user)', 'Mining-the-Social-Web(repo)'), (u'lrvick(user)', 'Mining-the-Social-Web(repo)'), (u'daveturnbull(user)', 'Mining-the-Social-Web(repo)'), (u'umaar(user)', 'Mining-the-Social-Web(repo)'), (u'donigian(user)', 'Mining-the-Social-Web(repo)'), (u'japerk(user)', 'Mining-the-Social-Web(repo)'), (u'danielmavi(user)', 'Mining-the-Social-Web(repo)'), (u'andrzejbe(user)', 'Mining-the-Social-Web(repo)'), (u'elimisteve(user)', 'Mining-the-Social-Web(repo)'), (u'doeslater(user)', 'Mining-the-Social-Web(repo)'), (u'ismaild(user)', 'Mining-the-Social-Web(repo)'), (u'feedmecookies(user)', 'Mining-the-Social-Web(repo)'), (u'cicuz(user)', 'Mining-the-Social-Web(repo)'), (u'gerad(user)', 'Mining-the-Social-Web(repo)'), (u'valdergallo(user)', 'Mining-the-Social-Web(repo)'), (u'rnagle(user)', 'Mining-the-Social-Web(repo)'), (u'subasish(user)', 'Mining-the-Social-Web(repo)'), (u'hackrole(user)', 'Mining-the-Social-Web(repo)'), (u'jeffmaxton(user)', 'Mining-the-Social-Web(repo)'), (u'mdyang(user)', 'Mining-the-Social-Web(repo)'), (u'semerda(user)', 'Mining-the-Social-Web(repo)'), (u'nishant8BITS(user)', 'Mining-the-Social-Web(repo)'), (u'steverife(user)', 'Mining-the-Social-Web(repo)'), (u'Fansion(user)', 'Mining-the-Social-Web(repo)'), (u'nabeelmukhtar(user)', 'Mining-the-Social-Web(repo)'), (u'haruna-nishiwaki(user)', 'Mining-the-Social-Web(repo)'), (u'mtfelix(user)', 'Mining-the-Social-Web(repo)'), (u'chc170(user)', 'Mining-the-Social-Web(repo)'), (u'flyer103(user)', 'Mining-the-Social-Web(repo)'), (u'marctmiller(user)', 'Mining-the-Social-Web(repo)'), (u'huangliang2211(user)', 'Mining-the-Social-Web(repo)'), (u'hisakato(user)', 'Mining-the-Social-Web(repo)'), (u'klous(user)', 'Mining-the-Social-Web(repo)'), (u'hertzel(user)', 'Mining-the-Social-Web(repo)'), (u'bolaft(user)', 'Mining-the-Social-Web(repo)'), (u'kharakawa(user)', 'Mining-the-Social-Web(repo)'), (u'kencochrane(user)', 'Mining-the-Social-Web(repo)'), (u'GuosongChen(user)', 'Mining-the-Social-Web(repo)'), (u'carhartl(user)', 'Mining-the-Social-Web(repo)'), (u'mkhDev(user)', 'Mining-the-Social-Web(repo)'), (u'LucianaLu(user)', 'Mining-the-Social-Web(repo)'), (u'buffpojken(user)', 'Mining-the-Social-Web(repo)'), (u'ardendertat(user)', 'Mining-the-Social-Web(repo)'), (u'sudheervazrapu(user)', 'Mining-the-Social-Web(repo)'), (u'aljosa(user)', 'Mining-the-Social-Web(repo)'), (u'CodingBob(user)', 'Mining-the-Social-Web(repo)'), (u'lizheming(user)', 'Mining-the-Social-Web(repo)'), (u'jasonyaowu(user)', 'Mining-the-Social-Web(repo)'), (u'kevinbluer(user)', 'Mining-the-Social-Web(repo)'), (u'wojtha(user)', 'Mining-the-Social-Web(repo)'), (u'echoapp(user)', 'Mining-the-Social-Web(repo)'), (u'blooberr(user)', 'Mining-the-Social-Web(repo)'), (u'eiriks(user)', 'Mining-the-Social-Web(repo)'), (u'oyomei(user)', 'Mining-the-Social-Web(repo)'), (u'netjack(user)', 'Mining-the-Social-Web(repo)'), (u'Tommassissimo(user)', 'Mining-the-Social-Web(repo)'), (u'nicib83(user)', 'Mining-the-Social-Web(repo)'), (u'amygdala(user)', 'Mining-the-Social-Web(repo)'), (u'nfx(user)', 'Mining-the-Social-Web(repo)'), (u'BleuShip(user)', 'Mining-the-Social-Web(repo)'), (u'vuran(user)', 'Mining-the-Social-Web(repo)'), (u'mahmoudimus(user)', 'Mining-the-Social-Web(repo)'), (u'lixiaojun(user)', 'Mining-the-Social-Web(repo)'), (u'rduong(user)', 'Mining-the-Social-Web(repo)'), (u'gavelez(user)', 'Mining-the-Social-Web(repo)'), (u'th0ma5w(user)', 'Mining-the-Social-Web(repo)'), (u'jquattrocchi(user)', 'Mining-the-Social-Web(repo)'), (u'jonhurlock(user)', 'Mining-the-Social-Web(repo)'), (u'nbartels(user)', 'Mining-the-Social-Web(repo)'), (u'beibeiyang(user)', 'Mining-the-Social-Web(repo)'), (u'whitefoxx(user)', 'Mining-the-Social-Web(repo)'), (u'FrankRouter(user)', 'Mining-the-Social-Web(repo)'), (u'andravasile(user)', 'Mining-the-Social-Web(repo)'), (u'jensenrf(user)', 'Mining-the-Social-Web(repo)'), (u'Smerity(user)', 'Mining-the-Social-Web(repo)'), (u'shamiksharma(user)', 'Mining-the-Social-Web(repo)'), (u'butterwick(user)', 'Mining-the-Social-Web(repo)'), (u'huhupao(user)', 'Mining-the-Social-Web(repo)'), (u'ahmdrefat(user)', 'Mining-the-Social-Web(repo)'), (u'nelliemckesson(user)', 'Mining-the-Social-Web(repo)'), (u'okumin(user)', 'Mining-the-Social-Web(repo)'), (u'superfine(user)', 'Mining-the-Social-Web(repo)'), (u'ljdawn(user)', 'Mining-the-Social-Web(repo)'), (u'Nooby(user)', 'Mining-the-Social-Web(repo)'), (u'lovej(user)', 'Mining-the-Social-Web(repo)'), (u'zen4ever(user)', 'Mining-the-Social-Web(repo)'), (u'orlandoferrer(user)', 'Mining-the-Social-Web(repo)'), (u'pxue(user)', 'Mining-the-Social-Web(repo)'), (u'nava45(user)', 'Mining-the-Social-Web(repo)'), (u'harit-sunrun(user)', 'Mining-the-Social-Web(repo)'), (u'Vheissu(user)', 'Mining-the-Social-Web(repo)'), (u'blackte(user)', 'Mining-the-Social-Web(repo)'), (u'skpatidar(user)', 'Mining-the-Social-Web(repo)'), (u'sukottokun(user)', 'Mining-the-Social-Web(repo)'), (u'xuxiandi(user)', 'Mining-the-Social-Web(repo)'), (u'mrcrabby(user)', 'Mining-the-Social-Web(repo)'), (u'ozgur(user)', 'Mining-the-Social-Web(repo)'), (u'ikegami-yukino(user)', 'Mining-the-Social-Web(repo)'), (u'sabman(user)', 'Mining-the-Social-Web(repo)'), (u'van5150(user)', 'Mining-the-Social-Web(repo)'), (u'hite(user)', 'Mining-the-Social-Web(repo)'), (u'MaggiePlusPlus(user)', 'Mining-the-Social-Web(repo)'), (u'ahill1(user)', 'Mining-the-Social-Web(repo)'), (u'chaoyangqq(user)', 'Mining-the-Social-Web(repo)'), (u'KwangKa(user)', 'Mining-the-Social-Web(repo)'), (u'danielpreotiuc(user)', 'Mining-the-Social-Web(repo)'), (u'bryantly(user)', 'Mining-the-Social-Web(repo)'), (u'amuise(user)', 'Mining-the-Social-Web(repo)'), (u'sungis(user)', 'Mining-the-Social-Web(repo)'), (u'srikanth-npcompete(user)', 'Mining-the-Social-Web(repo)'), (u'tishon(user)', 'Mining-the-Social-Web(repo)'), (u'lingling2012(user)', 'Mining-the-Social-Web(repo)'), (u'wernerramaekers(user)', 'Mining-the-Social-Web(repo)'), (u'jkbrzt(user)', 'Mining-the-Social-Web(repo)'), (u'jexchan(user)', 'Mining-the-Social-Web(repo)'), (u'Zouyiran(user)', 'Mining-the-Social-Web(repo)'), (u'colfire(user)', 'Mining-the-Social-Web(repo)'), (u'amanahuja(user)', 'Mining-the-Social-Web(repo)'), (u'dcj(user)', 'Mining-the-Social-Web(repo)'), (u'liuzz1983(user)', 'Mining-the-Social-Web(repo)'), (u'clarecorthell(user)', 'Mining-the-Social-Web(repo)'), (u'lmmsoft(user)', 'Mining-the-Social-Web(repo)'), (u'mlaprise(user)', 'Mining-the-Social-Web(repo)'), (u'sp00(user)', 'Mining-the-Social-Web(repo)'), (u'burakerdem(user)', 'Mining-the-Social-Web(repo)'), (u'lucianosb(user)', 'Mining-the-Social-Web(repo)'), (u'sebasmagri(user)', 'Mining-the-Social-Web(repo)'), (u'janedallaway(user)', 'Mining-the-Social-Web(repo)'), (u'evandrix(user)', 'Mining-the-Social-Web(repo)'), (u'Kilian(user)', 'Mining-the-Social-Web(repo)'), (u'tikums(user)', 'Mining-the-Social-Web(repo)'), (u'jdmiranda(user)', 'Mining-the-Social-Web(repo)'), (u'shunwen(user)', 'Mining-the-Social-Web(repo)'), (u'kyrcha(user)', 'Mining-the-Social-Web(repo)'), (u'mikedory(user)', 'Mining-the-Social-Web(repo)'), (u'Xeoncross(user)', 'Mining-the-Social-Web(repo)'), (u'hardisty(user)', 'Mining-the-Social-Web(repo)'), (u'sanpingz(user)', 'Mining-the-Social-Web(repo)'), (u'chharish(user)', 'Mining-the-Social-Web(repo)'), (u'mcanthony(user)', 'Mining-the-Social-Web(repo)'), (u'ryanoneill(user)', 'Mining-the-Social-Web(repo)'), (u'sammyrulez(user)', 'Mining-the-Social-Web(repo)'), (u'yishino22(user)', 'Mining-the-Social-Web(repo)'), (u'pentesticles(user)', 'Mining-the-Social-Web(repo)'), (u'ichim-david(user)', 'Mining-the-Social-Web(repo)'), (u'JimberXin(user)', 'Mining-the-Social-Web(repo)'), (u'souri(user)', 'Mining-the-Social-Web(repo)'), (u'matsu911(user)', 'Mining-the-Social-Web(repo)'), (u'alecnascimento(user)', 'Mining-the-Social-Web(repo)'), (u'cmlh(user)', 'Mining-the-Social-Web(repo)'), (u'inkless(user)', 'Mining-the-Social-Web(repo)'), (u'dgleebits(user)', 'Mining-the-Social-Web(repo)'), (u'mduering(user)', 'Mining-the-Social-Web(repo)'), (u'adriaant(user)', 'Mining-the-Social-Web(repo)'), (u'fmaume(user)', 'Mining-the-Social-Web(repo)'), (u'denisarnaud(user)', 'Mining-the-Social-Web(repo)'), (u'lxj0276(user)', 'Mining-the-Social-Web(repo)'), (u'dan0(user)', 'Mining-the-Social-Web(repo)'), (u'mjankiewicz(user)', 'Mining-the-Social-Web(repo)'), (u'gabrielluong(user)', 'Mining-the-Social-Web(repo)'), (u'ccxysfh(user)', 'Mining-the-Social-Web(repo)'), (u'yxlwfds(user)', 'Mining-the-Social-Web(repo)'), (u'gitmmeanwell(user)', 'Mining-the-Social-Web(repo)'), (u'forrest001(user)', 'Mining-the-Social-Web(repo)'), (u'patrickclancy(user)', 'Mining-the-Social-Web(repo)'), (u'microamp(user)', 'Mining-the-Social-Web(repo)'), (u'website0207(user)', 'Mining-the-Social-Web(repo)'), (u'MadDataScience(user)', 'Mining-the-Social-Web(repo)'), (u't3j45(user)', 'Mining-the-Social-Web(repo)'), (u'kod3r(user)', 'Mining-the-Social-Web(repo)'), (u'satybald(user)', 'Mining-the-Social-Web(repo)'), (u'arnim(user)', 'Mining-the-Social-Web(repo)'), (u'invinciblejha(user)', 'Mining-the-Social-Web(repo)'), (u'ch0psticks(user)', 'Mining-the-Social-Web(repo)'), (u'dozean(user)', 'Mining-the-Social-Web(repo)'), (u'phildow(user)', 'Mining-the-Social-Web(repo)'), (u'jonathanyee(user)', 'Mining-the-Social-Web(repo)'), (u'putorti(user)', 'Mining-the-Social-Web(repo)'), (u'odewahn(user)', 'Mining-the-Social-Web(repo)'), (u'degiere(user)', 'Mining-the-Social-Web(repo)'), (u'prashanthmcr(user)', 'Mining-the-Social-Web(repo)'), (u'webpig(user)', 'Mining-the-Social-Web(repo)'), (u'nvoa2358(user)', 'Mining-the-Social-Web(repo)'), (u'jcamacaro(user)', 'Mining-the-Social-Web(repo)'), (u'anneeeee(user)', 'Mining-the-Social-Web(repo)'), (u'elviswf(user)', 'Mining-the-Social-Web(repo)'), (u'knapsack(user)', 'Mining-the-Social-Web(repo)'), (u'spartakan(user)', 'Mining-the-Social-Web(repo)'), (u'jackylee(user)', 'Mining-the-Social-Web(repo)'), (u'liujiantong(user)', 'Mining-the-Social-Web(repo)'), (u'vshulyak(user)', 'Mining-the-Social-Web(repo)'), (u'dextercasey(user)', 'Mining-the-Social-Web(repo)'), (u'darkseed(user)', 'Mining-the-Social-Web(repo)'), (u'Kudo(user)', 'Mining-the-Social-Web(repo)'), (u'jasonbogovich(user)', 'Mining-the-Social-Web(repo)'), (u'supaket(user)', 'Mining-the-Social-Web(repo)'), (u'miclovich(user)', 'Mining-the-Social-Web(repo)'), (u'firesofmay(user)', 'Mining-the-Social-Web(repo)'), (u'cchamma(user)', 'Mining-the-Social-Web(repo)'), (u'levigross(user)', 'Mining-the-Social-Web(repo)'), (u'blynch(user)', 'Mining-the-Social-Web(repo)'), (u'octoberman(user)', 'Mining-the-Social-Web(repo)'), (u'fasouto(user)', 'Mining-the-Social-Web(repo)'), (u'vkurchatkin(user)', 'Mining-the-Social-Web(repo)'), (u'msbanik(user)', 'Mining-the-Social-Web(repo)'), (u'carlplant(user)', 'Mining-the-Social-Web(repo)'), (u'infantiablue(user)', 'Mining-the-Social-Web(repo)'), (u'lulstrup(user)', 'Mining-the-Social-Web(repo)'), (u'andreigta(user)', 'Mining-the-Social-Web(repo)'), (u'johnthedebs(user)', 'Mining-the-Social-Web(repo)'), (u'jcesarblues(user)', 'Mining-the-Social-Web(repo)'), (u'kimispencer(user)', 'Mining-the-Social-Web(repo)'), (u'mgalushka(user)', 'Mining-the-Social-Web(repo)'), (u'takuan-osho(user)', 'Mining-the-Social-Web(repo)'), (u'Geek4IT(user)', 'Mining-the-Social-Web(repo)'), (u'arnab-chakrabarti(user)', 'Mining-the-Social-Web(repo)'), (u'galvez(user)', 'Mining-the-Social-Web(repo)'), (u'klgraham(user)', 'Mining-the-Social-Web(repo)'), (u'slavik777(user)', 'Mining-the-Social-Web(repo)'), (u'qxde01(user)', 'Mining-the-Social-Web(repo)'), (u'bertomartin(user)', 'Mining-the-Social-Web(repo)'), (u'doolin(user)', 'Mining-the-Social-Web(repo)'), (u'JosephLaurino(user)', 'Mining-the-Social-Web(repo)'), (u'brycepj(user)', 'Mining-the-Social-Web(repo)'), (u'tschloss(user)', 'Mining-the-Social-Web(repo)'), (u'ypxu(user)', 'Mining-the-Social-Web(repo)'), (u'aaronlifton(user)', 'Mining-the-Social-Web(repo)'), (u'marco-s(user)', 'Mining-the-Social-Web(repo)'), (u'zebpalmer(user)', 'Mining-the-Social-Web(repo)'), (u'skibblenybbles(user)', 'Mining-the-Social-Web(repo)'), (u'max08(user)', 'Mining-the-Social-Web(repo)'), (u'neko1990(user)', 'Mining-the-Social-Web(repo)'), (u'mvid(user)', 'Mining-the-Social-Web(repo)'), (u'rays(user)', 'Mining-the-Social-Web(repo)'), (u'lizbew(user)', 'Mining-the-Social-Web(repo)'), (u'laranea(user)', 'Mining-the-Social-Web(repo)'), (u'mikeloukides(user)', 'Mining-the-Social-Web(repo)'), (u'shulinway(user)', 'Mining-the-Social-Web(repo)'), (u'realoptimal(user)', 'Mining-the-Social-Web(repo)'), (u'jmorenoamor(user)', 'Mining-the-Social-Web(repo)'), (u'prb(user)', 'Mining-the-Social-Web(repo)'), (u'screaming(user)', 'Mining-the-Social-Web(repo)'), (u'twistdroach(user)', 'Mining-the-Social-Web(repo)'), (u'bowenli37(user)', 'Mining-the-Social-Web(repo)'), (u'smokymountains(user)', 'Mining-the-Social-Web(repo)'), (u'RolandAdorjani(user)', 'Mining-the-Social-Web(repo)'), (u'vvoody(user)', 'Mining-the-Social-Web(repo)'), (u'nokuno(user)', 'Mining-the-Social-Web(repo)'), (u'zgw21cn(user)', 'Mining-the-Social-Web(repo)'), (u'jph98(user)', 'Mining-the-Social-Web(repo)'), (u'lkrids(user)', 'Mining-the-Social-Web(repo)'), (u'dudarev(user)', 'Mining-the-Social-Web(repo)'), (u'gradetwo(user)', 'Mining-the-Social-Web(repo)'), (u'rbarraud(user)', 'Mining-the-Social-Web(repo)'), (u'miron(user)', 'Mining-the-Social-Web(repo)'), (u'calvdee(user)', 'Mining-the-Social-Web(repo)'), (u'phernandez(user)', 'Mining-the-Social-Web(repo)'), (u'deathcape(user)', 'Mining-the-Social-Web(repo)'), (u'anylzer(user)', 'Mining-the-Social-Web(repo)'), (u'theantisofa(user)', 'Mining-the-Social-Web(repo)'), (u'zdogma(user)', 'Mining-the-Social-Web(repo)'), (u'alessandroleite(user)', 'Mining-the-Social-Web(repo)'), (u'annoit(user)', 'Mining-the-Social-Web(repo)'), (u'conditionalogic(user)', 'Mining-the-Social-Web(repo)'), (u'udooz(user)', 'Mining-the-Social-Web(repo)'), (u'ssx(user)', 'Mining-the-Social-Web(repo)'), (u'diskang(user)', 'Mining-the-Social-Web(repo)'), (u'getnpk(user)', 'Mining-the-Social-Web(repo)'), (u'twleung(user)', 'Mining-the-Social-Web(repo)'), (u'bugkiwi(user)', 'Mining-the-Social-Web(repo)'), (u'darwin31(user)', 'Mining-the-Social-Web(repo)'), (u'retrobabel(user)', 'Mining-the-Social-Web(repo)'), (u'indiejoseph(user)', 'Mining-the-Social-Web(repo)'), (u'shahkushan1(user)', 'Mining-the-Social-Web(repo)'), (u'JGeovani(user)', 'Mining-the-Social-Web(repo)'), (u'joskid(user)', 'Mining-the-Social-Web(repo)'), (u'omarberg(user)', 'Mining-the-Social-Web(repo)'), (u'kcnickerson(user)', 'Mining-the-Social-Web(repo)'), (u'eraldcoil(user)', 'Mining-the-Social-Web(repo)'), (u'stevencoding(user)', 'Mining-the-Social-Web(repo)'), (u'ygbr(user)', 'Mining-the-Social-Web(repo)'), (u'HandyAndyShortStack(user)', 'Mining-the-Social-Web(repo)'), (u'mki(user)', 'Mining-the-Social-Web(repo)'), (u'osiloke(user)', 'Mining-the-Social-Web(repo)'), (u'amitkumar01(user)', 'Mining-the-Social-Web(repo)'), (u'robbfitzsimmons(user)', 'Mining-the-Social-Web(repo)'), (u'cegme(user)', 'Mining-the-Social-Web(repo)'), (u'lslab(user)', 'Mining-the-Social-Web(repo)'), (u'KWMalik(user)', 'Mining-the-Social-Web(repo)'), (u'pinoystartup(user)', 'Mining-the-Social-Web(repo)'), (u'solutionsmith(user)', 'Mining-the-Social-Web(repo)'), (u'mikhailxu(user)', 'Mining-the-Social-Web(repo)'), (u'vgoklani(user)', 'Mining-the-Social-Web(repo)'), (u'xuqiang(user)', 'Mining-the-Social-Web(repo)'), (u'motord(user)', 'Mining-the-Social-Web(repo)'), (u'lmazzon(user)', 'Mining-the-Social-Web(repo)'), (u'katajuta(user)', 'Mining-the-Social-Web(repo)'), (u'gawbul(user)', 'Mining-the-Social-Web(repo)'), (u'bcho(user)', 'Mining-the-Social-Web(repo)'), (u'nellaivijay(user)', 'Mining-the-Social-Web(repo)'), (u'philshem(user)', 'Mining-the-Social-Web(repo)'), (u'jacktang(user)', 'Mining-the-Social-Web(repo)'), (u'soarer(user)', 'Mining-the-Social-Web(repo)'), (u'zeristor(user)', 'Mining-the-Social-Web(repo)'), (u'ptwobrussell(user)', 'Mining-the-Social-Web(repo)'), (u'bigsml(user)', 'Mining-the-Social-Web(repo)'), (u'mtayseer(user)', 'Mining-the-Social-Web(repo)'), (u'mcroydon(user)', 'Mining-the-Social-Web(repo)'), (u'mirjalil(user)', 'Mining-the-Social-Web(repo)'), (u'dlkahn(user)', 'Mining-the-Social-Web(repo)'), (u'numb3r3(user)', 'Mining-the-Social-Web(repo)'), (u'edwelker(user)', 'Mining-the-Social-Web(repo)'), (u'wenLiangcan(user)', 'Mining-the-Social-Web(repo)'), (u'soumyasd(user)', 'Mining-the-Social-Web(repo)'), (u'aviot(user)', 'Mining-the-Social-Web(repo)'), (u'gaohao(user)', 'Mining-the-Social-Web(repo)'), (u'mohamadhussien(user)', 'Mining-the-Social-Web(repo)'), (u'bin3(user)', 'Mining-the-Social-Web(repo)'), (u'ivanfioravanti(user)', 'Mining-the-Social-Web(repo)'), (u'alixaxel(user)', 'Mining-the-Social-Web(repo)'), (u'tankle(user)', 'Mining-the-Social-Web(repo)'), (u'blu-elephant(user)', 'Mining-the-Social-Web(repo)'), (u'benregn(user)', 'Mining-the-Social-Web(repo)'), (u'yellowBirdy(user)', 'Mining-the-Social-Web(repo)'), (u'Gal3riel(user)', 'Mining-the-Social-Web(repo)'), (u'stonegao(user)', 'Mining-the-Social-Web(repo)'), (u'cdesch(user)', 'Mining-the-Social-Web(repo)'), (u'nborwankar(user)', 'Mining-the-Social-Web(repo)'), (u'vinay631(user)', 'Mining-the-Social-Web(repo)'), (u'geojackass-shoichi(user)', 'Mining-the-Social-Web(repo)'), (u'LuRsT(user)', 'Mining-the-Social-Web(repo)'), (u'bearzx(user)', 'Mining-the-Social-Web(repo)'), (u'trevorhales(user)', 'Mining-the-Social-Web(repo)'), (u'davyfeng(user)', 'Mining-the-Social-Web(repo)'), (u'boskaiolo(user)', 'Mining-the-Social-Web(repo)'), (u'kemaltaskin(user)', 'Mining-the-Social-Web(repo)'), (u'rfinkers(user)', 'Mining-the-Social-Web(repo)'), (u'tzuryby(user)', 'Mining-the-Social-Web(repo)'), (u'jasonyaw(user)', 'Mining-the-Social-Web(repo)'), (u'swinton(user)', 'Mining-the-Social-Web(repo)'), (u'drelu(user)', 'Mining-the-Social-Web(repo)'), (u'LebronKodan(user)', 'Mining-the-Social-Web(repo)'), (u'yasu00000(user)', 'Mining-the-Social-Web(repo)'), (u'samesense(user)', 'Mining-the-Social-Web(repo)'), (u'brimbrom(user)', 'Mining-the-Social-Web(repo)'), (u'ggtr1138(user)', 'Mining-the-Social-Web(repo)'), (u'klaut(user)', 'Mining-the-Social-Web(repo)'), (u'sleeptillseven(user)', 'Mining-the-Social-Web(repo)'), (u'lzell(user)', 'Mining-the-Social-Web(repo)'), (u'jdzeil(user)', 'Mining-the-Social-Web(repo)'), (u'torsday(user)', 'Mining-the-Social-Web(repo)'), (u'kevinchiu(user)', 'Mining-the-Social-Web(repo)'), (u'babumathew(user)', 'Mining-the-Social-Web(repo)'), (u'hohoqi(user)', 'Mining-the-Social-Web(repo)'), (u'masroor(user)', 'Mining-the-Social-Web(repo)'), (u'zarzecks(user)', 'Mining-the-Social-Web(repo)'), (u'itsBegun(user)', 'Mining-the-Social-Web(repo)'), (u'pors(user)', 'Mining-the-Social-Web(repo)'), (u'aidiss(user)', 'Mining-the-Social-Web(repo)'), (u'cheekybastard(user)', 'Mining-the-Social-Web(repo)'), (u'ekgren(user)', 'Mining-the-Social-Web(repo)'), (u'bazinga777(user)', 'Mining-the-Social-Web(repo)'), (u'SamLebarbare(user)', 'Mining-the-Social-Web(repo)'), (u'zhaodylan(user)', 'Mining-the-Social-Web(repo)'), (u'guiambros(user)', 'Mining-the-Social-Web(repo)'), (u'sunchengjie(user)', 'Mining-the-Social-Web(repo)'), (u'dr00(user)', 'Mining-the-Social-Web(repo)'), (u'alessioalex(user)', 'Mining-the-Social-Web(repo)'), (u'ido(user)', 'Mining-the-Social-Web(repo)'), (u'caryhague(user)', 'Mining-the-Social-Web(repo)'), (u'BruFFHS(user)', 'Mining-the-Social-Web(repo)'), (u'manav(user)', 'Mining-the-Social-Web(repo)'), (u'katychuang(user)', 'Mining-the-Social-Web(repo)'), (u'Stecki(user)', 'Mining-the-Social-Web(repo)'), (u'aarynling(user)', 'Mining-the-Social-Web(repo)'), (u'wangqi(user)', 'Mining-the-Social-Web(repo)'), (u'shijinkui(user)', 'Mining-the-Social-Web(repo)'), (u'apitts(user)', 'Mining-the-Social-Web(repo)'), (u'wangrn(user)', 'Mining-the-Social-Web(repo)'), (u'visualisierte(user)', 'Mining-the-Social-Web(repo)'), (u'docete(user)', 'Mining-the-Social-Web(repo)'), (u'ustramooner(user)', 'Mining-the-Social-Web(repo)'), (u'lvspais(user)', 'Mining-the-Social-Web(repo)'), (u'sou(user)', 'Mining-the-Social-Web(repo)'), (u'Bllee(user)', 'Mining-the-Social-Web(repo)'), (u'm4ngust(user)', 'Mining-the-Social-Web(repo)'), (u'henrikno(user)', 'Mining-the-Social-Web(repo)'), (u'Buttonwood(user)', 'Mining-the-Social-Web(repo)'), (u'pcdinh(user)', 'Mining-the-Social-Web(repo)'), (u'icyphoenix(user)', 'Mining-the-Social-Web(repo)'), (u'shyamsingh(user)', 'Mining-the-Social-Web(repo)'), (u'semantium(user)', 'Mining-the-Social-Web(repo)'), (u'jonathanjo(user)', 'Mining-the-Social-Web(repo)'), (u'gdberrio(user)', 'Mining-the-Social-Web(repo)'), (u'srinatar(user)', 'Mining-the-Social-Web(repo)'), (u'skotwani(user)', 'Mining-the-Social-Web(repo)'), (u'antiface(user)', 'Mining-the-Social-Web(repo)'), (u'marksands(user)', 'Mining-the-Social-Web(repo)'), (u'abousha(user)', 'Mining-the-Social-Web(repo)'), (u'B-Rich(user)', 'Mining-the-Social-Web(repo)'), (u'cpyo(user)', 'Mining-the-Social-Web(repo)'), (u'umang94(user)', 'Mining-the-Social-Web(repo)'), (u'TaulantRamabaja(user)', 'Mining-the-Social-Web(repo)'), (u'sudar(user)', 'Mining-the-Social-Web(repo)'), (u'wmelton(user)', 'Mining-the-Social-Web(repo)'), (u'rportugal(user)', 'Mining-the-Social-Web(repo)'), (u'cpatni(user)', 'Mining-the-Social-Web(repo)'), (u'clyfe(user)', 'Mining-the-Social-Web(repo)'), (u'gaohailang(user)', 'Mining-the-Social-Web(repo)'), (u'jin-king(user)', 'Mining-the-Social-Web(repo)'), (u'chuckchen(user)', 'Mining-the-Social-Web(repo)'), (u'moutai(user)', 'Mining-the-Social-Web(repo)'), (u'wonderisland(user)', 'Mining-the-Social-Web(repo)'), (u'Tvli(user)', 'Mining-the-Social-Web(repo)'), (u'sunan(user)', 'Mining-the-Social-Web(repo)'), (u'shaunc(user)', 'Mining-the-Social-Web(repo)'), (u'haraball(user)', 'Mining-the-Social-Web(repo)'), (u'hackerway(user)', 'Mining-the-Social-Web(repo)'), (u'bjpcjp(user)', 'Mining-the-Social-Web(repo)'), (u'Jason-Chan(user)', 'Mining-the-Social-Web(repo)'), (u'tomconte(user)', 'Mining-the-Social-Web(repo)'), (u'swix(user)', 'Mining-the-Social-Web(repo)'), (u'Eagles2F(user)', 'Mining-the-Social-Web(repo)'), (u'ayaniimi213(user)', 'Mining-the-Social-Web(repo)'), (u'JT5D(user)', 'Mining-the-Social-Web(repo)'), (u'yeeyou(user)', 'Mining-the-Social-Web(repo)'), (u'clwen(user)', 'Mining-the-Social-Web(repo)'), (u'Arthraim(user)', 'Mining-the-Social-Web(repo)'), (u'srbjwe(user)', 'Mining-the-Social-Web(repo)'), (u'gui11aume(user)', 'Mining-the-Social-Web(repo)'), (u'immersinn(user)', 'Mining-the-Social-Web(repo)'), (u'suzuki(user)', 'Mining-the-Social-Web(repo)'), (u'sjwilliams(user)', 'Mining-the-Social-Web(repo)'), (u'dream4j(user)', 'Mining-the-Social-Web(repo)'), (u'zmughal(user)', 'Mining-the-Social-Web(repo)'), (u'ch710798472(user)', 'Mining-the-Social-Web(repo)'), (u'antiviruser(user)', 'Mining-the-Social-Web(repo)'), (u'abuiles(user)', 'Mining-the-Social-Web(repo)'), (u'Jamedxs(user)', 'Mining-the-Social-Web(repo)'), (u'aronlindberg(user)', 'Mining-the-Social-Web(repo)'), (u'lillies(user)', 'Mining-the-Social-Web(repo)'), (u'zavg(user)', 'Mining-the-Social-Web(repo)'), (u'divyakkm(user)', 'Mining-the-Social-Web(repo)'), (u'slacy(user)', 'Mining-the-Social-Web(repo)'), (u'richallensf(user)', 'Mining-the-Social-Web(repo)'), (u'ayakix(user)', 'Mining-the-Social-Web(repo)'), (u'rayleyva(user)', 'Mining-the-Social-Web(repo)'), (u'barce(user)', 'Mining-the-Social-Web(repo)'), (u'eephus101(user)', 'Mining-the-Social-Web(repo)'), (u'capitolmuckrakr(user)', 'Mining-the-Social-Web(repo)'), (u'azarbakht(user)', 'Mining-the-Social-Web(repo)'), (u'bigsnarfdude(user)', 'Mining-the-Social-Web(repo)'), (u'zhenv5(user)', 'Mining-the-Social-Web(repo)'), (u'lyddonb(user)', 'Mining-the-Social-Web(repo)'), (u'c0der007(user)', 'Mining-the-Social-Web(repo)'), (u'joshbhamilton(user)', 'Mining-the-Social-Web(repo)'), (u'tomze(user)', 'Mining-the-Social-Web(repo)'), (u'frfeni(user)', 'Mining-the-Social-Web(repo)'), (u'maurorodrigues(user)', 'Mining-the-Social-Web(repo)'), (u'yangdahui(user)', 'Mining-the-Social-Web(repo)'), (u'megansquire(user)', 'Mining-the-Social-Web(repo)'), (u'sraghav(user)', 'Mining-the-Social-Web(repo)'), (u'lao605(user)', 'Mining-the-Social-Web(repo)'), (u'tracyliang18(user)', 'Mining-the-Social-Web(repo)'), (u'srspear(user)', 'Mining-the-Social-Web(repo)'), (u'phildionne(user)', 'Mining-the-Social-Web(repo)'), (u'oskar-j(user)', 'Mining-the-Social-Web(repo)'), (u'yankay(user)', 'Mining-the-Social-Web(repo)'), (u'Macolulu(user)', 'Mining-the-Social-Web(repo)'), (u'jrstanley(user)', 'Mining-the-Social-Web(repo)'), (u'claudeck(user)', 'Mining-the-Social-Web(repo)')]\n",
        "[]\n"
       ]
      }
     ],
     "prompt_number": 9
    },
    {
     "cell_type": "heading",
     "level": 1,
     "metadata": {},
     "source": [
      "Example 7. \u5728Krackhardt\u98ce\u7b5d\u56fe\u4e2d\u8ba1\u7b97\u8282\u70b9\u7684\u5ea6\u3001\u4e2d\u4ecb\u4e2d\u5fc3\u5ea6\u548c\u63a5\u8fd1\u4e2d\u5fc3\u5ea6\u91cf"
     ]
    },
    {
     "cell_type": "code",
     "collapsed": false,
     "input": [
      "from operator import itemgetter\n",
      "from IPython.display import HTML\n",
      "from IPython.core.display import display\n",
      "\n",
      "display(HTML('<img src=\"files/resources/ch07-github/kite-graph.png\" width=\"400px\">'))\n",
      "\n",
      "# The classic Krackhardt kite graph\n",
      "kkg = nx.generators.small.krackhardt_kite_graph()\n",
      "\n",
      "print \"Degree Centrality\"\n",
      "print sorted(nx.degree_centrality(kkg).items(), \n",
      "             key=itemgetter(1), reverse=True)\n",
      "print\n",
      "\n",
      "print \"Betweenness Centrality\"\n",
      "print sorted(nx.betweenness_centrality(kkg).items(), \n",
      "             key=itemgetter(1), reverse=True)\n",
      "print\n",
      "\n",
      "print \"Closeness Centrality\"\n",
      "print sorted(nx.closeness_centrality(kkg).items(), \n",
      "             key=itemgetter(1), reverse=True)"
     ],
     "language": "python",
     "metadata": {},
     "outputs": [
      {
       "html": [
        "<img src=\"files/resources/ch07-github/kite-graph.png\" width=\"400px\">"
       ],
       "metadata": {},
       "output_type": "display_data",
       "text": [
        "<IPython.core.display.HTML at 0x6fa3210>"
       ]
      },
      {
       "output_type": "stream",
       "stream": "stdout",
       "text": [
        "Degree Centrality\n",
        "[(3, 0.6666666666666666), (5, 0.5555555555555556), (6, 0.5555555555555556), (0, 0.4444444444444444), (1, 0.4444444444444444), (2, 0.3333333333333333), (4, 0.3333333333333333), (7, 0.3333333333333333), (8, 0.2222222222222222), (9, 0.1111111111111111)]\n",
        "\n",
        "Betweenness Centrality\n",
        "[(7, 0.38888888888888884), (5, 0.23148148148148148), (6, 0.23148148148148148), (8, 0.2222222222222222), (3, 0.10185185185185183), (0, 0.023148148148148143), (1, 0.023148148148148143), (2, 0.0), (4, 0.0), (9, 0.0)]\n",
        "\n",
        "Closeness Centrality\n",
        "[(5, 0.6428571428571429), (6, 0.6428571428571429), (3, 0.6), (7, 0.6), (0, 0.5294117647058824), (1, 0.5294117647058824), (2, 0.5), (4, 0.5), (8, 0.42857142857142855), (9, 0.3103448275862069)]\n"
       ]
      }
     ],
     "prompt_number": 10
    },
    {
     "cell_type": "heading",
     "level": 1,
     "metadata": {},
     "source": [
      "Example 8.\u901a\u8fc7\u201c\u5173\u6ce8\u201d\u5173\u7cfb\u5411\u56fe\u4e2d\u6dfb\u52a0\u65b0\u7684\u5174\u8da3\u8fb9"
     ]
    },
    {
     "cell_type": "code",
     "collapsed": false,
     "input": [
      "# Add (social) edges from the stargazers' followers. This can take a while \n",
      "# because of all of the potential API calls to GitHub. The approximate number\n",
      "# of requests for followers for each iteration of this loop can be calculated as\n",
      "# math.ceil(sg.get_followers() / 100.0) per the API returning up to 100 items\n",
      "# at a time.\n",
      "\n",
      "import sys\n",
      "\n",
      "for i, sg in enumerate(stargazers):\n",
      "    \n",
      "    # Add \"follows\" edges between stargazers in the graph if any relationships exist\n",
      "    try:\n",
      "        for follower in sg.get_followers():\n",
      "            if follower.login + '(user)' in g:\n",
      "                g.add_edge(follower.login + '(user)', sg.login + '(user)', \n",
      "                           type='follows')\n",
      "    except Exception, e: #ssl.SSLError\n",
      "        print >> sys.stderr, \"Encountered an error fetching followers for\", \\\n",
      "                             sg.login, \"Skipping.\"\n",
      "        print >> sys.stderr, e\n",
      "\n",
      "    print \"Processed\", i+1, \" stargazers. Num nodes/edges in graph\", \\\n",
      "          g.number_of_nodes(), \"/\", g.number_of_edges()\n",
      "    print \"Rate limit remaining\", client.rate_limiting"
     ],
     "language": "python",
     "metadata": {},
     "outputs": [
      {
       "output_type": "stream",
       "stream": "stdout",
       "text": [
        "Processed 1  stargazers. Num nodes/edges in graph 1062 / 1061\n",
        "Rate limit remaining (4983, 5000)\n",
        "Processed"
       ]
      },
      {
       "output_type": "stream",
       "stream": "stdout",
       "text": [
        " 2  stargazers. Num nodes/edges in graph 1062 / 1064\n",
        "Rate limit remaining (4982, 5000)\n",
        "Processed"
       ]
      },
      {
       "output_type": "stream",
       "stream": "stdout",
       "text": [
        " 3  stargazers. Num nodes/edges in graph 1062 / 1066\n",
        "Rate limit remaining (4981, 5000)\n",
        "Processed"
       ]
      },
      {
       "output_type": "stream",
       "stream": "stdout",
       "text": [
        " 4  stargazers. Num nodes/edges in graph 1062 / 1071\n",
        "Rate limit remaining (4979, 5000)\n",
        "Processed"
       ]
      },
      {
       "output_type": "stream",
       "stream": "stdout",
       "text": [
        " 5  stargazers. Num nodes/edges in graph 1062 / 1071\n",
        "Rate limit remaining (4978, 5000)\n",
        "Processed"
       ]
      },
      {
       "output_type": "stream",
       "stream": "stdout",
       "text": [
        " 6  stargazers. Num nodes/edges in graph 1062 / 1072\n",
        "Rate limit remaining (4977, 5000)\n",
        "Processed"
       ]
      },
      {
       "output_type": "stream",
       "stream": "stdout",
       "text": [
        " 7  stargazers. Num nodes/edges in graph 1062 / 1072\n",
        "Rate limit remaining (4976, 5000)\n",
        "Processed"
       ]
      },
      {
       "output_type": "stream",
       "stream": "stdout",
       "text": [
        " 8  stargazers. Num nodes/edges in graph 1062 / 1075\n",
        "Rate limit remaining (4974, 5000)\n",
        "Processed"
       ]
      },
      {
       "output_type": "stream",
       "stream": "stdout",
       "text": [
        " 9  stargazers. Num nodes/edges in graph 1062 / 1085\n",
        "Rate limit remaining (4970, 5000)\n",
        "Processed"
       ]
      },
      {
       "output_type": "stream",
       "stream": "stdout",
       "text": [
        " 10  stargazers. Num nodes/edges in graph 1062 / 1087\n",
        "Rate limit remaining (4969, 5000)\n",
        "Processed"
       ]
      },
      {
       "output_type": "stream",
       "stream": "stdout",
       "text": [
        " 11  stargazers. Num nodes/edges in graph 1062 / 1089\n",
        "Rate limit remaining (4968, 5000)\n",
        "Processed"
       ]
      },
      {
       "output_type": "stream",
       "stream": "stdout",
       "text": [
        " 12  stargazers. Num nodes/edges in graph 1062 / 1092\n",
        "Rate limit remaining (4967, 5000)\n",
        "Processed"
       ]
      },
      {
       "output_type": "stream",
       "stream": "stdout",
       "text": [
        " 13  stargazers. Num nodes/edges in graph 1062 / 1095\n",
        "Rate limit remaining (4966, 5000)\n",
        "Processed"
       ]
      },
      {
       "output_type": "stream",
       "stream": "stdout",
       "text": [
        " 14  stargazers. Num nodes/edges in graph 1062 / 1097\n",
        "Rate limit remaining (4965, 5000)\n",
        "Processed"
       ]
      },
      {
       "output_type": "stream",
       "stream": "stdout",
       "text": [
        " 15  stargazers. Num nodes/edges in graph 1062 / 1097\n",
        "Rate limit remaining (4965, 5000)\n",
        "Processed"
       ]
      },
      {
       "output_type": "stream",
       "stream": "stdout",
       "text": [
        " 16  stargazers. Num nodes/edges in graph 1062 / 1101\n",
        "Rate limit remaining (4963, 5000)\n",
        "Processed"
       ]
      },
      {
       "output_type": "stream",
       "stream": "stdout",
       "text": [
        " 17  stargazers. Num nodes/edges in graph 1062 / 1102\n",
        "Rate limit remaining (4962, 5000)\n",
        "Processed"
       ]
      },
      {
       "output_type": "stream",
       "stream": "stdout",
       "text": [
        " 18  stargazers. Num nodes/edges in graph 1062 / 1105\n",
        "Rate limit remaining (4961, 5000)\n",
        "Processed"
       ]
      },
      {
       "output_type": "stream",
       "stream": "stdout",
       "text": [
        " 19  stargazers. Num nodes/edges in graph 1062 / 1109\n",
        "Rate limit remaining (4960, 5000)\n",
        "Processed"
       ]
      },
      {
       "output_type": "stream",
       "stream": "stdout",
       "text": [
        " 20  stargazers. Num nodes/edges in graph 1062 / 1109\n",
        "Rate limit remaining (4959, 5000)\n",
        "Processed"
       ]
      },
      {
       "output_type": "stream",
       "stream": "stdout",
       "text": [
        " 21  stargazers. Num nodes/edges in graph 1062 / 1110\n",
        "Rate limit remaining (4956, 5000)\n",
        "Processed"
       ]
      },
      {
       "output_type": "stream",
       "stream": "stdout",
       "text": [
        " 22  stargazers. Num nodes/edges in graph 1062 / 1110\n",
        "Rate limit remaining (4955, 5000)\n",
        "Processed"
       ]
      },
      {
       "output_type": "stream",
       "stream": "stdout",
       "text": [
        " 23  stargazers. Num nodes/edges in graph 1062 / 1111\n",
        "Rate limit remaining (4954, 5000)\n",
        "Processed"
       ]
      },
      {
       "output_type": "stream",
       "stream": "stdout",
       "text": [
        " 24  stargazers. Num nodes/edges in graph 1062 / 1113\n",
        "Rate limit remaining (4953, 5000)\n",
        "Processed"
       ]
      },
      {
       "output_type": "stream",
       "stream": "stdout",
       "text": [
        " 25  stargazers. Num nodes/edges in graph 1062 / 1113\n",
        "Rate limit remaining (4952, 5000)\n",
        "Processed"
       ]
      },
      {
       "output_type": "stream",
       "stream": "stdout",
       "text": [
        " 26  stargazers. Num nodes/edges in graph 1062 / 1114\n",
        "Rate limit remaining (4951, 5000)\n"
       ]
      },
      {
       "output_type": "stream",
       "stream": "stderr",
       "text": [
        "Encountered an error fetching followers for shanlalit Skipping.\n",
        "('The read operation timed out',)\n"
       ]
      },
      {
       "ename": "KeyboardInterrupt",
       "evalue": "",
       "output_type": "pyerr",
       "traceback": [
        "\u001b[1;31m---------------------------------------------------------------------------\u001b[0m\n\u001b[1;31mKeyboardInterrupt\u001b[0m                         Traceback (most recent call last)",
        "\u001b[1;32m<ipython-input-11-ed62fc3ac20d>\u001b[0m in \u001b[0;36m<module>\u001b[1;34m()\u001b[0m\n\u001b[0;32m     11\u001b[0m     \u001b[1;31m# Add \"follows\" edges between stargazers in the graph if any relationships exist\u001b[0m\u001b[1;33m\u001b[0m\u001b[1;33m\u001b[0m\u001b[0m\n\u001b[0;32m     12\u001b[0m     \u001b[1;32mtry\u001b[0m\u001b[1;33m:\u001b[0m\u001b[1;33m\u001b[0m\u001b[0m\n\u001b[1;32m---> 13\u001b[1;33m         \u001b[1;32mfor\u001b[0m \u001b[0mfollower\u001b[0m \u001b[1;32min\u001b[0m \u001b[0msg\u001b[0m\u001b[1;33m.\u001b[0m\u001b[0mget_followers\u001b[0m\u001b[1;33m(\u001b[0m\u001b[1;33m)\u001b[0m\u001b[1;33m:\u001b[0m\u001b[1;33m\u001b[0m\u001b[0m\n\u001b[0m\u001b[0;32m     14\u001b[0m             \u001b[1;32mif\u001b[0m \u001b[0mfollower\u001b[0m\u001b[1;33m.\u001b[0m\u001b[0mlogin\u001b[0m \u001b[1;33m+\u001b[0m \u001b[1;34m'(user)'\u001b[0m \u001b[1;32min\u001b[0m \u001b[0mg\u001b[0m\u001b[1;33m:\u001b[0m\u001b[1;33m\u001b[0m\u001b[0m\n\u001b[0;32m     15\u001b[0m                 g.add_edge(follower.login + '(user)', sg.login + '(user)', \n",
        "\u001b[1;32mC:\\Python27\\lib\\site-packages\\github\\PaginatedList.pyc\u001b[0m in \u001b[0;36m__iter__\u001b[1;34m(self)\u001b[0m\n\u001b[0;32m     46\u001b[0m             \u001b[1;32myield\u001b[0m \u001b[0melement\u001b[0m\u001b[1;33m\u001b[0m\u001b[0m\n\u001b[0;32m     47\u001b[0m         \u001b[1;32mwhile\u001b[0m \u001b[0mself\u001b[0m\u001b[1;33m.\u001b[0m\u001b[0m_couldGrow\u001b[0m\u001b[1;33m(\u001b[0m\u001b[1;33m)\u001b[0m\u001b[1;33m:\u001b[0m\u001b[1;33m\u001b[0m\u001b[0m\n\u001b[1;32m---> 48\u001b[1;33m             \u001b[0mnewElements\u001b[0m \u001b[1;33m=\u001b[0m \u001b[0mself\u001b[0m\u001b[1;33m.\u001b[0m\u001b[0m_grow\u001b[0m\u001b[1;33m(\u001b[0m\u001b[1;33m)\u001b[0m\u001b[1;33m\u001b[0m\u001b[0m\n\u001b[0m\u001b[0;32m     49\u001b[0m             \u001b[1;32mfor\u001b[0m \u001b[0melement\u001b[0m \u001b[1;32min\u001b[0m \u001b[0mnewElements\u001b[0m\u001b[1;33m:\u001b[0m\u001b[1;33m\u001b[0m\u001b[0m\n\u001b[0;32m     50\u001b[0m                 \u001b[1;32myield\u001b[0m \u001b[0melement\u001b[0m\u001b[1;33m\u001b[0m\u001b[0m\n",
        "\u001b[1;32mC:\\Python27\\lib\\site-packages\\github\\PaginatedList.pyc\u001b[0m in \u001b[0;36m_grow\u001b[1;34m(self)\u001b[0m\n\u001b[0;32m     58\u001b[0m \u001b[1;33m\u001b[0m\u001b[0m\n\u001b[0;32m     59\u001b[0m     \u001b[1;32mdef\u001b[0m \u001b[0m_grow\u001b[0m\u001b[1;33m(\u001b[0m\u001b[0mself\u001b[0m\u001b[1;33m)\u001b[0m\u001b[1;33m:\u001b[0m\u001b[1;33m\u001b[0m\u001b[0m\n\u001b[1;32m---> 60\u001b[1;33m         \u001b[0mnewElements\u001b[0m \u001b[1;33m=\u001b[0m \u001b[0mself\u001b[0m\u001b[1;33m.\u001b[0m\u001b[0m_fetchNextPage\u001b[0m\u001b[1;33m(\u001b[0m\u001b[1;33m)\u001b[0m\u001b[1;33m\u001b[0m\u001b[0m\n\u001b[0m\u001b[0;32m     61\u001b[0m         \u001b[0mself\u001b[0m\u001b[1;33m.\u001b[0m\u001b[0m__elements\u001b[0m \u001b[1;33m+=\u001b[0m \u001b[0mnewElements\u001b[0m\u001b[1;33m\u001b[0m\u001b[0m\n\u001b[0;32m     62\u001b[0m         \u001b[1;32mreturn\u001b[0m \u001b[0mnewElements\u001b[0m\u001b[1;33m\u001b[0m\u001b[0m\n",
        "\u001b[1;32mC:\\Python27\\lib\\site-packages\\github\\PaginatedList.pyc\u001b[0m in \u001b[0;36m_fetchNextPage\u001b[1;34m(self)\u001b[0m\n\u001b[0;32m    159\u001b[0m             \u001b[0mself\u001b[0m\u001b[1;33m.\u001b[0m\u001b[0m__nextUrl\u001b[0m\u001b[1;33m,\u001b[0m\u001b[1;33m\u001b[0m\u001b[0m\n\u001b[0;32m    160\u001b[0m             \u001b[0mparameters\u001b[0m\u001b[1;33m=\u001b[0m\u001b[0mself\u001b[0m\u001b[1;33m.\u001b[0m\u001b[0m__nextParams\u001b[0m\u001b[1;33m,\u001b[0m\u001b[1;33m\u001b[0m\u001b[0m\n\u001b[1;32m--> 161\u001b[1;33m             \u001b[0mheaders\u001b[0m\u001b[1;33m=\u001b[0m\u001b[0mself\u001b[0m\u001b[1;33m.\u001b[0m\u001b[0m__headers\u001b[0m\u001b[1;33m\u001b[0m\u001b[0m\n\u001b[0m\u001b[0;32m    162\u001b[0m         )\n\u001b[0;32m    163\u001b[0m         \u001b[0mdata\u001b[0m \u001b[1;33m=\u001b[0m \u001b[0mdata\u001b[0m \u001b[1;32mif\u001b[0m \u001b[0mdata\u001b[0m \u001b[1;32melse\u001b[0m \u001b[1;33m[\u001b[0m\u001b[1;33m]\u001b[0m\u001b[1;33m\u001b[0m\u001b[0m\n",
        "\u001b[1;32mC:\\Python27\\lib\\site-packages\\github\\Requester.pyc\u001b[0m in \u001b[0;36mrequestJsonAndCheck\u001b[1;34m(self, verb, url, parameters, headers, input, cnx)\u001b[0m\n\u001b[0;32m    169\u001b[0m \u001b[1;33m\u001b[0m\u001b[0m\n\u001b[0;32m    170\u001b[0m     \u001b[1;32mdef\u001b[0m \u001b[0mrequestJsonAndCheck\u001b[0m\u001b[1;33m(\u001b[0m\u001b[0mself\u001b[0m\u001b[1;33m,\u001b[0m \u001b[0mverb\u001b[0m\u001b[1;33m,\u001b[0m \u001b[0murl\u001b[0m\u001b[1;33m,\u001b[0m \u001b[0mparameters\u001b[0m\u001b[1;33m=\u001b[0m\u001b[0mNone\u001b[0m\u001b[1;33m,\u001b[0m \u001b[0mheaders\u001b[0m\u001b[1;33m=\u001b[0m\u001b[0mNone\u001b[0m\u001b[1;33m,\u001b[0m \u001b[0minput\u001b[0m\u001b[1;33m=\u001b[0m\u001b[0mNone\u001b[0m\u001b[1;33m,\u001b[0m \u001b[0mcnx\u001b[0m\u001b[1;33m=\u001b[0m\u001b[0mNone\u001b[0m\u001b[1;33m)\u001b[0m\u001b[1;33m:\u001b[0m\u001b[1;33m\u001b[0m\u001b[0m\n\u001b[1;32m--> 171\u001b[1;33m         \u001b[1;32mreturn\u001b[0m \u001b[0mself\u001b[0m\u001b[1;33m.\u001b[0m\u001b[0m__check\u001b[0m\u001b[1;33m(\u001b[0m\u001b[1;33m*\u001b[0m\u001b[0mself\u001b[0m\u001b[1;33m.\u001b[0m\u001b[0mrequestJson\u001b[0m\u001b[1;33m(\u001b[0m\u001b[0mverb\u001b[0m\u001b[1;33m,\u001b[0m \u001b[0murl\u001b[0m\u001b[1;33m,\u001b[0m \u001b[0mparameters\u001b[0m\u001b[1;33m,\u001b[0m \u001b[0mheaders\u001b[0m\u001b[1;33m,\u001b[0m \u001b[0minput\u001b[0m\u001b[1;33m,\u001b[0m \u001b[0mcnx\u001b[0m\u001b[1;33m)\u001b[0m\u001b[1;33m)\u001b[0m\u001b[1;33m\u001b[0m\u001b[0m\n\u001b[0m\u001b[0;32m    172\u001b[0m \u001b[1;33m\u001b[0m\u001b[0m\n\u001b[0;32m    173\u001b[0m     \u001b[1;32mdef\u001b[0m \u001b[0mrequestMultipartAndCheck\u001b[0m\u001b[1;33m(\u001b[0m\u001b[0mself\u001b[0m\u001b[1;33m,\u001b[0m \u001b[0mverb\u001b[0m\u001b[1;33m,\u001b[0m \u001b[0murl\u001b[0m\u001b[1;33m,\u001b[0m \u001b[0mparameters\u001b[0m\u001b[1;33m=\u001b[0m\u001b[0mNone\u001b[0m\u001b[1;33m,\u001b[0m \u001b[0mheaders\u001b[0m\u001b[1;33m=\u001b[0m\u001b[0mNone\u001b[0m\u001b[1;33m,\u001b[0m \u001b[0minput\u001b[0m\u001b[1;33m=\u001b[0m\u001b[0mNone\u001b[0m\u001b[1;33m)\u001b[0m\u001b[1;33m:\u001b[0m\u001b[1;33m\u001b[0m\u001b[0m\n",
        "\u001b[1;32mC:\\Python27\\lib\\site-packages\\github\\Requester.pyc\u001b[0m in \u001b[0;36mrequestJson\u001b[1;34m(self, verb, url, parameters, headers, input, cnx)\u001b[0m\n\u001b[0;32m    210\u001b[0m             \u001b[1;32mreturn\u001b[0m \u001b[1;34m\"application/json\"\u001b[0m\u001b[1;33m,\u001b[0m \u001b[0mjson\u001b[0m\u001b[1;33m.\u001b[0m\u001b[0mdumps\u001b[0m\u001b[1;33m(\u001b[0m\u001b[0minput\u001b[0m\u001b[1;33m)\u001b[0m\u001b[1;33m\u001b[0m\u001b[0m\n\u001b[0;32m    211\u001b[0m \u001b[1;33m\u001b[0m\u001b[0m\n\u001b[1;32m--> 212\u001b[1;33m         \u001b[1;32mreturn\u001b[0m \u001b[0mself\u001b[0m\u001b[1;33m.\u001b[0m\u001b[0m__requestEncode\u001b[0m\u001b[1;33m(\u001b[0m\u001b[0mcnx\u001b[0m\u001b[1;33m,\u001b[0m \u001b[0mverb\u001b[0m\u001b[1;33m,\u001b[0m \u001b[0murl\u001b[0m\u001b[1;33m,\u001b[0m \u001b[0mparameters\u001b[0m\u001b[1;33m,\u001b[0m \u001b[0mheaders\u001b[0m\u001b[1;33m,\u001b[0m \u001b[0minput\u001b[0m\u001b[1;33m,\u001b[0m \u001b[0mencode\u001b[0m\u001b[1;33m)\u001b[0m\u001b[1;33m\u001b[0m\u001b[0m\n\u001b[0m\u001b[0;32m    213\u001b[0m \u001b[1;33m\u001b[0m\u001b[0m\n\u001b[0;32m    214\u001b[0m     \u001b[1;32mdef\u001b[0m \u001b[0mrequestMultipart\u001b[0m\u001b[1;33m(\u001b[0m\u001b[0mself\u001b[0m\u001b[1;33m,\u001b[0m \u001b[0mverb\u001b[0m\u001b[1;33m,\u001b[0m \u001b[0murl\u001b[0m\u001b[1;33m,\u001b[0m \u001b[0mparameters\u001b[0m\u001b[1;33m=\u001b[0m\u001b[0mNone\u001b[0m\u001b[1;33m,\u001b[0m \u001b[0mheaders\u001b[0m\u001b[1;33m=\u001b[0m\u001b[0mNone\u001b[0m\u001b[1;33m,\u001b[0m \u001b[0minput\u001b[0m\u001b[1;33m=\u001b[0m\u001b[0mNone\u001b[0m\u001b[1;33m)\u001b[0m\u001b[1;33m:\u001b[0m\u001b[1;33m\u001b[0m\u001b[0m\n",
        "\u001b[1;32mC:\\Python27\\lib\\site-packages\\github\\Requester.pyc\u001b[0m in \u001b[0;36m__requestEncode\u001b[1;34m(self, cnx, verb, url, parameters, requestHeaders, input, encode)\u001b[0m\n\u001b[0;32m    249\u001b[0m         \u001b[0mself\u001b[0m\u001b[1;33m.\u001b[0m\u001b[0mNEW_DEBUG_FRAME\u001b[0m\u001b[1;33m(\u001b[0m\u001b[0mrequestHeaders\u001b[0m\u001b[1;33m)\u001b[0m\u001b[1;33m\u001b[0m\u001b[0m\n\u001b[0;32m    250\u001b[0m \u001b[1;33m\u001b[0m\u001b[0m\n\u001b[1;32m--> 251\u001b[1;33m         \u001b[0mstatus\u001b[0m\u001b[1;33m,\u001b[0m \u001b[0mresponseHeaders\u001b[0m\u001b[1;33m,\u001b[0m \u001b[0moutput\u001b[0m \u001b[1;33m=\u001b[0m \u001b[0mself\u001b[0m\u001b[1;33m.\u001b[0m\u001b[0m__requestRaw\u001b[0m\u001b[1;33m(\u001b[0m\u001b[0mcnx\u001b[0m\u001b[1;33m,\u001b[0m \u001b[0mverb\u001b[0m\u001b[1;33m,\u001b[0m \u001b[0murl\u001b[0m\u001b[1;33m,\u001b[0m \u001b[0mrequestHeaders\u001b[0m\u001b[1;33m,\u001b[0m \u001b[0mencoded_input\u001b[0m\u001b[1;33m)\u001b[0m\u001b[1;33m\u001b[0m\u001b[0m\n\u001b[0m\u001b[0;32m    252\u001b[0m \u001b[1;33m\u001b[0m\u001b[0m\n\u001b[0;32m    253\u001b[0m         \u001b[1;32mif\u001b[0m \u001b[1;34m\"x-ratelimit-remaining\"\u001b[0m \u001b[1;32min\u001b[0m \u001b[0mresponseHeaders\u001b[0m \u001b[1;32mand\u001b[0m \u001b[1;34m\"x-ratelimit-limit\"\u001b[0m \u001b[1;32min\u001b[0m \u001b[0mresponseHeaders\u001b[0m\u001b[1;33m:\u001b[0m\u001b[1;33m\u001b[0m\u001b[0m\n",
        "\u001b[1;32mC:\\Python27\\lib\\site-packages\\github\\Requester.pyc\u001b[0m in \u001b[0;36m__requestRaw\u001b[1;34m(self, cnx, verb, url, requestHeaders, input)\u001b[0m\n\u001b[0;32m    273\u001b[0m             \u001b[0murl\u001b[0m\u001b[1;33m,\u001b[0m\u001b[1;33m\u001b[0m\u001b[0m\n\u001b[0;32m    274\u001b[0m             \u001b[0minput\u001b[0m\u001b[1;33m,\u001b[0m\u001b[1;33m\u001b[0m\u001b[0m\n\u001b[1;32m--> 275\u001b[1;33m             \u001b[0mrequestHeaders\u001b[0m\u001b[1;33m\u001b[0m\u001b[0m\n\u001b[0m\u001b[0;32m    276\u001b[0m         )\n\u001b[0;32m    277\u001b[0m         \u001b[0mresponse\u001b[0m \u001b[1;33m=\u001b[0m \u001b[0mcnx\u001b[0m\u001b[1;33m.\u001b[0m\u001b[0mgetresponse\u001b[0m\u001b[1;33m(\u001b[0m\u001b[1;33m)\u001b[0m\u001b[1;33m\u001b[0m\u001b[0m\n",
        "\u001b[1;32mC:\\Python27\\lib\\httplib.pyc\u001b[0m in \u001b[0;36mrequest\u001b[1;34m(self, method, url, body, headers)\u001b[0m\n\u001b[0;32m    999\u001b[0m     \u001b[1;32mdef\u001b[0m \u001b[0mrequest\u001b[0m\u001b[1;33m(\u001b[0m\u001b[0mself\u001b[0m\u001b[1;33m,\u001b[0m \u001b[0mmethod\u001b[0m\u001b[1;33m,\u001b[0m \u001b[0murl\u001b[0m\u001b[1;33m,\u001b[0m \u001b[0mbody\u001b[0m\u001b[1;33m=\u001b[0m\u001b[0mNone\u001b[0m\u001b[1;33m,\u001b[0m \u001b[0mheaders\u001b[0m\u001b[1;33m=\u001b[0m\u001b[1;33m{\u001b[0m\u001b[1;33m}\u001b[0m\u001b[1;33m)\u001b[0m\u001b[1;33m:\u001b[0m\u001b[1;33m\u001b[0m\u001b[0m\n\u001b[0;32m   1000\u001b[0m         \u001b[1;34m\"\"\"Send a complete request to the server.\"\"\"\u001b[0m\u001b[1;33m\u001b[0m\u001b[0m\n\u001b[1;32m-> 1001\u001b[1;33m         \u001b[0mself\u001b[0m\u001b[1;33m.\u001b[0m\u001b[0m_send_request\u001b[0m\u001b[1;33m(\u001b[0m\u001b[0mmethod\u001b[0m\u001b[1;33m,\u001b[0m \u001b[0murl\u001b[0m\u001b[1;33m,\u001b[0m \u001b[0mbody\u001b[0m\u001b[1;33m,\u001b[0m \u001b[0mheaders\u001b[0m\u001b[1;33m)\u001b[0m\u001b[1;33m\u001b[0m\u001b[0m\n\u001b[0m\u001b[0;32m   1002\u001b[0m \u001b[1;33m\u001b[0m\u001b[0m\n\u001b[0;32m   1003\u001b[0m     \u001b[1;32mdef\u001b[0m \u001b[0m_set_content_length\u001b[0m\u001b[1;33m(\u001b[0m\u001b[0mself\u001b[0m\u001b[1;33m,\u001b[0m \u001b[0mbody\u001b[0m\u001b[1;33m)\u001b[0m\u001b[1;33m:\u001b[0m\u001b[1;33m\u001b[0m\u001b[0m\n",
        "\u001b[1;32mC:\\Python27\\lib\\httplib.pyc\u001b[0m in \u001b[0;36m_send_request\u001b[1;34m(self, method, url, body, headers)\u001b[0m\n\u001b[0;32m   1033\u001b[0m         \u001b[1;32mfor\u001b[0m \u001b[0mhdr\u001b[0m\u001b[1;33m,\u001b[0m \u001b[0mvalue\u001b[0m \u001b[1;32min\u001b[0m \u001b[0mheaders\u001b[0m\u001b[1;33m.\u001b[0m\u001b[0miteritems\u001b[0m\u001b[1;33m(\u001b[0m\u001b[1;33m)\u001b[0m\u001b[1;33m:\u001b[0m\u001b[1;33m\u001b[0m\u001b[0m\n\u001b[0;32m   1034\u001b[0m             \u001b[0mself\u001b[0m\u001b[1;33m.\u001b[0m\u001b[0mputheader\u001b[0m\u001b[1;33m(\u001b[0m\u001b[0mhdr\u001b[0m\u001b[1;33m,\u001b[0m \u001b[0mvalue\u001b[0m\u001b[1;33m)\u001b[0m\u001b[1;33m\u001b[0m\u001b[0m\n\u001b[1;32m-> 1035\u001b[1;33m         \u001b[0mself\u001b[0m\u001b[1;33m.\u001b[0m\u001b[0mendheaders\u001b[0m\u001b[1;33m(\u001b[0m\u001b[0mbody\u001b[0m\u001b[1;33m)\u001b[0m\u001b[1;33m\u001b[0m\u001b[0m\n\u001b[0m\u001b[0;32m   1036\u001b[0m \u001b[1;33m\u001b[0m\u001b[0m\n\u001b[0;32m   1037\u001b[0m     \u001b[1;32mdef\u001b[0m \u001b[0mgetresponse\u001b[0m\u001b[1;33m(\u001b[0m\u001b[0mself\u001b[0m\u001b[1;33m,\u001b[0m \u001b[0mbuffering\u001b[0m\u001b[1;33m=\u001b[0m\u001b[0mFalse\u001b[0m\u001b[1;33m)\u001b[0m\u001b[1;33m:\u001b[0m\u001b[1;33m\u001b[0m\u001b[0m\n",
        "\u001b[1;32mC:\\Python27\\lib\\httplib.pyc\u001b[0m in \u001b[0;36mendheaders\u001b[1;34m(self, message_body)\u001b[0m\n\u001b[0;32m    995\u001b[0m         \u001b[1;32melse\u001b[0m\u001b[1;33m:\u001b[0m\u001b[1;33m\u001b[0m\u001b[0m\n\u001b[0;32m    996\u001b[0m             \u001b[1;32mraise\u001b[0m \u001b[0mCannotSendHeader\u001b[0m\u001b[1;33m(\u001b[0m\u001b[1;33m)\u001b[0m\u001b[1;33m\u001b[0m\u001b[0m\n\u001b[1;32m--> 997\u001b[1;33m         \u001b[0mself\u001b[0m\u001b[1;33m.\u001b[0m\u001b[0m_send_output\u001b[0m\u001b[1;33m(\u001b[0m\u001b[0mmessage_body\u001b[0m\u001b[1;33m)\u001b[0m\u001b[1;33m\u001b[0m\u001b[0m\n\u001b[0m\u001b[0;32m    998\u001b[0m \u001b[1;33m\u001b[0m\u001b[0m\n\u001b[0;32m    999\u001b[0m     \u001b[1;32mdef\u001b[0m \u001b[0mrequest\u001b[0m\u001b[1;33m(\u001b[0m\u001b[0mself\u001b[0m\u001b[1;33m,\u001b[0m \u001b[0mmethod\u001b[0m\u001b[1;33m,\u001b[0m \u001b[0murl\u001b[0m\u001b[1;33m,\u001b[0m \u001b[0mbody\u001b[0m\u001b[1;33m=\u001b[0m\u001b[0mNone\u001b[0m\u001b[1;33m,\u001b[0m \u001b[0mheaders\u001b[0m\u001b[1;33m=\u001b[0m\u001b[1;33m{\u001b[0m\u001b[1;33m}\u001b[0m\u001b[1;33m)\u001b[0m\u001b[1;33m:\u001b[0m\u001b[1;33m\u001b[0m\u001b[0m\n",
        "\u001b[1;32mC:\\Python27\\lib\\httplib.pyc\u001b[0m in \u001b[0;36m_send_output\u001b[1;34m(self, message_body)\u001b[0m\n\u001b[0;32m    848\u001b[0m             \u001b[0mmsg\u001b[0m \u001b[1;33m+=\u001b[0m \u001b[0mmessage_body\u001b[0m\u001b[1;33m\u001b[0m\u001b[0m\n\u001b[0;32m    849\u001b[0m             \u001b[0mmessage_body\u001b[0m \u001b[1;33m=\u001b[0m \u001b[0mNone\u001b[0m\u001b[1;33m\u001b[0m\u001b[0m\n\u001b[1;32m--> 850\u001b[1;33m         \u001b[0mself\u001b[0m\u001b[1;33m.\u001b[0m\u001b[0msend\u001b[0m\u001b[1;33m(\u001b[0m\u001b[0mmsg\u001b[0m\u001b[1;33m)\u001b[0m\u001b[1;33m\u001b[0m\u001b[0m\n\u001b[0m\u001b[0;32m    851\u001b[0m         \u001b[1;32mif\u001b[0m \u001b[0mmessage_body\u001b[0m \u001b[1;32mis\u001b[0m \u001b[1;32mnot\u001b[0m \u001b[0mNone\u001b[0m\u001b[1;33m:\u001b[0m\u001b[1;33m\u001b[0m\u001b[0m\n\u001b[0;32m    852\u001b[0m             \u001b[1;31m#message_body was not a string (i.e. it is a file) and\u001b[0m\u001b[1;33m\u001b[0m\u001b[1;33m\u001b[0m\u001b[0m\n",
        "\u001b[1;32mC:\\Python27\\lib\\httplib.pyc\u001b[0m in \u001b[0;36msend\u001b[1;34m(self, data)\u001b[0m\n\u001b[0;32m    810\u001b[0m         \u001b[1;32mif\u001b[0m \u001b[0mself\u001b[0m\u001b[1;33m.\u001b[0m\u001b[0msock\u001b[0m \u001b[1;32mis\u001b[0m \u001b[0mNone\u001b[0m\u001b[1;33m:\u001b[0m\u001b[1;33m\u001b[0m\u001b[0m\n\u001b[0;32m    811\u001b[0m             \u001b[1;32mif\u001b[0m \u001b[0mself\u001b[0m\u001b[1;33m.\u001b[0m\u001b[0mauto_open\u001b[0m\u001b[1;33m:\u001b[0m\u001b[1;33m\u001b[0m\u001b[0m\n\u001b[1;32m--> 812\u001b[1;33m                 \u001b[0mself\u001b[0m\u001b[1;33m.\u001b[0m\u001b[0mconnect\u001b[0m\u001b[1;33m(\u001b[0m\u001b[1;33m)\u001b[0m\u001b[1;33m\u001b[0m\u001b[0m\n\u001b[0m\u001b[0;32m    813\u001b[0m             \u001b[1;32melse\u001b[0m\u001b[1;33m:\u001b[0m\u001b[1;33m\u001b[0m\u001b[0m\n\u001b[0;32m    814\u001b[0m                 \u001b[1;32mraise\u001b[0m \u001b[0mNotConnected\u001b[0m\u001b[1;33m(\u001b[0m\u001b[1;33m)\u001b[0m\u001b[1;33m\u001b[0m\u001b[0m\n",
        "\u001b[1;32mC:\\Python27\\lib\\httplib.pyc\u001b[0m in \u001b[0;36mconnect\u001b[1;34m(self)\u001b[0m\n\u001b[0;32m   1214\u001b[0m \u001b[1;33m\u001b[0m\u001b[0m\n\u001b[0;32m   1215\u001b[0m             self.sock = self._context.wrap_socket(self.sock,\n\u001b[1;32m-> 1216\u001b[1;33m                                                   server_hostname=server_hostname)\n\u001b[0m\u001b[0;32m   1217\u001b[0m \u001b[1;33m\u001b[0m\u001b[0m\n\u001b[0;32m   1218\u001b[0m     \u001b[0m__all__\u001b[0m\u001b[1;33m.\u001b[0m\u001b[0mappend\u001b[0m\u001b[1;33m(\u001b[0m\u001b[1;34m\"HTTPSConnection\"\u001b[0m\u001b[1;33m)\u001b[0m\u001b[1;33m\u001b[0m\u001b[0m\n",
        "\u001b[1;32mC:\\Python27\\lib\\ssl.pyc\u001b[0m in \u001b[0;36mwrap_socket\u001b[1;34m(self, sock, server_side, do_handshake_on_connect, suppress_ragged_eofs, server_hostname)\u001b[0m\n\u001b[0;32m    348\u001b[0m                          \u001b[0msuppress_ragged_eofs\u001b[0m\u001b[1;33m=\u001b[0m\u001b[0msuppress_ragged_eofs\u001b[0m\u001b[1;33m,\u001b[0m\u001b[1;33m\u001b[0m\u001b[0m\n\u001b[0;32m    349\u001b[0m                          \u001b[0mserver_hostname\u001b[0m\u001b[1;33m=\u001b[0m\u001b[0mserver_hostname\u001b[0m\u001b[1;33m,\u001b[0m\u001b[1;33m\u001b[0m\u001b[0m\n\u001b[1;32m--> 350\u001b[1;33m                          _context=self)\n\u001b[0m\u001b[0;32m    351\u001b[0m \u001b[1;33m\u001b[0m\u001b[0m\n\u001b[0;32m    352\u001b[0m     \u001b[1;32mdef\u001b[0m \u001b[0mset_npn_protocols\u001b[0m\u001b[1;33m(\u001b[0m\u001b[0mself\u001b[0m\u001b[1;33m,\u001b[0m \u001b[0mnpn_protocols\u001b[0m\u001b[1;33m)\u001b[0m\u001b[1;33m:\u001b[0m\u001b[1;33m\u001b[0m\u001b[0m\n",
        "\u001b[1;32mC:\\Python27\\lib\\ssl.pyc\u001b[0m in \u001b[0;36m__init__\u001b[1;34m(self, sock, keyfile, certfile, server_side, cert_reqs, ssl_version, ca_certs, do_handshake_on_connect, family, type, proto, fileno, suppress_ragged_eofs, npn_protocols, ciphers, server_hostname, _context)\u001b[0m\n\u001b[0;32m    564\u001b[0m                         \u001b[1;31m# non-blocking\u001b[0m\u001b[1;33m\u001b[0m\u001b[1;33m\u001b[0m\u001b[0m\n\u001b[0;32m    565\u001b[0m                         \u001b[1;32mraise\u001b[0m \u001b[0mValueError\u001b[0m\u001b[1;33m(\u001b[0m\u001b[1;34m\"do_handshake_on_connect should not be specified for non-blocking sockets\"\u001b[0m\u001b[1;33m)\u001b[0m\u001b[1;33m\u001b[0m\u001b[0m\n\u001b[1;32m--> 566\u001b[1;33m                     \u001b[0mself\u001b[0m\u001b[1;33m.\u001b[0m\u001b[0mdo_handshake\u001b[0m\u001b[1;33m(\u001b[0m\u001b[1;33m)\u001b[0m\u001b[1;33m\u001b[0m\u001b[0m\n\u001b[0m\u001b[0;32m    567\u001b[0m \u001b[1;33m\u001b[0m\u001b[0m\n\u001b[0;32m    568\u001b[0m             \u001b[1;32mexcept\u001b[0m \u001b[1;33m(\u001b[0m\u001b[0mOSError\u001b[0m\u001b[1;33m,\u001b[0m \u001b[0mValueError\u001b[0m\u001b[1;33m)\u001b[0m\u001b[1;33m:\u001b[0m\u001b[1;33m\u001b[0m\u001b[0m\n",
        "\u001b[1;32mC:\\Python27\\lib\\ssl.pyc\u001b[0m in \u001b[0;36mdo_handshake\u001b[1;34m(self, block)\u001b[0m\n\u001b[0;32m    786\u001b[0m             \u001b[1;32mif\u001b[0m \u001b[0mtimeout\u001b[0m \u001b[1;33m==\u001b[0m \u001b[1;36m0.0\u001b[0m \u001b[1;32mand\u001b[0m \u001b[0mblock\u001b[0m\u001b[1;33m:\u001b[0m\u001b[1;33m\u001b[0m\u001b[0m\n\u001b[0;32m    787\u001b[0m                 \u001b[0mself\u001b[0m\u001b[1;33m.\u001b[0m\u001b[0msettimeout\u001b[0m\u001b[1;33m(\u001b[0m\u001b[0mNone\u001b[0m\u001b[1;33m)\u001b[0m\u001b[1;33m\u001b[0m\u001b[0m\n\u001b[1;32m--> 788\u001b[1;33m             \u001b[0mself\u001b[0m\u001b[1;33m.\u001b[0m\u001b[0m_sslobj\u001b[0m\u001b[1;33m.\u001b[0m\u001b[0mdo_handshake\u001b[0m\u001b[1;33m(\u001b[0m\u001b[1;33m)\u001b[0m\u001b[1;33m\u001b[0m\u001b[0m\n\u001b[0m\u001b[0;32m    789\u001b[0m         \u001b[1;32mfinally\u001b[0m\u001b[1;33m:\u001b[0m\u001b[1;33m\u001b[0m\u001b[0m\n\u001b[0;32m    790\u001b[0m             \u001b[0mself\u001b[0m\u001b[1;33m.\u001b[0m\u001b[0msettimeout\u001b[0m\u001b[1;33m(\u001b[0m\u001b[0mtimeout\u001b[0m\u001b[1;33m)\u001b[0m\u001b[1;33m\u001b[0m\u001b[0m\n",
        "\u001b[1;31mKeyboardInterrupt\u001b[0m: "
       ]
      }
     ],
     "prompt_number": 11
    },
    {
     "cell_type": "heading",
     "level": 1,
     "metadata": {},
     "source": [
      "Example 9. \u63a2\u7d22\u66f4\u65b0\u4e86\u201c\u5173\u6ce8\u201d\u8fb9\u7684\u56fe"
     ]
    },
    {
     "cell_type": "code",
     "collapsed": false,
     "input": [
      "from operator import itemgetter\n",
      "from collections import Counter\n",
      "\n",
      "# Let's see how many social edges we added since last time.\n",
      "print nx.info(g)\n",
      "print\n",
      "\n",
      "# The number of \"follows\" edges is the difference\n",
      "print len([e for e in g.edges_iter(data=True) if e[2]['type'] == 'follows'])\n",
      "print\n",
      "\n",
      "# The repository owner is possibly one of the more popular users in this graph.\n",
      "print len([e \n",
      "           for e in g.edges_iter(data=True) \n",
      "               if e[2]['type'] == 'follows' and e[1] == 'ptwobrussell(user)'])\n",
      "print\n",
      "\n",
      "# Let's examine the number of adjacent edges to each node\n",
      "print sorted([n for n in g.degree_iter()], key=itemgetter(1), reverse=True)[:10]\n",
      "print\n",
      "\n",
      "# Consider the ratio of incoming and outgoing edges for a couple of users with \n",
      "# high node degrees...\n",
      "\n",
      "# A user who follows many but is not followed back by many.\n",
      "\n",
      "print len(g.out_edges('hcilab(user)'))\n",
      "print len(g.in_edges('hcilab(user)'))\n",
      "print\n",
      "\n",
      "# A user who is followed by many but does not follow back.\n",
      "\n",
      "print len(g.out_edges('ptwobrussell(user)'))\n",
      "print len(g.in_edges('ptwobrussell(user)'))\n",
      "print\n",
      "\n",
      "c = Counter([e[1] for e in g.edges_iter(data=True) if e[2]['type'] == 'follows'])\n",
      "popular_users = [ (u, f) for (u, f) in c.most_common() if f > 1 ]\n",
      "print \"Number of popular users\", len(popular_users)\n",
      "print \"Top 10 popular users:\", popular_users[:10]"
     ],
     "language": "python",
     "metadata": {},
     "outputs": [
      {
       "output_type": "stream",
       "stream": "stdout",
       "text": [
        "Name: \n",
        "Type: DiGraph\n",
        "Number of nodes: 1062\n",
        "Number of edges: 1114\n",
        "Average in degree:   1.0490\n",
        "Average out degree:   1.0490\n",
        "\n",
        "53\n",
        "\n",
        "0\n",
        "\n",
        "[(u'Mining-the-Social-Web(repo)', 1061), (u'4148(user)', 16), (u'tswicegood(user)', 12), (u'mcroydon(user)', 7), (u'nambra(user)', 6), (u'trietptm(user)', 5), (u'hoffmann(user)', 5), (u'tzuryby(user)', 5), (u'frac(user)', 4), (u'nikolay(user)', 4)]\n",
        "\n",
        "0\n",
        "0\n",
        "\n",
        "1\n",
        "0\n",
        "\n",
        "Number of popular users 14\n",
        "Top 10 popular users: [(u'tswicegood(user)', 10), (u'mcroydon(user)', 5), (u'tzuryby(user)', 4), (u'hoffmann(user)', 4), (u'nikolay(user)', 3), (u'frac(user)', 3), (u'brunojm(user)', 3), (u'hectoregm(user)', 3), (u'rgaidot(user)', 3), (u'openweb(user)', 2)]\n"
       ]
      }
     ],
     "prompt_number": 12
    },
    {
     "cell_type": "heading",
     "level": 1,
     "metadata": {},
     "source": [
      "Example 10. \u83b7\u5f97\u56fe\u7684\u72b6\u6001\u7684\u5feb\u7167\u5e76\u5b58\u50a8\u4e8e\u78c1\u76d8"
     ]
    },
    {
     "cell_type": "code",
     "collapsed": false,
     "input": [
      "import networkx as nx\n",
      "# Save your work by serializing out (pickling) the graph\n",
      "nx.write_gpickle(g, \"resources/ch07-github/data/github.gpickle.1\")\n",
      "\n",
      "# How to restore the graph...\n",
      "# import networkx as nx\n",
      "# g = nx.read_gpickle(\"resources/ch07-github/data/github.gpickle.1\")"
     ],
     "language": "python",
     "metadata": {},
     "outputs": [],
     "prompt_number": 16
    },
    {
     "cell_type": "heading",
     "level": 1,
     "metadata": {},
     "source": [
      "Example 11. \u5c06\u4e2d\u5fc3\u5ea6\u5ea6\u91cf\u5e94\u7528\u4e8e\u5174\u8da3\u56fe\u8c31\u4e2d"
     ]
    },
    {
     "cell_type": "code",
     "collapsed": false,
     "input": [
      "from operator import itemgetter\n",
      "\n",
      "# Create a copy of the graph so that we can iteratively mutate the copy\n",
      "# as needed for experimentation\n",
      "\n",
      "h = g.copy()\n",
      "\n",
      "# Remove the seed of the interest graph, which is a supernode, in order\n",
      "# to get a better idea of the network dynamics\n",
      "\n",
      "h.remove_node('Mining-the-Social-Web(repo)')\n",
      "\n",
      "# XXX: Remove any other nodes that appear to be supernodes.\n",
      "# Filter any other nodes that you can by threshold\n",
      "# criteria or heuristics from inspection.\n",
      "\n",
      "# Display the centrality measures for the top 10 nodes\n",
      "\n",
      "\n",
      "dc = sorted(nx.degree_centrality(h).items(), \n",
      "            key=itemgetter(1), reverse=True)\n",
      "\n",
      "print \"Degree Centrality\"\n",
      "print dc[:10]\n",
      "print\n",
      "\n",
      "bc = sorted(nx.betweenness_centrality(h).items(), \n",
      "            key=itemgetter(1), reverse=True)\n",
      "\n",
      "print \"Betweenness Centrality\"\n",
      "print bc[:10]\n",
      "print\n",
      "\n",
      "print \"Closeness Centrality\"\n",
      "cc = sorted(nx.closeness_centrality(h).items(), \n",
      "            key=itemgetter(1), reverse=True)\n",
      "print cc[:10]"
     ],
     "language": "python",
     "metadata": {},
     "outputs": [
      {
       "output_type": "stream",
       "stream": "stdout",
       "text": [
        "Degree Centrality\n",
        "[(u'4148(user)', 0.014150943396226415), (u'tswicegood(user)', 0.010377358490566037), (u'mcroydon(user)', 0.0056603773584905665), (u'nambra(user)', 0.0047169811320754715), (u'hoffmann(user)', 0.0037735849056603774), (u'trietptm(user)', 0.0037735849056603774), (u'tzuryby(user)', 0.0037735849056603774), (u'frac(user)', 0.0028301886792452833), (u'nikolay(user)', 0.0028301886792452833), (u'brunojm(user)', 0.0028301886792452833)]\n",
        "\n",
        "Betweenness Centrality"
       ]
      },
      {
       "output_type": "stream",
       "stream": "stdout",
       "text": [
        "\n",
        "[(u'tswicegood(user)', 7.126694817111194e-06), (u'mcroydon(user)', 2.672510556416698e-06), (u'yobo000(user)', 0.0), (u'gregmoreno(user)', 0.0), (u'SathishRaju(user)', 0.0), (u'beinvest(user)', 0.0), (u'gawry(user)', 0.0), (u'darkfall(user)', 0.0), (u'henri-nourel(user)', 0.0), (u'chihuanqi(user)', 0.0)]\n",
        "\n",
        "Closeness Centrality\n",
        "[(u'4148(user)', 0.014150943396226415), (u'nambra(user)', 0.004851752021563341), (u'trietptm(user)', 0.003930817610062893), (u'mcanthony(user)', 0.0021226415094339622), (u'douglas(user)', 0.0018867924528301887), (u'hupili(user)', 0.0012578616352201257), (u'caseysoftware(user)', 0.0012578616352201257), (u'matagus(user)', 0.0012578616352201257), (u'mhaidarh(user)', 0.0012578616352201257), (u'gawbul(user)', 0.0012578616352201257)]\n"
       ]
      }
     ],
     "prompt_number": 17
    },
    {
     "cell_type": "heading",
     "level": 1,
     "metadata": {},
     "source": [
      "Example 12. \u5411\u56fe\u4e2d\u6dfb\u52a0\u5e26\u661f\u6807\u7684\u8d44\u6e90\u5e93"
     ]
    },
    {
     "cell_type": "raw",
     "metadata": {},
     "source": [
      "**NOTE: Given that Example 12 is potentially a very time-consuming example to run, be sure to snapshot your work**# Save your work by serializing out another snapshot of the graph\n",
      "nx.write_gpickle(g, \"resources/ch07-github/data/github.gpickle.2\")\n",
      "\n",
      "#import networkx as nx\n",
      "#g = nx.read_gpickle(\"resources/ch07-github/data/github.gpickle.2\")"
     ]
    },
    {
     "cell_type": "code",
     "collapsed": false,
     "input": [
      "# Let's add each stargazer's additional starred repos and add edges \n",
      "# to find additional interests.\n",
      "\n",
      "MAX_REPOS = 500\n",
      "\n",
      "for i, sg in enumerate(stargazers):\n",
      "    print sg.login\n",
      "    try:\n",
      "        for starred in sg.get_starred()[:MAX_REPOS]: # Slice to avoid supernodes\n",
      "            g.add_node(starred.name + '(repo)', type='repo', lang=starred.language, \\\n",
      "                       owner=starred.owner.login)\n",
      "            g.add_edge(sg.login + '(user)', starred.name + '(repo)', type='gazes')\n",
      "    except Exception, e: #ssl.SSLError:\n",
      "        print \"Encountered an error fetching starred repos for\", sg.login, \"Skipping.\"\n",
      "\n",
      "    print \"Processed\", i+1, \"stargazers' starred repos\"\n",
      "    print \"Num nodes/edges in graph\", g.number_of_nodes(), \"/\", g.number_of_edges()\n",
      "    print \"Rate limit\", client.rate_limiting"
     ],
     "language": "python",
     "metadata": {},
     "outputs": [
      {
       "output_type": "stream",
       "stream": "stdout",
       "text": [
        "rdempsey\n"
       ]
      },
      {
       "ename": "KeyboardInterrupt",
       "evalue": "",
       "output_type": "pyerr",
       "traceback": [
        "\u001b[1;31m---------------------------------------------------------------------------\u001b[0m\n\u001b[1;31mKeyboardInterrupt\u001b[0m                         Traceback (most recent call last)",
        "\u001b[1;32m<ipython-input-18-48ab68d80778>\u001b[0m in \u001b[0;36m<module>\u001b[1;34m()\u001b[0m\n\u001b[0;32m      7\u001b[0m     \u001b[1;32mprint\u001b[0m \u001b[0msg\u001b[0m\u001b[1;33m.\u001b[0m\u001b[0mlogin\u001b[0m\u001b[1;33m\u001b[0m\u001b[0m\n\u001b[0;32m      8\u001b[0m     \u001b[1;32mtry\u001b[0m\u001b[1;33m:\u001b[0m\u001b[1;33m\u001b[0m\u001b[0m\n\u001b[1;32m----> 9\u001b[1;33m         \u001b[1;32mfor\u001b[0m \u001b[0mstarred\u001b[0m \u001b[1;32min\u001b[0m \u001b[0msg\u001b[0m\u001b[1;33m.\u001b[0m\u001b[0mget_starred\u001b[0m\u001b[1;33m(\u001b[0m\u001b[1;33m)\u001b[0m\u001b[1;33m[\u001b[0m\u001b[1;33m:\u001b[0m\u001b[0mMAX_REPOS\u001b[0m\u001b[1;33m]\u001b[0m\u001b[1;33m:\u001b[0m \u001b[1;31m# Slice to avoid supernodes\u001b[0m\u001b[1;33m\u001b[0m\u001b[0m\n\u001b[0m\u001b[0;32m     10\u001b[0m             \u001b[0mg\u001b[0m\u001b[1;33m.\u001b[0m\u001b[0madd_node\u001b[0m\u001b[1;33m(\u001b[0m\u001b[0mstarred\u001b[0m\u001b[1;33m.\u001b[0m\u001b[0mname\u001b[0m \u001b[1;33m+\u001b[0m \u001b[1;34m'(repo)'\u001b[0m\u001b[1;33m,\u001b[0m \u001b[0mtype\u001b[0m\u001b[1;33m=\u001b[0m\u001b[1;34m'repo'\u001b[0m\u001b[1;33m,\u001b[0m \u001b[0mlang\u001b[0m\u001b[1;33m=\u001b[0m\u001b[0mstarred\u001b[0m\u001b[1;33m.\u001b[0m\u001b[0mlanguage\u001b[0m\u001b[1;33m,\u001b[0m                        \u001b[0mowner\u001b[0m\u001b[1;33m=\u001b[0m\u001b[0mstarred\u001b[0m\u001b[1;33m.\u001b[0m\u001b[0mowner\u001b[0m\u001b[1;33m.\u001b[0m\u001b[0mlogin\u001b[0m\u001b[1;33m)\u001b[0m\u001b[1;33m\u001b[0m\u001b[0m\n\u001b[0;32m     11\u001b[0m             \u001b[0mg\u001b[0m\u001b[1;33m.\u001b[0m\u001b[0madd_edge\u001b[0m\u001b[1;33m(\u001b[0m\u001b[0msg\u001b[0m\u001b[1;33m.\u001b[0m\u001b[0mlogin\u001b[0m \u001b[1;33m+\u001b[0m \u001b[1;34m'(user)'\u001b[0m\u001b[1;33m,\u001b[0m \u001b[0mstarred\u001b[0m\u001b[1;33m.\u001b[0m\u001b[0mname\u001b[0m \u001b[1;33m+\u001b[0m \u001b[1;34m'(repo)'\u001b[0m\u001b[1;33m,\u001b[0m \u001b[0mtype\u001b[0m\u001b[1;33m=\u001b[0m\u001b[1;34m'gazes'\u001b[0m\u001b[1;33m)\u001b[0m\u001b[1;33m\u001b[0m\u001b[0m\n",
        "\u001b[1;32mC:\\Python27\\lib\\site-packages\\github\\PaginatedList.pyc\u001b[0m in \u001b[0;36m__iter__\u001b[1;34m(self)\u001b[0m\n\u001b[0;32m     73\u001b[0m             \u001b[1;32mwhile\u001b[0m \u001b[1;32mnot\u001b[0m \u001b[0mself\u001b[0m\u001b[1;33m.\u001b[0m\u001b[0m__finished\u001b[0m\u001b[1;33m(\u001b[0m\u001b[0mindex\u001b[0m\u001b[1;33m)\u001b[0m\u001b[1;33m:\u001b[0m\u001b[1;33m\u001b[0m\u001b[0m\n\u001b[0;32m     74\u001b[0m                 \u001b[1;32mif\u001b[0m \u001b[0mself\u001b[0m\u001b[1;33m.\u001b[0m\u001b[0m__list\u001b[0m\u001b[1;33m.\u001b[0m\u001b[0m_isBiggerThan\u001b[0m\u001b[1;33m(\u001b[0m\u001b[0mindex\u001b[0m\u001b[1;33m)\u001b[0m\u001b[1;33m:\u001b[0m\u001b[1;33m\u001b[0m\u001b[0m\n\u001b[1;32m---> 75\u001b[1;33m                     \u001b[1;32myield\u001b[0m \u001b[0mself\u001b[0m\u001b[1;33m.\u001b[0m\u001b[0m__list\u001b[0m\u001b[1;33m[\u001b[0m\u001b[0mindex\u001b[0m\u001b[1;33m]\u001b[0m\u001b[1;33m\u001b[0m\u001b[0m\n\u001b[0m\u001b[0;32m     76\u001b[0m                     \u001b[0mindex\u001b[0m \u001b[1;33m+=\u001b[0m \u001b[0mself\u001b[0m\u001b[1;33m.\u001b[0m\u001b[0m__step\u001b[0m\u001b[1;33m\u001b[0m\u001b[0m\n\u001b[0;32m     77\u001b[0m                 \u001b[1;32melse\u001b[0m\u001b[1;33m:\u001b[0m\u001b[1;33m\u001b[0m\u001b[0m\n",
        "\u001b[1;32mC:\\Python27\\lib\\site-packages\\github\\PaginatedList.pyc\u001b[0m in \u001b[0;36m__getitem__\u001b[1;34m(self, index)\u001b[0m\n\u001b[0;32m     37\u001b[0m         \u001b[1;32massert\u001b[0m \u001b[0misinstance\u001b[0m\u001b[1;33m(\u001b[0m\u001b[0mindex\u001b[0m\u001b[1;33m,\u001b[0m \u001b[1;33m(\u001b[0m\u001b[0mint\u001b[0m\u001b[1;33m,\u001b[0m \u001b[0mslice\u001b[0m\u001b[1;33m)\u001b[0m\u001b[1;33m)\u001b[0m\u001b[1;33m\u001b[0m\u001b[0m\n\u001b[0;32m     38\u001b[0m         \u001b[1;32mif\u001b[0m \u001b[0misinstance\u001b[0m\u001b[1;33m(\u001b[0m\u001b[0mindex\u001b[0m\u001b[1;33m,\u001b[0m \u001b[1;33m(\u001b[0m\u001b[0mint\u001b[0m\u001b[1;33m,\u001b[0m \u001b[0mlong\u001b[0m\u001b[1;33m)\u001b[0m\u001b[1;33m)\u001b[0m\u001b[1;33m:\u001b[0m\u001b[1;33m\u001b[0m\u001b[0m\n\u001b[1;32m---> 39\u001b[1;33m             \u001b[0mself\u001b[0m\u001b[1;33m.\u001b[0m\u001b[0m__fetchToIndex\u001b[0m\u001b[1;33m(\u001b[0m\u001b[0mindex\u001b[0m\u001b[1;33m)\u001b[0m\u001b[1;33m\u001b[0m\u001b[0m\n\u001b[0m\u001b[0;32m     40\u001b[0m             \u001b[1;32mreturn\u001b[0m \u001b[0mself\u001b[0m\u001b[1;33m.\u001b[0m\u001b[0m__elements\u001b[0m\u001b[1;33m[\u001b[0m\u001b[0mindex\u001b[0m\u001b[1;33m]\u001b[0m\u001b[1;33m\u001b[0m\u001b[0m\n\u001b[0;32m     41\u001b[0m         \u001b[1;32melse\u001b[0m\u001b[1;33m:\u001b[0m\u001b[1;33m\u001b[0m\u001b[0m\n",
        "\u001b[1;32mC:\\Python27\\lib\\site-packages\\github\\PaginatedList.pyc\u001b[0m in \u001b[0;36m__fetchToIndex\u001b[1;34m(self, index)\u001b[0m\n\u001b[0;32m     55\u001b[0m     \u001b[1;32mdef\u001b[0m \u001b[0m__fetchToIndex\u001b[0m\u001b[1;33m(\u001b[0m\u001b[0mself\u001b[0m\u001b[1;33m,\u001b[0m \u001b[0mindex\u001b[0m\u001b[1;33m)\u001b[0m\u001b[1;33m:\u001b[0m\u001b[1;33m\u001b[0m\u001b[0m\n\u001b[0;32m     56\u001b[0m         \u001b[1;32mwhile\u001b[0m \u001b[0mlen\u001b[0m\u001b[1;33m(\u001b[0m\u001b[0mself\u001b[0m\u001b[1;33m.\u001b[0m\u001b[0m__elements\u001b[0m\u001b[1;33m)\u001b[0m \u001b[1;33m<=\u001b[0m \u001b[0mindex\u001b[0m \u001b[1;32mand\u001b[0m \u001b[0mself\u001b[0m\u001b[1;33m.\u001b[0m\u001b[0m_couldGrow\u001b[0m\u001b[1;33m(\u001b[0m\u001b[1;33m)\u001b[0m\u001b[1;33m:\u001b[0m\u001b[1;33m\u001b[0m\u001b[0m\n\u001b[1;32m---> 57\u001b[1;33m             \u001b[0mself\u001b[0m\u001b[1;33m.\u001b[0m\u001b[0m_grow\u001b[0m\u001b[1;33m(\u001b[0m\u001b[1;33m)\u001b[0m\u001b[1;33m\u001b[0m\u001b[0m\n\u001b[0m\u001b[0;32m     58\u001b[0m \u001b[1;33m\u001b[0m\u001b[0m\n\u001b[0;32m     59\u001b[0m     \u001b[1;32mdef\u001b[0m \u001b[0m_grow\u001b[0m\u001b[1;33m(\u001b[0m\u001b[0mself\u001b[0m\u001b[1;33m)\u001b[0m\u001b[1;33m:\u001b[0m\u001b[1;33m\u001b[0m\u001b[0m\n",
        "\u001b[1;32mC:\\Python27\\lib\\site-packages\\github\\PaginatedList.pyc\u001b[0m in \u001b[0;36m_grow\u001b[1;34m(self)\u001b[0m\n\u001b[0;32m     58\u001b[0m \u001b[1;33m\u001b[0m\u001b[0m\n\u001b[0;32m     59\u001b[0m     \u001b[1;32mdef\u001b[0m \u001b[0m_grow\u001b[0m\u001b[1;33m(\u001b[0m\u001b[0mself\u001b[0m\u001b[1;33m)\u001b[0m\u001b[1;33m:\u001b[0m\u001b[1;33m\u001b[0m\u001b[0m\n\u001b[1;32m---> 60\u001b[1;33m         \u001b[0mnewElements\u001b[0m \u001b[1;33m=\u001b[0m \u001b[0mself\u001b[0m\u001b[1;33m.\u001b[0m\u001b[0m_fetchNextPage\u001b[0m\u001b[1;33m(\u001b[0m\u001b[1;33m)\u001b[0m\u001b[1;33m\u001b[0m\u001b[0m\n\u001b[0m\u001b[0;32m     61\u001b[0m         \u001b[0mself\u001b[0m\u001b[1;33m.\u001b[0m\u001b[0m__elements\u001b[0m \u001b[1;33m+=\u001b[0m \u001b[0mnewElements\u001b[0m\u001b[1;33m\u001b[0m\u001b[0m\n\u001b[0;32m     62\u001b[0m         \u001b[1;32mreturn\u001b[0m \u001b[0mnewElements\u001b[0m\u001b[1;33m\u001b[0m\u001b[0m\n",
        "\u001b[1;32mC:\\Python27\\lib\\site-packages\\github\\PaginatedList.pyc\u001b[0m in \u001b[0;36m_fetchNextPage\u001b[1;34m(self)\u001b[0m\n\u001b[0;32m    159\u001b[0m             \u001b[0mself\u001b[0m\u001b[1;33m.\u001b[0m\u001b[0m__nextUrl\u001b[0m\u001b[1;33m,\u001b[0m\u001b[1;33m\u001b[0m\u001b[0m\n\u001b[0;32m    160\u001b[0m             \u001b[0mparameters\u001b[0m\u001b[1;33m=\u001b[0m\u001b[0mself\u001b[0m\u001b[1;33m.\u001b[0m\u001b[0m__nextParams\u001b[0m\u001b[1;33m,\u001b[0m\u001b[1;33m\u001b[0m\u001b[0m\n\u001b[1;32m--> 161\u001b[1;33m             \u001b[0mheaders\u001b[0m\u001b[1;33m=\u001b[0m\u001b[0mself\u001b[0m\u001b[1;33m.\u001b[0m\u001b[0m__headers\u001b[0m\u001b[1;33m\u001b[0m\u001b[0m\n\u001b[0m\u001b[0;32m    162\u001b[0m         )\n\u001b[0;32m    163\u001b[0m         \u001b[0mdata\u001b[0m \u001b[1;33m=\u001b[0m \u001b[0mdata\u001b[0m \u001b[1;32mif\u001b[0m \u001b[0mdata\u001b[0m \u001b[1;32melse\u001b[0m \u001b[1;33m[\u001b[0m\u001b[1;33m]\u001b[0m\u001b[1;33m\u001b[0m\u001b[0m\n",
        "\u001b[1;32mC:\\Python27\\lib\\site-packages\\github\\Requester.pyc\u001b[0m in \u001b[0;36mrequestJsonAndCheck\u001b[1;34m(self, verb, url, parameters, headers, input, cnx)\u001b[0m\n\u001b[0;32m    169\u001b[0m \u001b[1;33m\u001b[0m\u001b[0m\n\u001b[0;32m    170\u001b[0m     \u001b[1;32mdef\u001b[0m \u001b[0mrequestJsonAndCheck\u001b[0m\u001b[1;33m(\u001b[0m\u001b[0mself\u001b[0m\u001b[1;33m,\u001b[0m \u001b[0mverb\u001b[0m\u001b[1;33m,\u001b[0m \u001b[0murl\u001b[0m\u001b[1;33m,\u001b[0m \u001b[0mparameters\u001b[0m\u001b[1;33m=\u001b[0m\u001b[0mNone\u001b[0m\u001b[1;33m,\u001b[0m \u001b[0mheaders\u001b[0m\u001b[1;33m=\u001b[0m\u001b[0mNone\u001b[0m\u001b[1;33m,\u001b[0m \u001b[0minput\u001b[0m\u001b[1;33m=\u001b[0m\u001b[0mNone\u001b[0m\u001b[1;33m,\u001b[0m \u001b[0mcnx\u001b[0m\u001b[1;33m=\u001b[0m\u001b[0mNone\u001b[0m\u001b[1;33m)\u001b[0m\u001b[1;33m:\u001b[0m\u001b[1;33m\u001b[0m\u001b[0m\n\u001b[1;32m--> 171\u001b[1;33m         \u001b[1;32mreturn\u001b[0m \u001b[0mself\u001b[0m\u001b[1;33m.\u001b[0m\u001b[0m__check\u001b[0m\u001b[1;33m(\u001b[0m\u001b[1;33m*\u001b[0m\u001b[0mself\u001b[0m\u001b[1;33m.\u001b[0m\u001b[0mrequestJson\u001b[0m\u001b[1;33m(\u001b[0m\u001b[0mverb\u001b[0m\u001b[1;33m,\u001b[0m \u001b[0murl\u001b[0m\u001b[1;33m,\u001b[0m \u001b[0mparameters\u001b[0m\u001b[1;33m,\u001b[0m \u001b[0mheaders\u001b[0m\u001b[1;33m,\u001b[0m \u001b[0minput\u001b[0m\u001b[1;33m,\u001b[0m \u001b[0mcnx\u001b[0m\u001b[1;33m)\u001b[0m\u001b[1;33m)\u001b[0m\u001b[1;33m\u001b[0m\u001b[0m\n\u001b[0m\u001b[0;32m    172\u001b[0m \u001b[1;33m\u001b[0m\u001b[0m\n\u001b[0;32m    173\u001b[0m     \u001b[1;32mdef\u001b[0m \u001b[0mrequestMultipartAndCheck\u001b[0m\u001b[1;33m(\u001b[0m\u001b[0mself\u001b[0m\u001b[1;33m,\u001b[0m \u001b[0mverb\u001b[0m\u001b[1;33m,\u001b[0m \u001b[0murl\u001b[0m\u001b[1;33m,\u001b[0m \u001b[0mparameters\u001b[0m\u001b[1;33m=\u001b[0m\u001b[0mNone\u001b[0m\u001b[1;33m,\u001b[0m \u001b[0mheaders\u001b[0m\u001b[1;33m=\u001b[0m\u001b[0mNone\u001b[0m\u001b[1;33m,\u001b[0m \u001b[0minput\u001b[0m\u001b[1;33m=\u001b[0m\u001b[0mNone\u001b[0m\u001b[1;33m)\u001b[0m\u001b[1;33m:\u001b[0m\u001b[1;33m\u001b[0m\u001b[0m\n",
        "\u001b[1;32mC:\\Python27\\lib\\site-packages\\github\\Requester.pyc\u001b[0m in \u001b[0;36mrequestJson\u001b[1;34m(self, verb, url, parameters, headers, input, cnx)\u001b[0m\n\u001b[0;32m    210\u001b[0m             \u001b[1;32mreturn\u001b[0m \u001b[1;34m\"application/json\"\u001b[0m\u001b[1;33m,\u001b[0m \u001b[0mjson\u001b[0m\u001b[1;33m.\u001b[0m\u001b[0mdumps\u001b[0m\u001b[1;33m(\u001b[0m\u001b[0minput\u001b[0m\u001b[1;33m)\u001b[0m\u001b[1;33m\u001b[0m\u001b[0m\n\u001b[0;32m    211\u001b[0m \u001b[1;33m\u001b[0m\u001b[0m\n\u001b[1;32m--> 212\u001b[1;33m         \u001b[1;32mreturn\u001b[0m \u001b[0mself\u001b[0m\u001b[1;33m.\u001b[0m\u001b[0m__requestEncode\u001b[0m\u001b[1;33m(\u001b[0m\u001b[0mcnx\u001b[0m\u001b[1;33m,\u001b[0m \u001b[0mverb\u001b[0m\u001b[1;33m,\u001b[0m \u001b[0murl\u001b[0m\u001b[1;33m,\u001b[0m \u001b[0mparameters\u001b[0m\u001b[1;33m,\u001b[0m \u001b[0mheaders\u001b[0m\u001b[1;33m,\u001b[0m \u001b[0minput\u001b[0m\u001b[1;33m,\u001b[0m \u001b[0mencode\u001b[0m\u001b[1;33m)\u001b[0m\u001b[1;33m\u001b[0m\u001b[0m\n\u001b[0m\u001b[0;32m    213\u001b[0m \u001b[1;33m\u001b[0m\u001b[0m\n\u001b[0;32m    214\u001b[0m     \u001b[1;32mdef\u001b[0m \u001b[0mrequestMultipart\u001b[0m\u001b[1;33m(\u001b[0m\u001b[0mself\u001b[0m\u001b[1;33m,\u001b[0m \u001b[0mverb\u001b[0m\u001b[1;33m,\u001b[0m \u001b[0murl\u001b[0m\u001b[1;33m,\u001b[0m \u001b[0mparameters\u001b[0m\u001b[1;33m=\u001b[0m\u001b[0mNone\u001b[0m\u001b[1;33m,\u001b[0m \u001b[0mheaders\u001b[0m\u001b[1;33m=\u001b[0m\u001b[0mNone\u001b[0m\u001b[1;33m,\u001b[0m \u001b[0minput\u001b[0m\u001b[1;33m=\u001b[0m\u001b[0mNone\u001b[0m\u001b[1;33m)\u001b[0m\u001b[1;33m:\u001b[0m\u001b[1;33m\u001b[0m\u001b[0m\n",
        "\u001b[1;32mC:\\Python27\\lib\\site-packages\\github\\Requester.pyc\u001b[0m in \u001b[0;36m__requestEncode\u001b[1;34m(self, cnx, verb, url, parameters, requestHeaders, input, encode)\u001b[0m\n\u001b[0;32m    249\u001b[0m         \u001b[0mself\u001b[0m\u001b[1;33m.\u001b[0m\u001b[0mNEW_DEBUG_FRAME\u001b[0m\u001b[1;33m(\u001b[0m\u001b[0mrequestHeaders\u001b[0m\u001b[1;33m)\u001b[0m\u001b[1;33m\u001b[0m\u001b[0m\n\u001b[0;32m    250\u001b[0m \u001b[1;33m\u001b[0m\u001b[0m\n\u001b[1;32m--> 251\u001b[1;33m         \u001b[0mstatus\u001b[0m\u001b[1;33m,\u001b[0m \u001b[0mresponseHeaders\u001b[0m\u001b[1;33m,\u001b[0m \u001b[0moutput\u001b[0m \u001b[1;33m=\u001b[0m \u001b[0mself\u001b[0m\u001b[1;33m.\u001b[0m\u001b[0m__requestRaw\u001b[0m\u001b[1;33m(\u001b[0m\u001b[0mcnx\u001b[0m\u001b[1;33m,\u001b[0m \u001b[0mverb\u001b[0m\u001b[1;33m,\u001b[0m \u001b[0murl\u001b[0m\u001b[1;33m,\u001b[0m \u001b[0mrequestHeaders\u001b[0m\u001b[1;33m,\u001b[0m \u001b[0mencoded_input\u001b[0m\u001b[1;33m)\u001b[0m\u001b[1;33m\u001b[0m\u001b[0m\n\u001b[0m\u001b[0;32m    252\u001b[0m \u001b[1;33m\u001b[0m\u001b[0m\n\u001b[0;32m    253\u001b[0m         \u001b[1;32mif\u001b[0m \u001b[1;34m\"x-ratelimit-remaining\"\u001b[0m \u001b[1;32min\u001b[0m \u001b[0mresponseHeaders\u001b[0m \u001b[1;32mand\u001b[0m \u001b[1;34m\"x-ratelimit-limit\"\u001b[0m \u001b[1;32min\u001b[0m \u001b[0mresponseHeaders\u001b[0m\u001b[1;33m:\u001b[0m\u001b[1;33m\u001b[0m\u001b[0m\n",
        "\u001b[1;32mC:\\Python27\\lib\\site-packages\\github\\Requester.pyc\u001b[0m in \u001b[0;36m__requestRaw\u001b[1;34m(self, cnx, verb, url, requestHeaders, input)\u001b[0m\n\u001b[0;32m    279\u001b[0m         \u001b[0mstatus\u001b[0m \u001b[1;33m=\u001b[0m \u001b[0mresponse\u001b[0m\u001b[1;33m.\u001b[0m\u001b[0mstatus\u001b[0m\u001b[1;33m\u001b[0m\u001b[0m\n\u001b[0;32m    280\u001b[0m         \u001b[0mresponseHeaders\u001b[0m \u001b[1;33m=\u001b[0m \u001b[0mdict\u001b[0m\u001b[1;33m(\u001b[0m\u001b[1;33m(\u001b[0m\u001b[0mk\u001b[0m\u001b[1;33m.\u001b[0m\u001b[0mlower\u001b[0m\u001b[1;33m(\u001b[0m\u001b[1;33m)\u001b[0m\u001b[1;33m,\u001b[0m \u001b[0mv\u001b[0m\u001b[1;33m)\u001b[0m \u001b[1;32mfor\u001b[0m \u001b[0mk\u001b[0m\u001b[1;33m,\u001b[0m \u001b[0mv\u001b[0m \u001b[1;32min\u001b[0m \u001b[0mresponse\u001b[0m\u001b[1;33m.\u001b[0m\u001b[0mgetheaders\u001b[0m\u001b[1;33m(\u001b[0m\u001b[1;33m)\u001b[0m\u001b[1;33m)\u001b[0m\u001b[1;33m\u001b[0m\u001b[0m\n\u001b[1;32m--> 281\u001b[1;33m         \u001b[0moutput\u001b[0m \u001b[1;33m=\u001b[0m \u001b[0mresponse\u001b[0m\u001b[1;33m.\u001b[0m\u001b[0mread\u001b[0m\u001b[1;33m(\u001b[0m\u001b[1;33m)\u001b[0m\u001b[1;33m\u001b[0m\u001b[0m\n\u001b[0m\u001b[0;32m    282\u001b[0m \u001b[1;33m\u001b[0m\u001b[0m\n\u001b[0;32m    283\u001b[0m         \u001b[0mcnx\u001b[0m\u001b[1;33m.\u001b[0m\u001b[0mclose\u001b[0m\u001b[1;33m(\u001b[0m\u001b[1;33m)\u001b[0m\u001b[1;33m\u001b[0m\u001b[0m\n",
        "\u001b[1;32mC:\\Python27\\lib\\httplib.pyc\u001b[0m in \u001b[0;36mread\u001b[1;34m(self, amt)\u001b[0m\n\u001b[0;32m    555\u001b[0m             \u001b[1;32melse\u001b[0m\u001b[1;33m:\u001b[0m\u001b[1;33m\u001b[0m\u001b[0m\n\u001b[0;32m    556\u001b[0m                 \u001b[1;32mtry\u001b[0m\u001b[1;33m:\u001b[0m\u001b[1;33m\u001b[0m\u001b[0m\n\u001b[1;32m--> 557\u001b[1;33m                     \u001b[0ms\u001b[0m \u001b[1;33m=\u001b[0m \u001b[0mself\u001b[0m\u001b[1;33m.\u001b[0m\u001b[0m_safe_read\u001b[0m\u001b[1;33m(\u001b[0m\u001b[0mself\u001b[0m\u001b[1;33m.\u001b[0m\u001b[0mlength\u001b[0m\u001b[1;33m)\u001b[0m\u001b[1;33m\u001b[0m\u001b[0m\n\u001b[0m\u001b[0;32m    558\u001b[0m                 \u001b[1;32mexcept\u001b[0m \u001b[0mIncompleteRead\u001b[0m\u001b[1;33m:\u001b[0m\u001b[1;33m\u001b[0m\u001b[0m\n\u001b[0;32m    559\u001b[0m                     \u001b[0mself\u001b[0m\u001b[1;33m.\u001b[0m\u001b[0mclose\u001b[0m\u001b[1;33m(\u001b[0m\u001b[1;33m)\u001b[0m\u001b[1;33m\u001b[0m\u001b[0m\n",
        "\u001b[1;32mC:\\Python27\\lib\\httplib.pyc\u001b[0m in \u001b[0;36m_safe_read\u001b[1;34m(self, amt)\u001b[0m\n\u001b[0;32m    662\u001b[0m         \u001b[0ms\u001b[0m \u001b[1;33m=\u001b[0m \u001b[1;33m[\u001b[0m\u001b[1;33m]\u001b[0m\u001b[1;33m\u001b[0m\u001b[0m\n\u001b[0;32m    663\u001b[0m         \u001b[1;32mwhile\u001b[0m \u001b[0mamt\u001b[0m \u001b[1;33m>\u001b[0m \u001b[1;36m0\u001b[0m\u001b[1;33m:\u001b[0m\u001b[1;33m\u001b[0m\u001b[0m\n\u001b[1;32m--> 664\u001b[1;33m             \u001b[0mchunk\u001b[0m \u001b[1;33m=\u001b[0m \u001b[0mself\u001b[0m\u001b[1;33m.\u001b[0m\u001b[0mfp\u001b[0m\u001b[1;33m.\u001b[0m\u001b[0mread\u001b[0m\u001b[1;33m(\u001b[0m\u001b[0mmin\u001b[0m\u001b[1;33m(\u001b[0m\u001b[0mamt\u001b[0m\u001b[1;33m,\u001b[0m \u001b[0mMAXAMOUNT\u001b[0m\u001b[1;33m)\u001b[0m\u001b[1;33m)\u001b[0m\u001b[1;33m\u001b[0m\u001b[0m\n\u001b[0m\u001b[0;32m    665\u001b[0m             \u001b[1;32mif\u001b[0m \u001b[1;32mnot\u001b[0m \u001b[0mchunk\u001b[0m\u001b[1;33m:\u001b[0m\u001b[1;33m\u001b[0m\u001b[0m\n\u001b[0;32m    666\u001b[0m                 \u001b[1;32mraise\u001b[0m \u001b[0mIncompleteRead\u001b[0m\u001b[1;33m(\u001b[0m\u001b[1;34m''\u001b[0m\u001b[1;33m.\u001b[0m\u001b[0mjoin\u001b[0m\u001b[1;33m(\u001b[0m\u001b[0ms\u001b[0m\u001b[1;33m)\u001b[0m\u001b[1;33m,\u001b[0m \u001b[0mamt\u001b[0m\u001b[1;33m)\u001b[0m\u001b[1;33m\u001b[0m\u001b[0m\n",
        "\u001b[1;32mC:\\Python27\\lib\\socket.pyc\u001b[0m in \u001b[0;36mread\u001b[1;34m(self, size)\u001b[0m\n\u001b[0;32m    378\u001b[0m                 \u001b[1;31m# fragmentation issues on many platforms.\u001b[0m\u001b[1;33m\u001b[0m\u001b[1;33m\u001b[0m\u001b[0m\n\u001b[0;32m    379\u001b[0m                 \u001b[1;32mtry\u001b[0m\u001b[1;33m:\u001b[0m\u001b[1;33m\u001b[0m\u001b[0m\n\u001b[1;32m--> 380\u001b[1;33m                     \u001b[0mdata\u001b[0m \u001b[1;33m=\u001b[0m \u001b[0mself\u001b[0m\u001b[1;33m.\u001b[0m\u001b[0m_sock\u001b[0m\u001b[1;33m.\u001b[0m\u001b[0mrecv\u001b[0m\u001b[1;33m(\u001b[0m\u001b[0mleft\u001b[0m\u001b[1;33m)\u001b[0m\u001b[1;33m\u001b[0m\u001b[0m\n\u001b[0m\u001b[0;32m    381\u001b[0m                 \u001b[1;32mexcept\u001b[0m \u001b[0merror\u001b[0m\u001b[1;33m,\u001b[0m \u001b[0me\u001b[0m\u001b[1;33m:\u001b[0m\u001b[1;33m\u001b[0m\u001b[0m\n\u001b[0;32m    382\u001b[0m                     \u001b[1;32mif\u001b[0m \u001b[0me\u001b[0m\u001b[1;33m.\u001b[0m\u001b[0margs\u001b[0m\u001b[1;33m[\u001b[0m\u001b[1;36m0\u001b[0m\u001b[1;33m]\u001b[0m \u001b[1;33m==\u001b[0m \u001b[0mEINTR\u001b[0m\u001b[1;33m:\u001b[0m\u001b[1;33m\u001b[0m\u001b[0m\n",
        "\u001b[1;32mC:\\Python27\\lib\\ssl.pyc\u001b[0m in \u001b[0;36mrecv\u001b[1;34m(self, buflen, flags)\u001b[0m\n\u001b[0;32m    712\u001b[0m                     \u001b[1;34m\"non-zero flags not allowed in calls to recv() on %s\"\u001b[0m \u001b[1;33m%\u001b[0m\u001b[1;33m\u001b[0m\u001b[0m\n\u001b[0;32m    713\u001b[0m                     self.__class__)\n\u001b[1;32m--> 714\u001b[1;33m             \u001b[1;32mreturn\u001b[0m \u001b[0mself\u001b[0m\u001b[1;33m.\u001b[0m\u001b[0mread\u001b[0m\u001b[1;33m(\u001b[0m\u001b[0mbuflen\u001b[0m\u001b[1;33m)\u001b[0m\u001b[1;33m\u001b[0m\u001b[0m\n\u001b[0m\u001b[0;32m    715\u001b[0m         \u001b[1;32melse\u001b[0m\u001b[1;33m:\u001b[0m\u001b[1;33m\u001b[0m\u001b[0m\n\u001b[0;32m    716\u001b[0m             \u001b[1;32mreturn\u001b[0m \u001b[0mself\u001b[0m\u001b[1;33m.\u001b[0m\u001b[0m_sock\u001b[0m\u001b[1;33m.\u001b[0m\u001b[0mrecv\u001b[0m\u001b[1;33m(\u001b[0m\u001b[0mbuflen\u001b[0m\u001b[1;33m,\u001b[0m \u001b[0mflags\u001b[0m\u001b[1;33m)\u001b[0m\u001b[1;33m\u001b[0m\u001b[0m\n",
        "\u001b[1;32mC:\\Python27\\lib\\ssl.pyc\u001b[0m in \u001b[0;36mread\u001b[1;34m(self, len, buffer)\u001b[0m\n\u001b[0;32m    606\u001b[0m                 \u001b[0mv\u001b[0m \u001b[1;33m=\u001b[0m \u001b[0mself\u001b[0m\u001b[1;33m.\u001b[0m\u001b[0m_sslobj\u001b[0m\u001b[1;33m.\u001b[0m\u001b[0mread\u001b[0m\u001b[1;33m(\u001b[0m\u001b[0mlen\u001b[0m\u001b[1;33m,\u001b[0m \u001b[0mbuffer\u001b[0m\u001b[1;33m)\u001b[0m\u001b[1;33m\u001b[0m\u001b[0m\n\u001b[0;32m    607\u001b[0m             \u001b[1;32melse\u001b[0m\u001b[1;33m:\u001b[0m\u001b[1;33m\u001b[0m\u001b[0m\n\u001b[1;32m--> 608\u001b[1;33m                 \u001b[0mv\u001b[0m \u001b[1;33m=\u001b[0m \u001b[0mself\u001b[0m\u001b[1;33m.\u001b[0m\u001b[0m_sslobj\u001b[0m\u001b[1;33m.\u001b[0m\u001b[0mread\u001b[0m\u001b[1;33m(\u001b[0m\u001b[0mlen\u001b[0m \u001b[1;32mor\u001b[0m \u001b[1;36m1024\u001b[0m\u001b[1;33m)\u001b[0m\u001b[1;33m\u001b[0m\u001b[0m\n\u001b[0m\u001b[0;32m    609\u001b[0m             \u001b[1;32mreturn\u001b[0m \u001b[0mv\u001b[0m\u001b[1;33m\u001b[0m\u001b[0m\n\u001b[0;32m    610\u001b[0m         \u001b[1;32mexcept\u001b[0m \u001b[0mSSLError\u001b[0m \u001b[1;32mas\u001b[0m \u001b[0mx\u001b[0m\u001b[1;33m:\u001b[0m\u001b[1;33m\u001b[0m\u001b[0m\n",
        "\u001b[1;31mKeyboardInterrupt\u001b[0m: "
       ]
      }
     ],
     "prompt_number": 18
    },
    {
     "cell_type": "raw",
     "metadata": {},
     "source": [
      "Consider analysis similar to _Example 12_ here. Create a copy of the graph and be selective in pruning it or extracting subgraphs of interst."
     ]
    },
    {
     "cell_type": "heading",
     "level": 1,
     "metadata": {},
     "source": [
      "Example 13. \u5bf9\u6dfb\u52a0\u989d\u5916\u661f\u6807\u7684\u8d44\u6e90\u5e93\u66f4\u65b0\u540e\u7684\u56fe\u8fdb\u884c\u63a2\u7d22"
     ]
    },
    {
     "cell_type": "code",
     "collapsed": false,
     "input": [
      "# Poke around: how to get users/repos\n",
      "from operator import itemgetter\n",
      "\n",
      "print nx.info(g)\n",
      "print\n",
      "\n",
      "# Get a list of repositories from the graph.\n",
      "\n",
      "repos = [n for n in g.nodes_iter() if g.node[n]['type'] == 'repo']\n",
      "\n",
      "# Most popular repos\n",
      "\n",
      "print \"Popular repositories\"\n",
      "print sorted([(n,d) \n",
      "              for (n,d) in g.in_degree_iter() \n",
      "                  if g.node[n]['type'] == 'repo'], \\\n",
      "             key=itemgetter(1), reverse=True)[:10]\n",
      "print\n",
      "\n",
      "# Projects gazed at by a user\n",
      "\n",
      "print \"Respositories that ptwobrussell has bookmarked\"\n",
      "print [(n,g.node[n]['lang']) \n",
      "       for n in g['ptwobrussell(user)'] \n",
      "           if g['ptwobrussell(user)'][n]['type'] == 'gazes']\n",
      "print\n",
      "\n",
      "# Programming languages for each user\n",
      "\n",
      "print \"Programming languages ptwobrussell is interested in\"\n",
      "print list(set([g.node[n]['lang'] \n",
      "                for n in g['ptwobrussell(user)'] \n",
      "                    if g['ptwobrussell(user)'][n]['type'] == 'gazes']))\n",
      "print\n",
      "\n",
      "# Find supernodes in the graph by approximating with a high number of \n",
      "# outgoing edges\n",
      "\n",
      "print \"Supernode candidates\"\n",
      "print sorted([(n, len(g.out_edges(n))) \n",
      "              for n in g.nodes_iter() \n",
      "                  if g.node[n]['type'] == 'user' and len(g.out_edges(n)) > 500], \\\n",
      "             key=itemgetter(1), reverse=True)"
     ],
     "language": "python",
     "metadata": {},
     "outputs": [
      {
       "output_type": "stream",
       "stream": "stdout",
       "text": [
        "Name: \n",
        "Type: DiGraph\n",
        "Number of nodes: 1260\n",
        "Number of edges: 1312\n",
        "Average in degree:   1.0413\n",
        "Average out degree:   1.0413\n",
        "\n",
        "Popular repositories\n",
        "[(u'Mining-the-Social-Web(repo)', 1061), (u'gdom(repo)', 1), (u'boom(repo)', 1), (u'ratelim(repo)', 1), (u'guard(repo)', 1), (u'chamber(repo)', 1), (u'pyner(repo)', 1), (u'tpot(repo)', 1), (u'ispy(repo)', 1), (u'documents(repo)', 1)]\n",
        "\n",
        "Respositories that ptwobrussell has bookmarked\n",
        "[(u'Mining-the-Social-Web(repo)', u'JavaScript')]\n",
        "\n",
        "Programming languages ptwobrussell is interested in\n",
        "[u'JavaScript']\n",
        "\n",
        "Supernode candidates\n",
        "[]\n"
       ]
      }
     ],
     "prompt_number": 19
    },
    {
     "cell_type": "heading",
     "level": 1,
     "metadata": {},
     "source": [
      "Example 14. \u5347\u7ea7\u56fe\u4e3a\u5305\u542b\u7f16\u7a0b\u8bed\u8a00\u8282\u70b9\u7684\u56fe"
     ]
    },
    {
     "cell_type": "code",
     "collapsed": false,
     "input": [
      "# Iterate over all of the repos, and add edges for programming languages \n",
      "# for each person in the graph. We'll also add edges back to repos so that \n",
      "# we have a good point to \"pivot\" upon.\n",
      "\n",
      "repos = [n \n",
      "         for n in g.nodes_iter() \n",
      "             if g.node[n]['type'] == 'repo']\n",
      "\n",
      "for repo in repos:\n",
      "    lang = (g.node[repo]['lang'] or \"\") + \"(lang)\"\n",
      "    \n",
      "    stargazers = [u \n",
      "                  for (u, r, d) in g.in_edges_iter(repo, data=True) \n",
      "                     if d['type'] == 'gazes'\n",
      "                 ]\n",
      "    \n",
      "    for sg in stargazers:\n",
      "        g.add_node(lang, type='lang')\n",
      "        g.add_edge(sg, lang, type='programs')\n",
      "        g.add_edge(lang, repo, type='implements')"
     ],
     "language": "python",
     "metadata": {},
     "outputs": [],
     "prompt_number": 20
    },
    {
     "cell_type": "heading",
     "level": 1,
     "metadata": {},
     "source": [
      "Example 15. \u6700\u7ec8\u56fe\u7684\u793a\u4f8b\u67e5\u8be2"
     ]
    },
    {
     "cell_type": "code",
     "collapsed": false,
     "input": [
      "# Some stats\n",
      "\n",
      "print nx.info(g)\n",
      "print\n",
      "\n",
      "# What languages exist in the graph?\n",
      "\n",
      "print [n \n",
      "       for n in g.nodes_iter() \n",
      "           if g.node[n]['type'] == 'lang']\n",
      "print\n",
      "\n",
      "# What languages do users program with?\n",
      "print [n \n",
      "       for n in g['ptwobrussell(user)'] \n",
      "           if g['ptwobrussell(user)'][n]['type'] == 'programs']\n",
      "\n",
      "# What is the most popular programming language?\n",
      "print \"Most popular languages\"\n",
      "print sorted([(n, g.in_degree(n))\n",
      " for n in g.nodes_iter() \n",
      "     if g.node[n]['type'] == 'lang'], key=itemgetter(1), reverse=True)[:10]\n",
      "print\n",
      "\n",
      "# How many users program in a particular language?\n",
      "python_programmers = [u \n",
      "                      for (u, l) in g.in_edges_iter('Python(lang)') \n",
      "                          if g.node[u]['type'] == 'user']\n",
      "print \"Number of Python programmers:\", len(python_programmers)\n",
      "print\n",
      "\n",
      "javascript_programmers = [u for \n",
      "                          (u, l) in g.in_edges_iter('JavaScript(lang)') \n",
      "                              if g.node[u]['type'] == 'user']\n",
      "print \"Number of JavaScript programmers:\", len(javascript_programmers)\n",
      "print\n",
      "\n",
      "# What users program in both Python and JavaScript?\n",
      "print \"Number of programmers who use JavaScript and Python\"\n",
      "print len(set(python_programmers).intersection(set(javascript_programmers)))\n",
      "\n",
      "# Programmers who use JavaScript but not Python\n",
      "print \"Number of programmers who use JavaScript but not Python\"\n",
      "print len(set(javascript_programmers).difference(set(python_programmers)))\n",
      "\n",
      "# XXX: Can you determine who is the most polyglot programmer?"
     ],
     "language": "python",
     "metadata": {},
     "outputs": [
      {
       "output_type": "stream",
       "stream": "stdout",
       "text": [
        "Name: \n",
        "Type: DiGraph\n",
        "Number of nodes: 1277\n",
        "Number of edges: 2588\n",
        "Average in degree:   2.0266\n",
        "Average out degree:   2.0266\n",
        "\n",
        "[u'Scala(lang)', u'C(lang)', u'HTML(lang)', u'C++(lang)', u'R(lang)', u'Go(lang)', u'PHP(lang)', u'Ruby(lang)', u'Java(lang)', u'Jupyter Notebook(lang)', u'Python(lang)', u'Elixir(lang)', '(lang)', u'Shell(lang)', u'CSS(lang)', u'Erlang(lang)', u'JavaScript(lang)']\n",
        "\n",
        "[u'JavaScript(lang)']\n",
        "Most popular languages\n",
        "[(u'JavaScript(lang)', 1061), (u'Scala(lang)', 1), (u'C(lang)', 1), (u'HTML(lang)', 1), (u'C++(lang)', 1), (u'R(lang)', 1), (u'Go(lang)', 1), (u'PHP(lang)', 1), (u'Ruby(lang)', 1), (u'Java(lang)', 1)]\n",
        "\n",
        "Number of Python programmers: 1\n",
        "\n",
        "Number of JavaScript programmers: 1061\n",
        "\n",
        "Number of programmers who use JavaScript and Python\n",
        "1\n",
        "Number of programmers who use JavaScript but not Python\n",
        "1060\n"
       ]
      }
     ],
     "prompt_number": 21
    },
    {
     "cell_type": "heading",
     "level": 5,
     "metadata": {},
     "source": [
      "**NOTE: Optionally, snapshot the final graph**"
     ]
    },
    {
     "cell_type": "code",
     "collapsed": false,
     "input": [
      "# Save your work by serializing out another snapshot of the graph\n",
      "nx.write_gpickle(g, \"resources/ch07-github/data/github.gpickle.3\")\n",
      "#import networkx as nx\n",
      "#g = nx.read_gpickle(\"resources/ch07-github/data/github.gpickle.3\")"
     ],
     "language": "python",
     "metadata": {},
     "outputs": []
    },
    {
     "cell_type": "heading",
     "level": 1,
     "metadata": {},
     "source": [
      "Example 16.\u793e\u4ea4\u7f51\u7edc\u5174\u8da3\u56fe\u8c31\u7684\u53ef\u89c6\u5316"
     ]
    },
    {
     "cell_type": "code",
     "collapsed": false,
     "input": [
      "import os\n",
      "import json\n",
      "from IPython.display import IFrame\n",
      "from IPython.core.display import display\n",
      "from networkx.readwrite import json_graph\n",
      "\n",
      "print \"Stats on the full graph\"\n",
      "print nx.info(g)\n",
      "print\n",
      "\n",
      "# Create a subgraph from a collection of nodes. In this case, the\n",
      "# collection is all of the users in the original interest graph\n",
      "\n",
      "mtsw_users = [n for n in g if g.node[n]['type'] == 'user']\n",
      "h = g.subgraph(mtsw_users)\n",
      "\n",
      "print \"Stats on the extracted subgraph\"\n",
      "print nx.info(h)\n",
      "\n",
      "# Visualize the social network of all people from the original interest graph.\n",
      "\n",
      "d = json_graph.node_link_data(h)\n",
      "json.dump(d, open('resources/ch07-github/force.json', 'w'))\n",
      "\n",
      "\n",
      "# IPython Notebook can serve files and display them into\n",
      "# inline frames. Prepend the path with the 'files' prefix.\n",
      "\n",
      "# A D3 template for displaying the graph data.\n",
      "viz_file = 'files/resources/ch07-github/force.html'\n",
      "\n",
      "# Display the D3 visualization.\n",
      "\n",
      "display(IFrame(viz_file, '100%', '600px'))"
     ],
     "language": "python",
     "metadata": {},
     "outputs": [
      {
       "output_type": "stream",
       "stream": "stdout",
       "text": [
        "Stats on the full graph\n",
        "Name: \n",
        "Type: DiGraph\n",
        "Number of nodes: 1277\n",
        "Number of edges: 2588\n",
        "Average in degree:   2.0266\n",
        "Average out degree:   2.0266\n",
        "\n",
        "Stats on the extracted subgraph\n",
        "Name: \n",
        "Type: DiGraph\n",
        "Number of nodes: 1061\n",
        "Number of edges: 53\n",
        "Average in degree:   0.0500\n",
        "Average out degree:   0.0500\n"
       ]
      },
      {
       "html": [
        "\n",
        "        <iframe\n",
        "            width=\"100%\"\n",
        "            height=600px\"\n",
        "            src=\"files/resources/ch07-github/force.html\"\n",
        "            frameborder=\"0\"\n",
        "            allowfullscreen\n",
        "        ></iframe>\n",
        "        "
       ],
       "metadata": {},
       "output_type": "display_data",
       "text": [
        "<IPython.lib.display.IFrame at 0x4d20530>"
       ]
      }
     ],
     "prompt_number": 23
    },
    {
     "cell_type": "code",
     "collapsed": false,
     "input": [],
     "language": "python",
     "metadata": {},
     "outputs": []
    }
   ],
   "metadata": {}
  }
 ]
}