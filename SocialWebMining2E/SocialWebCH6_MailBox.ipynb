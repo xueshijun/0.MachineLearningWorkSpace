{
 "metadata": {
  "name": "",
  "signature": "sha256:a21be88eb4fbaf64d6efc72624832879af5be908590e1e4b9d0163494bb78731"
 },
 "nbformat": 3,
 "nbformat_minor": 0,
 "worksheets": [
  {
   "cells": [
    {
     "cell_type": "heading",
     "level": 1,
     "metadata": {},
     "source": [
      "\u6316\u6398\u90ae\u7bb1\u3001\u5206\u6790\u8c01\u548c\u8c01\u8bf4\u4ec0\u4e48\u4ee5\u53ca\u8bf4\u7684\u9891\u7387"
     ]
    },
    {
     "cell_type": "raw",
     "metadata": {},
     "source": [
      "\u7b2c6\u7ae0 \u6316\u6398\u90ae\u7bb1\uff1a\u5206\u6790\u8c01\u548c\u8c01\u8bf4\u4ec0\u4e48\u4ee5\u53ca\u8bf4\u7684\u9891\u7387\u7b49 206\n",
      "6.1 \u6982\u8ff0 207\n",
      "6.2 \u83b7\u53d6\u548c\u5904\u7406\u90ae\u4ef6\u8bed\u6599\u5e93 207\n",
      "6.3 \u5206\u6790Enron\u8bed\u6599\u5e93 225\n",
      "6.4 \u63a2\u7d22\u548c\u53ef\u89c6\u5316\u65f6\u5e8f\u8d8b\u52bf 241\n",
      "6.5 \u5206\u6790\u4f60\u81ea\u5df1\u7684\u90ae\u4ef6\u6570\u636e 244\n",
      "6.6 \u672c\u7ae0\u5c0f\u7ed3 250\n",
      "6.7 \u63a8\u8350\u7ec3\u4e60 251\n",
      "6.8 \u5728\u7ebf\u8d44\u6e90 251"
     ]
    },
    {
     "cell_type": "heading",
     "level": 1,
     "metadata": {},
     "source": [
      "Example 1. \u5c06mailbox\u8f6c\u6362\u4e3aJSON"
     ]
    },
    {
     "cell_type": "code",
     "collapsed": false,
     "input": [
      "import mailbox\n",
      "import email\n",
      "import json\n",
      "\n",
      "MBOX = 'resources/ch06-mailboxes/data/northpole.mbox'\n",
      "\n",
      "# A routine that makes a ton of simplifying assumptions\n",
      "# about converting an mbox message into a Python object\n",
      "# given the nature of the northpole.mbox file in order\n",
      "# to demonstrate the basic parsing of an mbox with mail\n",
      "# utilities\n",
      "\n",
      "def objectify_message(msg):\n",
      "    \n",
      "    # Map in fields from the message\n",
      "    o_msg = dict([ (k, v) for (k,v) in msg.items() ])\n",
      "    \n",
      "    # Assume one part to the message and get its content\n",
      "    # and its content type\n",
      "    \n",
      "    part = [p for p in msg.walk()][0]\n",
      "    o_msg['contentType'] = part.get_content_type()\n",
      "    o_msg['content'] = part.get_payload()\n",
      "    \n",
      "    return o_msg\n",
      "\n",
      "# Create an mbox that can be iterated over and transform each of its\n",
      "# messages to a convenient JSON representation\n",
      "\n",
      "mbox = mailbox.UnixMailbox(open(MBOX, 'rb'), email.message_from_file)\n",
      "\n",
      "messages = []\n",
      "\n",
      "while 1:\n",
      "    msg = mbox.next()\n",
      "    \n",
      "    if msg is None: break\n",
      "        \n",
      "    messages.append(objectify_message(msg))\n",
      "    \n",
      "print json.dumps(messages, indent=1)"
     ],
     "language": "python",
     "metadata": {},
     "outputs": [
      {
       "output_type": "stream",
       "stream": "stdout",
       "text": [
        "[\n",
        " {\n",
        "  \"From\": \"St. Nick <santa@northpole.example.org>\", \n",
        "  \"Content-Transfer-Encoding\": \"7bit\", \n",
        "  \"content\": \"Sounds good. See you at the usual location.\\n\\nThanks,\\n-S\\n\\n -----Original Message-----\\nFrom:   Rudolph  \\nSent:   Friday, December 25, 2009 12:04 AM\\nTo: Claus, Santa\\nSubject:    FWD:  Tonight\\n\\nSanta -\\n\\nRunning a bit late. Will come grab you shortly. Standby.\\n    \\nRudy\\n\\nBegin forwarded message:\\n\\n> Last batch of toys was just loaded onto sleigh. \\n>\\n> Please proceed per the norm.\\n>\\n> Regards,\\n> Buddy\\n>\\n> --\\n> Buddy the Elf\\n> Chief Elf\\n> Workshop Operations\\n> North Pole\\n> buddy.the.elf@northpole.example.org\\n\\n\", \n",
        "  \"To\": \"rudolph@northpole.example.org\", \n",
        "  \"References\": \"<88364590.8837464573838@mail.northpole.example.org>\", \n",
        "  \"Mime-Version\": \"1.0\", \n",
        "  \"In-Reply-To\": \"<194756537.0293874783209@mail.northpole.example.org>\", \n",
        "  \"Date\": \"Fri, 25 Dec 2001 00:06:42 -0000 (GMT)\", \n",
        "  \"contentType\": \"text/plain\", \n",
        "  \"Message-ID\": \"<16159836.1075855377439@mail.northpole.example.org>\", \n",
        "  \"Content-Type\": \"text/plain; charset=us-ascii\", \n",
        "  \"Subject\": \"RE: FWD: Tonight\"\n",
        " }, \n",
        " {\n",
        "  \"From\": \"Buddy <buddy.the.elf@northpole.example.org>\", \n",
        "  \"Subject\": \"Tonight\", \n",
        "  \"Content-Transfer-Encoding\": \"7bit\", \n",
        "  \"content\": \"Last batch of toys was just loaded onto sleigh. \\n\\nPlease proceed per the norm.\\n\\nRegards,\\nBuddy\\n\\n--\\nBuddy the Elf\\nChief Elf\\nWorkshop Operations\\nNorth Pole\\nbuddy.the.elf@northpole.example.org\\n\", \n",
        "  \"To\": \"workshop@northpole.example.org\", \n",
        "  \"Date\": \"Fri, 25 Dec 2001 00:03:34 -0000 (GMT)\", \n",
        "  \"contentType\": \"text/plain\", \n",
        "  \"Message-ID\": \"<88364590.8837464573838@mail.northpole.example.org>\", \n",
        "  \"Content-Type\": \"text/plain; charset=us-ascii\", \n",
        "  \"Mime-Version\": \"1.0\"\n",
        " }\n",
        "]\n"
       ]
      }
     ],
     "prompt_number": 3
    },
    {
     "cell_type": "heading",
     "level": 1,
     "metadata": {},
     "source": [
      "Example 2. \u5c06Enron\u8bed\u6599\u8f6c\u6362\u4e3a\u6807\u51c6\u7684mbox\u683c\u5f0f"
     ]
    },
    {
     "cell_type": "code",
     "collapsed": false,
     "input": [
      "import re\n",
      "import email\n",
      "from time import asctime\n",
      "import os\n",
      "import sys\n",
      "from dateutil.parser import parse # pip install python_dateutil\n",
      "\n",
      "# XXX: Download the Enron corpus to resources/ch06-mailboxes/data\n",
      "# and unarchive it there.\n",
      "\n",
      "MAILDIR = 'resources/ch06-mailboxes/data/enron_mail_20110402/' + \\\n",
      "          'enron_data/maildir' \n",
      "\n",
      "# Where to write the converted mbox\n",
      "MBOX = 'resources/ch06-mailboxes/data/enron.mbox'\n",
      "\n",
      "# Create a file handle that we'll be writing into...\n",
      "mbox = open(MBOX, 'w')\n",
      "\n",
      "# Walk the directories and process any folder named 'inbox'\n",
      "\n",
      "for (root, dirs, file_names) in os.walk(MAILDIR):\n",
      "\n",
      "    if root.split(os.sep)[-1].lower() != 'inbox':\n",
      "        continue\n",
      "\n",
      "    # Process each message in 'inbox'\n",
      "\n",
      "    for file_name in file_names:\n",
      "        file_path = os.path.join(root, file_name)\n",
      "        message_text = open(file_path).read()\n",
      "\n",
      "        # Compute fields for the From_ line in a traditional mbox message\n",
      "\n",
      "        _from = re.search(r\"From: ([^\\r]+)\", message_text).groups()[0]\n",
      "        _date = re.search(r\"Date: ([^\\r]+)\", message_text).groups()[0]\n",
      "\n",
      "        # Convert _date to the asctime representation for the From_ line\n",
      "\n",
      "        _date = asctime(parse(_date).timetuple())\n",
      "\n",
      "        msg = email.message_from_string(message_text)\n",
      "        msg.set_unixfrom('From %s %s' % (_from, _date))\n",
      "\n",
      "        mbox.write(msg.as_string(unixfrom=True) + \"\\n\\n\")\n",
      "    \n",
      "mbox.close()"
     ],
     "language": "python",
     "metadata": {},
     "outputs": [],
     "prompt_number": 4
    },
    {
     "cell_type": "heading",
     "level": 1,
     "metadata": {},
     "source": [
      "Example 3.\u5c06mbox\u683c\u5f0f\u8f6c\u6362\u4e3a\u9002\u5408\u5bfc\u5165MongoDB\u7684JSON\u683c\u5f0f"
     ]
    },
    {
     "cell_type": "code",
     "collapsed": false,
     "input": [
      "import sys\n",
      "import mailbox\n",
      "import email\n",
      "import quopri\n",
      "import json\n",
      "import time\n",
      "from BeautifulSoup import BeautifulSoup\n",
      "from dateutil.parser import parse\n",
      "\n",
      "MBOX = 'resources/ch06-mailboxes/data/enron.mbox'\n",
      "OUT_FILE = MBOX + '.json'\n",
      " \n",
      "def cleanContent(msg):\n",
      "\n",
      "    # Decode message from \"quoted printable\" format, but first\n",
      "    # re-encode, since decodestring will try to do a decode of its own\n",
      "    msg = quopri.decodestring(msg.encode('utf-8'))\n",
      "\n",
      "    # Strip out HTML tags, if any are present.\n",
      "    # Bail on unknown encodings if errors happen in BeautifulSoup.\n",
      "    try:\n",
      "        soup = BeautifulSoup(msg)\n",
      "    except:\n",
      "        return ''\n",
      "    return ''.join(soup.findAll(text=True))\n",
      "\n",
      "# There's a lot of data to process, and the Pythonic way to do it is with a \n",
      "# generator. See http://wiki.python.org/moin/Generators.\n",
      "# Using a generator requires a trivial encoder to be passed to json for object \n",
      "# serialization.\n",
      "\n",
      "class Encoder(json.JSONEncoder):\n",
      "    def default(self, o): return  list(o)\n",
      "\n",
      "# The generator itself...\n",
      "def gen_json_msgs(mb):\n",
      "    while 1:\n",
      "        msg = mb.next()\n",
      "        if msg is None:\n",
      "            break\n",
      "\n",
      "        yield jsonifyMessage(msg)\n",
      "\n",
      "def jsonifyMessage(msg):\n",
      "    json_msg = {'parts': []}\n",
      "    for (k, v) in msg.items():\n",
      "        json_msg[k] = v.decode('utf-8', 'ignore')\n",
      "\n",
      "    # The To, Cc, and Bcc fields, if present, could have multiple items.\n",
      "    # Note that not all of these fields are necessarily defined.\n",
      "\n",
      "    for k in ['To', 'Cc', 'Bcc']:\n",
      "        if not json_msg.get(k):\n",
      "            continue\n",
      "        json_msg[k] = json_msg[k].replace('\\n', '').replace('\\t', '').replace('\\r', '')\\\n",
      "                                 .replace(' ', '').decode('utf-8', 'ignore').split(',')\n",
      "\n",
      "    for part in msg.walk():\n",
      "        json_part = {}\n",
      "\n",
      "        if part.get_content_maintype() != 'text':\n",
      "            print >> sys.stderr, \"Skipping MIME content in JSONification ({0})\".format(part.get_content_maintype())\n",
      "            continue\n",
      "\n",
      "        json_part['contentType'] = part.get_content_type()\n",
      "        content = part.get_payload(decode=False).decode('utf-8', 'ignore')\n",
      "        json_part['content'] = cleanContent(content)\n",
      "        json_msg['parts'].append(json_part)\n",
      "\n",
      "    # Finally, convert date from asctime to milliseconds since epoch using the\n",
      "    # $date descriptor so it imports \"natively\" as an ISODate object in MongoDB\n",
      "    then = parse(json_msg['Date'])\n",
      "    millis = int(time.mktime(then.timetuple())*1000 + then.microsecond/1000)\n",
      "    json_msg['Date'] = {'$date' : millis}\n",
      "\n",
      "    return json_msg\n",
      "\n",
      "mbox = mailbox.UnixMailbox(open(MBOX, 'rb'), email.message_from_file)\n",
      "\n",
      "# Write each message out as a JSON object on a separate line\n",
      "# for easy import into MongoDB via mongoimport\n",
      "\n",
      "f = open(OUT_FILE, 'w')\n",
      "for msg in gen_json_msgs(mbox):\n",
      "    if msg != None:\n",
      "        f.write(json.dumps(msg, cls=Encoder) + '\\n')\n",
      "f.close()\n",
      "\n",
      "print \"All done\""
     ],
     "language": "python",
     "metadata": {},
     "outputs": [
      {
       "output_type": "stream",
       "stream": "stdout",
       "text": [
        "All done\n"
       ]
      }
     ],
     "prompt_number": 5
    },
    {
     "cell_type": "raw",
     "metadata": {},
     "source": [
      "**Workaround for obtaining output from Example 3.**\n",
      "\n",
      "If you have opted to use the compressed version of the output from *Example 3* that is checked-in as part of this GitHub repository, just execute the following cell, and you'll be able to proceed with *Example 4* as usual. See the previous note after *Example 1* for details on why this workaround may be helpful."
     ]
    },
    {
     "cell_type": "raw",
     "metadata": {},
     "source": [
      "import envoy\n",
      "\n",
      "# This data is checked-in to the repository and is a compressed \n",
      "# version of the output from Example 3\n",
      "\n",
      "F = 'resources/ch06-mailboxes/data/enron.mbox.json.bz2'\n",
      "\n",
      "r = envoy.run(\"bunzip2 %s\" % (F,))\n",
      "print r.std_out\n",
      "print r.std_err"
     ]
    },
    {
     "cell_type": "heading",
     "level": 1,
     "metadata": {},
     "source": [
      "Example 4. \u4eceIPython Notebook\u4e2d\u83b7\u5f97mongoimport\u547d\u4ee4\u7684\u9009\u9879"
     ]
    },
    {
     "cell_type": "raw",
     "metadata": {},
     "source": [
      "\u5728python\u7a0b\u5e8f\u4e2d\u6267\u884c\u7ec8\u7aef\u547d\u4ee4\u5e76\u83b7\u5f97\u6807\u51c6\u8f93\u51fa\u548c\u6807\u51c6\u9519\u8bef\n",
      "pip install envoy"
     ]
    },
    {
     "cell_type": "code",
     "collapsed": false,
     "input": [
      "import envoy # pip install envoy\n",
      "\n",
      "r = envoy.run('mongoimport')\n",
      "print r.std_out\n",
      "print r.std_err"
     ],
     "language": "python",
     "metadata": {},
     "outputs": [
      {
       "output_type": "stream",
       "stream": "stdout",
       "text": [
        "\n",
        "The system cannot find the file specified\n",
        "Traceback (most recent call last):\n",
        "  File \"C:\\Python27\\lib\\site-packages\\envoy\\core.py\", line 214, in run\n",
        "    out, err = cmd.run(data, timeout, kill_timeout, env, cwd)\n",
        "  File \"C:\\Python27\\lib\\site-packages\\envoy\\core.py\", line 93, in run\n",
        "    raise self.exc\n",
        "WindowsError: [Error 2] The system cannot find the file specified\n",
        "\n"
       ]
      }
     ],
     "prompt_number": 7
    },
    {
     "cell_type": "heading",
     "level": 1,
     "metadata": {},
     "source": [
      "Example 5. \u4f7f\u7528mongoimport\u4eceIPython Notebook\u5411MongoDB\u4e2d\u52a0\u8f7d\u6570\u636e"
     ]
    },
    {
     "cell_type": "code",
     "collapsed": false,
     "input": [
      "import os\n",
      "import sys\n",
      "import envoy\n",
      "\n",
      "data_file = os.path.join(os.getcwd(), 'resources/ch06-mailboxes/data/enron.mbox.json')\n",
      "\n",
      "# Run a command just as you would in a terminal on the virtual machine to \n",
      "# import the data file into MongoDB.\n",
      "r = envoy.run('mongoimport --db enron --collection mbox ' + \\\n",
      "              '--file %s' % data_file)\n",
      "\n",
      "# Print its standard output\n",
      "print r.std_out\n",
      "print sys.stderr.write(r.std_err)"
     ],
     "language": "python",
     "metadata": {},
     "outputs": [
      {
       "output_type": "stream",
       "stream": "stdout",
       "text": [
        "\n",
        "None\n"
       ]
      },
      {
       "output_type": "stream",
       "stream": "stderr",
       "text": [
        "The system cannot find the file specified\n",
        "Traceback (most recent call last):\n",
        "  File \"C:\\Python27\\lib\\site-packages\\envoy\\core.py\", line 214, in run\n",
        "    out, err = cmd.run(data, timeout, kill_timeout, env, cwd)\n",
        "  File \"C:\\Python27\\lib\\site-packages\\envoy\\core.py\", line 93, in run\n",
        "    raise self.exc\n",
        "WindowsError: [Error 2] The system cannot find the file specified\n"
       ]
      }
     ],
     "prompt_number": 8
    },
    {
     "cell_type": "heading",
     "level": 1,
     "metadata": {},
     "source": [
      "Example 6. \u5728IPython Notebook\u4e2d\u6a21\u62df\u8fd0\u884cMongoDB shell"
     ]
    },
    {
     "cell_type": "code",
     "collapsed": false,
     "input": [
      "# We can even simulate a MongoDB shell using envoy to execute commands.\n",
      "# For example, let's get some stats out of MongoDB just as though we were working \n",
      "# in a shell by passing it the command and wrapping it in a printjson function to \n",
      "# display it for us.\n",
      "\n",
      "def mongo(db, cmd):\n",
      "    r = envoy.run(\"mongo %s --eval 'printjson(%s)'\" % (db, cmd,))\n",
      "    print r.std_out\n",
      "    if r.std_err: print r.std_err\n",
      "    \n",
      "mongo('enron', 'db.mbox.stats()')"
     ],
     "language": "python",
     "metadata": {},
     "outputs": [
      {
       "output_type": "stream",
       "stream": "stdout",
       "text": [
        "\n",
        "The system cannot find the file specified\n",
        "Traceback (most recent call last):\n",
        "  File \"C:\\Python27\\lib\\site-packages\\envoy\\core.py\", line 214, in run\n",
        "    out, err = cmd.run(data, timeout, kill_timeout, env, cwd)\n",
        "  File \"C:\\Python27\\lib\\site-packages\\envoy\\core.py\", line 93, in run\n",
        "    raise self.exc\n",
        "WindowsError: [Error 2] The system cannot find the file specified\n",
        "\n"
       ]
      }
     ],
     "prompt_number": 9
    },
    {
     "cell_type": "heading",
     "level": 1,
     "metadata": {},
     "source": [
      "Example 7. \u5728Python\u4e2d\u4f7f\u7528PyMongo\u8bbf\u95eeMongoDB"
     ]
    },
    {
     "cell_type": "raw",
     "metadata": {},
     "source": [
      "pip install pymongo"
     ]
    },
    {
     "cell_type": "code",
     "collapsed": false,
     "input": [
      "import json\n",
      "import pymongo # pip install pymongo\n",
      "from bson import json_util # Comes with pymongo\n",
      "\n",
      "# Connects to the MongoDB server running on \n",
      "# localhost:27017 by default\n",
      "\n",
      "client = pymongo.MongoClient()\n",
      "# Get a reference to the enron database\n",
      "db = client.enron\n",
      "# Reference the mbox collection in the Enron database\n",
      "mbox = db.mbox\n",
      "# The number of messages in the collection\n",
      "print \"Number of messages in mbox:\"\n",
      "print mbox.count()\n",
      "print\n",
      "# Pick a message to look at...\n",
      "msg = mbox.find_one()\n",
      "# Display the message as pretty-printed JSON. The use of\n",
      "# the custom serializer supplied by PyMongo is necessary in order\n",
      "# to handle the date field that is provided as a datetime.datetime \n",
      "# tuple.\n",
      "print \"A message:\"\n",
      "print json.dumps(msg, indent=1, default=json_util.default)"
     ],
     "language": "python",
     "metadata": {},
     "outputs": []
    },
    {
     "cell_type": "heading",
     "level": 1,
     "metadata": {},
     "source": [
      "Example 8. \u6839\u636edate/time\u67e5\u8be2MongoDB "
     ]
    },
    {
     "cell_type": "code",
     "collapsed": false,
     "input": [
      "import json\n",
      "import pymongo # pip install pymongo\n",
      "from bson import json_util # Comes with pymongo\n",
      "from datetime import datetime as dt\n",
      "\n",
      "client = pymongo.MongoClient()\n",
      "\n",
      "db = client.enron\n",
      "\n",
      "mbox = db.mbox\n",
      "\n",
      "# Create a small date range here of one day\n",
      "\n",
      "start_date = dt(2001, 4, 1) # Year, Month, Day\n",
      "end_date = dt(2001, 4, 2) # Year, Month, Day\n",
      "\n",
      "# Query the database with the highly versatile \"find\" command,\n",
      "# just like in the MongoDB shell.\n",
      "\n",
      "msgs = [ msg \n",
      "         for msg in mbox.find({\"Date\" : \n",
      "                                  {\n",
      "                                   \"$lt\" : end_date, \n",
      "                                   \"$gt\" : start_date\n",
      "                                  }\n",
      "                              }).sort(\"date\")]\n",
      "\n",
      "# Create a convenience function to make pretty-printing JSON a little\n",
      "# less cumbersome\n",
      "\n",
      "def pp(o, indent=1):\n",
      "    print json.dumps(msgs, indent=indent, default=json_util.default)\n",
      "\n",
      "print \"Messages from a query by date range:\"\n",
      "pp(msgs)"
     ],
     "language": "python",
     "metadata": {},
     "outputs": [
      {
       "ename": "ServerSelectionTimeoutError",
       "evalue": "localhost:27017: [Errno 10061] No connection could be made because the target machine actively refused it",
       "output_type": "pyerr",
       "traceback": [
        "\u001b[1;31m---------------------------------------------------------------------------\u001b[0m\n\u001b[1;31mServerSelectionTimeoutError\u001b[0m               Traceback (most recent call last)",
        "\u001b[1;32m<ipython-input-10-adc999773873>\u001b[0m in \u001b[0;36m<module>\u001b[1;34m()\u001b[0m\n\u001b[0;32m     24\u001b[0m                                    \u001b[1;34m\"$gt\"\u001b[0m \u001b[1;33m:\u001b[0m \u001b[0mstart_date\u001b[0m\u001b[1;33m\u001b[0m\u001b[0m\n\u001b[0;32m     25\u001b[0m                                   }\n\u001b[1;32m---> 26\u001b[1;33m                               }).sort(\"date\")]\n\u001b[0m\u001b[0;32m     27\u001b[0m \u001b[1;33m\u001b[0m\u001b[0m\n\u001b[0;32m     28\u001b[0m \u001b[1;31m# Create a convenience function to make pretty-printing JSON a little\u001b[0m\u001b[1;33m\u001b[0m\u001b[1;33m\u001b[0m\u001b[0m\n",
        "\u001b[1;32mC:\\Python27\\lib\\site-packages\\pymongo\\cursor.pyc\u001b[0m in \u001b[0;36mnext\u001b[1;34m(self)\u001b[0m\n\u001b[0;32m   1088\u001b[0m             \u001b[1;32mraise\u001b[0m \u001b[0mStopIteration\u001b[0m\u001b[1;33m\u001b[0m\u001b[0m\n\u001b[0;32m   1089\u001b[0m         \u001b[0m_db\u001b[0m \u001b[1;33m=\u001b[0m \u001b[0mself\u001b[0m\u001b[1;33m.\u001b[0m\u001b[0m__collection\u001b[0m\u001b[1;33m.\u001b[0m\u001b[0mdatabase\u001b[0m\u001b[1;33m\u001b[0m\u001b[0m\n\u001b[1;32m-> 1090\u001b[1;33m         \u001b[1;32mif\u001b[0m \u001b[0mlen\u001b[0m\u001b[1;33m(\u001b[0m\u001b[0mself\u001b[0m\u001b[1;33m.\u001b[0m\u001b[0m__data\u001b[0m\u001b[1;33m)\u001b[0m \u001b[1;32mor\u001b[0m \u001b[0mself\u001b[0m\u001b[1;33m.\u001b[0m\u001b[0m_refresh\u001b[0m\u001b[1;33m(\u001b[0m\u001b[1;33m)\u001b[0m\u001b[1;33m:\u001b[0m\u001b[1;33m\u001b[0m\u001b[0m\n\u001b[0m\u001b[0;32m   1091\u001b[0m             \u001b[1;32mif\u001b[0m \u001b[0mself\u001b[0m\u001b[1;33m.\u001b[0m\u001b[0m__manipulate\u001b[0m\u001b[1;33m:\u001b[0m\u001b[1;33m\u001b[0m\u001b[0m\n\u001b[0;32m   1092\u001b[0m                 return _db._fix_outgoing(self.__data.popleft(),\n",
        "\u001b[1;32mC:\\Python27\\lib\\site-packages\\pymongo\\cursor.pyc\u001b[0m in \u001b[0;36m_refresh\u001b[1;34m(self)\u001b[0m\n\u001b[0;32m   1010\u001b[0m                                        \u001b[0mself\u001b[0m\u001b[1;33m.\u001b[0m\u001b[0m__limit\u001b[0m\u001b[1;33m,\u001b[0m\u001b[1;33m\u001b[0m\u001b[0m\n\u001b[0;32m   1011\u001b[0m                                        \u001b[0mself\u001b[0m\u001b[1;33m.\u001b[0m\u001b[0m__batch_size\u001b[0m\u001b[1;33m,\u001b[0m\u001b[1;33m\u001b[0m\u001b[0m\n\u001b[1;32m-> 1012\u001b[1;33m                                        self.__read_concern))\n\u001b[0m\u001b[0;32m   1013\u001b[0m             \u001b[1;32mif\u001b[0m \u001b[1;32mnot\u001b[0m \u001b[0mself\u001b[0m\u001b[1;33m.\u001b[0m\u001b[0m__id\u001b[0m\u001b[1;33m:\u001b[0m\u001b[1;33m\u001b[0m\u001b[0m\n\u001b[0;32m   1014\u001b[0m                 \u001b[0mself\u001b[0m\u001b[1;33m.\u001b[0m\u001b[0m__killed\u001b[0m \u001b[1;33m=\u001b[0m \u001b[0mTrue\u001b[0m\u001b[1;33m\u001b[0m\u001b[0m\n",
        "\u001b[1;32mC:\\Python27\\lib\\site-packages\\pymongo\\cursor.pyc\u001b[0m in \u001b[0;36m__send_message\u001b[1;34m(self, operation)\u001b[0m\n\u001b[0;32m    848\u001b[0m             \u001b[1;32mtry\u001b[0m\u001b[1;33m:\u001b[0m\u001b[1;33m\u001b[0m\u001b[0m\n\u001b[0;32m    849\u001b[0m                 response = client._send_message_with_response(operation,\n\u001b[1;32m--> 850\u001b[1;33m                                                               **kwargs)\n\u001b[0m\u001b[0;32m    851\u001b[0m                 \u001b[0mself\u001b[0m\u001b[1;33m.\u001b[0m\u001b[0m__address\u001b[0m \u001b[1;33m=\u001b[0m \u001b[0mresponse\u001b[0m\u001b[1;33m.\u001b[0m\u001b[0maddress\u001b[0m\u001b[1;33m\u001b[0m\u001b[0m\n\u001b[0;32m    852\u001b[0m                 \u001b[1;32mif\u001b[0m \u001b[0mself\u001b[0m\u001b[1;33m.\u001b[0m\u001b[0m__exhaust\u001b[0m\u001b[1;33m:\u001b[0m\u001b[1;33m\u001b[0m\u001b[0m\n",
        "\u001b[1;32mC:\\Python27\\lib\\site-packages\\pymongo\\mongo_client.pyc\u001b[0m in \u001b[0;36m_send_message_with_response\u001b[1;34m(self, operation, read_preference, exhaust, address)\u001b[0m\n\u001b[0;32m    779\u001b[0m         \u001b[1;32melse\u001b[0m\u001b[1;33m:\u001b[0m\u001b[1;33m\u001b[0m\u001b[0m\n\u001b[0;32m    780\u001b[0m             \u001b[0mselector\u001b[0m \u001b[1;33m=\u001b[0m \u001b[0mread_preference\u001b[0m \u001b[1;32mor\u001b[0m \u001b[0mwritable_server_selector\u001b[0m\u001b[1;33m\u001b[0m\u001b[0m\n\u001b[1;32m--> 781\u001b[1;33m             \u001b[0mserver\u001b[0m \u001b[1;33m=\u001b[0m \u001b[0mtopology\u001b[0m\u001b[1;33m.\u001b[0m\u001b[0mselect_server\u001b[0m\u001b[1;33m(\u001b[0m\u001b[0mselector\u001b[0m\u001b[1;33m)\u001b[0m\u001b[1;33m\u001b[0m\u001b[0m\n\u001b[0m\u001b[0;32m    782\u001b[0m \u001b[1;33m\u001b[0m\u001b[0m\n\u001b[0;32m    783\u001b[0m         \u001b[1;31m# A _Query's slaveOk bit is already set for queries with non-primary\u001b[0m\u001b[1;33m\u001b[0m\u001b[1;33m\u001b[0m\u001b[0m\n",
        "\u001b[1;32mC:\\Python27\\lib\\site-packages\\pymongo\\topology.pyc\u001b[0m in \u001b[0;36mselect_server\u001b[1;34m(self, selector, server_selection_timeout, address)\u001b[0m\n\u001b[0;32m    140\u001b[0m         return random.choice(self.select_servers(selector,\n\u001b[0;32m    141\u001b[0m                                                  \u001b[0mserver_selection_timeout\u001b[0m\u001b[1;33m,\u001b[0m\u001b[1;33m\u001b[0m\u001b[0m\n\u001b[1;32m--> 142\u001b[1;33m                                                  address))\n\u001b[0m\u001b[0;32m    143\u001b[0m \u001b[1;33m\u001b[0m\u001b[0m\n\u001b[0;32m    144\u001b[0m     def select_server_by_address(self, address,\n",
        "\u001b[1;32mC:\\Python27\\lib\\site-packages\\pymongo\\topology.pyc\u001b[0m in \u001b[0;36mselect_servers\u001b[1;34m(self, selector, server_selection_timeout, address)\u001b[0m\n\u001b[0;32m    116\u001b[0m                 \u001b[1;32mif\u001b[0m \u001b[0mserver_timeout\u001b[0m \u001b[1;33m==\u001b[0m \u001b[1;36m0\u001b[0m \u001b[1;32mor\u001b[0m \u001b[0mnow\u001b[0m \u001b[1;33m>\u001b[0m \u001b[0mend_time\u001b[0m\u001b[1;33m:\u001b[0m\u001b[1;33m\u001b[0m\u001b[0m\n\u001b[0;32m    117\u001b[0m                     raise ServerSelectionTimeoutError(\n\u001b[1;32m--> 118\u001b[1;33m                         self._error_message(selector))\n\u001b[0m\u001b[0;32m    119\u001b[0m \u001b[1;33m\u001b[0m\u001b[0m\n\u001b[0;32m    120\u001b[0m                 \u001b[0mself\u001b[0m\u001b[1;33m.\u001b[0m\u001b[0m_ensure_opened\u001b[0m\u001b[1;33m(\u001b[0m\u001b[1;33m)\u001b[0m\u001b[1;33m\u001b[0m\u001b[0m\n",
        "\u001b[1;31mServerSelectionTimeoutError\u001b[0m: localhost:27017: [Errno 10061] No connection could be made because the target machine actively refused it"
       ]
      }
     ],
     "prompt_number": 10
    },
    {
     "cell_type": "heading",
     "level": 1,
     "metadata": {},
     "source": [
      "Example 9. \u679a\u4e3e\u90ae\u4ef6\u7684\u53d1\u4ef6\u4eba\u548c\u6536\u4ef6\u4eba"
     ]
    },
    {
     "cell_type": "code",
     "collapsed": false,
     "input": [
      "import json\n",
      "import pymongo # pip install pymongo\n",
      "from bson import json_util # Comes with pymongo\n",
      "\n",
      "client = pymongo.MongoClient()\n",
      "db = client.enron\n",
      "mbox = db.mbox\n",
      "\n",
      "senders = [ i for i in mbox.distinct(\"From\") ]\n",
      "\n",
      "receivers = [ i for i in mbox.distinct(\"To\") ]\n",
      "\n",
      "cc_receivers = [ i for i in mbox.distinct(\"Cc\") ]\n",
      "\n",
      "bcc_receivers = [ i for i in mbox.distinct(\"Bcc\") ]\n",
      "\n",
      "print \"Num Senders:\", len(senders)\n",
      "print \"Num Receivers:\", len(receivers)\n",
      "print \"Num CC Receivers:\", len(cc_receivers)\n",
      "print \"Num BCC Receivers:\", len(bcc_receivers)"
     ],
     "language": "python",
     "metadata": {},
     "outputs": []
    },
    {
     "cell_type": "heading",
     "level": 1,
     "metadata": {},
     "source": [
      "Example 10.\u96c6\u5408\u64cd\u4f5c\u5206\u6790\u53d1\u4ef6\u4eba\u548c\u6536\u4ef6\u4eba"
     ]
    },
    {
     "cell_type": "code",
     "collapsed": false,
     "input": [
      "senders = set(senders)\n",
      "receivers = set(receivers)\n",
      "cc_receivers = set(cc_receivers)\n",
      "bcc_receivers = set(bcc_receivers)\n",
      "\n",
      "# Find the number of senders who were also direct receivers\n",
      "\n",
      "senders_intersect_receivers = senders.intersection(receivers)\n",
      "\n",
      "# Find the senders that didn't receive any messages\n",
      "\n",
      "senders_diff_receivers = senders.difference(receivers)\n",
      "\n",
      "# Find the receivers that didn't send any messages\n",
      "\n",
      "receivers_diff_senders = receivers.difference(senders)\n",
      "\n",
      "# Find the senders who were any kind of receiver by\n",
      "# first computing the union of all types of receivers\n",
      "\n",
      "all_receivers = receivers.union(cc_receivers, bcc_receivers)\n",
      "senders_all_receivers = senders.intersection(all_receivers)\n",
      "\n",
      "print \"Num senders in common with receivers:\", len(senders_intersect_receivers)\n",
      "print \"Num senders who didn't receive:\", len(senders_diff_receivers)\n",
      "print \"Num receivers who didn't send:\", len(receivers_diff_senders)\n",
      "print \"Num senders in common with *all* receivers:\", len(senders_all_receivers)"
     ],
     "language": "python",
     "metadata": {},
     "outputs": [
      {
       "ename": "NameError",
       "evalue": "name 'senders' is not defined",
       "output_type": "pyerr",
       "traceback": [
        "\u001b[1;31m---------------------------------------------------------------------------\u001b[0m\n\u001b[1;31mNameError\u001b[0m                                 Traceback (most recent call last)",
        "\u001b[1;32m<ipython-input-11-e8687daa2476>\u001b[0m in \u001b[0;36m<module>\u001b[1;34m()\u001b[0m\n\u001b[1;32m----> 1\u001b[1;33m \u001b[0msenders\u001b[0m \u001b[1;33m=\u001b[0m \u001b[0mset\u001b[0m\u001b[1;33m(\u001b[0m\u001b[0msenders\u001b[0m\u001b[1;33m)\u001b[0m\u001b[1;33m\u001b[0m\u001b[0m\n\u001b[0m\u001b[0;32m      2\u001b[0m \u001b[0mreceivers\u001b[0m \u001b[1;33m=\u001b[0m \u001b[0mset\u001b[0m\u001b[1;33m(\u001b[0m\u001b[0mreceivers\u001b[0m\u001b[1;33m)\u001b[0m\u001b[1;33m\u001b[0m\u001b[0m\n\u001b[0;32m      3\u001b[0m \u001b[0mcc_receivers\u001b[0m \u001b[1;33m=\u001b[0m \u001b[0mset\u001b[0m\u001b[1;33m(\u001b[0m\u001b[0mcc_receivers\u001b[0m\u001b[1;33m)\u001b[0m\u001b[1;33m\u001b[0m\u001b[0m\n\u001b[0;32m      4\u001b[0m \u001b[0mbcc_receivers\u001b[0m \u001b[1;33m=\u001b[0m \u001b[0mset\u001b[0m\u001b[1;33m(\u001b[0m\u001b[0mbcc_receivers\u001b[0m\u001b[1;33m)\u001b[0m\u001b[1;33m\u001b[0m\u001b[0m\n\u001b[0;32m      5\u001b[0m \u001b[1;33m\u001b[0m\u001b[0m\n",
        "\u001b[1;31mNameError\u001b[0m: name 'senders' is not defined"
       ]
      }
     ],
     "prompt_number": 11
    },
    {
     "cell_type": "heading",
     "level": 1,
     "metadata": {},
     "source": [
      "Example 11. \u627e\u5230\u662fEnron\u5458\u5de5\u7684\u53d1\u4ef6\u4eba\u548c\u6536\u4ef6\u4eba"
     ]
    },
    {
     "cell_type": "code",
     "collapsed": false,
     "input": [
      "# In a Mongo shell, you could try this query for the same effect:\n",
      "# db.mbox.find({\"To\" : {\"$regex\" : /.*enron.com.*/i} }, \n",
      "#              {\"To\" : 1, \"_id\" : 0})\n",
      "\n",
      "senders = [ i \n",
      "            for i in mbox.distinct(\"From\") \n",
      "                if i.lower().find(\"@enron.com\") > -1 ]\n",
      "\n",
      "receivers = [ i \n",
      "              for i in mbox.distinct(\"To\") \n",
      "                  if i.lower().find(\"@enron.com\") > -1 ]\n",
      "\n",
      "cc_receivers = [ i \n",
      "                 for i in mbox.distinct(\"Cc\") \n",
      "                     if i.lower().find(\"@enron.com\") > -1 ]\n",
      "\n",
      "bcc_receivers = [ i \n",
      "                  for i in mbox.distinct(\"Bcc\") \n",
      "                      if i.lower().find(\"@enron.com\") > -1 ]\n",
      "\n",
      "print \"Num Senders:\", len(senders)\n",
      "print \"Num Receivers:\", len(receivers)\n",
      "print \"Num CC Receivers:\", len(cc_receivers)\n",
      "print \"Num BCC Receivers:\", len(bcc_receivers)"
     ],
     "language": "python",
     "metadata": {},
     "outputs": [
      {
       "ename": "ServerSelectionTimeoutError",
       "evalue": "localhost:27017: [Errno 10061] No connection could be made because the target machine actively refused it",
       "output_type": "pyerr",
       "traceback": [
        "\u001b[1;31m---------------------------------------------------------------------------\u001b[0m\n\u001b[1;31mServerSelectionTimeoutError\u001b[0m               Traceback (most recent call last)",
        "\u001b[1;32m<ipython-input-12-df3b15f22d5c>\u001b[0m in \u001b[0;36m<module>\u001b[1;34m()\u001b[0m\n\u001b[0;32m      4\u001b[0m \u001b[1;33m\u001b[0m\u001b[0m\n\u001b[0;32m      5\u001b[0m senders = [ i \n\u001b[1;32m----> 6\u001b[1;33m             \u001b[1;32mfor\u001b[0m \u001b[0mi\u001b[0m \u001b[1;32min\u001b[0m \u001b[0mmbox\u001b[0m\u001b[1;33m.\u001b[0m\u001b[0mdistinct\u001b[0m\u001b[1;33m(\u001b[0m\u001b[1;34m\"From\"\u001b[0m\u001b[1;33m)\u001b[0m\u001b[1;33m\u001b[0m\u001b[0m\n\u001b[0m\u001b[0;32m      7\u001b[0m                 if i.lower().find(\"@enron.com\") > -1 ]\n\u001b[0;32m      8\u001b[0m \u001b[1;33m\u001b[0m\u001b[0m\n",
        "\u001b[1;32mC:\\Python27\\lib\\site-packages\\pymongo\\collection.pyc\u001b[0m in \u001b[0;36mdistinct\u001b[1;34m(self, key, filter, **kwargs)\u001b[0m\n\u001b[0;32m   1801\u001b[0m             \u001b[0mkwargs\u001b[0m\u001b[1;33m[\u001b[0m\u001b[1;34m\"query\"\u001b[0m\u001b[1;33m]\u001b[0m \u001b[1;33m=\u001b[0m \u001b[0mfilter\u001b[0m\u001b[1;33m\u001b[0m\u001b[0m\n\u001b[0;32m   1802\u001b[0m         \u001b[0mcmd\u001b[0m\u001b[1;33m.\u001b[0m\u001b[0mupdate\u001b[0m\u001b[1;33m(\u001b[0m\u001b[0mkwargs\u001b[0m\u001b[1;33m)\u001b[0m\u001b[1;33m\u001b[0m\u001b[0m\n\u001b[1;32m-> 1803\u001b[1;33m         \u001b[1;32mwith\u001b[0m \u001b[0mself\u001b[0m\u001b[1;33m.\u001b[0m\u001b[0m_socket_for_reads\u001b[0m\u001b[1;33m(\u001b[0m\u001b[1;33m)\u001b[0m \u001b[1;32mas\u001b[0m \u001b[1;33m(\u001b[0m\u001b[0msock_info\u001b[0m\u001b[1;33m,\u001b[0m \u001b[0mslave_ok\u001b[0m\u001b[1;33m)\u001b[0m\u001b[1;33m:\u001b[0m\u001b[1;33m\u001b[0m\u001b[0m\n\u001b[0m\u001b[0;32m   1804\u001b[0m             return self._command(sock_info, cmd, slave_ok,\n\u001b[0;32m   1805\u001b[0m                                  read_concern=self.read_concern)[\"values\"]\n",
        "\u001b[1;32mC:\\Python27\\lib\\contextlib.pyc\u001b[0m in \u001b[0;36m__enter__\u001b[1;34m(self)\u001b[0m\n\u001b[0;32m     15\u001b[0m     \u001b[1;32mdef\u001b[0m \u001b[0m__enter__\u001b[0m\u001b[1;33m(\u001b[0m\u001b[0mself\u001b[0m\u001b[1;33m)\u001b[0m\u001b[1;33m:\u001b[0m\u001b[1;33m\u001b[0m\u001b[0m\n\u001b[0;32m     16\u001b[0m         \u001b[1;32mtry\u001b[0m\u001b[1;33m:\u001b[0m\u001b[1;33m\u001b[0m\u001b[0m\n\u001b[1;32m---> 17\u001b[1;33m             \u001b[1;32mreturn\u001b[0m \u001b[0mself\u001b[0m\u001b[1;33m.\u001b[0m\u001b[0mgen\u001b[0m\u001b[1;33m.\u001b[0m\u001b[0mnext\u001b[0m\u001b[1;33m(\u001b[0m\u001b[1;33m)\u001b[0m\u001b[1;33m\u001b[0m\u001b[0m\n\u001b[0m\u001b[0;32m     18\u001b[0m         \u001b[1;32mexcept\u001b[0m \u001b[0mStopIteration\u001b[0m\u001b[1;33m:\u001b[0m\u001b[1;33m\u001b[0m\u001b[0m\n\u001b[0;32m     19\u001b[0m             \u001b[1;32mraise\u001b[0m \u001b[0mRuntimeError\u001b[0m\u001b[1;33m(\u001b[0m\u001b[1;34m\"generator didn't yield\"\u001b[0m\u001b[1;33m)\u001b[0m\u001b[1;33m\u001b[0m\u001b[0m\n",
        "\u001b[1;32mC:\\Python27\\lib\\site-packages\\pymongo\\mongo_client.pyc\u001b[0m in \u001b[0;36m_socket_for_reads\u001b[1;34m(self, read_preference)\u001b[0m\n\u001b[0;32m    750\u001b[0m         \u001b[0mtopology\u001b[0m \u001b[1;33m=\u001b[0m \u001b[0mself\u001b[0m\u001b[1;33m.\u001b[0m\u001b[0m_get_topology\u001b[0m\u001b[1;33m(\u001b[0m\u001b[1;33m)\u001b[0m\u001b[1;33m\u001b[0m\u001b[0m\n\u001b[0;32m    751\u001b[0m         \u001b[0msingle\u001b[0m \u001b[1;33m=\u001b[0m \u001b[0mtopology\u001b[0m\u001b[1;33m.\u001b[0m\u001b[0mdescription\u001b[0m\u001b[1;33m.\u001b[0m\u001b[0mtopology_type\u001b[0m \u001b[1;33m==\u001b[0m \u001b[0mTOPOLOGY_TYPE\u001b[0m\u001b[1;33m.\u001b[0m\u001b[0mSingle\u001b[0m\u001b[1;33m\u001b[0m\u001b[0m\n\u001b[1;32m--> 752\u001b[1;33m         \u001b[1;32mwith\u001b[0m \u001b[0mself\u001b[0m\u001b[1;33m.\u001b[0m\u001b[0m_get_socket\u001b[0m\u001b[1;33m(\u001b[0m\u001b[0mread_preference\u001b[0m\u001b[1;33m)\u001b[0m \u001b[1;32mas\u001b[0m \u001b[0msock_info\u001b[0m\u001b[1;33m:\u001b[0m\u001b[1;33m\u001b[0m\u001b[0m\n\u001b[0m\u001b[0;32m    753\u001b[0m             slave_ok = (single and not sock_info.is_mongos) or (\n\u001b[0;32m    754\u001b[0m                 preference != ReadPreference.PRIMARY)\n",
        "\u001b[1;32mC:\\Python27\\lib\\contextlib.pyc\u001b[0m in \u001b[0;36m__enter__\u001b[1;34m(self)\u001b[0m\n\u001b[0;32m     15\u001b[0m     \u001b[1;32mdef\u001b[0m \u001b[0m__enter__\u001b[0m\u001b[1;33m(\u001b[0m\u001b[0mself\u001b[0m\u001b[1;33m)\u001b[0m\u001b[1;33m:\u001b[0m\u001b[1;33m\u001b[0m\u001b[0m\n\u001b[0;32m     16\u001b[0m         \u001b[1;32mtry\u001b[0m\u001b[1;33m:\u001b[0m\u001b[1;33m\u001b[0m\u001b[0m\n\u001b[1;32m---> 17\u001b[1;33m             \u001b[1;32mreturn\u001b[0m \u001b[0mself\u001b[0m\u001b[1;33m.\u001b[0m\u001b[0mgen\u001b[0m\u001b[1;33m.\u001b[0m\u001b[0mnext\u001b[0m\u001b[1;33m(\u001b[0m\u001b[1;33m)\u001b[0m\u001b[1;33m\u001b[0m\u001b[0m\n\u001b[0m\u001b[0;32m     18\u001b[0m         \u001b[1;32mexcept\u001b[0m \u001b[0mStopIteration\u001b[0m\u001b[1;33m:\u001b[0m\u001b[1;33m\u001b[0m\u001b[0m\n\u001b[0;32m     19\u001b[0m             \u001b[1;32mraise\u001b[0m \u001b[0mRuntimeError\u001b[0m\u001b[1;33m(\u001b[0m\u001b[1;34m\"generator didn't yield\"\u001b[0m\u001b[1;33m)\u001b[0m\u001b[1;33m\u001b[0m\u001b[0m\n",
        "\u001b[1;32mC:\\Python27\\lib\\site-packages\\pymongo\\mongo_client.pyc\u001b[0m in \u001b[0;36m_get_socket\u001b[1;34m(self, selector)\u001b[0m\n\u001b[0;32m    714\u001b[0m     \u001b[1;33m@\u001b[0m\u001b[0mcontextlib\u001b[0m\u001b[1;33m.\u001b[0m\u001b[0mcontextmanager\u001b[0m\u001b[1;33m\u001b[0m\u001b[0m\n\u001b[0;32m    715\u001b[0m     \u001b[1;32mdef\u001b[0m \u001b[0m_get_socket\u001b[0m\u001b[1;33m(\u001b[0m\u001b[0mself\u001b[0m\u001b[1;33m,\u001b[0m \u001b[0mselector\u001b[0m\u001b[1;33m)\u001b[0m\u001b[1;33m:\u001b[0m\u001b[1;33m\u001b[0m\u001b[0m\n\u001b[1;32m--> 716\u001b[1;33m         \u001b[0mserver\u001b[0m \u001b[1;33m=\u001b[0m \u001b[0mself\u001b[0m\u001b[1;33m.\u001b[0m\u001b[0m_get_topology\u001b[0m\u001b[1;33m(\u001b[0m\u001b[1;33m)\u001b[0m\u001b[1;33m.\u001b[0m\u001b[0mselect_server\u001b[0m\u001b[1;33m(\u001b[0m\u001b[0mselector\u001b[0m\u001b[1;33m)\u001b[0m\u001b[1;33m\u001b[0m\u001b[0m\n\u001b[0m\u001b[0;32m    717\u001b[0m         \u001b[1;32mtry\u001b[0m\u001b[1;33m:\u001b[0m\u001b[1;33m\u001b[0m\u001b[0m\n\u001b[0;32m    718\u001b[0m             \u001b[1;32mwith\u001b[0m \u001b[0mserver\u001b[0m\u001b[1;33m.\u001b[0m\u001b[0mget_socket\u001b[0m\u001b[1;33m(\u001b[0m\u001b[0mself\u001b[0m\u001b[1;33m.\u001b[0m\u001b[0m__all_credentials\u001b[0m\u001b[1;33m)\u001b[0m \u001b[1;32mas\u001b[0m \u001b[0msock_info\u001b[0m\u001b[1;33m:\u001b[0m\u001b[1;33m\u001b[0m\u001b[0m\n",
        "\u001b[1;32mC:\\Python27\\lib\\site-packages\\pymongo\\topology.pyc\u001b[0m in \u001b[0;36mselect_server\u001b[1;34m(self, selector, server_selection_timeout, address)\u001b[0m\n\u001b[0;32m    140\u001b[0m         return random.choice(self.select_servers(selector,\n\u001b[0;32m    141\u001b[0m                                                  \u001b[0mserver_selection_timeout\u001b[0m\u001b[1;33m,\u001b[0m\u001b[1;33m\u001b[0m\u001b[0m\n\u001b[1;32m--> 142\u001b[1;33m                                                  address))\n\u001b[0m\u001b[0;32m    143\u001b[0m \u001b[1;33m\u001b[0m\u001b[0m\n\u001b[0;32m    144\u001b[0m     def select_server_by_address(self, address,\n",
        "\u001b[1;32mC:\\Python27\\lib\\site-packages\\pymongo\\topology.pyc\u001b[0m in \u001b[0;36mselect_servers\u001b[1;34m(self, selector, server_selection_timeout, address)\u001b[0m\n\u001b[0;32m    116\u001b[0m                 \u001b[1;32mif\u001b[0m \u001b[0mserver_timeout\u001b[0m \u001b[1;33m==\u001b[0m \u001b[1;36m0\u001b[0m \u001b[1;32mor\u001b[0m \u001b[0mnow\u001b[0m \u001b[1;33m>\u001b[0m \u001b[0mend_time\u001b[0m\u001b[1;33m:\u001b[0m\u001b[1;33m\u001b[0m\u001b[0m\n\u001b[0;32m    117\u001b[0m                     raise ServerSelectionTimeoutError(\n\u001b[1;32m--> 118\u001b[1;33m                         self._error_message(selector))\n\u001b[0m\u001b[0;32m    119\u001b[0m \u001b[1;33m\u001b[0m\u001b[0m\n\u001b[0;32m    120\u001b[0m                 \u001b[0mself\u001b[0m\u001b[1;33m.\u001b[0m\u001b[0m_ensure_opened\u001b[0m\u001b[1;33m(\u001b[0m\u001b[1;33m)\u001b[0m\u001b[1;33m\u001b[0m\u001b[0m\n",
        "\u001b[1;31mServerSelectionTimeoutError\u001b[0m: localhost:27017: [Errno 10061] No connection could be made because the target machine actively refused it"
       ]
      }
     ],
     "prompt_number": 12
    },
    {
     "cell_type": "heading",
     "level": 1,
     "metadata": {},
     "source": [
      "Example 12. \u8ba1\u7b97\u6307\u5b9a\u90ae\u4ef6\u5730\u5740\u7684\u53d1\u9001/\u63a5\u6536\u7684\u90ae\u4ef6"
     ]
    },
    {
     "cell_type": "code",
     "collapsed": false,
     "input": [
      "import json\n",
      "import pymongo # pip install pymongo\n",
      "from bson import json_util # Comes with pymongo\n",
      "\n",
      "client = pymongo.MongoClient()\n",
      "db = client.enron\n",
      "mbox = db.mbox\n",
      "\n",
      "aliases = [\"kenneth.lay@enron.com\", \"ken_lay@enron.com\", \"ken.lay@enron.com\", \n",
      "           \"kenneth_lay@enron.net\", \"klay@enron.com\"] # More possibilities?\n",
      "\n",
      "to_msgs = [ msg \n",
      "            for msg in mbox.find({\"To\" : { \"$in\" : aliases } })]\n",
      "\n",
      "from_msgs = [ msg \n",
      "         for msg in mbox.find({\"From\" : { \"$in\" : aliases } })]\n",
      "\n",
      "print \"Number of message sent to:\", len(to_msgs)\n",
      "print \"Number of messages sent from:\", len(from_msgs)"
     ],
     "language": "python",
     "metadata": {},
     "outputs": [
      {
       "ename": "ServerSelectionTimeoutError",
       "evalue": "localhost:27017: [Errno 10061] No connection could be made because the target machine actively refused it",
       "output_type": "pyerr",
       "traceback": [
        "\u001b[1;31m---------------------------------------------------------------------------\u001b[0m\n\u001b[1;31mServerSelectionTimeoutError\u001b[0m               Traceback (most recent call last)",
        "\u001b[1;32m<ipython-input-13-cbe665bba744>\u001b[0m in \u001b[0;36m<module>\u001b[1;34m()\u001b[0m\n\u001b[0;32m     11\u001b[0m \u001b[1;33m\u001b[0m\u001b[0m\n\u001b[0;32m     12\u001b[0m to_msgs = [ msg \n\u001b[1;32m---> 13\u001b[1;33m             for msg in mbox.find({\"To\" : { \"$in\" : aliases } })]\n\u001b[0m\u001b[0;32m     14\u001b[0m \u001b[1;33m\u001b[0m\u001b[0m\n\u001b[0;32m     15\u001b[0m from_msgs = [ msg \n",
        "\u001b[1;32mC:\\Python27\\lib\\site-packages\\pymongo\\cursor.pyc\u001b[0m in \u001b[0;36mnext\u001b[1;34m(self)\u001b[0m\n\u001b[0;32m   1088\u001b[0m             \u001b[1;32mraise\u001b[0m \u001b[0mStopIteration\u001b[0m\u001b[1;33m\u001b[0m\u001b[0m\n\u001b[0;32m   1089\u001b[0m         \u001b[0m_db\u001b[0m \u001b[1;33m=\u001b[0m \u001b[0mself\u001b[0m\u001b[1;33m.\u001b[0m\u001b[0m__collection\u001b[0m\u001b[1;33m.\u001b[0m\u001b[0mdatabase\u001b[0m\u001b[1;33m\u001b[0m\u001b[0m\n\u001b[1;32m-> 1090\u001b[1;33m         \u001b[1;32mif\u001b[0m \u001b[0mlen\u001b[0m\u001b[1;33m(\u001b[0m\u001b[0mself\u001b[0m\u001b[1;33m.\u001b[0m\u001b[0m__data\u001b[0m\u001b[1;33m)\u001b[0m \u001b[1;32mor\u001b[0m \u001b[0mself\u001b[0m\u001b[1;33m.\u001b[0m\u001b[0m_refresh\u001b[0m\u001b[1;33m(\u001b[0m\u001b[1;33m)\u001b[0m\u001b[1;33m:\u001b[0m\u001b[1;33m\u001b[0m\u001b[0m\n\u001b[0m\u001b[0;32m   1091\u001b[0m             \u001b[1;32mif\u001b[0m \u001b[0mself\u001b[0m\u001b[1;33m.\u001b[0m\u001b[0m__manipulate\u001b[0m\u001b[1;33m:\u001b[0m\u001b[1;33m\u001b[0m\u001b[0m\n\u001b[0;32m   1092\u001b[0m                 return _db._fix_outgoing(self.__data.popleft(),\n",
        "\u001b[1;32mC:\\Python27\\lib\\site-packages\\pymongo\\cursor.pyc\u001b[0m in \u001b[0;36m_refresh\u001b[1;34m(self)\u001b[0m\n\u001b[0;32m   1010\u001b[0m                                        \u001b[0mself\u001b[0m\u001b[1;33m.\u001b[0m\u001b[0m__limit\u001b[0m\u001b[1;33m,\u001b[0m\u001b[1;33m\u001b[0m\u001b[0m\n\u001b[0;32m   1011\u001b[0m                                        \u001b[0mself\u001b[0m\u001b[1;33m.\u001b[0m\u001b[0m__batch_size\u001b[0m\u001b[1;33m,\u001b[0m\u001b[1;33m\u001b[0m\u001b[0m\n\u001b[1;32m-> 1012\u001b[1;33m                                        self.__read_concern))\n\u001b[0m\u001b[0;32m   1013\u001b[0m             \u001b[1;32mif\u001b[0m \u001b[1;32mnot\u001b[0m \u001b[0mself\u001b[0m\u001b[1;33m.\u001b[0m\u001b[0m__id\u001b[0m\u001b[1;33m:\u001b[0m\u001b[1;33m\u001b[0m\u001b[0m\n\u001b[0;32m   1014\u001b[0m                 \u001b[0mself\u001b[0m\u001b[1;33m.\u001b[0m\u001b[0m__killed\u001b[0m \u001b[1;33m=\u001b[0m \u001b[0mTrue\u001b[0m\u001b[1;33m\u001b[0m\u001b[0m\n",
        "\u001b[1;32mC:\\Python27\\lib\\site-packages\\pymongo\\cursor.pyc\u001b[0m in \u001b[0;36m__send_message\u001b[1;34m(self, operation)\u001b[0m\n\u001b[0;32m    848\u001b[0m             \u001b[1;32mtry\u001b[0m\u001b[1;33m:\u001b[0m\u001b[1;33m\u001b[0m\u001b[0m\n\u001b[0;32m    849\u001b[0m                 response = client._send_message_with_response(operation,\n\u001b[1;32m--> 850\u001b[1;33m                                                               **kwargs)\n\u001b[0m\u001b[0;32m    851\u001b[0m                 \u001b[0mself\u001b[0m\u001b[1;33m.\u001b[0m\u001b[0m__address\u001b[0m \u001b[1;33m=\u001b[0m \u001b[0mresponse\u001b[0m\u001b[1;33m.\u001b[0m\u001b[0maddress\u001b[0m\u001b[1;33m\u001b[0m\u001b[0m\n\u001b[0;32m    852\u001b[0m                 \u001b[1;32mif\u001b[0m \u001b[0mself\u001b[0m\u001b[1;33m.\u001b[0m\u001b[0m__exhaust\u001b[0m\u001b[1;33m:\u001b[0m\u001b[1;33m\u001b[0m\u001b[0m\n",
        "\u001b[1;32mC:\\Python27\\lib\\site-packages\\pymongo\\mongo_client.pyc\u001b[0m in \u001b[0;36m_send_message_with_response\u001b[1;34m(self, operation, read_preference, exhaust, address)\u001b[0m\n\u001b[0;32m    779\u001b[0m         \u001b[1;32melse\u001b[0m\u001b[1;33m:\u001b[0m\u001b[1;33m\u001b[0m\u001b[0m\n\u001b[0;32m    780\u001b[0m             \u001b[0mselector\u001b[0m \u001b[1;33m=\u001b[0m \u001b[0mread_preference\u001b[0m \u001b[1;32mor\u001b[0m \u001b[0mwritable_server_selector\u001b[0m\u001b[1;33m\u001b[0m\u001b[0m\n\u001b[1;32m--> 781\u001b[1;33m             \u001b[0mserver\u001b[0m \u001b[1;33m=\u001b[0m \u001b[0mtopology\u001b[0m\u001b[1;33m.\u001b[0m\u001b[0mselect_server\u001b[0m\u001b[1;33m(\u001b[0m\u001b[0mselector\u001b[0m\u001b[1;33m)\u001b[0m\u001b[1;33m\u001b[0m\u001b[0m\n\u001b[0m\u001b[0;32m    782\u001b[0m \u001b[1;33m\u001b[0m\u001b[0m\n\u001b[0;32m    783\u001b[0m         \u001b[1;31m# A _Query's slaveOk bit is already set for queries with non-primary\u001b[0m\u001b[1;33m\u001b[0m\u001b[1;33m\u001b[0m\u001b[0m\n",
        "\u001b[1;32mC:\\Python27\\lib\\site-packages\\pymongo\\topology.pyc\u001b[0m in \u001b[0;36mselect_server\u001b[1;34m(self, selector, server_selection_timeout, address)\u001b[0m\n\u001b[0;32m    140\u001b[0m         return random.choice(self.select_servers(selector,\n\u001b[0;32m    141\u001b[0m                                                  \u001b[0mserver_selection_timeout\u001b[0m\u001b[1;33m,\u001b[0m\u001b[1;33m\u001b[0m\u001b[0m\n\u001b[1;32m--> 142\u001b[1;33m                                                  address))\n\u001b[0m\u001b[0;32m    143\u001b[0m \u001b[1;33m\u001b[0m\u001b[0m\n\u001b[0;32m    144\u001b[0m     def select_server_by_address(self, address,\n",
        "\u001b[1;32mC:\\Python27\\lib\\site-packages\\pymongo\\topology.pyc\u001b[0m in \u001b[0;36mselect_servers\u001b[1;34m(self, selector, server_selection_timeout, address)\u001b[0m\n\u001b[0;32m    116\u001b[0m                 \u001b[1;32mif\u001b[0m \u001b[0mserver_timeout\u001b[0m \u001b[1;33m==\u001b[0m \u001b[1;36m0\u001b[0m \u001b[1;32mor\u001b[0m \u001b[0mnow\u001b[0m \u001b[1;33m>\u001b[0m \u001b[0mend_time\u001b[0m\u001b[1;33m:\u001b[0m\u001b[1;33m\u001b[0m\u001b[0m\n\u001b[0;32m    117\u001b[0m                     raise ServerSelectionTimeoutError(\n\u001b[1;32m--> 118\u001b[1;33m                         self._error_message(selector))\n\u001b[0m\u001b[0;32m    119\u001b[0m \u001b[1;33m\u001b[0m\u001b[0m\n\u001b[0;32m    120\u001b[0m                 \u001b[0mself\u001b[0m\u001b[1;33m.\u001b[0m\u001b[0m_ensure_opened\u001b[0m\u001b[1;33m(\u001b[0m\u001b[1;33m)\u001b[0m\u001b[1;33m\u001b[0m\u001b[0m\n",
        "\u001b[1;31mServerSelectionTimeoutError\u001b[0m: localhost:27017: [Errno 10061] No connection could be made because the target machine actively refused it"
       ]
      }
     ],
     "prompt_number": 13
    },
    {
     "cell_type": "heading",
     "level": 1,
     "metadata": {},
     "source": [
      "Example 13. \u4f7f\u7528MongoDB\u7684\u6570\u636e\u805a\u5408\u6846\u67b6"
     ]
    },
    {
     "cell_type": "code",
     "collapsed": false,
     "input": [
      "import json\n",
      "import pymongo # pip install pymongo\n",
      "from bson import json_util # Comes with pymongo\n",
      "import re\n",
      "\n",
      "# The basis of our query\n",
      "FROM = \"kenneth.lay@enron.com\"\n",
      "\n",
      "client = pymongo.MongoClient()\n",
      "db = client.enron\n",
      "mbox = db.mbox\n",
      "\n",
      "# Get the recipient lists for each message\n",
      "\n",
      "recipients_per_message = db.mbox.aggregate([\n",
      "  {\"$match\" : {\"From\" : re.compile(r\".*{0}.*\".format(FROM), re.IGNORECASE)}}, \n",
      "  {\"$project\" : {\"From\" : 1, \"To\" : 1} }, \n",
      "  {\"$group\" : {\"_id\" : \"$From\", \"recipients\" : {\"$addToSet\" : \"$To\" } } }                    \n",
      "])['result'][0]['recipients']\n",
      "\n",
      "# Collapse the lists of recipients into a single list\n",
      "\n",
      "all_recipients = [recipient\n",
      "                  for message in recipients_per_message\n",
      "                      for recipient in message]\n",
      "\n",
      "# Calculate the number of recipients per sent message and sort\n",
      "\n",
      "recipients_per_message_totals = \\\n",
      "  sorted([len(recipients) \n",
      "   for recipients in recipients_per_message])\n",
      "\n",
      "# Demonstrate how to use $unwind followed by $group to collapse\n",
      "# the recipient lists into a single list (with no duplicates\n",
      "# per the $addToSet operator)\n",
      "\n",
      "unique_recipients = db.mbox.aggregate([\n",
      "  {\"$match\" : {\"From\" : re.compile(r\".*{0}.*\".format(FROM), re.IGNORECASE)}}, \n",
      "  {\"$project\" : {\"From\" : 1, \"To\" : 1} }, \n",
      "  {\"$unwind\" : \"$To\"}, \n",
      "  {\"$group\" : {\"_id\" : \"From\", \"recipients\" : {\"$addToSet\" : \"$To\"}} }\n",
      "])['result'][0]['recipients']\n",
      "\n",
      "print all_recipients\n",
      "print \"Num total recipients on all messages:\", len(all_recipients)\n",
      "print \"Num recipients for each message:\", recipients_per_message_totals\n",
      "print \"Num unique recipients\", len(unique_recipients)"
     ],
     "language": "python",
     "metadata": {},
     "outputs": [
      {
       "ename": "ServerSelectionTimeoutError",
       "evalue": "localhost:27017: [Errno 10061] No connection could be made because the target machine actively refused it",
       "output_type": "pyerr",
       "traceback": [
        "\u001b[1;31m---------------------------------------------------------------------------\u001b[0m\n\u001b[1;31mServerSelectionTimeoutError\u001b[0m               Traceback (most recent call last)",
        "\u001b[1;32m<ipython-input-14-a9e900dd7e6a>\u001b[0m in \u001b[0;36m<module>\u001b[1;34m()\u001b[0m\n\u001b[0;32m     16\u001b[0m   \u001b[1;33m{\u001b[0m\u001b[1;34m\"$match\"\u001b[0m \u001b[1;33m:\u001b[0m \u001b[1;33m{\u001b[0m\u001b[1;34m\"From\"\u001b[0m \u001b[1;33m:\u001b[0m \u001b[0mre\u001b[0m\u001b[1;33m.\u001b[0m\u001b[0mcompile\u001b[0m\u001b[1;33m(\u001b[0m\u001b[1;34mr\".*{0}.*\"\u001b[0m\u001b[1;33m.\u001b[0m\u001b[0mformat\u001b[0m\u001b[1;33m(\u001b[0m\u001b[0mFROM\u001b[0m\u001b[1;33m)\u001b[0m\u001b[1;33m,\u001b[0m \u001b[0mre\u001b[0m\u001b[1;33m.\u001b[0m\u001b[0mIGNORECASE\u001b[0m\u001b[1;33m)\u001b[0m\u001b[1;33m}\u001b[0m\u001b[1;33m}\u001b[0m\u001b[1;33m,\u001b[0m\u001b[1;33m\u001b[0m\u001b[0m\n\u001b[0;32m     17\u001b[0m   \u001b[1;33m{\u001b[0m\u001b[1;34m\"$project\"\u001b[0m \u001b[1;33m:\u001b[0m \u001b[1;33m{\u001b[0m\u001b[1;34m\"From\"\u001b[0m \u001b[1;33m:\u001b[0m \u001b[1;36m1\u001b[0m\u001b[1;33m,\u001b[0m \u001b[1;34m\"To\"\u001b[0m \u001b[1;33m:\u001b[0m \u001b[1;36m1\u001b[0m\u001b[1;33m}\u001b[0m \u001b[1;33m}\u001b[0m\u001b[1;33m,\u001b[0m\u001b[1;33m\u001b[0m\u001b[0m\n\u001b[1;32m---> 18\u001b[1;33m   \u001b[1;33m{\u001b[0m\u001b[1;34m\"$group\"\u001b[0m \u001b[1;33m:\u001b[0m \u001b[1;33m{\u001b[0m\u001b[1;34m\"_id\"\u001b[0m \u001b[1;33m:\u001b[0m \u001b[1;34m\"$From\"\u001b[0m\u001b[1;33m,\u001b[0m \u001b[1;34m\"recipients\"\u001b[0m \u001b[1;33m:\u001b[0m \u001b[1;33m{\u001b[0m\u001b[1;34m\"$addToSet\"\u001b[0m \u001b[1;33m:\u001b[0m \u001b[1;34m\"$To\"\u001b[0m \u001b[1;33m}\u001b[0m \u001b[1;33m}\u001b[0m \u001b[1;33m}\u001b[0m\u001b[1;33m\u001b[0m\u001b[0m\n\u001b[0m\u001b[0;32m     19\u001b[0m ])['result'][0]['recipients']\n\u001b[0;32m     20\u001b[0m \u001b[1;33m\u001b[0m\u001b[0m\n",
        "\u001b[1;32mC:\\Python27\\lib\\site-packages\\pymongo\\collection.pyc\u001b[0m in \u001b[0;36maggregate\u001b[1;34m(self, pipeline, **kwargs)\u001b[0m\n\u001b[0;32m   1652\u001b[0m         \u001b[1;31m# If the server does not support the \"cursor\" option we\u001b[0m\u001b[1;33m\u001b[0m\u001b[1;33m\u001b[0m\u001b[0m\n\u001b[0;32m   1653\u001b[0m         \u001b[1;31m# ignore useCursor and batchSize.\u001b[0m\u001b[1;33m\u001b[0m\u001b[1;33m\u001b[0m\u001b[0m\n\u001b[1;32m-> 1654\u001b[1;33m         \u001b[1;32mwith\u001b[0m \u001b[0mself\u001b[0m\u001b[1;33m.\u001b[0m\u001b[0m_socket_for_reads\u001b[0m\u001b[1;33m(\u001b[0m\u001b[1;33m)\u001b[0m \u001b[1;32mas\u001b[0m \u001b[1;33m(\u001b[0m\u001b[0msock_info\u001b[0m\u001b[1;33m,\u001b[0m \u001b[0mslave_ok\u001b[0m\u001b[1;33m)\u001b[0m\u001b[1;33m:\u001b[0m\u001b[1;33m\u001b[0m\u001b[0m\n\u001b[0m\u001b[0;32m   1655\u001b[0m             \u001b[1;32mif\u001b[0m \u001b[0msock_info\u001b[0m\u001b[1;33m.\u001b[0m\u001b[0mmax_wire_version\u001b[0m \u001b[1;33m>\u001b[0m \u001b[1;36m0\u001b[0m\u001b[1;33m:\u001b[0m\u001b[1;33m\u001b[0m\u001b[0m\n\u001b[0;32m   1656\u001b[0m                 \u001b[1;32mif\u001b[0m \u001b[0muse_cursor\u001b[0m\u001b[1;33m:\u001b[0m\u001b[1;33m\u001b[0m\u001b[0m\n",
        "\u001b[1;32mC:\\Python27\\lib\\contextlib.pyc\u001b[0m in \u001b[0;36m__enter__\u001b[1;34m(self)\u001b[0m\n\u001b[0;32m     15\u001b[0m     \u001b[1;32mdef\u001b[0m \u001b[0m__enter__\u001b[0m\u001b[1;33m(\u001b[0m\u001b[0mself\u001b[0m\u001b[1;33m)\u001b[0m\u001b[1;33m:\u001b[0m\u001b[1;33m\u001b[0m\u001b[0m\n\u001b[0;32m     16\u001b[0m         \u001b[1;32mtry\u001b[0m\u001b[1;33m:\u001b[0m\u001b[1;33m\u001b[0m\u001b[0m\n\u001b[1;32m---> 17\u001b[1;33m             \u001b[1;32mreturn\u001b[0m \u001b[0mself\u001b[0m\u001b[1;33m.\u001b[0m\u001b[0mgen\u001b[0m\u001b[1;33m.\u001b[0m\u001b[0mnext\u001b[0m\u001b[1;33m(\u001b[0m\u001b[1;33m)\u001b[0m\u001b[1;33m\u001b[0m\u001b[0m\n\u001b[0m\u001b[0;32m     18\u001b[0m         \u001b[1;32mexcept\u001b[0m \u001b[0mStopIteration\u001b[0m\u001b[1;33m:\u001b[0m\u001b[1;33m\u001b[0m\u001b[0m\n\u001b[0;32m     19\u001b[0m             \u001b[1;32mraise\u001b[0m \u001b[0mRuntimeError\u001b[0m\u001b[1;33m(\u001b[0m\u001b[1;34m\"generator didn't yield\"\u001b[0m\u001b[1;33m)\u001b[0m\u001b[1;33m\u001b[0m\u001b[0m\n",
        "\u001b[1;32mC:\\Python27\\lib\\site-packages\\pymongo\\mongo_client.pyc\u001b[0m in \u001b[0;36m_socket_for_reads\u001b[1;34m(self, read_preference)\u001b[0m\n\u001b[0;32m    750\u001b[0m         \u001b[0mtopology\u001b[0m \u001b[1;33m=\u001b[0m \u001b[0mself\u001b[0m\u001b[1;33m.\u001b[0m\u001b[0m_get_topology\u001b[0m\u001b[1;33m(\u001b[0m\u001b[1;33m)\u001b[0m\u001b[1;33m\u001b[0m\u001b[0m\n\u001b[0;32m    751\u001b[0m         \u001b[0msingle\u001b[0m \u001b[1;33m=\u001b[0m \u001b[0mtopology\u001b[0m\u001b[1;33m.\u001b[0m\u001b[0mdescription\u001b[0m\u001b[1;33m.\u001b[0m\u001b[0mtopology_type\u001b[0m \u001b[1;33m==\u001b[0m \u001b[0mTOPOLOGY_TYPE\u001b[0m\u001b[1;33m.\u001b[0m\u001b[0mSingle\u001b[0m\u001b[1;33m\u001b[0m\u001b[0m\n\u001b[1;32m--> 752\u001b[1;33m         \u001b[1;32mwith\u001b[0m \u001b[0mself\u001b[0m\u001b[1;33m.\u001b[0m\u001b[0m_get_socket\u001b[0m\u001b[1;33m(\u001b[0m\u001b[0mread_preference\u001b[0m\u001b[1;33m)\u001b[0m \u001b[1;32mas\u001b[0m \u001b[0msock_info\u001b[0m\u001b[1;33m:\u001b[0m\u001b[1;33m\u001b[0m\u001b[0m\n\u001b[0m\u001b[0;32m    753\u001b[0m             slave_ok = (single and not sock_info.is_mongos) or (\n\u001b[0;32m    754\u001b[0m                 preference != ReadPreference.PRIMARY)\n",
        "\u001b[1;32mC:\\Python27\\lib\\contextlib.pyc\u001b[0m in \u001b[0;36m__enter__\u001b[1;34m(self)\u001b[0m\n\u001b[0;32m     15\u001b[0m     \u001b[1;32mdef\u001b[0m \u001b[0m__enter__\u001b[0m\u001b[1;33m(\u001b[0m\u001b[0mself\u001b[0m\u001b[1;33m)\u001b[0m\u001b[1;33m:\u001b[0m\u001b[1;33m\u001b[0m\u001b[0m\n\u001b[0;32m     16\u001b[0m         \u001b[1;32mtry\u001b[0m\u001b[1;33m:\u001b[0m\u001b[1;33m\u001b[0m\u001b[0m\n\u001b[1;32m---> 17\u001b[1;33m             \u001b[1;32mreturn\u001b[0m \u001b[0mself\u001b[0m\u001b[1;33m.\u001b[0m\u001b[0mgen\u001b[0m\u001b[1;33m.\u001b[0m\u001b[0mnext\u001b[0m\u001b[1;33m(\u001b[0m\u001b[1;33m)\u001b[0m\u001b[1;33m\u001b[0m\u001b[0m\n\u001b[0m\u001b[0;32m     18\u001b[0m         \u001b[1;32mexcept\u001b[0m \u001b[0mStopIteration\u001b[0m\u001b[1;33m:\u001b[0m\u001b[1;33m\u001b[0m\u001b[0m\n\u001b[0;32m     19\u001b[0m             \u001b[1;32mraise\u001b[0m \u001b[0mRuntimeError\u001b[0m\u001b[1;33m(\u001b[0m\u001b[1;34m\"generator didn't yield\"\u001b[0m\u001b[1;33m)\u001b[0m\u001b[1;33m\u001b[0m\u001b[0m\n",
        "\u001b[1;32mC:\\Python27\\lib\\site-packages\\pymongo\\mongo_client.pyc\u001b[0m in \u001b[0;36m_get_socket\u001b[1;34m(self, selector)\u001b[0m\n\u001b[0;32m    714\u001b[0m     \u001b[1;33m@\u001b[0m\u001b[0mcontextlib\u001b[0m\u001b[1;33m.\u001b[0m\u001b[0mcontextmanager\u001b[0m\u001b[1;33m\u001b[0m\u001b[0m\n\u001b[0;32m    715\u001b[0m     \u001b[1;32mdef\u001b[0m \u001b[0m_get_socket\u001b[0m\u001b[1;33m(\u001b[0m\u001b[0mself\u001b[0m\u001b[1;33m,\u001b[0m \u001b[0mselector\u001b[0m\u001b[1;33m)\u001b[0m\u001b[1;33m:\u001b[0m\u001b[1;33m\u001b[0m\u001b[0m\n\u001b[1;32m--> 716\u001b[1;33m         \u001b[0mserver\u001b[0m \u001b[1;33m=\u001b[0m \u001b[0mself\u001b[0m\u001b[1;33m.\u001b[0m\u001b[0m_get_topology\u001b[0m\u001b[1;33m(\u001b[0m\u001b[1;33m)\u001b[0m\u001b[1;33m.\u001b[0m\u001b[0mselect_server\u001b[0m\u001b[1;33m(\u001b[0m\u001b[0mselector\u001b[0m\u001b[1;33m)\u001b[0m\u001b[1;33m\u001b[0m\u001b[0m\n\u001b[0m\u001b[0;32m    717\u001b[0m         \u001b[1;32mtry\u001b[0m\u001b[1;33m:\u001b[0m\u001b[1;33m\u001b[0m\u001b[0m\n\u001b[0;32m    718\u001b[0m             \u001b[1;32mwith\u001b[0m \u001b[0mserver\u001b[0m\u001b[1;33m.\u001b[0m\u001b[0mget_socket\u001b[0m\u001b[1;33m(\u001b[0m\u001b[0mself\u001b[0m\u001b[1;33m.\u001b[0m\u001b[0m__all_credentials\u001b[0m\u001b[1;33m)\u001b[0m \u001b[1;32mas\u001b[0m \u001b[0msock_info\u001b[0m\u001b[1;33m:\u001b[0m\u001b[1;33m\u001b[0m\u001b[0m\n",
        "\u001b[1;32mC:\\Python27\\lib\\site-packages\\pymongo\\topology.pyc\u001b[0m in \u001b[0;36mselect_server\u001b[1;34m(self, selector, server_selection_timeout, address)\u001b[0m\n\u001b[0;32m    140\u001b[0m         return random.choice(self.select_servers(selector,\n\u001b[0;32m    141\u001b[0m                                                  \u001b[0mserver_selection_timeout\u001b[0m\u001b[1;33m,\u001b[0m\u001b[1;33m\u001b[0m\u001b[0m\n\u001b[1;32m--> 142\u001b[1;33m                                                  address))\n\u001b[0m\u001b[0;32m    143\u001b[0m \u001b[1;33m\u001b[0m\u001b[0m\n\u001b[0;32m    144\u001b[0m     def select_server_by_address(self, address,\n",
        "\u001b[1;32mC:\\Python27\\lib\\site-packages\\pymongo\\topology.pyc\u001b[0m in \u001b[0;36mselect_servers\u001b[1;34m(self, selector, server_selection_timeout, address)\u001b[0m\n\u001b[0;32m    116\u001b[0m                 \u001b[1;32mif\u001b[0m \u001b[0mserver_timeout\u001b[0m \u001b[1;33m==\u001b[0m \u001b[1;36m0\u001b[0m \u001b[1;32mor\u001b[0m \u001b[0mnow\u001b[0m \u001b[1;33m>\u001b[0m \u001b[0mend_time\u001b[0m\u001b[1;33m:\u001b[0m\u001b[1;33m\u001b[0m\u001b[0m\n\u001b[0;32m    117\u001b[0m                     raise ServerSelectionTimeoutError(\n\u001b[1;32m--> 118\u001b[1;33m                         self._error_message(selector))\n\u001b[0m\u001b[0;32m    119\u001b[0m \u001b[1;33m\u001b[0m\u001b[0m\n\u001b[0;32m    120\u001b[0m                 \u001b[0mself\u001b[0m\u001b[1;33m.\u001b[0m\u001b[0m_ensure_opened\u001b[0m\u001b[1;33m(\u001b[0m\u001b[1;33m)\u001b[0m\u001b[1;33m\u001b[0m\u001b[0m\n",
        "\u001b[1;31mServerSelectionTimeoutError\u001b[0m: localhost:27017: [Errno 10061] No connection could be made because the target machine actively refused it"
       ]
      }
     ],
     "prompt_number": 14
    },
    {
     "cell_type": "heading",
     "level": 1,
     "metadata": {},
     "source": [
      "Example 14. \u4f7f\u7528PyMongo\u5728MongoDB\u6587\u6863\u4e2d\u521b\u5efa\u4e00\u4e2a\u6587\u672c\u7d22\u5f15"
     ]
    },
    {
     "cell_type": "code",
     "collapsed": false,
     "input": [
      "import json\n",
      "import pymongo # pip install pymongo\n",
      "from bson import json_util # Comes with pymongo\n",
      "\n",
      "client = pymongo.MongoClient()\n",
      "db = client.enron\n",
      "mbox = db.mbox\n",
      "\n",
      "# Create an index if it doesn't already exist\n",
      "mbox.ensure_index([(\"$**\", \"text\")], name=\"TextIndex\")\n",
      "\n",
      "# Get the collection stats (collstats) on a collection\n",
      "# named \"mbox\"\n",
      "print json.dumps(db.command(\"collstats\", \"mbox\"), indent=1)\n",
      "\n",
      "# Use the db.command method to issue a \"text\" command\n",
      "# on collection \"mbox\" with parameters, remembering that\n",
      "# we need to use json_util to handle serialization of our JSON\n",
      "print json.dumps(db.command(\"text\", \"mbox\",  \n",
      "                            search=\"raptor\", \n",
      "                            limit=1), \n",
      "                 indent=1, default=json_util.default)"
     ],
     "language": "python",
     "metadata": {},
     "outputs": [
      {
       "ename": "ServerSelectionTimeoutError",
       "evalue": "localhost:27017: [Errno 10061] No connection could be made because the target machine actively refused it",
       "output_type": "pyerr",
       "traceback": [
        "\u001b[1;31m---------------------------------------------------------------------------\u001b[0m\n\u001b[1;31mServerSelectionTimeoutError\u001b[0m               Traceback (most recent call last)",
        "\u001b[1;32m<ipython-input-15-ff85174fb22f>\u001b[0m in \u001b[0;36m<module>\u001b[1;34m()\u001b[0m\n\u001b[0;32m      8\u001b[0m \u001b[1;33m\u001b[0m\u001b[0m\n\u001b[0;32m      9\u001b[0m \u001b[1;31m# Create an index if it doesn't already exist\u001b[0m\u001b[1;33m\u001b[0m\u001b[1;33m\u001b[0m\u001b[0m\n\u001b[1;32m---> 10\u001b[1;33m \u001b[0mmbox\u001b[0m\u001b[1;33m.\u001b[0m\u001b[0mensure_index\u001b[0m\u001b[1;33m(\u001b[0m\u001b[1;33m[\u001b[0m\u001b[1;33m(\u001b[0m\u001b[1;34m\"$**\"\u001b[0m\u001b[1;33m,\u001b[0m \u001b[1;34m\"text\"\u001b[0m\u001b[1;33m)\u001b[0m\u001b[1;33m]\u001b[0m\u001b[1;33m,\u001b[0m \u001b[0mname\u001b[0m\u001b[1;33m=\u001b[0m\u001b[1;34m\"TextIndex\"\u001b[0m\u001b[1;33m)\u001b[0m\u001b[1;33m\u001b[0m\u001b[0m\n\u001b[0m\u001b[0;32m     11\u001b[0m \u001b[1;33m\u001b[0m\u001b[0m\n\u001b[0;32m     12\u001b[0m \u001b[1;31m# Get the collection stats (collstats) on a collection\u001b[0m\u001b[1;33m\u001b[0m\u001b[1;33m\u001b[0m\u001b[0m\n",
        "\u001b[1;32mC:\\Python27\\lib\\site-packages\\pymongo\\collection.pyc\u001b[0m in \u001b[0;36mensure_index\u001b[1;34m(self, key_or_list, cache_for, **kwargs)\u001b[0m\n\u001b[0;32m   1411\u001b[0m         if not self.__database.client._cached(self.__database.name,\n\u001b[0;32m   1412\u001b[0m                                               self.__name, name):\n\u001b[1;32m-> 1413\u001b[1;33m             \u001b[0mself\u001b[0m\u001b[1;33m.\u001b[0m\u001b[0m__create_index\u001b[0m\u001b[1;33m(\u001b[0m\u001b[0mkeys\u001b[0m\u001b[1;33m,\u001b[0m \u001b[0mkwargs\u001b[0m\u001b[1;33m)\u001b[0m\u001b[1;33m\u001b[0m\u001b[0m\n\u001b[0m\u001b[0;32m   1414\u001b[0m             self.__database.client._cache_index(self.__database.name,\n\u001b[0;32m   1415\u001b[0m                                                 self.__name, name, cache_for)\n",
        "\u001b[1;32mC:\\Python27\\lib\\site-packages\\pymongo\\collection.pyc\u001b[0m in \u001b[0;36m__create_index\u001b[1;34m(self, keys, index_options)\u001b[0m\n\u001b[0;32m   1284\u001b[0m         \u001b[0mindex\u001b[0m\u001b[1;33m.\u001b[0m\u001b[0mupdate\u001b[0m\u001b[1;33m(\u001b[0m\u001b[0mindex_options\u001b[0m\u001b[1;33m)\u001b[0m\u001b[1;33m\u001b[0m\u001b[0m\n\u001b[0;32m   1285\u001b[0m \u001b[1;33m\u001b[0m\u001b[0m\n\u001b[1;32m-> 1286\u001b[1;33m         \u001b[1;32mwith\u001b[0m \u001b[0mself\u001b[0m\u001b[1;33m.\u001b[0m\u001b[0m_socket_for_writes\u001b[0m\u001b[1;33m(\u001b[0m\u001b[1;33m)\u001b[0m \u001b[1;32mas\u001b[0m \u001b[0msock_info\u001b[0m\u001b[1;33m:\u001b[0m\u001b[1;33m\u001b[0m\u001b[0m\n\u001b[0m\u001b[0;32m   1287\u001b[0m             \u001b[0mcmd\u001b[0m \u001b[1;33m=\u001b[0m \u001b[0mSON\u001b[0m\u001b[1;33m(\u001b[0m\u001b[1;33m[\u001b[0m\u001b[1;33m(\u001b[0m\u001b[1;34m'createIndexes'\u001b[0m\u001b[1;33m,\u001b[0m \u001b[0mself\u001b[0m\u001b[1;33m.\u001b[0m\u001b[0mname\u001b[0m\u001b[1;33m)\u001b[0m\u001b[1;33m,\u001b[0m \u001b[1;33m(\u001b[0m\u001b[1;34m'indexes'\u001b[0m\u001b[1;33m,\u001b[0m \u001b[1;33m[\u001b[0m\u001b[0mindex\u001b[0m\u001b[1;33m]\u001b[0m\u001b[1;33m)\u001b[0m\u001b[1;33m]\u001b[0m\u001b[1;33m)\u001b[0m\u001b[1;33m\u001b[0m\u001b[0m\n\u001b[0;32m   1288\u001b[0m             \u001b[1;32mtry\u001b[0m\u001b[1;33m:\u001b[0m\u001b[1;33m\u001b[0m\u001b[0m\n",
        "\u001b[1;32mC:\\Python27\\lib\\contextlib.pyc\u001b[0m in \u001b[0;36m__enter__\u001b[1;34m(self)\u001b[0m\n\u001b[0;32m     15\u001b[0m     \u001b[1;32mdef\u001b[0m \u001b[0m__enter__\u001b[0m\u001b[1;33m(\u001b[0m\u001b[0mself\u001b[0m\u001b[1;33m)\u001b[0m\u001b[1;33m:\u001b[0m\u001b[1;33m\u001b[0m\u001b[0m\n\u001b[0;32m     16\u001b[0m         \u001b[1;32mtry\u001b[0m\u001b[1;33m:\u001b[0m\u001b[1;33m\u001b[0m\u001b[0m\n\u001b[1;32m---> 17\u001b[1;33m             \u001b[1;32mreturn\u001b[0m \u001b[0mself\u001b[0m\u001b[1;33m.\u001b[0m\u001b[0mgen\u001b[0m\u001b[1;33m.\u001b[0m\u001b[0mnext\u001b[0m\u001b[1;33m(\u001b[0m\u001b[1;33m)\u001b[0m\u001b[1;33m\u001b[0m\u001b[0m\n\u001b[0m\u001b[0;32m     18\u001b[0m         \u001b[1;32mexcept\u001b[0m \u001b[0mStopIteration\u001b[0m\u001b[1;33m:\u001b[0m\u001b[1;33m\u001b[0m\u001b[0m\n\u001b[0;32m     19\u001b[0m             \u001b[1;32mraise\u001b[0m \u001b[0mRuntimeError\u001b[0m\u001b[1;33m(\u001b[0m\u001b[1;34m\"generator didn't yield\"\u001b[0m\u001b[1;33m)\u001b[0m\u001b[1;33m\u001b[0m\u001b[0m\n",
        "\u001b[1;32mC:\\Python27\\lib\\site-packages\\pymongo\\mongo_client.pyc\u001b[0m in \u001b[0;36m_get_socket\u001b[1;34m(self, selector)\u001b[0m\n\u001b[0;32m    714\u001b[0m     \u001b[1;33m@\u001b[0m\u001b[0mcontextlib\u001b[0m\u001b[1;33m.\u001b[0m\u001b[0mcontextmanager\u001b[0m\u001b[1;33m\u001b[0m\u001b[0m\n\u001b[0;32m    715\u001b[0m     \u001b[1;32mdef\u001b[0m \u001b[0m_get_socket\u001b[0m\u001b[1;33m(\u001b[0m\u001b[0mself\u001b[0m\u001b[1;33m,\u001b[0m \u001b[0mselector\u001b[0m\u001b[1;33m)\u001b[0m\u001b[1;33m:\u001b[0m\u001b[1;33m\u001b[0m\u001b[0m\n\u001b[1;32m--> 716\u001b[1;33m         \u001b[0mserver\u001b[0m \u001b[1;33m=\u001b[0m \u001b[0mself\u001b[0m\u001b[1;33m.\u001b[0m\u001b[0m_get_topology\u001b[0m\u001b[1;33m(\u001b[0m\u001b[1;33m)\u001b[0m\u001b[1;33m.\u001b[0m\u001b[0mselect_server\u001b[0m\u001b[1;33m(\u001b[0m\u001b[0mselector\u001b[0m\u001b[1;33m)\u001b[0m\u001b[1;33m\u001b[0m\u001b[0m\n\u001b[0m\u001b[0;32m    717\u001b[0m         \u001b[1;32mtry\u001b[0m\u001b[1;33m:\u001b[0m\u001b[1;33m\u001b[0m\u001b[0m\n\u001b[0;32m    718\u001b[0m             \u001b[1;32mwith\u001b[0m \u001b[0mserver\u001b[0m\u001b[1;33m.\u001b[0m\u001b[0mget_socket\u001b[0m\u001b[1;33m(\u001b[0m\u001b[0mself\u001b[0m\u001b[1;33m.\u001b[0m\u001b[0m__all_credentials\u001b[0m\u001b[1;33m)\u001b[0m \u001b[1;32mas\u001b[0m \u001b[0msock_info\u001b[0m\u001b[1;33m:\u001b[0m\u001b[1;33m\u001b[0m\u001b[0m\n",
        "\u001b[1;32mC:\\Python27\\lib\\site-packages\\pymongo\\topology.pyc\u001b[0m in \u001b[0;36mselect_server\u001b[1;34m(self, selector, server_selection_timeout, address)\u001b[0m\n\u001b[0;32m    140\u001b[0m         return random.choice(self.select_servers(selector,\n\u001b[0;32m    141\u001b[0m                                                  \u001b[0mserver_selection_timeout\u001b[0m\u001b[1;33m,\u001b[0m\u001b[1;33m\u001b[0m\u001b[0m\n\u001b[1;32m--> 142\u001b[1;33m                                                  address))\n\u001b[0m\u001b[0;32m    143\u001b[0m \u001b[1;33m\u001b[0m\u001b[0m\n\u001b[0;32m    144\u001b[0m     def select_server_by_address(self, address,\n",
        "\u001b[1;32mC:\\Python27\\lib\\site-packages\\pymongo\\topology.pyc\u001b[0m in \u001b[0;36mselect_servers\u001b[1;34m(self, selector, server_selection_timeout, address)\u001b[0m\n\u001b[0;32m    116\u001b[0m                 \u001b[1;32mif\u001b[0m \u001b[0mserver_timeout\u001b[0m \u001b[1;33m==\u001b[0m \u001b[1;36m0\u001b[0m \u001b[1;32mor\u001b[0m \u001b[0mnow\u001b[0m \u001b[1;33m>\u001b[0m \u001b[0mend_time\u001b[0m\u001b[1;33m:\u001b[0m\u001b[1;33m\u001b[0m\u001b[0m\n\u001b[0;32m    117\u001b[0m                     raise ServerSelectionTimeoutError(\n\u001b[1;32m--> 118\u001b[1;33m                         self._error_message(selector))\n\u001b[0m\u001b[0;32m    119\u001b[0m \u001b[1;33m\u001b[0m\u001b[0m\n\u001b[0;32m    120\u001b[0m                 \u001b[0mself\u001b[0m\u001b[1;33m.\u001b[0m\u001b[0m_ensure_opened\u001b[0m\u001b[1;33m(\u001b[0m\u001b[1;33m)\u001b[0m\u001b[1;33m\u001b[0m\u001b[0m\n",
        "\u001b[1;31mServerSelectionTimeoutError\u001b[0m: localhost:27017: [Errno 10061] No connection could be made because the target machine actively refused it"
       ]
      }
     ],
     "prompt_number": 15
    },
    {
     "cell_type": "heading",
     "level": 1,
     "metadata": {},
     "source": [
      "Example 15. \u4ee5date/time range\u5bf9\u6d88\u606f\u8ba1\u6570\u7684\u805a\u5408\u67e5\u8be2"
     ]
    },
    {
     "cell_type": "code",
     "collapsed": false,
     "input": [
      "import json\n",
      "import pymongo # pip install pymongo\n",
      "from bson import json_util # Comes with pymongo\n",
      "\n",
      "client = pymongo.MongoClient()\n",
      "db = client.enron\n",
      "mbox = db.mbox\n",
      "\n",
      "results = mbox.aggregate([\n",
      "{\n",
      "  # Create a subdocument called DateBucket with each date component projected\n",
      "  # so that these fields can be grouped on in the next stage of the pipeline\n",
      "  \"$project\" :\n",
      "  {\n",
      "     \"_id\" : 0,\n",
      "     \"DateBucket\" : \n",
      "     {\n",
      "       \"year\" : {\"$year\" : \"$Date\"}, \n",
      "       \"month\" : {\"$month\" : \"$Date\"}, \n",
      "       \"day\" : {\"$dayOfMonth\" : \"$Date\"},\n",
      "       \"hour\" : {\"$hour\" : \"$Date\"},\n",
      "     }\n",
      "  }\n",
      "},\n",
      "{\n",
      "  \"$group\" : \n",
      "  {\n",
      "    # Group by year and date by using these fields for the key.\n",
      "    \"_id\" : {\"year\" : \"$DateBucket.year\", \"month\" : \"$DateBucket.month\"},\n",
      "    \n",
      "    # Increment the sum for each group by 1 for every document that's in it\n",
      "    \"num_msgs\" : {\"$sum\" : 1}\n",
      "  }\n",
      "},\n",
      "{\n",
      "  \"$sort\" : {\"_id.year\" : 1, \"_id.month\" : 1} \n",
      "}\n",
      "])\n",
      "\n",
      "print results"
     ],
     "language": "python",
     "metadata": {},
     "outputs": [
      {
       "ename": "ServerSelectionTimeoutError",
       "evalue": "localhost:27017: [Errno 10061] No connection could be made because the target machine actively refused it",
       "output_type": "pyerr",
       "traceback": [
        "\u001b[1;31m---------------------------------------------------------------------------\u001b[0m\n\u001b[1;31mServerSelectionTimeoutError\u001b[0m               Traceback (most recent call last)",
        "\u001b[1;32m<ipython-input-16-d1213ce3b46e>\u001b[0m in \u001b[0;36m<module>\u001b[1;34m()\u001b[0m\n\u001b[0;32m     34\u001b[0m },\n\u001b[0;32m     35\u001b[0m {\n\u001b[1;32m---> 36\u001b[1;33m   \u001b[1;34m\"$sort\"\u001b[0m \u001b[1;33m:\u001b[0m \u001b[1;33m{\u001b[0m\u001b[1;34m\"_id.year\"\u001b[0m \u001b[1;33m:\u001b[0m \u001b[1;36m1\u001b[0m\u001b[1;33m,\u001b[0m \u001b[1;34m\"_id.month\"\u001b[0m \u001b[1;33m:\u001b[0m \u001b[1;36m1\u001b[0m\u001b[1;33m}\u001b[0m\u001b[1;33m\u001b[0m\u001b[0m\n\u001b[0m\u001b[0;32m     37\u001b[0m }\n\u001b[0;32m     38\u001b[0m ])\n",
        "\u001b[1;32mC:\\Python27\\lib\\site-packages\\pymongo\\collection.pyc\u001b[0m in \u001b[0;36maggregate\u001b[1;34m(self, pipeline, **kwargs)\u001b[0m\n\u001b[0;32m   1652\u001b[0m         \u001b[1;31m# If the server does not support the \"cursor\" option we\u001b[0m\u001b[1;33m\u001b[0m\u001b[1;33m\u001b[0m\u001b[0m\n\u001b[0;32m   1653\u001b[0m         \u001b[1;31m# ignore useCursor and batchSize.\u001b[0m\u001b[1;33m\u001b[0m\u001b[1;33m\u001b[0m\u001b[0m\n\u001b[1;32m-> 1654\u001b[1;33m         \u001b[1;32mwith\u001b[0m \u001b[0mself\u001b[0m\u001b[1;33m.\u001b[0m\u001b[0m_socket_for_reads\u001b[0m\u001b[1;33m(\u001b[0m\u001b[1;33m)\u001b[0m \u001b[1;32mas\u001b[0m \u001b[1;33m(\u001b[0m\u001b[0msock_info\u001b[0m\u001b[1;33m,\u001b[0m \u001b[0mslave_ok\u001b[0m\u001b[1;33m)\u001b[0m\u001b[1;33m:\u001b[0m\u001b[1;33m\u001b[0m\u001b[0m\n\u001b[0m\u001b[0;32m   1655\u001b[0m             \u001b[1;32mif\u001b[0m \u001b[0msock_info\u001b[0m\u001b[1;33m.\u001b[0m\u001b[0mmax_wire_version\u001b[0m \u001b[1;33m>\u001b[0m \u001b[1;36m0\u001b[0m\u001b[1;33m:\u001b[0m\u001b[1;33m\u001b[0m\u001b[0m\n\u001b[0;32m   1656\u001b[0m                 \u001b[1;32mif\u001b[0m \u001b[0muse_cursor\u001b[0m\u001b[1;33m:\u001b[0m\u001b[1;33m\u001b[0m\u001b[0m\n",
        "\u001b[1;32mC:\\Python27\\lib\\contextlib.pyc\u001b[0m in \u001b[0;36m__enter__\u001b[1;34m(self)\u001b[0m\n\u001b[0;32m     15\u001b[0m     \u001b[1;32mdef\u001b[0m \u001b[0m__enter__\u001b[0m\u001b[1;33m(\u001b[0m\u001b[0mself\u001b[0m\u001b[1;33m)\u001b[0m\u001b[1;33m:\u001b[0m\u001b[1;33m\u001b[0m\u001b[0m\n\u001b[0;32m     16\u001b[0m         \u001b[1;32mtry\u001b[0m\u001b[1;33m:\u001b[0m\u001b[1;33m\u001b[0m\u001b[0m\n\u001b[1;32m---> 17\u001b[1;33m             \u001b[1;32mreturn\u001b[0m \u001b[0mself\u001b[0m\u001b[1;33m.\u001b[0m\u001b[0mgen\u001b[0m\u001b[1;33m.\u001b[0m\u001b[0mnext\u001b[0m\u001b[1;33m(\u001b[0m\u001b[1;33m)\u001b[0m\u001b[1;33m\u001b[0m\u001b[0m\n\u001b[0m\u001b[0;32m     18\u001b[0m         \u001b[1;32mexcept\u001b[0m \u001b[0mStopIteration\u001b[0m\u001b[1;33m:\u001b[0m\u001b[1;33m\u001b[0m\u001b[0m\n\u001b[0;32m     19\u001b[0m             \u001b[1;32mraise\u001b[0m \u001b[0mRuntimeError\u001b[0m\u001b[1;33m(\u001b[0m\u001b[1;34m\"generator didn't yield\"\u001b[0m\u001b[1;33m)\u001b[0m\u001b[1;33m\u001b[0m\u001b[0m\n",
        "\u001b[1;32mC:\\Python27\\lib\\site-packages\\pymongo\\mongo_client.pyc\u001b[0m in \u001b[0;36m_socket_for_reads\u001b[1;34m(self, read_preference)\u001b[0m\n\u001b[0;32m    750\u001b[0m         \u001b[0mtopology\u001b[0m \u001b[1;33m=\u001b[0m \u001b[0mself\u001b[0m\u001b[1;33m.\u001b[0m\u001b[0m_get_topology\u001b[0m\u001b[1;33m(\u001b[0m\u001b[1;33m)\u001b[0m\u001b[1;33m\u001b[0m\u001b[0m\n\u001b[0;32m    751\u001b[0m         \u001b[0msingle\u001b[0m \u001b[1;33m=\u001b[0m \u001b[0mtopology\u001b[0m\u001b[1;33m.\u001b[0m\u001b[0mdescription\u001b[0m\u001b[1;33m.\u001b[0m\u001b[0mtopology_type\u001b[0m \u001b[1;33m==\u001b[0m \u001b[0mTOPOLOGY_TYPE\u001b[0m\u001b[1;33m.\u001b[0m\u001b[0mSingle\u001b[0m\u001b[1;33m\u001b[0m\u001b[0m\n\u001b[1;32m--> 752\u001b[1;33m         \u001b[1;32mwith\u001b[0m \u001b[0mself\u001b[0m\u001b[1;33m.\u001b[0m\u001b[0m_get_socket\u001b[0m\u001b[1;33m(\u001b[0m\u001b[0mread_preference\u001b[0m\u001b[1;33m)\u001b[0m \u001b[1;32mas\u001b[0m \u001b[0msock_info\u001b[0m\u001b[1;33m:\u001b[0m\u001b[1;33m\u001b[0m\u001b[0m\n\u001b[0m\u001b[0;32m    753\u001b[0m             slave_ok = (single and not sock_info.is_mongos) or (\n\u001b[0;32m    754\u001b[0m                 preference != ReadPreference.PRIMARY)\n",
        "\u001b[1;32mC:\\Python27\\lib\\contextlib.pyc\u001b[0m in \u001b[0;36m__enter__\u001b[1;34m(self)\u001b[0m\n\u001b[0;32m     15\u001b[0m     \u001b[1;32mdef\u001b[0m \u001b[0m__enter__\u001b[0m\u001b[1;33m(\u001b[0m\u001b[0mself\u001b[0m\u001b[1;33m)\u001b[0m\u001b[1;33m:\u001b[0m\u001b[1;33m\u001b[0m\u001b[0m\n\u001b[0;32m     16\u001b[0m         \u001b[1;32mtry\u001b[0m\u001b[1;33m:\u001b[0m\u001b[1;33m\u001b[0m\u001b[0m\n\u001b[1;32m---> 17\u001b[1;33m             \u001b[1;32mreturn\u001b[0m \u001b[0mself\u001b[0m\u001b[1;33m.\u001b[0m\u001b[0mgen\u001b[0m\u001b[1;33m.\u001b[0m\u001b[0mnext\u001b[0m\u001b[1;33m(\u001b[0m\u001b[1;33m)\u001b[0m\u001b[1;33m\u001b[0m\u001b[0m\n\u001b[0m\u001b[0;32m     18\u001b[0m         \u001b[1;32mexcept\u001b[0m \u001b[0mStopIteration\u001b[0m\u001b[1;33m:\u001b[0m\u001b[1;33m\u001b[0m\u001b[0m\n\u001b[0;32m     19\u001b[0m             \u001b[1;32mraise\u001b[0m \u001b[0mRuntimeError\u001b[0m\u001b[1;33m(\u001b[0m\u001b[1;34m\"generator didn't yield\"\u001b[0m\u001b[1;33m)\u001b[0m\u001b[1;33m\u001b[0m\u001b[0m\n",
        "\u001b[1;32mC:\\Python27\\lib\\site-packages\\pymongo\\mongo_client.pyc\u001b[0m in \u001b[0;36m_get_socket\u001b[1;34m(self, selector)\u001b[0m\n\u001b[0;32m    714\u001b[0m     \u001b[1;33m@\u001b[0m\u001b[0mcontextlib\u001b[0m\u001b[1;33m.\u001b[0m\u001b[0mcontextmanager\u001b[0m\u001b[1;33m\u001b[0m\u001b[0m\n\u001b[0;32m    715\u001b[0m     \u001b[1;32mdef\u001b[0m \u001b[0m_get_socket\u001b[0m\u001b[1;33m(\u001b[0m\u001b[0mself\u001b[0m\u001b[1;33m,\u001b[0m \u001b[0mselector\u001b[0m\u001b[1;33m)\u001b[0m\u001b[1;33m:\u001b[0m\u001b[1;33m\u001b[0m\u001b[0m\n\u001b[1;32m--> 716\u001b[1;33m         \u001b[0mserver\u001b[0m \u001b[1;33m=\u001b[0m \u001b[0mself\u001b[0m\u001b[1;33m.\u001b[0m\u001b[0m_get_topology\u001b[0m\u001b[1;33m(\u001b[0m\u001b[1;33m)\u001b[0m\u001b[1;33m.\u001b[0m\u001b[0mselect_server\u001b[0m\u001b[1;33m(\u001b[0m\u001b[0mselector\u001b[0m\u001b[1;33m)\u001b[0m\u001b[1;33m\u001b[0m\u001b[0m\n\u001b[0m\u001b[0;32m    717\u001b[0m         \u001b[1;32mtry\u001b[0m\u001b[1;33m:\u001b[0m\u001b[1;33m\u001b[0m\u001b[0m\n\u001b[0;32m    718\u001b[0m             \u001b[1;32mwith\u001b[0m \u001b[0mserver\u001b[0m\u001b[1;33m.\u001b[0m\u001b[0mget_socket\u001b[0m\u001b[1;33m(\u001b[0m\u001b[0mself\u001b[0m\u001b[1;33m.\u001b[0m\u001b[0m__all_credentials\u001b[0m\u001b[1;33m)\u001b[0m \u001b[1;32mas\u001b[0m \u001b[0msock_info\u001b[0m\u001b[1;33m:\u001b[0m\u001b[1;33m\u001b[0m\u001b[0m\n",
        "\u001b[1;32mC:\\Python27\\lib\\site-packages\\pymongo\\topology.pyc\u001b[0m in \u001b[0;36mselect_server\u001b[1;34m(self, selector, server_selection_timeout, address)\u001b[0m\n\u001b[0;32m    140\u001b[0m         return random.choice(self.select_servers(selector,\n\u001b[0;32m    141\u001b[0m                                                  \u001b[0mserver_selection_timeout\u001b[0m\u001b[1;33m,\u001b[0m\u001b[1;33m\u001b[0m\u001b[0m\n\u001b[1;32m--> 142\u001b[1;33m                                                  address))\n\u001b[0m\u001b[0;32m    143\u001b[0m \u001b[1;33m\u001b[0m\u001b[0m\n\u001b[0;32m    144\u001b[0m     def select_server_by_address(self, address,\n",
        "\u001b[1;32mC:\\Python27\\lib\\site-packages\\pymongo\\topology.pyc\u001b[0m in \u001b[0;36mselect_servers\u001b[1;34m(self, selector, server_selection_timeout, address)\u001b[0m\n\u001b[0;32m    116\u001b[0m                 \u001b[1;32mif\u001b[0m \u001b[0mserver_timeout\u001b[0m \u001b[1;33m==\u001b[0m \u001b[1;36m0\u001b[0m \u001b[1;32mor\u001b[0m \u001b[0mnow\u001b[0m \u001b[1;33m>\u001b[0m \u001b[0mend_time\u001b[0m\u001b[1;33m:\u001b[0m\u001b[1;33m\u001b[0m\u001b[0m\n\u001b[0;32m    117\u001b[0m                     raise ServerSelectionTimeoutError(\n\u001b[1;32m--> 118\u001b[1;33m                         self._error_message(selector))\n\u001b[0m\u001b[0;32m    119\u001b[0m \u001b[1;33m\u001b[0m\u001b[0m\n\u001b[0;32m    120\u001b[0m                 \u001b[0mself\u001b[0m\u001b[1;33m.\u001b[0m\u001b[0m_ensure_opened\u001b[0m\u001b[1;33m(\u001b[0m\u001b[1;33m)\u001b[0m\u001b[1;33m\u001b[0m\u001b[0m\n",
        "\u001b[1;31mServerSelectionTimeoutError\u001b[0m: localhost:27017: [Errno 10061] No connection could be made because the target machine actively refused it"
       ]
      }
     ],
     "prompt_number": 16
    },
    {
     "cell_type": "heading",
     "level": 1,
     "metadata": {},
     "source": [
      "Example 16. \u628a\u65f6\u5e8f\u7ed3\u679c\u53d8\u6210\u6574\u9f50\u7684\u8868\u683c"
     ]
    },
    {
     "cell_type": "code",
     "collapsed": false,
     "input": [
      "from prettytable import PrettyTable\n",
      "\n",
      "\n",
      "pt = PrettyTable(field_names=['Year', 'Month', 'Num Msgs'])\n",
      "pt.align['Num Msgs'], pt.align['Month'] = 'r', 'r'\n",
      "[ pt.add_row([ result['_id']['year'], result['_id']['month'], result['num_msgs'] ]) \n",
      "  for result in results['result'] ]\n",
      "\n",
      "print pt"
     ],
     "language": "python",
     "metadata": {},
     "outputs": [
      {
       "ename": "NameError",
       "evalue": "name 'results' is not defined",
       "output_type": "pyerr",
       "traceback": [
        "\u001b[1;31m---------------------------------------------------------------------------\u001b[0m\n\u001b[1;31mNameError\u001b[0m                                 Traceback (most recent call last)",
        "\u001b[1;32m<ipython-input-17-8bcb2a0bd1ea>\u001b[0m in \u001b[0;36m<module>\u001b[1;34m()\u001b[0m\n\u001b[0;32m      5\u001b[0m \u001b[0mpt\u001b[0m\u001b[1;33m.\u001b[0m\u001b[0malign\u001b[0m\u001b[1;33m[\u001b[0m\u001b[1;34m'Num Msgs'\u001b[0m\u001b[1;33m]\u001b[0m\u001b[1;33m,\u001b[0m \u001b[0mpt\u001b[0m\u001b[1;33m.\u001b[0m\u001b[0malign\u001b[0m\u001b[1;33m[\u001b[0m\u001b[1;34m'Month'\u001b[0m\u001b[1;33m]\u001b[0m \u001b[1;33m=\u001b[0m \u001b[1;34m'r'\u001b[0m\u001b[1;33m,\u001b[0m \u001b[1;34m'r'\u001b[0m\u001b[1;33m\u001b[0m\u001b[0m\n\u001b[0;32m      6\u001b[0m [ pt.add_row([ result['_id']['year'], result['_id']['month'], result['num_msgs'] ]) \n\u001b[1;32m----> 7\u001b[1;33m   for result in results['result'] ]\n\u001b[0m\u001b[0;32m      8\u001b[0m \u001b[1;33m\u001b[0m\u001b[0m\n\u001b[0;32m      9\u001b[0m \u001b[1;32mprint\u001b[0m \u001b[0mpt\u001b[0m\u001b[1;33m\u001b[0m\u001b[0m\n",
        "\u001b[1;31mNameError\u001b[0m: name 'results' is not defined"
       ]
      }
     ],
     "prompt_number": 17
    },
    {
     "cell_type": "heading",
     "level": 1,
     "metadata": {},
     "source": [
      "Example 17. \u901a\u8fc7Xoauth\u8fde\u63a5Gmail"
     ]
    },
    {
     "cell_type": "raw",
     "metadata": {},
     "source": [
      "1.Gmail\u8d26\u6237\u4e2d\uff0c\u201cForwarding and POP/IMAP\u201d----->Enable IMAP\n",
      "2.Google Mail Xoauth\n",
      "    \u4f7f\u7528xoauth.py\u547d\u4ee4\u884c\u5de5\u5177,\u6839\u636e\u6307\u793a\u751f\u6210\u533f\u540d\u7528\u6237\u7684OAuth token\u548csecret\n",
      "3.pip install oauth2"
     ]
    },
    {
     "cell_type": "code",
     "collapsed": false,
     "input": [
      "import sys\n",
      "import oauth2 as oauth\n",
      "import oauth2.clients.imap as imaplib\n",
      "\n",
      "# See http://code.google.com/p/google-mail-xoauth-tools/wiki/\n",
      "# XoauthDotPyRunThrough for details on obtaining and\n",
      "# running xoauth.py to get the credentials\n",
      "\n",
      "OAUTH_TOKEN = ''  # XXX: Obtained with xoauth.py\n",
      "OAUTH_TOKEN_SECRET = ''  # XXX: Obtained with xoauth.py\n",
      "GMAIL_ACCOUNT = ''  # XXX: Your Gmail address - example@gmail.com\n",
      "\n",
      "url = 'https://mail.google.com/mail/b/%s/imap/' % (GMAIL_ACCOUNT, )\n",
      "\n",
      "# Standard values for Gmail's Xoauth\n",
      "consumer = oauth.Consumer('anonymous', 'anonymous')  \n",
      "token = oauth.Token(OAUTH_TOKEN, OAUTH_TOKEN_SECRET)\n",
      "\n",
      "conn = imaplib.IMAP4_SSL('imap.googlemail.com')\n",
      "conn.debug = 4  # Set to the desired debug level\n",
      "conn.authenticate(url, consumer, token)\n",
      "\n",
      "conn.select('INBOX')\n",
      "\n",
      "# Access your INBOX data"
     ],
     "language": "python",
     "metadata": {},
     "outputs": []
    }
   ],
   "metadata": {}
  }
 ]
}