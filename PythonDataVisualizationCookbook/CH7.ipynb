{
 "metadata": {
  "name": "",
  "signature": "sha256:341799d2f7eab0149bf2d541d01670ddb83dfdde722153cbeafdb52cca1db6ac"
 },
 "nbformat": 3,
 "nbformat_minor": 0,
 "worksheets": [
  {
   "cells": [
    {
     "cell_type": "heading",
     "level": 1,
     "metadata": {},
     "source": [
      "7.2 \u7406\u89e3\u5bf9\u6570\u56fe"
     ]
    },
    {
     "cell_type": "code",
     "collapsed": false,
     "input": [
      "from matplotlib import pyplot as plt\n",
      "import numpy as np\n",
      "'''\n",
      "\u6839\u636e\u7ecf\u9a8c,\u4ee5\u4e0b\u60c5\u51b5\u4f7f\u7528\u5bf9\u6570\u6807\u5ea6\uff1a\n",
      "1.\u5f53\u8981\u5c55\u793a\u7684\u6570\u636e\u7684\u503c\u8de8\u8d8a\u597d\u51e0\u4e2a\u91cf\u7ea7\u65f6\n",
      "2.\u5f53\u8981\u5c55\u793a\u7684\u6570\u636e\u6709\u671d\u5411\u5927\u503c(\u4e00\u4e9b\u6570\u636e\u70b9\u6bd4\u5176\u4ed6\u6570\u636e\u5927\u5f88\u591a)\u7684\u503e\u659c\u5ea6\u3002\n",
      "3.\u5f53\u8981\u5c55\u793a\u53d8\u5316\u7387(\u589e\u957f\u7387),\u800c\u4e0d\u662f\u503c\u7684\u53d8\u5316\n",
      "'''\n",
      "x = np.linspace(1, 10)\n",
      "y = [10 ** el for el in x]  #\n",
      "z = [2 * el for el in x]    \n",
      "\n",
      "fig = plt.figure(figsize=(10, 8))\n",
      "\n",
      "ax1 = fig.add_subplot(2, 2, 1)\n",
      "ax1.plot(x, y, color='blue')\n",
      "ax1.set_yscale('log')   #\u5bf9\u6570\u6807\u5ea6\n",
      "ax1.set_title(r'Logarithmic plot of $ {10}^{x} $ ')\n",
      "ax1.set_ylabel(r'$ {y} = {10}^{x} $')\n",
      "plt.grid(b=True, which='both', axis='both')\n",
      "\n",
      "\n",
      "ax2 = fig.add_subplot(2, 2, 2)\n",
      "ax2.plot(x, y, color='red')\n",
      "ax2.set_yscale('linear')    #\u7ebf\u6027\u6807\u5ea6\n",
      "ax2.set_title(r'Linear plot of $ {10}^{x} $ ')\n",
      "ax2.set_ylabel(r'$ {y} = {10}^{x} $')\n",
      "plt.grid(b=True, which='both', axis='both')\n",
      "\n",
      "\n",
      "ax3 = fig.add_subplot(2, 2, 3)\n",
      "ax3.plot(x, z, color='green')\n",
      "ax3.set_yscale('log')  #\u5bf9\u6570\u6807\u5ea6\n",
      "ax3.set_title(r'Logarithmic plot of $ {2}*{x} $ ')\n",
      "ax3.set_ylabel(r'$ {y} = {2}*{x} $')\n",
      "plt.grid(b=True, which='both', axis='both')\n",
      "\n",
      "ax4 = fig.add_subplot(2, 2, 4)\n",
      "ax4.plot(x, z, color='magenta')\n",
      "ax4.set_yscale('linear')    #\u7ebf\u6027\u6807\u5ea6\n",
      "ax4.set_title(r'Linear plot of $ {2}*{x} $ ')\n",
      "ax4.set_ylabel(r'$ {y} = {2}*{x} $')\n",
      "plt.grid(b=True, which='both', axis='both') \n",
      "plt.show()"
     ],
     "language": "python",
     "metadata": {},
     "outputs": [
      {
       "ename": "ImportError",
       "evalue": "DLL load failed: %1 is not a valid Win32 application.",
       "output_type": "pyerr",
       "traceback": [
        "\u001b[1;31m---------------------------------------------------------------------------\u001b[0m\n\u001b[1;31mImportError\u001b[0m                               Traceback (most recent call last)",
        "\u001b[1;32m<ipython-input-1-92fac82cc696>\u001b[0m in \u001b[0;36m<module>\u001b[1;34m()\u001b[0m\n\u001b[1;32m----> 1\u001b[1;33m \u001b[1;32mfrom\u001b[0m \u001b[0mmatplotlib\u001b[0m \u001b[1;32mimport\u001b[0m \u001b[0mpyplot\u001b[0m \u001b[1;32mas\u001b[0m \u001b[0mplt\u001b[0m\u001b[1;33m\u001b[0m\u001b[0m\n\u001b[0m\u001b[0;32m      2\u001b[0m \u001b[1;32mimport\u001b[0m \u001b[0mnumpy\u001b[0m \u001b[1;32mas\u001b[0m \u001b[0mnp\u001b[0m\u001b[1;33m\u001b[0m\u001b[0m\n\u001b[0;32m      3\u001b[0m '''\n\u001b[0;32m      4\u001b[0m \u001b[0;31m\u6839\u001b[0m\u001b[0;31m\u636e\u001b[0m\u001b[0;31m\u7ecf\u001b[0m\u001b[0;31m\u9a8c\u001b[0m\u001b[1;33m,\u001b[0m\u001b[0;31m\u4ee5\u001b[0m\u001b[0;31m\u4e0b\u001b[0m\u001b[0;31m\u60c5\u001b[0m\u001b[0;31m\u51b5\u001b[0m\u001b[0;31m\u4f7f\u001b[0m\u001b[0;31m\u7528\u001b[0m\u001b[0;31m\u5bf9\u001b[0m\u001b[0;31m\u6570\u001b[0m\u001b[0;31m\u6807\u001b[0m\u001b[0;31m\u5ea6\u001b[0m\u001b[0;31m\uff1a\u001b[0m\u001b[1;33m\u001b[0m\u001b[0m\n\u001b[0;32m      5\u001b[0m \u001b[1;36m1.\u001b[0m\u001b[0;31m\u5f53\u001b[0m\u001b[0;31m\u8981\u001b[0m\u001b[0;31m\u5c55\u001b[0m\u001b[0;31m\u793a\u001b[0m\u001b[0;31m\u7684\u001b[0m\u001b[0;31m\u6570\u001b[0m\u001b[0;31m\u636e\u001b[0m\u001b[0;31m\u7684\u001b[0m\u001b[0;31m\u503c\u001b[0m\u001b[0;31m\u8de8\u001b[0m\u001b[0;31m\u8d8a\u001b[0m\u001b[0;31m\u597d\u001b[0m\u001b[0;31m\u51e0\u001b[0m\u001b[0;31m\u4e2a\u001b[0m\u001b[0;31m\u91cf\u001b[0m\u001b[0;31m\u7ea7\u001b[0m\u001b[0;31m\u65f6\u001b[0m\u001b[1;33m\u001b[0m\u001b[0m\n",
        "\u001b[1;32mC:\\Python27\\lib\\site-packages\\matplotlib\\pyplot.py\u001b[0m in \u001b[0;36m<module>\u001b[1;34m()\u001b[0m\n\u001b[0;32m    107\u001b[0m \u001b[1;33m\u001b[0m\u001b[0m\n\u001b[0;32m    108\u001b[0m \u001b[1;32mfrom\u001b[0m \u001b[0mmatplotlib\u001b[0m\u001b[1;33m.\u001b[0m\u001b[0mbackends\u001b[0m \u001b[1;32mimport\u001b[0m \u001b[0mpylab_setup\u001b[0m\u001b[1;33m\u001b[0m\u001b[0m\n\u001b[1;32m--> 109\u001b[1;33m \u001b[0m_backend_mod\u001b[0m\u001b[1;33m,\u001b[0m \u001b[0mnew_figure_manager\u001b[0m\u001b[1;33m,\u001b[0m \u001b[0mdraw_if_interactive\u001b[0m\u001b[1;33m,\u001b[0m \u001b[0m_show\u001b[0m \u001b[1;33m=\u001b[0m \u001b[0mpylab_setup\u001b[0m\u001b[1;33m(\u001b[0m\u001b[1;33m)\u001b[0m\u001b[1;33m\u001b[0m\u001b[0m\n\u001b[0m\u001b[0;32m    110\u001b[0m \u001b[1;33m\u001b[0m\u001b[0m\n\u001b[0;32m    111\u001b[0m \u001b[1;33m\u001b[0m\u001b[0m\n",
        "\u001b[1;32mC:\\Python27\\lib\\site-packages\\matplotlib\\backends\\__init__.py\u001b[0m in \u001b[0;36mpylab_setup\u001b[1;34m()\u001b[0m\n\u001b[0;32m     30\u001b[0m     \u001b[1;31m# imports. 0 means only perform absolute imports.\u001b[0m\u001b[1;33m\u001b[0m\u001b[1;33m\u001b[0m\u001b[0m\n\u001b[0;32m     31\u001b[0m     backend_mod = __import__(backend_name,\n\u001b[1;32m---> 32\u001b[1;33m                              globals(),locals(),[backend_name],0)\n\u001b[0m\u001b[0;32m     33\u001b[0m \u001b[1;33m\u001b[0m\u001b[0m\n\u001b[0;32m     34\u001b[0m     \u001b[1;31m# Things we pull in from all backends\u001b[0m\u001b[1;33m\u001b[0m\u001b[1;33m\u001b[0m\u001b[0m\n",
        "\u001b[1;32mC:\\Python27\\lib\\site-packages\\matplotlib\\backends\\backend_tkagg.py\u001b[0m in \u001b[0;36m<module>\u001b[1;34m()\u001b[0m\n\u001b[0;32m     11\u001b[0m \u001b[1;33m\u001b[0m\u001b[0m\n\u001b[0;32m     12\u001b[0m \u001b[1;31m# Paint image to Tk photo blitter extension\u001b[0m\u001b[1;33m\u001b[0m\u001b[1;33m\u001b[0m\u001b[0m\n\u001b[1;32m---> 13\u001b[1;33m \u001b[1;32mimport\u001b[0m \u001b[0mmatplotlib\u001b[0m\u001b[1;33m.\u001b[0m\u001b[0mbackends\u001b[0m\u001b[1;33m.\u001b[0m\u001b[0mtkagg\u001b[0m \u001b[1;32mas\u001b[0m \u001b[0mtkagg\u001b[0m\u001b[1;33m\u001b[0m\u001b[0m\n\u001b[0m\u001b[0;32m     14\u001b[0m \u001b[1;33m\u001b[0m\u001b[0m\n\u001b[0;32m     15\u001b[0m \u001b[1;32mfrom\u001b[0m \u001b[0mmatplotlib\u001b[0m\u001b[1;33m.\u001b[0m\u001b[0mbackends\u001b[0m\u001b[1;33m.\u001b[0m\u001b[0mbackend_agg\u001b[0m \u001b[1;32mimport\u001b[0m \u001b[0mFigureCanvasAgg\u001b[0m\u001b[1;33m\u001b[0m\u001b[0m\n",
        "\u001b[1;32mC:\\Python27\\lib\\site-packages\\matplotlib\\backends\\tkagg.py\u001b[0m in \u001b[0;36m<module>\u001b[1;34m()\u001b[0m\n\u001b[0;32m      5\u001b[0m \u001b[1;32mfrom\u001b[0m \u001b[0msix\u001b[0m\u001b[1;33m.\u001b[0m\u001b[0mmoves\u001b[0m \u001b[1;32mimport\u001b[0m \u001b[0mtkinter\u001b[0m \u001b[1;32mas\u001b[0m \u001b[0mTk\u001b[0m\u001b[1;33m\u001b[0m\u001b[0m\n\u001b[0;32m      6\u001b[0m \u001b[1;33m\u001b[0m\u001b[0m\n\u001b[1;32m----> 7\u001b[1;33m \u001b[1;32mfrom\u001b[0m \u001b[0mmatplotlib\u001b[0m\u001b[1;33m.\u001b[0m\u001b[0mbackends\u001b[0m \u001b[1;32mimport\u001b[0m \u001b[0m_tkagg\u001b[0m\u001b[1;33m\u001b[0m\u001b[0m\n\u001b[0m\u001b[0;32m      8\u001b[0m \u001b[1;33m\u001b[0m\u001b[0m\n\u001b[0;32m      9\u001b[0m \u001b[1;32mdef\u001b[0m \u001b[0mblit\u001b[0m\u001b[1;33m(\u001b[0m\u001b[0mphotoimage\u001b[0m\u001b[1;33m,\u001b[0m \u001b[0maggimage\u001b[0m\u001b[1;33m,\u001b[0m \u001b[0mbbox\u001b[0m\u001b[1;33m=\u001b[0m\u001b[0mNone\u001b[0m\u001b[1;33m,\u001b[0m \u001b[0mcolormode\u001b[0m\u001b[1;33m=\u001b[0m\u001b[1;36m1\u001b[0m\u001b[1;33m)\u001b[0m\u001b[1;33m:\u001b[0m\u001b[1;33m\u001b[0m\u001b[0m\n",
        "\u001b[1;31mImportError\u001b[0m: DLL load failed: %1 is not a valid Win32 application."
       ]
      }
     ],
     "prompt_number": 1
    },
    {
     "cell_type": "heading",
     "level": 1,
     "metadata": {},
     "source": [
      "7.3 \u7406\u89e3\u9891\u8c31\u56fe"
     ]
    },
    {
     "cell_type": "raw",
     "metadata": {},
     "source": [
      "\u5b89\u88c5libsndfile1\u7cfb\u7edf\u5e93\u6765\u8bfb/\u5199\u97f3\u9891\u6587\u4ef6\n",
      "sudu apt-get install libasound1-dev\n",
      "sudu apt-get install libasound2-dev\n",
      "pip install scikits.audiolab"
     ]
    },
    {
     "cell_type": "code",
     "collapsed": false,
     "input": [
      "import os\n",
      "from math import floor, log\n",
      "\n",
      "from scikits.audiolab import Sndfile\n",
      "import numpy as np\n",
      "from matplotlib import pyplot as plt\n",
      "\n",
      "soundfile = Sndfile(\"ch7/test.wav\")\n",
      "\n",
      "\n",
      "samplerate = soundfile.samplerate\n",
      "start_sec = 0\n",
      "stop_sec  = 5\n",
      "start_frame = start_sec * soundfile.samplerate\n",
      "stop_frame  = stop_sec * soundfile.samplerate\n",
      "\n",
      "soundfile.seek(start_frame)\n",
      "\n",
      "delta_frames = stop_frame - start_frame\n",
      "sample = soundfile.read_frames(delta_frames)\n",
      "\n",
      "map = 'CMRmap'\n",
      "\n",
      "fig = plt.figure(figsize=(10, 6), )\n",
      "ax = fig.add_subplot(111)\n",
      "\n",
      "NFFT = 128\n",
      "noverlap = 65\n",
      "\n",
      "pxx,  freq, t, cax = ax.specgram(sample, Fs=soundfile.samplerate,\n",
      "                                 NFFT=NFFT, noverlap=noverlap,\n",
      "                                 cmap=plt.get_cmap(map))\n",
      "plt.colorbar(cax)\n",
      "plt.xlabel(\"Times [sec]\")\n",
      "plt.ylabel(\"Frequency [Hz]\")\n",
      "\n",
      "plt.show()"
     ],
     "language": "python",
     "metadata": {},
     "outputs": [
      {
       "ename": "ImportError",
       "evalue": "No module named scikits.audiolab",
       "output_type": "pyerr",
       "traceback": [
        "\u001b[1;31m---------------------------------------------------------------------------\u001b[0m\n\u001b[1;31mImportError\u001b[0m                               Traceback (most recent call last)",
        "\u001b[1;32m<ipython-input-2-3f4be4ace642>\u001b[0m in \u001b[0;36m<module>\u001b[1;34m()\u001b[0m\n\u001b[0;32m      2\u001b[0m \u001b[1;32mfrom\u001b[0m \u001b[0mmath\u001b[0m \u001b[1;32mimport\u001b[0m \u001b[0mfloor\u001b[0m\u001b[1;33m,\u001b[0m \u001b[0mlog\u001b[0m\u001b[1;33m\u001b[0m\u001b[0m\n\u001b[0;32m      3\u001b[0m \u001b[1;33m\u001b[0m\u001b[0m\n\u001b[1;32m----> 4\u001b[1;33m \u001b[1;32mfrom\u001b[0m \u001b[0mscikits\u001b[0m\u001b[1;33m.\u001b[0m\u001b[0maudiolab\u001b[0m \u001b[1;32mimport\u001b[0m \u001b[0mSndfile\u001b[0m\u001b[1;33m\u001b[0m\u001b[0m\n\u001b[0m\u001b[0;32m      5\u001b[0m \u001b[1;32mimport\u001b[0m \u001b[0mnumpy\u001b[0m \u001b[1;32mas\u001b[0m \u001b[0mnp\u001b[0m\u001b[1;33m\u001b[0m\u001b[0m\n\u001b[0;32m      6\u001b[0m \u001b[1;32mfrom\u001b[0m \u001b[0mmatplotlib\u001b[0m \u001b[1;32mimport\u001b[0m \u001b[0mpyplot\u001b[0m \u001b[1;32mas\u001b[0m \u001b[0mplt\u001b[0m\u001b[1;33m\u001b[0m\u001b[0m\n",
        "\u001b[1;31mImportError\u001b[0m: No module named scikits.audiolab"
       ]
      }
     ],
     "prompt_number": 2
    },
    {
     "cell_type": "code",
     "collapsed": false,
     "input": [
      "import numpy\n",
      "import matplotlib.pyplot as plt\n",
      "\n",
      "\n",
      "\n",
      "def _get_mask(t, t1, t2, lvl_pos, lvl_neg):\n",
      "    if t1 >= t2:\n",
      "        raise ValueError(\"t1 must be less than t2\")\n",
      "\n",
      "    return numpy.where(numpy.logical_and(t > t1, t < t2), lvl_pos, lvl_neg)\n",
      "\n",
      "\n",
      "def generate_signal(t):\n",
      "    sin1 = numpy.sin(2 * numpy.pi * 100 * t)\n",
      "    sin2 = 2 * numpy.sin(2 * numpy.pi * 200 * t)\n",
      "\n",
      "    # add interval of high pitched signal\n",
      "    masks = _get_mask(t, 2, 4, 1.0, 0.0) + \\\n",
      "            _get_mask(t, 14, 15, 1.0, 0.0) \n",
      "    sin2 = sin2 * masks\n",
      "\n",
      "    noise = 0.02 * numpy.random.randn(len(t))\n",
      "    final_signal = sin1 + sin2 + noise\n",
      "    return final_signal\n",
      "\n",
      "\n",
      "if __name__ == '__main__':\n",
      "    step = 0.001\n",
      "    sampling_freq=1000\n",
      "    t = numpy.arange(0.0, 20.0, step)\n",
      "    y = generate_signal(t)\n",
      "\n",
      "    # we can visualize this now\n",
      "    # in time \n",
      "    ax1 = plt.subplot(211)\n",
      "    plt.plot(t, y)\n",
      "    # and in frequency\n",
      "    plt.subplot(212)\n",
      "    plt.specgram(y, NFFT=1024, noverlap=900,\n",
      "        Fs=sampling_freq, cmap=plt.cm.gist_heat)\n",
      "    plt.show()"
     ],
     "language": "python",
     "metadata": {},
     "outputs": []
    },
    {
     "cell_type": "heading",
     "level": 1,
     "metadata": {},
     "source": [
      "7.4 \u521b\u5efa\u706b\u67f4\u6746\u56fe"
     ]
    },
    {
     "cell_type": "code",
     "collapsed": false,
     "input": [
      "import matplotlib.pyplot as plt\n",
      "import numpy as np \n",
      "x = np.linspace(0, 20, 50) \n",
      "y = np.sin(x + 1) + np.cos(x ** 2) \n",
      "bottom = -0.1 # \u57fa\u7ebf\u4f4d\u7f6e\n",
      "# True,hold current axes for further plotting\n",
      "# False,opposite. clear and use new figure/plot \n",
      "hold = False   #\u628a\u6240\u6709\u5f53\u524d\u56fe\u5f62\u653e\u5728\u5f53\u524d\u5750\u6807\u8f74\u4e0a\n",
      "label = \"delta\" #\u8bbe\u7f6e\u706b\u67f4\u6760\u56fe\u56fe\u4f8b\n",
      "'''\n",
      "    markerline:\u4fdd\u5b58\u4e86\u8868\u793a\u706b\u67f4\u6746\u672c\u8eab\u7684\u7ebf\u6761\u5f15\u7528,\u4ec5\u6e32\u67d3\u4e86\u6807\u8bb0,\u4e0d\u5305\u62ec\u8fde\u63a5\u6807\u8bb0\u7684\u7ebf\u6761\n",
      "    stemlines:\u4fdd\u5b58\u4e86\u8868\u793astemlines\u539f\u70b9\u7684\u6c34\u5e73\u7ebf\u6761\u7684\u5f15\u7528\u3002\n",
      "    baseline:\u8868\u793a\u830e\u7ebf\u7684\u96c6\u5408\n",
      "'''\n",
      "markerline, stemlines, baseline = plt.stem(x, y, bottom=bottom,label=label, hold=hold) \n",
      "plt.setp(markerline, color='red', marker='o') \n",
      "plt.setp(stemlines, color='blue', linestyle=':')\n",
      "plt.setp(baseline, color='grey', linewidth=2, linestyle='-')\n",
      "# draw a legend\n",
      "plt.legend()\n",
      "plt.show()\n"
     ],
     "language": "python",
     "metadata": {},
     "outputs": [
      {
       "ename": "ImportError",
       "evalue": "DLL load failed: %1 is not a valid Win32 application.",
       "output_type": "pyerr",
       "traceback": [
        "\u001b[1;31m---------------------------------------------------------------------------\u001b[0m\n\u001b[1;31mImportError\u001b[0m                               Traceback (most recent call last)",
        "\u001b[1;32m<ipython-input-3-9356ac27e40d>\u001b[0m in \u001b[0;36m<module>\u001b[1;34m()\u001b[0m\n\u001b[1;32m----> 1\u001b[1;33m \u001b[1;32mimport\u001b[0m \u001b[0mmatplotlib\u001b[0m\u001b[1;33m.\u001b[0m\u001b[0mpyplot\u001b[0m \u001b[1;32mas\u001b[0m \u001b[0mplt\u001b[0m\u001b[1;33m\u001b[0m\u001b[0m\n\u001b[0m\u001b[0;32m      2\u001b[0m \u001b[1;32mimport\u001b[0m \u001b[0mnumpy\u001b[0m \u001b[1;32mas\u001b[0m \u001b[0mnp\u001b[0m\u001b[1;33m\u001b[0m\u001b[0m\n\u001b[0;32m      3\u001b[0m \u001b[0mx\u001b[0m \u001b[1;33m=\u001b[0m \u001b[0mnp\u001b[0m\u001b[1;33m.\u001b[0m\u001b[0mlinspace\u001b[0m\u001b[1;33m(\u001b[0m\u001b[1;36m0\u001b[0m\u001b[1;33m,\u001b[0m \u001b[1;36m20\u001b[0m\u001b[1;33m,\u001b[0m \u001b[1;36m50\u001b[0m\u001b[1;33m)\u001b[0m\u001b[1;33m\u001b[0m\u001b[0m\n\u001b[0;32m      4\u001b[0m \u001b[0my\u001b[0m \u001b[1;33m=\u001b[0m \u001b[0mnp\u001b[0m\u001b[1;33m.\u001b[0m\u001b[0msin\u001b[0m\u001b[1;33m(\u001b[0m\u001b[0mx\u001b[0m \u001b[1;33m+\u001b[0m \u001b[1;36m1\u001b[0m\u001b[1;33m)\u001b[0m \u001b[1;33m+\u001b[0m \u001b[0mnp\u001b[0m\u001b[1;33m.\u001b[0m\u001b[0mcos\u001b[0m\u001b[1;33m(\u001b[0m\u001b[0mx\u001b[0m \u001b[1;33m**\u001b[0m \u001b[1;36m2\u001b[0m\u001b[1;33m)\u001b[0m\u001b[1;33m\u001b[0m\u001b[0m\n\u001b[0;32m      5\u001b[0m \u001b[0mbottom\u001b[0m \u001b[1;33m=\u001b[0m \u001b[1;33m-\u001b[0m\u001b[1;36m0.1\u001b[0m \u001b[1;31m# \u57fa\u7ebf\u4f4d\u7f6e\u001b[0m\u001b[1;33m\u001b[0m\u001b[0m\n",
        "\u001b[1;32mC:\\Python27\\lib\\site-packages\\matplotlib\\pyplot.py\u001b[0m in \u001b[0;36m<module>\u001b[1;34m()\u001b[0m\n\u001b[0;32m    107\u001b[0m \u001b[1;33m\u001b[0m\u001b[0m\n\u001b[0;32m    108\u001b[0m \u001b[1;32mfrom\u001b[0m \u001b[0mmatplotlib\u001b[0m\u001b[1;33m.\u001b[0m\u001b[0mbackends\u001b[0m \u001b[1;32mimport\u001b[0m \u001b[0mpylab_setup\u001b[0m\u001b[1;33m\u001b[0m\u001b[0m\n\u001b[1;32m--> 109\u001b[1;33m \u001b[0m_backend_mod\u001b[0m\u001b[1;33m,\u001b[0m \u001b[0mnew_figure_manager\u001b[0m\u001b[1;33m,\u001b[0m \u001b[0mdraw_if_interactive\u001b[0m\u001b[1;33m,\u001b[0m \u001b[0m_show\u001b[0m \u001b[1;33m=\u001b[0m \u001b[0mpylab_setup\u001b[0m\u001b[1;33m(\u001b[0m\u001b[1;33m)\u001b[0m\u001b[1;33m\u001b[0m\u001b[0m\n\u001b[0m\u001b[0;32m    110\u001b[0m \u001b[1;33m\u001b[0m\u001b[0m\n\u001b[0;32m    111\u001b[0m \u001b[1;33m\u001b[0m\u001b[0m\n",
        "\u001b[1;32mC:\\Python27\\lib\\site-packages\\matplotlib\\backends\\__init__.py\u001b[0m in \u001b[0;36mpylab_setup\u001b[1;34m()\u001b[0m\n\u001b[0;32m     30\u001b[0m     \u001b[1;31m# imports. 0 means only perform absolute imports.\u001b[0m\u001b[1;33m\u001b[0m\u001b[1;33m\u001b[0m\u001b[0m\n\u001b[0;32m     31\u001b[0m     backend_mod = __import__(backend_name,\n\u001b[1;32m---> 32\u001b[1;33m                              globals(),locals(),[backend_name],0)\n\u001b[0m\u001b[0;32m     33\u001b[0m \u001b[1;33m\u001b[0m\u001b[0m\n\u001b[0;32m     34\u001b[0m     \u001b[1;31m# Things we pull in from all backends\u001b[0m\u001b[1;33m\u001b[0m\u001b[1;33m\u001b[0m\u001b[0m\n",
        "\u001b[1;32mC:\\Python27\\lib\\site-packages\\matplotlib\\backends\\backend_tkagg.py\u001b[0m in \u001b[0;36m<module>\u001b[1;34m()\u001b[0m\n\u001b[0;32m     11\u001b[0m \u001b[1;33m\u001b[0m\u001b[0m\n\u001b[0;32m     12\u001b[0m \u001b[1;31m# Paint image to Tk photo blitter extension\u001b[0m\u001b[1;33m\u001b[0m\u001b[1;33m\u001b[0m\u001b[0m\n\u001b[1;32m---> 13\u001b[1;33m \u001b[1;32mimport\u001b[0m \u001b[0mmatplotlib\u001b[0m\u001b[1;33m.\u001b[0m\u001b[0mbackends\u001b[0m\u001b[1;33m.\u001b[0m\u001b[0mtkagg\u001b[0m \u001b[1;32mas\u001b[0m \u001b[0mtkagg\u001b[0m\u001b[1;33m\u001b[0m\u001b[0m\n\u001b[0m\u001b[0;32m     14\u001b[0m \u001b[1;33m\u001b[0m\u001b[0m\n\u001b[0;32m     15\u001b[0m \u001b[1;32mfrom\u001b[0m \u001b[0mmatplotlib\u001b[0m\u001b[1;33m.\u001b[0m\u001b[0mbackends\u001b[0m\u001b[1;33m.\u001b[0m\u001b[0mbackend_agg\u001b[0m \u001b[1;32mimport\u001b[0m \u001b[0mFigureCanvasAgg\u001b[0m\u001b[1;33m\u001b[0m\u001b[0m\n",
        "\u001b[1;32mC:\\Python27\\lib\\site-packages\\matplotlib\\backends\\tkagg.py\u001b[0m in \u001b[0;36m<module>\u001b[1;34m()\u001b[0m\n\u001b[0;32m      5\u001b[0m \u001b[1;32mfrom\u001b[0m \u001b[0msix\u001b[0m\u001b[1;33m.\u001b[0m\u001b[0mmoves\u001b[0m \u001b[1;32mimport\u001b[0m \u001b[0mtkinter\u001b[0m \u001b[1;32mas\u001b[0m \u001b[0mTk\u001b[0m\u001b[1;33m\u001b[0m\u001b[0m\n\u001b[0;32m      6\u001b[0m \u001b[1;33m\u001b[0m\u001b[0m\n\u001b[1;32m----> 7\u001b[1;33m \u001b[1;32mfrom\u001b[0m \u001b[0mmatplotlib\u001b[0m\u001b[1;33m.\u001b[0m\u001b[0mbackends\u001b[0m \u001b[1;32mimport\u001b[0m \u001b[0m_tkagg\u001b[0m\u001b[1;33m\u001b[0m\u001b[0m\n\u001b[0m\u001b[0;32m      8\u001b[0m \u001b[1;33m\u001b[0m\u001b[0m\n\u001b[0;32m      9\u001b[0m \u001b[1;32mdef\u001b[0m \u001b[0mblit\u001b[0m\u001b[1;33m(\u001b[0m\u001b[0mphotoimage\u001b[0m\u001b[1;33m,\u001b[0m \u001b[0maggimage\u001b[0m\u001b[1;33m,\u001b[0m \u001b[0mbbox\u001b[0m\u001b[1;33m=\u001b[0m\u001b[0mNone\u001b[0m\u001b[1;33m,\u001b[0m \u001b[0mcolormode\u001b[0m\u001b[1;33m=\u001b[0m\u001b[1;36m1\u001b[0m\u001b[1;33m)\u001b[0m\u001b[1;33m:\u001b[0m\u001b[1;33m\u001b[0m\u001b[0m\n",
        "\u001b[1;31mImportError\u001b[0m: DLL load failed: %1 is not a valid Win32 application."
       ]
      }
     ],
     "prompt_number": 3
    },
    {
     "cell_type": "heading",
     "level": 1,
     "metadata": {},
     "source": [
      "7.5 \u7ed8\u5236\u77e2\u91cf\u573a\u6d41\u7ebf\u56fe"
     ]
    },
    {
     "cell_type": "code",
     "collapsed": false,
     "input": [
      "import matplotlib.pyplot as plt\n",
      "import numpy as np\n",
      "\n",
      "Y, X = np.mgrid[0:5:100j, 0:5:100j]\n",
      "U = X # np.sin(X) \n",
      "V = Y # np.sin(Y) \n",
      "from pprint import pprint\n",
      "print \"X\"\n",
      "pprint(X)\n",
      "\n",
      "print \"Y\"\n",
      "pprint(Y) \n",
      "plt.streamplot(X, Y, U, V) \n",
      "plt.show()"
     ],
     "language": "python",
     "metadata": {},
     "outputs": [
      {
       "ename": "ImportError",
       "evalue": "DLL load failed: %1 is not a valid Win32 application.",
       "output_type": "pyerr",
       "traceback": [
        "\u001b[1;31m---------------------------------------------------------------------------\u001b[0m\n\u001b[1;31mImportError\u001b[0m                               Traceback (most recent call last)",
        "\u001b[1;32m<ipython-input-4-60c6944df6ea>\u001b[0m in \u001b[0;36m<module>\u001b[1;34m()\u001b[0m\n\u001b[1;32m----> 1\u001b[1;33m \u001b[1;32mimport\u001b[0m \u001b[0mmatplotlib\u001b[0m\u001b[1;33m.\u001b[0m\u001b[0mpyplot\u001b[0m \u001b[1;32mas\u001b[0m \u001b[0mplt\u001b[0m\u001b[1;33m\u001b[0m\u001b[0m\n\u001b[0m\u001b[0;32m      2\u001b[0m \u001b[1;32mimport\u001b[0m \u001b[0mnumpy\u001b[0m \u001b[1;32mas\u001b[0m \u001b[0mnp\u001b[0m\u001b[1;33m\u001b[0m\u001b[0m\n\u001b[0;32m      3\u001b[0m \u001b[1;33m\u001b[0m\u001b[0m\n\u001b[0;32m      4\u001b[0m \u001b[0mY\u001b[0m\u001b[1;33m,\u001b[0m \u001b[0mX\u001b[0m \u001b[1;33m=\u001b[0m \u001b[0mnp\u001b[0m\u001b[1;33m.\u001b[0m\u001b[0mmgrid\u001b[0m\u001b[1;33m[\u001b[0m\u001b[1;36m0\u001b[0m\u001b[1;33m:\u001b[0m\u001b[1;36m5\u001b[0m\u001b[1;33m:\u001b[0m\u001b[1;36m100j\u001b[0m\u001b[1;33m,\u001b[0m \u001b[1;36m0\u001b[0m\u001b[1;33m:\u001b[0m\u001b[1;36m5\u001b[0m\u001b[1;33m:\u001b[0m\u001b[1;36m100j\u001b[0m\u001b[1;33m]\u001b[0m\u001b[1;33m\u001b[0m\u001b[0m\n\u001b[0;32m      5\u001b[0m \u001b[0mU\u001b[0m \u001b[1;33m=\u001b[0m \u001b[0mX\u001b[0m \u001b[1;31m# np.sin(X)\u001b[0m\u001b[1;33m\u001b[0m\u001b[0m\n",
        "\u001b[1;32mC:\\Python27\\lib\\site-packages\\matplotlib\\pyplot.py\u001b[0m in \u001b[0;36m<module>\u001b[1;34m()\u001b[0m\n\u001b[0;32m    107\u001b[0m \u001b[1;33m\u001b[0m\u001b[0m\n\u001b[0;32m    108\u001b[0m \u001b[1;32mfrom\u001b[0m \u001b[0mmatplotlib\u001b[0m\u001b[1;33m.\u001b[0m\u001b[0mbackends\u001b[0m \u001b[1;32mimport\u001b[0m \u001b[0mpylab_setup\u001b[0m\u001b[1;33m\u001b[0m\u001b[0m\n\u001b[1;32m--> 109\u001b[1;33m \u001b[0m_backend_mod\u001b[0m\u001b[1;33m,\u001b[0m \u001b[0mnew_figure_manager\u001b[0m\u001b[1;33m,\u001b[0m \u001b[0mdraw_if_interactive\u001b[0m\u001b[1;33m,\u001b[0m \u001b[0m_show\u001b[0m \u001b[1;33m=\u001b[0m \u001b[0mpylab_setup\u001b[0m\u001b[1;33m(\u001b[0m\u001b[1;33m)\u001b[0m\u001b[1;33m\u001b[0m\u001b[0m\n\u001b[0m\u001b[0;32m    110\u001b[0m \u001b[1;33m\u001b[0m\u001b[0m\n\u001b[0;32m    111\u001b[0m \u001b[1;33m\u001b[0m\u001b[0m\n",
        "\u001b[1;32mC:\\Python27\\lib\\site-packages\\matplotlib\\backends\\__init__.py\u001b[0m in \u001b[0;36mpylab_setup\u001b[1;34m()\u001b[0m\n\u001b[0;32m     30\u001b[0m     \u001b[1;31m# imports. 0 means only perform absolute imports.\u001b[0m\u001b[1;33m\u001b[0m\u001b[1;33m\u001b[0m\u001b[0m\n\u001b[0;32m     31\u001b[0m     backend_mod = __import__(backend_name,\n\u001b[1;32m---> 32\u001b[1;33m                              globals(),locals(),[backend_name],0)\n\u001b[0m\u001b[0;32m     33\u001b[0m \u001b[1;33m\u001b[0m\u001b[0m\n\u001b[0;32m     34\u001b[0m     \u001b[1;31m# Things we pull in from all backends\u001b[0m\u001b[1;33m\u001b[0m\u001b[1;33m\u001b[0m\u001b[0m\n",
        "\u001b[1;32mC:\\Python27\\lib\\site-packages\\matplotlib\\backends\\backend_tkagg.py\u001b[0m in \u001b[0;36m<module>\u001b[1;34m()\u001b[0m\n\u001b[0;32m     11\u001b[0m \u001b[1;33m\u001b[0m\u001b[0m\n\u001b[0;32m     12\u001b[0m \u001b[1;31m# Paint image to Tk photo blitter extension\u001b[0m\u001b[1;33m\u001b[0m\u001b[1;33m\u001b[0m\u001b[0m\n\u001b[1;32m---> 13\u001b[1;33m \u001b[1;32mimport\u001b[0m \u001b[0mmatplotlib\u001b[0m\u001b[1;33m.\u001b[0m\u001b[0mbackends\u001b[0m\u001b[1;33m.\u001b[0m\u001b[0mtkagg\u001b[0m \u001b[1;32mas\u001b[0m \u001b[0mtkagg\u001b[0m\u001b[1;33m\u001b[0m\u001b[0m\n\u001b[0m\u001b[0;32m     14\u001b[0m \u001b[1;33m\u001b[0m\u001b[0m\n\u001b[0;32m     15\u001b[0m \u001b[1;32mfrom\u001b[0m \u001b[0mmatplotlib\u001b[0m\u001b[1;33m.\u001b[0m\u001b[0mbackends\u001b[0m\u001b[1;33m.\u001b[0m\u001b[0mbackend_agg\u001b[0m \u001b[1;32mimport\u001b[0m \u001b[0mFigureCanvasAgg\u001b[0m\u001b[1;33m\u001b[0m\u001b[0m\n",
        "\u001b[1;32mC:\\Python27\\lib\\site-packages\\matplotlib\\backends\\tkagg.py\u001b[0m in \u001b[0;36m<module>\u001b[1;34m()\u001b[0m\n\u001b[0;32m      5\u001b[0m \u001b[1;32mfrom\u001b[0m \u001b[0msix\u001b[0m\u001b[1;33m.\u001b[0m\u001b[0mmoves\u001b[0m \u001b[1;32mimport\u001b[0m \u001b[0mtkinter\u001b[0m \u001b[1;32mas\u001b[0m \u001b[0mTk\u001b[0m\u001b[1;33m\u001b[0m\u001b[0m\n\u001b[0;32m      6\u001b[0m \u001b[1;33m\u001b[0m\u001b[0m\n\u001b[1;32m----> 7\u001b[1;33m \u001b[1;32mfrom\u001b[0m \u001b[0mmatplotlib\u001b[0m\u001b[1;33m.\u001b[0m\u001b[0mbackends\u001b[0m \u001b[1;32mimport\u001b[0m \u001b[0m_tkagg\u001b[0m\u001b[1;33m\u001b[0m\u001b[0m\n\u001b[0m\u001b[0;32m      8\u001b[0m \u001b[1;33m\u001b[0m\u001b[0m\n\u001b[0;32m      9\u001b[0m \u001b[1;32mdef\u001b[0m \u001b[0mblit\u001b[0m\u001b[1;33m(\u001b[0m\u001b[0mphotoimage\u001b[0m\u001b[1;33m,\u001b[0m \u001b[0maggimage\u001b[0m\u001b[1;33m,\u001b[0m \u001b[0mbbox\u001b[0m\u001b[1;33m=\u001b[0m\u001b[0mNone\u001b[0m\u001b[1;33m,\u001b[0m \u001b[0mcolormode\u001b[0m\u001b[1;33m=\u001b[0m\u001b[1;36m1\u001b[0m\u001b[1;33m)\u001b[0m\u001b[1;33m:\u001b[0m\u001b[1;33m\u001b[0m\u001b[0m\n",
        "\u001b[1;31mImportError\u001b[0m: DLL load failed: %1 is not a valid Win32 application."
       ]
      }
     ],
     "prompt_number": 4
    },
    {
     "cell_type": "heading",
     "level": 1,
     "metadata": {},
     "source": [
      "7.6 \u4f7f\u7528\u989c\u8272\u8868"
     ]
    },
    {
     "cell_type": "raw",
     "metadata": {},
     "source": [
      "\u6570\u636e\u6ca1\u6709\u4e0e\u7ea2\u8272/\u7eff\u8272\u6709\u5f88\u5f3a\u7684\u5173\u8054\u65f6,\u8981\u5c3d\u53ef\u80fd\u7684\u907f\u514d\u4f7f\u7528\u8fd9\u4e24\u79cd\u989c\u8272\u3002\n",
      "\u989c\u8272\u8868\uff1a\n",
      "\tSequential:\u8868\u793a\u540c\u4e00\u989c\u8272\u4ece\u4f4e\u9971\u548c\u5ea6\u5230\u9ad8\u9971\u548c\u5ea6\u7684\u4e24\u4e2a\u8272\u8c03\u7684\u5355\u8272\u989c\u8272\u8868\u3002\n",
      "\tDiverging:\u8868\u793a\u4e2d\u95f4\u503c,\u662f\u989c\u8272\u7684\u4e2d\u503c,\u7136\u540e\u989c\u8272\u8303\u56f4\u5728\u9ad8\u548c\u4f4e\u4e24\u4e2a\u65b9\u5411\u4e0a\u53d8\u5316\u5230\u4e24\u4e2a\u4e0d\u540c\u7684\u8272\u8c03\u3002\n",
      "\t\t\t\u4f8b\u5982\u4e2d\u503c\u4e3a0,\u80fd\u6e05\u6670\u7684\u663e\u793a\u8d1f\u503c\u548c\u6b63\u503c\u4e4b\u95f4\u7684\u533a\u522b\u3002\n",
      "\tQualitative:\u5bf9\u4e8e\u6570\u636e\u6ca1\u6709\u56fa\u5b9a\u7684\u987a\u5e8f,\u5e76\u4e14\u60f3\u8981\u8ba9\u4e0d\u540c\u79cd\u7c7b\u7684\u6570\u636e\u4e4b\u95f4\u80fd\u8f7b\u6613\u7684\u533a\u5206\u5f00\u7684\u60c5\u51b5,\u53ef\u9009\u7528\u8be5\u989c\u8272\u8868\u3002\n",
      "\tCyclic:\u5f53\u6570\u636e\u53ef\u4ee5\u56f4\u7ed5\u7aef\u70b9\u503c\u663e\u793a\u7684\u65f6\u5019,\u6bd4\u8f83\u65b9\u4fbf\uff0c\u4f8b\u5982\u4e00\u5929\u7684\u65f6\u95f4\uff0c\u98ce\u5411\uff0c\u76f8\u4f4d\u89d2\u3002\n",
      "\n",
      "matplotlib\u9884\u5b9a\u4e49\u7684\u989c\u8272\u8868:autumn\u3001bone\u3001cool\u3001copper\u3001flag\u3001gray\u3001hot\u3001hsv\u3001jet\u3001pink\u3001prism\u3001sprint\u3001summer\u3001winter\u3001spectral\n",
      "\n",
      "Yorick\u79d1\u5b66\u53ef\u89c6\u5316\u5305:gist_earth\u3001gist_heat\u3001gist_ncar\u3001gist_rainbow\u3001gist_stern\n",
      "\n",
      "ColorBrewer\u989c\u8272\u8868\n",
      "\tDiverging:\u4e2d\u95f4\u4eae\u5ea6\u6700\u9ad8,\u5411\u4e24\u7aef\u9012\u51cf\n",
      "\tSequential:\u4eae\u5ea6\u5355\u8c03\u5730\u9012\u51cf\n",
      "\tQualitative:\u4e0d\u540c\u79cd\u7c7b\u7684\u989c\u8272\u7528\u6765\u533a\u5206\u4e0d\u540c\u7684\u6570\u636e\u7c7b\u522b\n",
      "\n",
      "\u5176\u4ed6\uff1a\n",
      "\tbrg\uff1a\u8868\u793a\u4e00\u4e2a\u53d1\u6563\u578b\u7684\u84dd\u3001\u7ea2\u3001\u7eff\u989c\u8272\u8868\n",
      "\tbwr\uff1a\u53d1\u6563\u578b\u84dd\u3001\u767d\u3001\u7ea2\u989c\u8272\u8868\n",
      "\tseismic\uff1a\u53d1\u6563\u84dd\u3001\u767d\u3001\u7ea2\n",
      "\tcoolwarm\uff1a\u5bf9\u4e8e3D\u9634\u5f71,\u8272\u76f2\u548c\u989c\u8272\u6392\u5e8f\u975e\u5e38\u6709\u7528\n",
      "\trainbow\uff1a\u53d1\u6563\u4eae\u5ea6\u7684\u7d2b\u3001\u84dd\u3001\u7eff\u3001\u9ec4\u3001\u6a59\u3001\u7ea2\u5149\u8c31\n",
      "\tterrain\uff1a\u5730\u56fe\u6807\u8bb0\u7684\u989c\u8272(\u84dd\u3001\u7eff\u3001\u9ec4\u3001\u68d5\u3001\u767d)  \n",
      "\u989c\u8272\u8868\u540d_r\u8868\u793a\u53cd\u8f6c\u3002"
     ]
    },
    {
     "cell_type": "code",
     "collapsed": false,
     "input": [
      "import matplotlib as mpl\n",
      "import matplotlib.pyplot as plt\n",
      "import numpy as np  \n",
      "red_yellow_green = ['#d73027', '#f46d43', '#fdae61',\n",
      "                    '#fee08b', '#ffffbf', '#d9ef8b',\n",
      "                    '#a6d96a', '#66bd63', '#1a9850']\n",
      "\n",
      "fig,ax = plt.subplots(1)\n",
      "\n",
      "for i in range(9):\n",
      "    y = np.random.normal(size=1000).cumsum()\n",
      "    x = np.arange(1000)\n",
      "    ax.scatter(x, y, label=str(i), linewidth=0.1, edgecolors='grey', facecolor=red_yellow_green[i])\n",
      "\n",
      "ax.legend()\n",
      "plt.show() "
     ],
     "language": "python",
     "metadata": {},
     "outputs": [
      {
       "ename": "ImportError",
       "evalue": "DLL load failed: %1 is not a valid Win32 application.",
       "output_type": "pyerr",
       "traceback": [
        "\u001b[1;31m---------------------------------------------------------------------------\u001b[0m\n\u001b[1;31mImportError\u001b[0m                               Traceback (most recent call last)",
        "\u001b[1;32m<ipython-input-5-5e21c595ef91>\u001b[0m in \u001b[0;36m<module>\u001b[1;34m()\u001b[0m\n\u001b[0;32m      1\u001b[0m \u001b[1;32mimport\u001b[0m \u001b[0mmatplotlib\u001b[0m \u001b[1;32mas\u001b[0m \u001b[0mmpl\u001b[0m\u001b[1;33m\u001b[0m\u001b[0m\n\u001b[1;32m----> 2\u001b[1;33m \u001b[1;32mimport\u001b[0m \u001b[0mmatplotlib\u001b[0m\u001b[1;33m.\u001b[0m\u001b[0mpyplot\u001b[0m \u001b[1;32mas\u001b[0m \u001b[0mplt\u001b[0m\u001b[1;33m\u001b[0m\u001b[0m\n\u001b[0m\u001b[0;32m      3\u001b[0m \u001b[1;32mimport\u001b[0m \u001b[0mnumpy\u001b[0m \u001b[1;32mas\u001b[0m \u001b[0mnp\u001b[0m\u001b[1;33m\u001b[0m\u001b[0m\n\u001b[0;32m      4\u001b[0m red_yellow_green = ['#d73027', '#f46d43', '#fdae61',\n\u001b[0;32m      5\u001b[0m                     \u001b[1;34m'#fee08b'\u001b[0m\u001b[1;33m,\u001b[0m \u001b[1;34m'#ffffbf'\u001b[0m\u001b[1;33m,\u001b[0m \u001b[1;34m'#d9ef8b'\u001b[0m\u001b[1;33m,\u001b[0m\u001b[1;33m\u001b[0m\u001b[0m\n",
        "\u001b[1;32mC:\\Python27\\lib\\site-packages\\matplotlib\\pyplot.py\u001b[0m in \u001b[0;36m<module>\u001b[1;34m()\u001b[0m\n\u001b[0;32m    107\u001b[0m \u001b[1;33m\u001b[0m\u001b[0m\n\u001b[0;32m    108\u001b[0m \u001b[1;32mfrom\u001b[0m \u001b[0mmatplotlib\u001b[0m\u001b[1;33m.\u001b[0m\u001b[0mbackends\u001b[0m \u001b[1;32mimport\u001b[0m \u001b[0mpylab_setup\u001b[0m\u001b[1;33m\u001b[0m\u001b[0m\n\u001b[1;32m--> 109\u001b[1;33m \u001b[0m_backend_mod\u001b[0m\u001b[1;33m,\u001b[0m \u001b[0mnew_figure_manager\u001b[0m\u001b[1;33m,\u001b[0m \u001b[0mdraw_if_interactive\u001b[0m\u001b[1;33m,\u001b[0m \u001b[0m_show\u001b[0m \u001b[1;33m=\u001b[0m \u001b[0mpylab_setup\u001b[0m\u001b[1;33m(\u001b[0m\u001b[1;33m)\u001b[0m\u001b[1;33m\u001b[0m\u001b[0m\n\u001b[0m\u001b[0;32m    110\u001b[0m \u001b[1;33m\u001b[0m\u001b[0m\n\u001b[0;32m    111\u001b[0m \u001b[1;33m\u001b[0m\u001b[0m\n",
        "\u001b[1;32mC:\\Python27\\lib\\site-packages\\matplotlib\\backends\\__init__.py\u001b[0m in \u001b[0;36mpylab_setup\u001b[1;34m()\u001b[0m\n\u001b[0;32m     30\u001b[0m     \u001b[1;31m# imports. 0 means only perform absolute imports.\u001b[0m\u001b[1;33m\u001b[0m\u001b[1;33m\u001b[0m\u001b[0m\n\u001b[0;32m     31\u001b[0m     backend_mod = __import__(backend_name,\n\u001b[1;32m---> 32\u001b[1;33m                              globals(),locals(),[backend_name],0)\n\u001b[0m\u001b[0;32m     33\u001b[0m \u001b[1;33m\u001b[0m\u001b[0m\n\u001b[0;32m     34\u001b[0m     \u001b[1;31m# Things we pull in from all backends\u001b[0m\u001b[1;33m\u001b[0m\u001b[1;33m\u001b[0m\u001b[0m\n",
        "\u001b[1;32mC:\\Python27\\lib\\site-packages\\matplotlib\\backends\\backend_tkagg.py\u001b[0m in \u001b[0;36m<module>\u001b[1;34m()\u001b[0m\n\u001b[0;32m     11\u001b[0m \u001b[1;33m\u001b[0m\u001b[0m\n\u001b[0;32m     12\u001b[0m \u001b[1;31m# Paint image to Tk photo blitter extension\u001b[0m\u001b[1;33m\u001b[0m\u001b[1;33m\u001b[0m\u001b[0m\n\u001b[1;32m---> 13\u001b[1;33m \u001b[1;32mimport\u001b[0m \u001b[0mmatplotlib\u001b[0m\u001b[1;33m.\u001b[0m\u001b[0mbackends\u001b[0m\u001b[1;33m.\u001b[0m\u001b[0mtkagg\u001b[0m \u001b[1;32mas\u001b[0m \u001b[0mtkagg\u001b[0m\u001b[1;33m\u001b[0m\u001b[0m\n\u001b[0m\u001b[0;32m     14\u001b[0m \u001b[1;33m\u001b[0m\u001b[0m\n\u001b[0;32m     15\u001b[0m \u001b[1;32mfrom\u001b[0m \u001b[0mmatplotlib\u001b[0m\u001b[1;33m.\u001b[0m\u001b[0mbackends\u001b[0m\u001b[1;33m.\u001b[0m\u001b[0mbackend_agg\u001b[0m \u001b[1;32mimport\u001b[0m \u001b[0mFigureCanvasAgg\u001b[0m\u001b[1;33m\u001b[0m\u001b[0m\n",
        "\u001b[1;32mC:\\Python27\\lib\\site-packages\\matplotlib\\backends\\tkagg.py\u001b[0m in \u001b[0;36m<module>\u001b[1;34m()\u001b[0m\n\u001b[0;32m      5\u001b[0m \u001b[1;32mfrom\u001b[0m \u001b[0msix\u001b[0m\u001b[1;33m.\u001b[0m\u001b[0mmoves\u001b[0m \u001b[1;32mimport\u001b[0m \u001b[0mtkinter\u001b[0m \u001b[1;32mas\u001b[0m \u001b[0mTk\u001b[0m\u001b[1;33m\u001b[0m\u001b[0m\n\u001b[0;32m      6\u001b[0m \u001b[1;33m\u001b[0m\u001b[0m\n\u001b[1;32m----> 7\u001b[1;33m \u001b[1;32mfrom\u001b[0m \u001b[0mmatplotlib\u001b[0m\u001b[1;33m.\u001b[0m\u001b[0mbackends\u001b[0m \u001b[1;32mimport\u001b[0m \u001b[0m_tkagg\u001b[0m\u001b[1;33m\u001b[0m\u001b[0m\n\u001b[0m\u001b[0;32m      8\u001b[0m \u001b[1;33m\u001b[0m\u001b[0m\n\u001b[0;32m      9\u001b[0m \u001b[1;32mdef\u001b[0m \u001b[0mblit\u001b[0m\u001b[1;33m(\u001b[0m\u001b[0mphotoimage\u001b[0m\u001b[1;33m,\u001b[0m \u001b[0maggimage\u001b[0m\u001b[1;33m,\u001b[0m \u001b[0mbbox\u001b[0m\u001b[1;33m=\u001b[0m\u001b[0mNone\u001b[0m\u001b[1;33m,\u001b[0m \u001b[0mcolormode\u001b[0m\u001b[1;33m=\u001b[0m\u001b[1;36m1\u001b[0m\u001b[1;33m)\u001b[0m\u001b[1;33m:\u001b[0m\u001b[1;33m\u001b[0m\u001b[0m\n",
        "\u001b[1;31mImportError\u001b[0m: DLL load failed: %1 is not a valid Win32 application."
       ]
      }
     ],
     "prompt_number": 5
    },
    {
     "cell_type": "heading",
     "level": 1,
     "metadata": {},
     "source": [
      "7.7 \u4f7f\u7528\u6563\u70b9\u56fe\u548c\u76f4\u65b9\u56fe"
     ]
    },
    {
     "cell_type": "heading",
     "level": 2,
     "metadata": {},
     "source": [
      "\u6563\u70b9\u56fe"
     ]
    },
    {
     "cell_type": "code",
     "collapsed": false,
     "input": [
      "import matplotlib.pyplot as plt\n",
      "import numpy as np\n",
      "\n",
      "# import the data\n",
      "from ch07_search_data import DATA\n",
      "data = DATA, data1 = np.random.random(365)\n",
      "assert len(data) == len(data1)\n",
      "\n",
      "fig = plt.figure() \n",
      "ax1 = fig.add_subplot(221)\n",
      "ax1.scatter(data, data1, alpha=0.5)\n",
      "ax1.set_title('No correlation')\n",
      "ax1.grid(True)\n",
      "\n",
      "ax2 = fig.add_subplot(222)\n",
      "ax2.scatter(data1, data1, alpha=0.5)\n",
      "ax2.set_title('Ideal positive correlation')\n",
      "ax2.grid(True)\n",
      "\n",
      "ax3 = fig.add_subplot(223)\n",
      "ax3.scatter(data1, data1*-1, alpha=0.5)\n",
      "ax3.set_title('Ideal negative correlation')\n",
      "ax3.grid(True)\n",
      "\n",
      "ax4 = fig.add_subplot(224)\n",
      "ax4.scatter(data1, data1+data, alpha=0.5)\n",
      "ax4.set_title('Non ideal positive correlation')\n",
      "ax4.grid(True)\n",
      "\n",
      "plt.tight_layout() \n",
      "plt.show()"
     ],
     "language": "python",
     "metadata": {},
     "outputs": [
      {
       "ename": "ImportError",
       "evalue": "DLL load failed: %1 is not a valid Win32 application.",
       "output_type": "pyerr",
       "traceback": [
        "\u001b[1;31m---------------------------------------------------------------------------\u001b[0m\n\u001b[1;31mImportError\u001b[0m                               Traceback (most recent call last)",
        "\u001b[1;32m<ipython-input-7-5a4a34cd3b57>\u001b[0m in \u001b[0;36m<module>\u001b[1;34m()\u001b[0m\n\u001b[1;32m----> 1\u001b[1;33m \u001b[1;32mimport\u001b[0m \u001b[0mmatplotlib\u001b[0m\u001b[1;33m.\u001b[0m\u001b[0mpyplot\u001b[0m \u001b[1;32mas\u001b[0m \u001b[0mplt\u001b[0m\u001b[1;33m\u001b[0m\u001b[0m\n\u001b[0m\u001b[0;32m      2\u001b[0m \u001b[1;32mimport\u001b[0m \u001b[0mnumpy\u001b[0m \u001b[1;32mas\u001b[0m \u001b[0mnp\u001b[0m\u001b[1;33m\u001b[0m\u001b[0m\n\u001b[0;32m      3\u001b[0m \u001b[1;33m\u001b[0m\u001b[0m\n\u001b[0;32m      4\u001b[0m \u001b[1;31m# import the data\u001b[0m\u001b[1;33m\u001b[0m\u001b[1;33m\u001b[0m\u001b[0m\n\u001b[0;32m      5\u001b[0m \u001b[1;32mfrom\u001b[0m \u001b[0mch07_search_data\u001b[0m \u001b[1;32mimport\u001b[0m \u001b[0mDATA\u001b[0m\u001b[1;33m\u001b[0m\u001b[0m\n",
        "\u001b[1;32mC:\\Python27\\lib\\site-packages\\matplotlib\\pyplot.py\u001b[0m in \u001b[0;36m<module>\u001b[1;34m()\u001b[0m\n\u001b[0;32m    107\u001b[0m \u001b[1;33m\u001b[0m\u001b[0m\n\u001b[0;32m    108\u001b[0m \u001b[1;32mfrom\u001b[0m \u001b[0mmatplotlib\u001b[0m\u001b[1;33m.\u001b[0m\u001b[0mbackends\u001b[0m \u001b[1;32mimport\u001b[0m \u001b[0mpylab_setup\u001b[0m\u001b[1;33m\u001b[0m\u001b[0m\n\u001b[1;32m--> 109\u001b[1;33m \u001b[0m_backend_mod\u001b[0m\u001b[1;33m,\u001b[0m \u001b[0mnew_figure_manager\u001b[0m\u001b[1;33m,\u001b[0m \u001b[0mdraw_if_interactive\u001b[0m\u001b[1;33m,\u001b[0m \u001b[0m_show\u001b[0m \u001b[1;33m=\u001b[0m \u001b[0mpylab_setup\u001b[0m\u001b[1;33m(\u001b[0m\u001b[1;33m)\u001b[0m\u001b[1;33m\u001b[0m\u001b[0m\n\u001b[0m\u001b[0;32m    110\u001b[0m \u001b[1;33m\u001b[0m\u001b[0m\n\u001b[0;32m    111\u001b[0m \u001b[1;33m\u001b[0m\u001b[0m\n",
        "\u001b[1;32mC:\\Python27\\lib\\site-packages\\matplotlib\\backends\\__init__.py\u001b[0m in \u001b[0;36mpylab_setup\u001b[1;34m()\u001b[0m\n\u001b[0;32m     30\u001b[0m     \u001b[1;31m# imports. 0 means only perform absolute imports.\u001b[0m\u001b[1;33m\u001b[0m\u001b[1;33m\u001b[0m\u001b[0m\n\u001b[0;32m     31\u001b[0m     backend_mod = __import__(backend_name,\n\u001b[1;32m---> 32\u001b[1;33m                              globals(),locals(),[backend_name],0)\n\u001b[0m\u001b[0;32m     33\u001b[0m \u001b[1;33m\u001b[0m\u001b[0m\n\u001b[0;32m     34\u001b[0m     \u001b[1;31m# Things we pull in from all backends\u001b[0m\u001b[1;33m\u001b[0m\u001b[1;33m\u001b[0m\u001b[0m\n",
        "\u001b[1;32mC:\\Python27\\lib\\site-packages\\matplotlib\\backends\\backend_tkagg.py\u001b[0m in \u001b[0;36m<module>\u001b[1;34m()\u001b[0m\n\u001b[0;32m     11\u001b[0m \u001b[1;33m\u001b[0m\u001b[0m\n\u001b[0;32m     12\u001b[0m \u001b[1;31m# Paint image to Tk photo blitter extension\u001b[0m\u001b[1;33m\u001b[0m\u001b[1;33m\u001b[0m\u001b[0m\n\u001b[1;32m---> 13\u001b[1;33m \u001b[1;32mimport\u001b[0m \u001b[0mmatplotlib\u001b[0m\u001b[1;33m.\u001b[0m\u001b[0mbackends\u001b[0m\u001b[1;33m.\u001b[0m\u001b[0mtkagg\u001b[0m \u001b[1;32mas\u001b[0m \u001b[0mtkagg\u001b[0m\u001b[1;33m\u001b[0m\u001b[0m\n\u001b[0m\u001b[0;32m     14\u001b[0m \u001b[1;33m\u001b[0m\u001b[0m\n\u001b[0;32m     15\u001b[0m \u001b[1;32mfrom\u001b[0m \u001b[0mmatplotlib\u001b[0m\u001b[1;33m.\u001b[0m\u001b[0mbackends\u001b[0m\u001b[1;33m.\u001b[0m\u001b[0mbackend_agg\u001b[0m \u001b[1;32mimport\u001b[0m \u001b[0mFigureCanvasAgg\u001b[0m\u001b[1;33m\u001b[0m\u001b[0m\n",
        "\u001b[1;32mC:\\Python27\\lib\\site-packages\\matplotlib\\backends\\tkagg.py\u001b[0m in \u001b[0;36m<module>\u001b[1;34m()\u001b[0m\n\u001b[0;32m      5\u001b[0m \u001b[1;32mfrom\u001b[0m \u001b[0msix\u001b[0m\u001b[1;33m.\u001b[0m\u001b[0mmoves\u001b[0m \u001b[1;32mimport\u001b[0m \u001b[0mtkinter\u001b[0m \u001b[1;32mas\u001b[0m \u001b[0mTk\u001b[0m\u001b[1;33m\u001b[0m\u001b[0m\n\u001b[0;32m      6\u001b[0m \u001b[1;33m\u001b[0m\u001b[0m\n\u001b[1;32m----> 7\u001b[1;33m \u001b[1;32mfrom\u001b[0m \u001b[0mmatplotlib\u001b[0m\u001b[1;33m.\u001b[0m\u001b[0mbackends\u001b[0m \u001b[1;32mimport\u001b[0m \u001b[0m_tkagg\u001b[0m\u001b[1;33m\u001b[0m\u001b[0m\n\u001b[0m\u001b[0;32m      8\u001b[0m \u001b[1;33m\u001b[0m\u001b[0m\n\u001b[0;32m      9\u001b[0m \u001b[1;32mdef\u001b[0m \u001b[0mblit\u001b[0m\u001b[1;33m(\u001b[0m\u001b[0mphotoimage\u001b[0m\u001b[1;33m,\u001b[0m \u001b[0maggimage\u001b[0m\u001b[1;33m,\u001b[0m \u001b[0mbbox\u001b[0m\u001b[1;33m=\u001b[0m\u001b[0mNone\u001b[0m\u001b[1;33m,\u001b[0m \u001b[0mcolormode\u001b[0m\u001b[1;33m=\u001b[0m\u001b[1;36m1\u001b[0m\u001b[1;33m)\u001b[0m\u001b[1;33m:\u001b[0m\u001b[1;33m\u001b[0m\u001b[0m\n",
        "\u001b[1;31mImportError\u001b[0m: DLL load failed: %1 is not a valid Win32 application."
       ]
      }
     ],
     "prompt_number": 7
    },
    {
     "cell_type": "heading",
     "level": 3,
     "metadata": {},
     "source": [
      "\u76f4\u65b9\u56fe"
     ]
    },
    {
     "cell_type": "code",
     "collapsed": false,
     "input": [
      "import numpy as np\n",
      "import matplotlib.pyplot as plt\n",
      "from mpl_toolkits.axes_grid1 import make_axes_locatable\n",
      "\n",
      "\n",
      "def scatterhist(x, y, figsize=(8,8)):\n",
      "    \"\"\"\n",
      "    Create simple scatter & histograms of data x, y inside given plot\n",
      "\n",
      "    @param figsize: Figure size to create figure\n",
      "    @type figsize: Tuple of two floats representing size in inches\n",
      "\n",
      "    @param x: X axis data set\n",
      "    @type x: np.array\n",
      "\n",
      "    @param y: Y axis data set\n",
      "    @type y: np.array\n",
      "    \"\"\"\n",
      "    _, scatter_axes = plt.subplots(figsize=figsize)\n",
      "\n",
      "    # the scatter plot:\n",
      "    scatter_axes.scatter(x, y, alpha=0.5)\n",
      "    scatter_axes.set_aspect(1.)\n",
      "\n",
      "    divider = make_axes_locatable(scatter_axes)\n",
      "    axes_hist_x = divider.append_axes(position=\"top\", sharex=scatter_axes, size=1, pad=0.1)\n",
      "    axes_hist_y = divider.append_axes(position=\"right\", sharey=scatter_axes, size=1, pad=0.1)\n",
      "\n",
      "    binwidth = 0.25# compute bins accordingly \n",
      "    # global max value in both data sets\n",
      "    xymax = np.max([np.max(np.fabs(x)), np.max(np.fabs(y))])\n",
      "    # number of bins\n",
      "    bincap = int(xymax / binwidth) * binwidth\n",
      "\n",
      "    bins = np.arange(-bincap, bincap, binwidth)\n",
      "    nx, binsx, _ = axes_hist_x.hist(x, bins=bins, histtype='stepfilled',\n",
      "                     orientation='vertical')\n",
      "    ny, binsy, _ = axes_hist_y.hist(y, bins=bins, histtype='stepfilled',\n",
      "                     orientation='horizontal')\n",
      "\n",
      "    tickstep = 50\n",
      "    ticksmax = np.max([np.max(nx), np.max(ny)])\n",
      "    xyticks = np.arange(0, ticksmax + tickstep, tickstep)\n",
      "\n",
      "    # hide x and y ticklabels on histograms\n",
      "    for tl in axes_hist_x.get_xticklabels():\n",
      "        tl.set_visible(False)\n",
      "    axes_hist_x.set_yticks(xyticks)\n",
      "\n",
      "    for tl in axes_hist_y.get_yticklabels():\n",
      "        tl.set_visible(False)\n",
      "    axes_hist_y.set_xticks(xyticks)\n",
      "\n",
      "    plt.show()\n",
      "\n",
      "\n",
      "if __name__ == '__main__':\n",
      "    # import the data\n",
      "    from ch07_search_data import DATA\n",
      "    d = DATA\n",
      "\n",
      "    # Now let's generate random data for the same period\n",
      "    d1 = np.random.random(365)\n",
      "    assert len(d) == len(d1)\n",
      "\n",
      "    # try with the random data\n",
      "#     d = np.random.randn(1000)\n",
      "#     d1 = np.random.randn(1000)\n",
      "\n",
      "    scatterhist(d, d1)"
     ],
     "language": "python",
     "metadata": {},
     "outputs": []
    },
    {
     "cell_type": "heading",
     "level": 1,
     "metadata": {},
     "source": [
      "7.8 \u7ed8\u5236\u4e24\u4e2a\u53d8\u91cf\u4e4b\u95f4\u7684\u4e92\u76f8\u56fe\u5f62"
     ]
    },
    {
     "cell_type": "markdown",
     "metadata": {},
     "source": [
      "\u7ed8\u4e24\u4e2a\u6570\u636e\u96c6\u4e4b\u95f4\u7684\u76f8\u4e92\u5173\u7cfb"
     ]
    },
    {
     "cell_type": "code",
     "collapsed": false,
     "input": [
      "import matplotlib.pyplot as plt\n",
      "import numpy as np\n",
      "\n",
      "# import the data\n",
      "from ch07_search_data import DATA\n",
      "data = DATA\n",
      "\n",
      "total = sum(data)\n",
      "av = total / len(data)\n",
      "z = [i - av for i in data]\n",
      "av1 = sum(data1) / len(data1)\n",
      "z1 = [i - av1 for i in data1] \n",
      "\n",
      "data1 = np.random.random(365)\n",
      "assert len(data) == len(data1) \n",
      "fig = plt.figure()\n",
      "\n",
      "ax1 = fig.add_subplot(311)\n",
      "ax1.plot(data)\n",
      "ax1.set_xlabel('Google Trends data for \"flowers\"')\n",
      "\n",
      "ax2 = fig.add_subplot(312)\n",
      "ax2.plot(data1)\n",
      "ax2.set_xlabel('Random data')\n",
      "\n",
      "\n",
      "ax3 = fig.add_subplot(313)\n",
      "ax3.set_xlabel('Cross correlation of random data')\n",
      "ax3.xcorr(z, z1, usevlines=True, maxlags=None, normed=True, lw=2)\n",
      "ax3.grid(True)\n",
      "plt.ylim(-1,1) \n",
      "plt.tight_layout() \n",
      "plt.show()"
     ],
     "language": "python",
     "metadata": {},
     "outputs": []
    },
    {
     "cell_type": "heading",
     "level": 1,
     "metadata": {},
     "source": [
      "7.9 \u81ea\u76f8\u5173\u7684\u91cd\u8981\u6027"
     ]
    },
    {
     "cell_type": "code",
     "collapsed": false,
     "input": [
      "import matplotlib.pyplot as plt\n",
      "import numpy as np \n",
      "from ch07_search_data import DATA as data \n",
      "\n",
      "total = sum(data)\n",
      "av = total / len(data)\n",
      "z = [i - av for i in data]\n",
      "fig = plt.figure()\n",
      "plt.title('Comparing autocorrelations')\n",
      "\n",
      "ax1 = fig.add_subplot(221)\n",
      "ax1.plot(data)\n",
      "ax1.set_xlabel('Google Trends data for \"flowers\"')\n",
      "\n",
      "ax2 = fig.add_subplot(222)\n",
      "ax2.acorr(z, usevlines=True, maxlags=None, normed=True, lw=2)\n",
      "ax2.grid(True)\n",
      "ax2.set_xlabel('Autocorrelation')\n",
      "\n",
      "data1 = np.random.random(365)\n",
      "assert len(data) == len(data1)\n",
      "\n",
      "total = sum(data1)\n",
      "av = total / len(data1)\n",
      "z = [i - av for i in data1]\n",
      "\n",
      "ax3 = fig.add_subplot(223)\n",
      "ax3.plot(data1)\n",
      "ax3.set_xlabel('Random data')\n",
      "\n",
      "ax4 = fig.add_subplot(224)\n",
      "ax4.set_xlabel('Autocorrelation of random data')\n",
      "ax4.acorr( z, usevlines=True, maxlags=None, normed=True, lw=2)\n",
      "ax4.grid(True)\n",
      "\n",
      "plt.show()"
     ],
     "language": "python",
     "metadata": {},
     "outputs": [
      {
       "ename": "ImportError",
       "evalue": "DLL load failed: %1 is not a valid Win32 application.",
       "output_type": "pyerr",
       "traceback": [
        "\u001b[1;31m---------------------------------------------------------------------------\u001b[0m\n\u001b[1;31mImportError\u001b[0m                               Traceback (most recent call last)",
        "\u001b[1;32m<ipython-input-1-0fec73b296a5>\u001b[0m in \u001b[0;36m<module>\u001b[1;34m()\u001b[0m\n\u001b[1;32m----> 1\u001b[1;33m \u001b[1;32mimport\u001b[0m \u001b[0mmatplotlib\u001b[0m\u001b[1;33m.\u001b[0m\u001b[0mpyplot\u001b[0m \u001b[1;32mas\u001b[0m \u001b[0mplt\u001b[0m\u001b[1;33m\u001b[0m\u001b[0m\n\u001b[0m\u001b[0;32m      2\u001b[0m \u001b[1;32mimport\u001b[0m \u001b[0mnumpy\u001b[0m \u001b[1;32mas\u001b[0m \u001b[0mnp\u001b[0m\u001b[1;33m\u001b[0m\u001b[0m\n\u001b[0;32m      3\u001b[0m \u001b[1;32mfrom\u001b[0m \u001b[0mch07_search_data\u001b[0m \u001b[1;32mimport\u001b[0m \u001b[0mDATA\u001b[0m \u001b[1;32mas\u001b[0m \u001b[0mdata\u001b[0m\u001b[1;33m\u001b[0m\u001b[0m\n\u001b[0;32m      4\u001b[0m \u001b[1;33m\u001b[0m\u001b[0m\n\u001b[0;32m      5\u001b[0m \u001b[0mtotal\u001b[0m \u001b[1;33m=\u001b[0m \u001b[0msum\u001b[0m\u001b[1;33m(\u001b[0m\u001b[0mdata\u001b[0m\u001b[1;33m)\u001b[0m\u001b[1;33m\u001b[0m\u001b[0m\n",
        "\u001b[1;32mC:\\Python27\\lib\\site-packages\\matplotlib\\pyplot.py\u001b[0m in \u001b[0;36m<module>\u001b[1;34m()\u001b[0m\n\u001b[0;32m    107\u001b[0m \u001b[1;33m\u001b[0m\u001b[0m\n\u001b[0;32m    108\u001b[0m \u001b[1;32mfrom\u001b[0m \u001b[0mmatplotlib\u001b[0m\u001b[1;33m.\u001b[0m\u001b[0mbackends\u001b[0m \u001b[1;32mimport\u001b[0m \u001b[0mpylab_setup\u001b[0m\u001b[1;33m\u001b[0m\u001b[0m\n\u001b[1;32m--> 109\u001b[1;33m \u001b[0m_backend_mod\u001b[0m\u001b[1;33m,\u001b[0m \u001b[0mnew_figure_manager\u001b[0m\u001b[1;33m,\u001b[0m \u001b[0mdraw_if_interactive\u001b[0m\u001b[1;33m,\u001b[0m \u001b[0m_show\u001b[0m \u001b[1;33m=\u001b[0m \u001b[0mpylab_setup\u001b[0m\u001b[1;33m(\u001b[0m\u001b[1;33m)\u001b[0m\u001b[1;33m\u001b[0m\u001b[0m\n\u001b[0m\u001b[0;32m    110\u001b[0m \u001b[1;33m\u001b[0m\u001b[0m\n\u001b[0;32m    111\u001b[0m \u001b[1;33m\u001b[0m\u001b[0m\n",
        "\u001b[1;32mC:\\Python27\\lib\\site-packages\\matplotlib\\backends\\__init__.pyc\u001b[0m in \u001b[0;36mpylab_setup\u001b[1;34m()\u001b[0m\n\u001b[0;32m     30\u001b[0m     \u001b[1;31m# imports. 0 means only perform absolute imports.\u001b[0m\u001b[1;33m\u001b[0m\u001b[1;33m\u001b[0m\u001b[0m\n\u001b[0;32m     31\u001b[0m     backend_mod = __import__(backend_name,\n\u001b[1;32m---> 32\u001b[1;33m                              globals(),locals(),[backend_name],0)\n\u001b[0m\u001b[0;32m     33\u001b[0m \u001b[1;33m\u001b[0m\u001b[0m\n\u001b[0;32m     34\u001b[0m     \u001b[1;31m# Things we pull in from all backends\u001b[0m\u001b[1;33m\u001b[0m\u001b[1;33m\u001b[0m\u001b[0m\n",
        "\u001b[1;32mC:\\Python27\\lib\\site-packages\\matplotlib\\backends\\backend_tkagg.py\u001b[0m in \u001b[0;36m<module>\u001b[1;34m()\u001b[0m\n\u001b[0;32m     11\u001b[0m \u001b[1;33m\u001b[0m\u001b[0m\n\u001b[0;32m     12\u001b[0m \u001b[1;31m# Paint image to Tk photo blitter extension\u001b[0m\u001b[1;33m\u001b[0m\u001b[1;33m\u001b[0m\u001b[0m\n\u001b[1;32m---> 13\u001b[1;33m \u001b[1;32mimport\u001b[0m \u001b[0mmatplotlib\u001b[0m\u001b[1;33m.\u001b[0m\u001b[0mbackends\u001b[0m\u001b[1;33m.\u001b[0m\u001b[0mtkagg\u001b[0m \u001b[1;32mas\u001b[0m \u001b[0mtkagg\u001b[0m\u001b[1;33m\u001b[0m\u001b[0m\n\u001b[0m\u001b[0;32m     14\u001b[0m \u001b[1;33m\u001b[0m\u001b[0m\n\u001b[0;32m     15\u001b[0m \u001b[1;32mfrom\u001b[0m \u001b[0mmatplotlib\u001b[0m\u001b[1;33m.\u001b[0m\u001b[0mbackends\u001b[0m\u001b[1;33m.\u001b[0m\u001b[0mbackend_agg\u001b[0m \u001b[1;32mimport\u001b[0m \u001b[0mFigureCanvasAgg\u001b[0m\u001b[1;33m\u001b[0m\u001b[0m\n",
        "\u001b[1;32mC:\\Python27\\lib\\site-packages\\matplotlib\\backends\\tkagg.py\u001b[0m in \u001b[0;36m<module>\u001b[1;34m()\u001b[0m\n\u001b[0;32m      5\u001b[0m \u001b[1;32mfrom\u001b[0m \u001b[0msix\u001b[0m\u001b[1;33m.\u001b[0m\u001b[0mmoves\u001b[0m \u001b[1;32mimport\u001b[0m \u001b[0mtkinter\u001b[0m \u001b[1;32mas\u001b[0m \u001b[0mTk\u001b[0m\u001b[1;33m\u001b[0m\u001b[0m\n\u001b[0;32m      6\u001b[0m \u001b[1;33m\u001b[0m\u001b[0m\n\u001b[1;32m----> 7\u001b[1;33m \u001b[1;32mfrom\u001b[0m \u001b[0mmatplotlib\u001b[0m\u001b[1;33m.\u001b[0m\u001b[0mbackends\u001b[0m \u001b[1;32mimport\u001b[0m \u001b[0m_tkagg\u001b[0m\u001b[1;33m\u001b[0m\u001b[0m\n\u001b[0m\u001b[0;32m      8\u001b[0m \u001b[1;33m\u001b[0m\u001b[0m\n\u001b[0;32m      9\u001b[0m \u001b[1;32mdef\u001b[0m \u001b[0mblit\u001b[0m\u001b[1;33m(\u001b[0m\u001b[0mphotoimage\u001b[0m\u001b[1;33m,\u001b[0m \u001b[0maggimage\u001b[0m\u001b[1;33m,\u001b[0m \u001b[0mbbox\u001b[0m\u001b[1;33m=\u001b[0m\u001b[0mNone\u001b[0m\u001b[1;33m,\u001b[0m \u001b[0mcolormode\u001b[0m\u001b[1;33m=\u001b[0m\u001b[1;36m1\u001b[0m\u001b[1;33m)\u001b[0m\u001b[1;33m:\u001b[0m\u001b[1;33m\u001b[0m\u001b[0m\n",
        "\u001b[1;31mImportError\u001b[0m: DLL load failed: %1 is not a valid Win32 application."
       ]
      }
     ],
     "prompt_number": 1
    },
    {
     "cell_type": "code",
     "collapsed": false,
     "input": [],
     "language": "python",
     "metadata": {},
     "outputs": []
    }
   ],
   "metadata": {}
  }
 ]
}