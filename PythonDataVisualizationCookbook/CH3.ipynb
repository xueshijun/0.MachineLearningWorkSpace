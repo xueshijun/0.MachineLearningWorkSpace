{
 "metadata": {
  "name": "",
  "signature": "sha256:176621bad0a5df4c0701eac83dc48c298d152e9134580bfa92dcf2b0a1cd651d"
 },
 "nbformat": 3,
 "nbformat_minor": 0,
 "worksheets": [
  {
   "cells": [
    {
     "cell_type": "raw",
     "metadata": {},
     "source": [
      "Defining plot types \u2013 bar, line, and stacked charts\n",
      "Drawing simple sine and cosine plots\n",
      "Defining axis lengths and limits\n",
      "Defining plot line styles, properties, and format strings\n",
      "Setting ticks, labels, and grids\n",
      "Adding legends and annotations\n",
      "Moving spines to the center\n",
      "Making histograms\n",
      "Making bar charts with error bars\n",
      "Making pie charts count\n",
      "Plotting with filled areas\n",
      "Drawing scatter plots with colored markers"
     ]
    },
    {
     "cell_type": "heading",
     "level": 1,
     "metadata": {},
     "source": [
      "3\uff0e2 \u5b9a\u4e49\u56fe\u8868\u7c7b\u578b\u2014\u2014\u67f1\u72b6\u56fe\u3001\u7ebf\u5f62\u56fe\u548c\u5806\u79ef\u67f1\u72b6\u56fe 66"
     ]
    },
    {
     "cell_type": "code",
     "collapsed": false,
     "input": [
      "from matplotlib.pyplot import *\n",
      "\n",
      "x = [1,2,3,4];\ty = [5,4,3,2]\n",
      "figure()\n",
      "\n",
      "subplot(231)\n",
      "plot(x, y)\n",
      "\n",
      "subplot(232)\n",
      "bar(x, y)\n",
      "#horizontal bar-charts\n",
      "subplot(233)\n",
      "barh(x, y)\n",
      "\n",
      "#stacked bar-charts\n",
      "subplot(234)\n",
      "bar(x, y)\n",
      "y1 = [7,8,5,3]\n",
      "bar(x, y1, bottom=y, color = 'r')\n",
      "\n",
      "subplot(235)\n",
      "boxplot(x)\n",
      "\n",
      "subplot(236)\n",
      "scatter(x,y)\n",
      "\n",
      "show()"
     ],
     "language": "python",
     "metadata": {},
     "outputs": [],
     "prompt_number": 3
    },
    {
     "cell_type": "code",
     "collapsed": false,
     "input": [
      "\n",
      "\n",
      "'''\n",
      "\u540c\u4e00\u4e2a\u7bb1\u7ebf\u56fe\u53ef\u4ee5\u663e\u793a\u4e94\u79cd\u6570\u636e\uff1a\n",
      "    \u6700\u5c0f\u503c\n",
      "    \u6700\u5927\u503c\n",
      "    \u4e2d\u503c\n",
      "    \u7b2c\u4e8c\u56db\u5206\u4f4d\u6570\uff1a\u5176\u4ee5\u4e0b\u6570\u636e\u96c6\u5408\u4e2d\u8f83\u4f4e\u768425%\u7684\u6570\u636e\n",
      "    \u7b2c\u4e09\u56db\u5206\u4f4d\u6570\uff1a\u5176\u4ee5\u4e0a\u6570\u636e\u96c6\u5408\u4e2d\u8f83\u9ad8\u768425%\u7684\u6570\u636e \n",
      "'''\n",
      "from pylab import * \n",
      "dataset = [113, 115, 119, 121, 124, \n",
      "           124, 125, 126, 126, 126,\n",
      "           127, 127, 128, 129, 130,\n",
      "           130, 131, 132, 133, 136] \n",
      "subplot(121)\n",
      "boxplot(dataset, vert=False)\n",
      "\n",
      "subplot(122)\n",
      "hist(dataset) \n",
      "show()"
     ],
     "language": "python",
     "metadata": {},
     "outputs": [],
     "prompt_number": 4
    },
    {
     "cell_type": "heading",
     "level": 1,
     "metadata": {},
     "source": [
      "3\uff0e3 \u7b80\u5355\u7684\u6b63\u5f26\u56fe\u548c\u4f59\u5f26\u56fe"
     ]
    },
    {
     "cell_type": "code",
     "collapsed": false,
     "input": [
      "from pylab import *\n",
      "import numpy as np\n",
      "\n",
      "# generate uniformly distributed \n",
      "# 256 points from -pi to pi, inclusive\n",
      "x = np.linspace(-np.pi, np.pi, 256, endpoint=True)\n",
      "\n",
      "y = np.cos(x)\n",
      "plot(x, y)\n",
      "\n",
      "y1 = np.sin(x)\n",
      "plot(x, y1)\n",
      "\n",
      "title(\"Functions $\\sin$ and $\\cos$\") \n",
      "xlim(-3.0, 3.0)# set x limit \n",
      "ylim(-1.0, 1.0)# set y limit\n",
      "\n",
      "# format ticks at specific values\n",
      "xticks([-np.pi, -np.pi/2, 0, np.pi/2, np.pi],  [r'$-\\pi$', r'$-\\pi/2$', r'$0$', r'$+\\pi/2$', r'$+\\pi$'])\n",
      "yticks([-1, 0, +1],  [r'$-1$', r'$0$', r'$+1$'])\n",
      "\n",
      "show()\n"
     ],
     "language": "python",
     "metadata": {},
     "outputs": [],
     "prompt_number": 5
    },
    {
     "cell_type": "heading",
     "level": 1,
     "metadata": {},
     "source": [
      "3\uff0e4 \u8bbe\u7f6e\u5750\u6807\u8f74\u957f\u5ea6\u548c\u8303\u56f4"
     ]
    },
    {
     "cell_type": "code",
     "collapsed": false,
     "input": [
      "from pylab import *\n",
      "axis()  #0.0,1.0,0.0,1.0\n",
      "#\u6dfb\u52a0\u65b0\u7684\u5750\u6807\u8f74\n",
      "axis([-1,1,-10,10]) \n",
      "axhline()   #\u7ed8\u5236y=0\u7684\u7ebf\n",
      "axvline()   #\u7ed8\u5236x=0\u7684\u7ebf\n",
      "axhline(4)  #\u7ed8\u5236y=4\n",
      "#grid()\n",
      "grid(which=u'both',axis=u'both')"
     ],
     "language": "python",
     "metadata": {},
     "outputs": [],
     "prompt_number": 6
    },
    {
     "cell_type": "heading",
     "level": 1,
     "metadata": {},
     "source": [
      "3\uff0e5 \u8bbe\u7f6e\u56fe\u8868\u7684\u7ebf\u578b\u3001\u5c5e\u6027\u548c\u683c\u5f0f\u5316\u5b57\u7b26\u4e32 76"
     ]
    },
    {
     "cell_type": "code",
     "collapsed": false,
     "input": [
      "import numpy as np\n",
      "x = np.arange(0,4*math.pi,0.1)\n",
      "y = sin(x)\n",
      "#\u6216\u8005 plot(x,y,linewidth=1.5)\n",
      "#\u6216\u8005 line = plot(x,y,linewidth=1.5)\n",
      "#\u6216\u8005 \n",
      "lines = plot(x,y)\n",
      "#setp(lines,marker=7)\n",
      "\n",
      "setp(lines,alpha=1)\n",
      "'''\n",
      "'b':\u84dd\n",
      "'g':\u7eff\n",
      "'r':\u7ea2\n",
      "'c'\n",
      "'m':\n",
      "'y':\u9ec4\n",
      "'k':\u9ed1\n",
      "'w':\u767d\n",
      "'''\n",
      "\n",
      "setp(lines,color='r')\n",
      "setp(lines,color='#eeefff')\n",
      "setp(lines,color=[0.3,0.3,0.3])\n",
      "\n",
      "#setp(lines,dashes=[1,1]) #\u6570\u7ec4\u4e3a\u5e8f\u5217\u5404\u6bb5\u7684\u5bbd\u5ea6,\n",
      "\n",
      "'''\n",
      "    -  :\u5b9e\u7ebf\n",
      "    -- :\u7834\u6298\u7ebf\n",
      "    -. :\u70b9\u5212\u7ebf\n",
      "'''\n",
      "setp(lines,linestyle='--')\n",
      "\n",
      "\n",
      "setp(lines,label='das')\n",
      "\n",
      "setp(lines,'linewidth',1.5)\n",
      "setp(lines,linewidth=1.5)\n",
      "setp(lines,lw=1.5)\n",
      "\n",
      "'''\u7ebf\u6761\u6807\u8bb0\n",
      "'o':\u5706\u5708\n",
      "'D':\u83f1\u5f62\n",
      "'d':\u5c0f\u83f1\u5f62\n",
      "'h':\u516d\u8fb9\u5f62\n",
      "'H':\u516d\u8fb9\u5f62\n",
      "'_':\u6c34\u5e73\u7ebf\n",
      "'',' ','None',None:\u65e0\n",
      "'8':\u516b\u8fb9\u5f62\n",
      "'p':\u4e94\u8fb9\u5f62\n",
      "',':\u50cf\u7d20\n",
      "'+'\n",
      "'.':\n",
      "'s':\u6b63\u65b9\u5f62\n",
      "'*':\n",
      "'v':\u4e09\u89d2\u5f62\n",
      "'<':\u4e09\u89d2\u5f62\n",
      "'>':\u4e09\u89d2\u5f62\n",
      "'^':\u4e09\u89d2\u5f62\n",
      "'|':\u7ad6\u7ebf\n",
      "'x':\n",
      "'''\n",
      "setp(lines,marker=',')\n",
      "#\u6807\u8bb0\u8fb9\u7f18\u5bbd\u5ea6\n",
      "setp(lines,markeredgewidth=1)\n",
      "setp(lines,mew=1)\n",
      "#\u6807\u8bb0\u7684\u8fb9\u7f18\u989c\u8272\n",
      "setp(lines,markeredgecolor='g')\n",
      "setp(lines,mec='g')\n",
      "#\u6807\u8bb0\u989c\u8272\n",
      "setp(lines,markerfacecolor='g')\n",
      "setp(lines,mfc='g')\n",
      "\n",
      "#subplot(111,axisbg=(0.1843,0.3098,0.3098))"
     ],
     "language": "python",
     "metadata": {},
     "outputs": [
      {
       "metadata": {},
       "output_type": "pyout",
       "prompt_number": 7,
       "text": [
        "[None]"
       ]
      }
     ],
     "prompt_number": 7
    },
    {
     "cell_type": "heading",
     "level": 1,
     "metadata": {},
     "source": [
      "3\uff0e6 \u8bbe\u7f6e\u523b\u5ea6\u3001\u523b\u5ea6\u6807\u7b7e\u548c\u7f51\u683c 80"
     ]
    },
    {
     "cell_type": "code",
     "collapsed": false,
     "input": [
      "from pylab import *\n",
      "import matplotlib as mpl\n",
      "import datetime\n",
      "\n",
      "fig = figure() \n",
      "ax = gca()# get current axis\n",
      "\n",
      "# set some daterange\n",
      "start = datetime.datetime(2013, 01, 01)\n",
      "stop = datetime.datetime(2013, 12, 31)\n",
      "delta = datetime.timedelta(days = 1) \n",
      "dates = mpl.dates.drange(start, stop, delta) # convert dates for matplotlib\n",
      "values = np.random.rand(len(dates))# generate some random values\n",
      "\n",
      "ax = gca() \n",
      "ax.plot_date(dates, values, linestyle='-', marker='')# create plot with dates\n",
      "date_format = mpl.dates.DateFormatter('%Y-%m-%d')# specify formater\n",
      "ax.xaxis.set_major_formatter(date_format)# apply formater\n",
      "\n",
      "# autoformat date labels\n",
      "# rotates labels by 30 degrees by default\n",
      "# use rotate param to specify different rotation degree \n",
      "# use bottom param to give more room to date labels\n",
      "fig.autofmt_xdate()\n",
      "\n",
      "show()"
     ],
     "language": "python",
     "metadata": {},
     "outputs": [],
     "prompt_number": 8
    },
    {
     "cell_type": "heading",
     "level": 1,
     "metadata": {},
     "source": [
      "3\uff0e7 \u6dfb\u52a0\u56fe\u4f8b\u548c\u6ce8\u89e3 83"
     ]
    },
    {
     "cell_type": "code",
     "collapsed": false,
     "input": [
      "from matplotlib.pyplot import *\n",
      "\n",
      "# generate different normal distributions\n",
      "x1 = np.random.normal(30, 3, 100)\n",
      "x2 = np.random.normal(20, 2, 100)\n",
      "x3 = np.random.normal(10, 3, 100)\n",
      "\n",
      "# plot them\n",
      "plot(x1, label='plot')\n",
      "plot(x2, label='2nd plot')\n",
      "plot(x3, label='last plot')\n",
      "\n",
      "# generate a legend box\n",
      "legend(bbox_to_anchor=(0., 1.02, 1., .102), loc=3, ncol=3, mode=\"expand\", borderaxespad=0.)\n",
      "\n",
      "# annotate an important value\n",
      "annotate(\"Important value\", (55,20), xycoords='data', xytext=(5,38), arrowprops=dict(arrowstyle='->')) \n",
      "show()\n"
     ],
     "language": "python",
     "metadata": {},
     "outputs": [],
     "prompt_number": 9
    },
    {
     "cell_type": "heading",
     "level": 1,
     "metadata": {},
     "source": [
      "3\uff0e8 \u79fb\u52a8\u8f74\u7ebf\u5230\u56fe\u4e2d\u592e 86"
     ]
    },
    {
     "cell_type": "code",
     "collapsed": false,
     "input": [
      "import matplotlib.pyplot as plt\n",
      "import numpy as np\n",
      "\n",
      "x = np.linspace(-np.pi, np.pi, 500, endpoint=True) \n",
      "y = np.sin(x)\n",
      "\n",
      "plt.plot(x, y) \n",
      "ax = plt.gca()\n",
      "\n",
      "# hide two spines \n",
      "ax.spines['right'].set_color('none')\n",
      "ax.spines['top'].set_color('none')\n",
      "\n",
      "# move bottom and left spine to 0,0\n",
      "ax.spines['bottom'].set_position(('data',0))\n",
      "ax.spines['left'].set_position(('data',0))\n",
      "\n",
      "# move ticks positions\n",
      "ax.xaxis.set_ticks_position('bottom')\n",
      "ax.yaxis.set_ticks_position('left')\n",
      "\n",
      "plt.show()"
     ],
     "language": "python",
     "metadata": {},
     "outputs": [],
     "prompt_number": 10
    },
    {
     "cell_type": "heading",
     "level": 1,
     "metadata": {},
     "source": [
      "3\uff0e9 \u7ed8\u5236\u76f4\u65b9\u56fe 87"
     ]
    },
    {
     "cell_type": "code",
     "collapsed": false,
     "input": [
      "import numpy as np\n",
      "import matplotlib.pyplot as plt\n",
      "mu = 100\n",
      "sigma = 15\n",
      "x = np.random.normal(mu, sigma, 10000)\n",
      "ax = plt.gca()\n",
      "# the histogram of the data\n",
      "'''\u76f8\u5173\u53c2\u6570\n",
      "bins:\n",
      "range:bin\u7684\u8303\u56f4\n",
      "normed:\u82e5\u4e3aTrue,\u76f4\u65b9\u56fe\u7684\u503c\u5c06\u8fdb\u884c\u5f52\u4e00\u5316,\u5f62\u6210\u6982\u7387\u5bc6\u5ea6\n",
      "histtype:\n",
      "    barstacked\n",
      "    step\n",
      "    stepfilled\n",
      "align:\n",
      "color:\n",
      "orientation:\n",
      "    orientation\n",
      "    horizontal\n",
      "'''\n",
      "ax.hist(x, bins=35, color='r',normed=True,histtype='stepfilled')\n",
      "ax.set_xlabel('Values')\n",
      "ax.set_ylabel('Frequency')\n",
      "ax.set_title(r'$\\mathrm{Histogram:}\\ \\mu=%d,\\ \\sigma=%d$' % (mu, sigma))\n",
      "plt.show()"
     ],
     "language": "python",
     "metadata": {},
     "outputs": [],
     "prompt_number": 11
    },
    {
     "cell_type": "heading",
     "level": 1,
     "metadata": {},
     "source": [
      "3\uff0e10 \u7ed8\u5236\u8bef\u5dee\u6761\u5f62\u56fe 90"
     ]
    },
    {
     "cell_type": "code",
     "collapsed": false,
     "input": [
      "import numpy as np\n",
      "import matplotlib.pyplot as plt \n",
      "x = np.arange(0, 10, 1)# generate measures from gaussian distribution \n",
      "y = np.log(x)\t\t\t\t\t # values computed from \"measured\" \n",
      "# add some error samples from standard normal distribution \n",
      "xe = 0.1 * np.abs(np.random.randn(len(y)))\n",
      "\n",
      "\n",
      "'''# draw and show errorbar\n",
      "width\n",
      "bottom:\u67f1\u72b6\u56fe\u7684\u521d\u59cb\u9ad8\u5ea6\n",
      "edgecolor:\u8bef\u5dee\u6761\u8fb9\u754c\u989c\u8272\n",
      "ecolor\uff1a\u8bef\u5dee\u6761\u989c\u8272\n",
      "linewidth\n",
      "orientation:vertical,horizontal\n",
      "xerr,yerr:\u5728\u67f1\u72b6\u56fe\u4e0a\u751f\u6210\u8bef\u5dee\u6761\n",
      "'''\n",
      "plt.bar(x, y, yerr=xe, width=0.4, align='center', ecolor='r', color='cyan',label='experiment #1');\n",
      "\n",
      "# give some explainations\n",
      "plt.xlabel('# measurement')\n",
      "plt.ylabel('Measured values')\n",
      "plt.title('Measurements')\n",
      "plt.legend(loc='upper left')\n",
      "\n",
      "plt.show()"
     ],
     "language": "python",
     "metadata": {},
     "outputs": [
      {
       "output_type": "stream",
       "stream": "stderr",
       "text": [
        "-c:4: RuntimeWarning: divide by zero encountered in log\n",
        "C:\\Python27\\lib\\site-packages\\matplotlib\\transforms.py:829: RuntimeWarning: invalid value encountered in double_scalars\n",
        "  return Bbox.from_extents(x0, y0, x0 + width, y0 + height)\n"
       ]
      }
     ],
     "prompt_number": 12
    },
    {
     "cell_type": "heading",
     "level": 1,
     "metadata": {},
     "source": [
      "3\uff0e11 \u7ed8\u5236\u997c\u56fe 92"
     ]
    },
    {
     "cell_type": "code",
     "collapsed": false,
     "input": [
      "import matplotlib.pyplot as plt \n",
      "\n",
      "plt.figure(1, figsize=(8, 8))\n",
      "ax = plt.axes([0.1, 0.1, 0.8, 0.8])\n",
      "\n",
      "labels = 'Spring', 'Summer', 'Autumn', 'Winter'\n",
      "values = [15, 16, 16, 28]\n",
      "explode =[0.1, 0.1, 0.1, 0.1]\n",
      "'''\n",
      "startangle:\n",
      "    0 :\u6247\u533a\u5c06\u4ecex\u8f74\u5f00\u59cb\u9006\u65f6\u9488\u6392\u5217;\n",
      "    90:\u4ecey\u8f74\u5f00\u59cb\u9006\u65f6\u9488\u6392\u5217\n",
      "'''\n",
      "plt.pie(values, explode=explode, labels=labels,  autopct='%1.1f%%', startangle=90) \n",
      "plt.title('Rainy days by season') \n",
      "plt.show()"
     ],
     "language": "python",
     "metadata": {},
     "outputs": [],
     "prompt_number": 13
    },
    {
     "cell_type": "heading",
     "level": 1,
     "metadata": {},
     "source": [
      "3\uff0e12 \u7ed8\u5236\u5e26\u586b\u5145\u533a\u57df\u7684\u56fe\u8868 94"
     ]
    },
    {
     "cell_type": "code",
     "collapsed": false,
     "input": [
      "from matplotlib.pyplot import figure, show, gca\n",
      "import numpy as np \n",
      "x = np.arange(0.0, 2, 0.01) \n",
      "y1 = np.sin(2*np.pi*x)\n",
      "y2 = 1.2*np.sin(4*np.pi*x)\n",
      "\n",
      "fig = figure()\n",
      "ax = gca()\n",
      "\n",
      "ax.plot(x, y1, x, y2, color='black')\n",
      "\n",
      "ax.fill_between(x, y1, y2, where=y2>=y1, facecolor='darkblue', interpolate=True)\n",
      "ax.fill_between(x, y1, y2, where=y2<=y1, facecolor='deeppink', interpolate=True)\n",
      "#\u9488\u5bf9\u6c34\u5e73\u66f2\u7ebf ax.fill_betweenx()\n",
      "#ax.fill_betweenx()\n",
      "#fill \u5bf9\u4efb\u610f\u591a\u8fb9\u5f62\u586b\u5145\u989c\u8272\u6216\u8005\u9634\u5f71\u7ebf\n",
      "\n",
      "ax.set_title('filled between')\n",
      "show()"
     ],
     "language": "python",
     "metadata": {},
     "outputs": [],
     "prompt_number": 14
    },
    {
     "cell_type": "heading",
     "level": 1,
     "metadata": {},
     "source": [
      "3\uff0e13 \u7ed8\u5236\u5e26\u5f69\u8272\u6807\u8bb0\u7684\u6563\u70b9\u56fe 96"
     ]
    },
    {
     "cell_type": "code",
     "collapsed": false,
     "input": [
      "import numpy as np\n",
      "import matplotlib.pyplot as plt\n",
      "mu = 100\n",
      "sigma = 15\n",
      "x = np.random.normal(mu, sigma, 10000)\n",
      "ax = plt.gca()\n",
      "# the histogram of the data\n",
      "'''\u76f8\u5173\u53c2\u6570\n",
      "bins:\n",
      "range:bin\u7684\u8303\u56f4\n",
      "normed:\u82e5\u4e3aTrue,\u76f4\u65b9\u56fe\u7684\u503c\u5c06\u8fdb\u884c\u5f52\u4e00\u5316,\u5f62\u6210\u6982\u7387\u5bc6\u5ea6\n",
      "histtype:\n",
      "    barstacked\n",
      "    step\n",
      "    stepfilled\n",
      "align:\n",
      "color:\n",
      "orientation:\n",
      "    orientation\n",
      "    horizontal\n",
      "'''\n",
      "ax.hist(x, bins=35, color='r',normed=True,histtype='stepfilled')\n",
      "ax.set_xlabel('Values')\n",
      "ax.set_ylabel('Frequency')\n",
      "ax.set_title(r'$\\mathrm{Histogram:}\\ \\mu=%d,\\ \\sigma=%d$' % (mu, sigma))\n",
      "plt.show()"
     ],
     "language": "python",
     "metadata": {},
     "outputs": [],
     "prompt_number": 16
    },
    {
     "cell_type": "code",
     "collapsed": false,
     "input": [],
     "language": "python",
     "metadata": {},
     "outputs": [],
     "prompt_number": 15
    },
    {
     "cell_type": "code",
     "collapsed": false,
     "input": [],
     "language": "python",
     "metadata": {},
     "outputs": []
    }
   ],
   "metadata": {}
  }
 ]
}